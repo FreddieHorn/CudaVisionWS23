{
 "cells": [
  {
   "cell_type": "markdown",
   "metadata": {},
   "source": [
    "# Assignment 2"
   ]
  },
  {
   "cell_type": "code",
   "execution_count": 2,
   "metadata": {
    "ExecuteTime": {
     "end_time": "2023-10-26T11:28:20.679027100Z",
     "start_time": "2023-10-26T11:28:20.503439200Z"
    }
   },
   "outputs": [
    {
     "name": "stderr",
     "output_type": "stream",
     "text": [
      "c:\\Users\\fryde\\miniconda3\\envs\\cuda\\Lib\\site-packages\\tqdm\\auto.py:21: TqdmWarning: IProgress not found. Please update jupyter and ipywidgets. See https://ipywidgets.readthedocs.io/en/stable/user_install.html\n",
      "  from .autonotebook import tqdm as notebook_tqdm\n"
     ]
    }
   ],
   "source": [
    "import numpy as np\n",
    "import matplotlib.pyplot as plt\n",
    "import torch\n",
    "import torch.nn as nn\n",
    "import torchvision\n",
    "import torchvision.transforms as transforms\n",
    "import torchvision.datasets as datasets\n",
    "import yaml\n",
    "import os\n",
    "import pdb\n",
    "import os\n",
    "\n",
    "\n",
    "import sys\n",
    "\n",
    "# Add the path to utils\n",
    "sys.path.append('..')\n",
    "from template import utils"
   ]
  },
  {
   "cell_type": "code",
   "execution_count": 3,
   "metadata": {},
   "outputs": [],
   "source": [
    "utils.set_random_seeds()"
   ]
  },
  {
   "cell_type": "markdown",
   "metadata": {},
   "source": [
    "### Handling the data"
   ]
  },
  {
   "cell_type": "code",
   "execution_count": 14,
   "metadata": {
    "ExecuteTime": {
     "end_time": "2023-10-26T11:28:20.804008400Z",
     "start_time": "2023-10-26T11:28:20.519060800Z"
    }
   },
   "outputs": [
    {
     "name": "stdout",
     "output_type": "stream",
     "text": [
      "config: {'BATCH_SIZE': 64, 'NUM_EPOCHS': 20, 'LR': '5e-4', 'LRConvMix': '1e-3'}\n"
     ]
    }
   ],
   "source": [
    "# I am a big fan of config files and I believe it is a good practise\n",
    "config = yaml.safe_load(open(\"config.yaml\"))\n",
    "print(f\"config: {config}\")\n",
    "batch_size = int(config[\"BATCH_SIZE\"])\n"
   ]
  },
  {
   "cell_type": "code",
   "execution_count": 5,
   "metadata": {
    "ExecuteTime": {
     "end_time": "2023-10-26T11:28:20.804008400Z",
     "start_time": "2023-10-26T11:28:20.534682200Z"
    }
   },
   "outputs": [],
   "source": [
    "# may differ depending on the problem\n",
    "transform = transforms.Compose(\n",
    "    [\n",
    "     transforms.RandAugment(),\n",
    "     transforms.ToTensor(), # setup in convmix paper\n",
    "     transforms.RandomErasing(), # setup in convmix paper\n",
    "     transforms.Normalize((0.5, 0.5, 0.5), (0.5, 0.5, 0.5))\n",
    "     ]) # put more transforms options here"
   ]
  },
  {
   "cell_type": "code",
   "execution_count": 6,
   "metadata": {
    "ExecuteTime": {
     "end_time": "2023-10-26T11:28:22.569379300Z",
     "start_time": "2023-10-26T11:28:20.550303200Z"
    }
   },
   "outputs": [
    {
     "name": "stdout",
     "output_type": "stream",
     "text": [
      "Files already downloaded and verified\n",
      "Files already downloaded and verified\n"
     ]
    }
   ],
   "source": [
    "#load datasets (in the future it's possible that the whole process will be in a \n",
    "#separate file)\n",
    "# Missing: Validation set\n",
    "train_dataset = torchvision.datasets.CIFAR10(root='./data', train=True,\n",
    "                                        download=True, transform=transform)\n",
    "test_dataset = torchvision.datasets.CIFAR10(root='./data', train=False,\n",
    "                                       download=True, transform=transform)"
   ]
  },
  {
   "cell_type": "code",
   "execution_count": 7,
   "metadata": {
    "ExecuteTime": {
     "end_time": "2023-10-26T11:28:22.584964400Z",
     "start_time": "2023-10-26T11:28:22.569379300Z"
    }
   },
   "outputs": [],
   "source": [
    "#create dataloaders\n",
    "trainloader = torch.utils.data.DataLoader(train_dataset, batch_size=batch_size,\n",
    "                                          shuffle=True, num_workers=2)\n",
    "testloader = torch.utils.data.DataLoader(test_dataset, batch_size=batch_size,\n",
    "                                         shuffle=False, num_workers=2)"
   ]
  },
  {
   "cell_type": "code",
   "execution_count": 8,
   "metadata": {
    "ExecuteTime": {
     "end_time": "2023-10-26T11:28:26.863985900Z",
     "start_time": "2023-10-26T11:28:22.584964400Z"
    }
   },
   "outputs": [
    {
     "name": "stdout",
     "output_type": "stream",
     "text": [
      "Image Shapes: torch.Size([64, 3, 32, 32])\n",
      "Label Shapes: torch.Size([64])\n"
     ]
    }
   ],
   "source": [
    "imgs, labels = next(iter(testloader))\n",
    "print(f\"Image Shapes: {imgs.shape}\")\n",
    "print(f\"Label Shapes: {labels.shape}\")"
   ]
  },
  {
   "cell_type": "markdown",
   "metadata": {},
   "source": [
    "### We can display some images from the dataset\n",
    "Functions used will probably vastly differ from task to task"
   ]
  },
  {
   "cell_type": "code",
   "execution_count": 9,
   "metadata": {
    "ExecuteTime": {
     "end_time": "2023-10-26T11:28:27.593236800Z",
     "start_time": "2023-10-26T11:28:26.863985900Z"
    }
   },
   "outputs": [
    {
     "name": "stderr",
     "output_type": "stream",
     "text": [
      "Clipping input data to the valid range for imshow with RGB data ([0..1] for floats or [0..255] for integers).\n",
      "Clipping input data to the valid range for imshow with RGB data ([0..1] for floats or [0..255] for integers).\n",
      "Clipping input data to the valid range for imshow with RGB data ([0..1] for floats or [0..255] for integers).\n",
      "Clipping input data to the valid range for imshow with RGB data ([0..1] for floats or [0..255] for integers).\n",
      "Clipping input data to the valid range for imshow with RGB data ([0..1] for floats or [0..255] for integers).\n",
      "Clipping input data to the valid range for imshow with RGB data ([0..1] for floats or [0..255] for integers).\n",
      "Clipping input data to the valid range for imshow with RGB data ([0..1] for floats or [0..255] for integers).\n",
      "Clipping input data to the valid range for imshow with RGB data ([0..1] for floats or [0..255] for integers).\n"
     ]
    },
    {
     "data": {
      "image/png": "[encoded data removed]",
      "text/plain": [
       "<Figure size 2400x300 with 8 Axes>"
      ]
     },
     "metadata": {},
     "output_type": "display_data"
    }
   ],
   "source": [
    "N_IMGS = 8\n",
    "fig, ax = plt.subplots(1,N_IMGS)\n",
    "fig.set_size_inches(3 * N_IMGS, 3)\n",
    "\n",
    "ids = np.random.randint(low=0, high=len(train_dataset), size=N_IMGS)\n",
    "\n",
    "for i, n in enumerate(ids):\n",
    "    img = train_dataset[n][0].numpy().reshape(3,32,32).transpose(1, 2, 0)\n",
    "    ax[i].imshow(img)\n",
    "    #ax[i].set_title(f\"Img #{n}  Label: {train_dataset[n][1]}\")\n",
    "    #ax[i].axis(\"off\")\n",
    "plt.show()"
   ]
  },
  {
   "cell_type": "markdown",
   "metadata": {},
   "source": [
    "### Creating the model"
   ]
  },
  {
   "cell_type": "code",
   "execution_count": 73,
   "metadata": {
    "ExecuteTime": {
     "end_time": "2023-10-26T11:28:27.714358200Z",
     "start_time": "2023-10-26T11:28:27.593236800Z"
    }
   },
   "outputs": [],
   "source": [
    "class CNN(nn.Module):\n",
    "    \"\"\" \n",
    "    Adapted to CIFAR-10\n",
    "    \"\"\"\n",
    "    def __init__(self):\n",
    "        \"\"\" Model initializer \"\"\"\n",
    "        super().__init__()\n",
    "        \n",
    "        # layer 1\n",
    "        # (3,32,32)\n",
    "        self.conv1 = nn.Conv2d(in_channels=3, out_channels=64, kernel_size=5, stride=1, padding=2)\n",
    "        self.relu1 = nn.ReLU()\n",
    "        # Layer 2\n",
    "        # (64, 32, 32)\n",
    "        self.maxpool1 = nn.MaxPool2d(kernel_size=2)\n",
    "        # (64, 16, 16)\n",
    "        self.conv2 = nn.Conv2d(in_channels=64, out_channels=128, kernel_size = 5, stride=1, padding=2)\n",
    "        self.relu2 = nn.ReLU()\n",
    "        # (128, 16, 16)\n",
    "        self.maxpool2 = nn.MaxPool2d(kernel_size=2)\n",
    "        # (128, 8, 8)\n",
    "\n",
    "        # Layer 3\n",
    "        self.conv3 = nn.Conv2d(in_channels=128, out_channels=256, kernel_size=5, stride=1, padding=2)\n",
    "        self.relu3 = nn.ReLU()\n",
    "        # (256, 8, 8)\n",
    "        \n",
    "        # fully connected classifier\n",
    "        in_dim = 256 * 8 * 8\n",
    "        self.fc = nn.Linear(in_features=in_dim, out_features=10)\n",
    "        \n",
    "        return\n",
    "        \n",
    "    def forward(self, x):\n",
    "        \"\"\" Forward pass \"\"\"\n",
    "        cur_b_size = x.shape[0]\n",
    "        x = self.conv1(x)\n",
    "        x = self.relu1(x)\n",
    "        x = self.maxpool1(x)\n",
    "        x = self.conv2(x)\n",
    "        x = self.relu2(x)\n",
    "        x = self.maxpool2(x)\n",
    "        x = self.conv3(x)\n",
    "        x = self.relu3(x)\n",
    "        out_flat = x.view(cur_b_size, -1)\n",
    "        y = self.fc(out_flat)\n",
    "        return y\n",
    "    \n",
    "def count_model_params(model):\n",
    "    \"\"\" Counting the number of learnable parameters in a nn.Module \"\"\"\n",
    "    num_params = sum(p.numel() for p in model.parameters() if p.requires_grad)\n",
    "    return num_params"
   ]
  },
  {
   "cell_type": "markdown",
   "metadata": {},
   "source": [
    "### Training the model"
   ]
  },
  {
   "cell_type": "code",
   "execution_count": 19,
   "metadata": {
    "ExecuteTime": {
     "end_time": "2023-10-26T11:28:27.714358200Z",
     "start_time": "2023-10-26T11:28:27.620630Z"
    }
   },
   "outputs": [],
   "source": [
    "from tqdm import tqdm"
   ]
  },
  {
   "cell_type": "code",
   "execution_count": 16,
   "metadata": {
    "ExecuteTime": {
     "end_time": "2023-10-26T11:28:27.714358200Z",
     "start_time": "2023-10-26T11:28:27.620630Z"
    }
   },
   "outputs": [],
   "source": [
    "NUM_EPOCHS = int(config[\"NUM_EPOCHS\"])\n",
    "LR = float(config[\"LR\"])"
   ]
  },
  {
   "cell_type": "code",
   "execution_count": 76,
   "metadata": {
    "ExecuteTime": {
     "end_time": "2023-10-26T11:28:27.714358200Z",
     "start_time": "2023-10-26T11:28:27.636252100Z"
    }
   },
   "outputs": [],
   "source": [
    "device = torch.device(\"cuda\" if torch.cuda.is_available() else \"cpu\")\n",
    "model = CNN()\n",
    "model = model.to(device)"
   ]
  },
  {
   "cell_type": "code",
   "execution_count": 77,
   "metadata": {
    "ExecuteTime": {
     "end_time": "2023-10-26T11:28:27.714358200Z",
     "start_time": "2023-10-26T11:28:27.667494Z"
    }
   },
   "outputs": [],
   "source": [
    "criterion = nn.CrossEntropyLoss()  # Note, that this already includes a Softmax!\n",
    "optimizer = torch.optim.Adam(model.parameters(), lr=LR)"
   ]
  },
  {
   "cell_type": "markdown",
   "metadata": {},
   "source": [
    "Training loop"
   ]
  },
  {
   "cell_type": "code",
   "execution_count": 16,
   "metadata": {
    "ExecuteTime": {
     "end_time": "2023-10-26T11:28:27.714358200Z",
     "start_time": "2023-10-26T11:28:27.683115600Z"
    }
   },
   "outputs": [],
   "source": [
    "# For saving models and checkpoints later\n",
    "if(not os.path.exists(\"models\")):\n",
    "    os.makedirs(\"models\")"
   ]
  },
  {
   "cell_type": "code",
   "execution_count": 17,
   "metadata": {
    "ExecuteTime": {
     "end_time": "2023-10-26T11:34:15.872029Z",
     "start_time": "2023-10-26T11:28:27.714358200Z"
    }
   },
   "outputs": [
    {
     "name": "stderr",
     "output_type": "stream",
     "text": [
      "  0%|          | 0/782 [01:26<?, ?it/s]\n"
     ]
    },
    {
     "name": "stdout",
     "output_type": "stream",
     "text": [
      "test accuracy: 10.87%\n"
     ]
    },
    {
     "name": "stderr",
     "output_type": "stream",
     "text": [
      "Epoch 1 Iter 782: loss 1.19152. : 100%|██████████| 782/782 [00:20<00:00, 37.93it/s]\n",
      "  0%|          | 0/782 [00:00<?, ?it/s]"
     ]
    },
    {
     "name": "stdout",
     "output_type": "stream",
     "text": [
      "test accuracy: 50.24%\n"
     ]
    },
    {
     "name": "stderr",
     "output_type": "stream",
     "text": [
      "Epoch 2 Iter 782: loss 1.02098. : 100%|██████████| 782/782 [00:20<00:00, 38.90it/s]\n",
      "  0%|          | 0/782 [00:00<?, ?it/s]"
     ]
    },
    {
     "name": "stdout",
     "output_type": "stream",
     "text": [
      "test accuracy: 57.78%\n"
     ]
    },
    {
     "name": "stderr",
     "output_type": "stream",
     "text": [
      "Epoch 3 Iter 782: loss 0.98601. : 100%|██████████| 782/782 [00:20<00:00, 38.73it/s]\n",
      "  0%|          | 0/782 [00:00<?, ?it/s]"
     ]
    },
    {
     "name": "stdout",
     "output_type": "stream",
     "text": [
      "test accuracy: 62.13%\n"
     ]
    },
    {
     "name": "stderr",
     "output_type": "stream",
     "text": [
      "Epoch 4 Iter 782: loss 0.73243. : 100%|██████████| 782/782 [00:20<00:00, 38.32it/s]\n",
      "  0%|          | 0/782 [00:00<?, ?it/s]"
     ]
    },
    {
     "name": "stdout",
     "output_type": "stream",
     "text": [
      "test accuracy: 63.5%\n"
     ]
    },
    {
     "name": "stderr",
     "output_type": "stream",
     "text": [
      "Epoch 5 Iter 782: loss 1.58979. : 100%|██████████| 782/782 [00:20<00:00, 38.44it/s]\n",
      "  0%|          | 0/782 [00:00<?, ?it/s]"
     ]
    },
    {
     "name": "stdout",
     "output_type": "stream",
     "text": [
      "test accuracy: 63.82%\n"
     ]
    },
    {
     "name": "stderr",
     "output_type": "stream",
     "text": [
      "Epoch 6 Iter 782: loss 1.33850. : 100%|██████████| 782/782 [00:20<00:00, 39.06it/s]\n",
      "  0%|          | 0/782 [00:00<?, ?it/s]"
     ]
    },
    {
     "name": "stdout",
     "output_type": "stream",
     "text": [
      "test accuracy: 67.52%\n"
     ]
    },
    {
     "name": "stderr",
     "output_type": "stream",
     "text": [
      "Epoch 7 Iter 782: loss 0.49529. : 100%|██████████| 782/782 [00:20<00:00, 38.41it/s]\n",
      "  0%|          | 0/782 [00:00<?, ?it/s]"
     ]
    },
    {
     "name": "stdout",
     "output_type": "stream",
     "text": [
      "test accuracy: 67.91%\n"
     ]
    },
    {
     "name": "stderr",
     "output_type": "stream",
     "text": [
      "Epoch 8 Iter 782: loss 1.18640. : 100%|██████████| 782/782 [00:20<00:00, 38.17it/s]\n",
      "  0%|          | 0/782 [00:00<?, ?it/s]"
     ]
    },
    {
     "name": "stdout",
     "output_type": "stream",
     "text": [
      "test accuracy: 68.45%\n"
     ]
    },
    {
     "name": "stderr",
     "output_type": "stream",
     "text": [
      "Epoch 9 Iter 782: loss 0.99281. : 100%|██████████| 782/782 [00:20<00:00, 38.97it/s]\n",
      "  0%|          | 0/782 [00:00<?, ?it/s]"
     ]
    },
    {
     "name": "stdout",
     "output_type": "stream",
     "text": [
      "test accuracy: 69.72%\n"
     ]
    },
    {
     "name": "stderr",
     "output_type": "stream",
     "text": [
      "Epoch 10 Iter 782: loss 0.89685. : 100%|██████████| 782/782 [00:20<00:00, 38.06it/s]\n",
      "  0%|          | 0/782 [00:00<?, ?it/s]"
     ]
    },
    {
     "name": "stdout",
     "output_type": "stream",
     "text": [
      "test accuracy: 70.01%\n"
     ]
    },
    {
     "name": "stderr",
     "output_type": "stream",
     "text": [
      "Epoch 11 Iter 782: loss 0.53328. : 100%|██████████| 782/782 [00:20<00:00, 38.60it/s]\n",
      "  0%|          | 0/782 [00:00<?, ?it/s]"
     ]
    },
    {
     "name": "stdout",
     "output_type": "stream",
     "text": [
      "test accuracy: 70.7%\n"
     ]
    },
    {
     "name": "stderr",
     "output_type": "stream",
     "text": [
      "Epoch 12 Iter 782: loss 0.62468. : 100%|██████████| 782/782 [00:19<00:00, 39.22it/s]\n",
      "  0%|          | 0/782 [00:00<?, ?it/s]"
     ]
    },
    {
     "name": "stdout",
     "output_type": "stream",
     "text": [
      "test accuracy: 70.45%\n"
     ]
    },
    {
     "name": "stderr",
     "output_type": "stream",
     "text": [
      "Epoch 13 Iter 782: loss 0.55484. : 100%|██████████| 782/782 [00:20<00:00, 38.87it/s]\n",
      "  0%|          | 0/782 [00:00<?, ?it/s]"
     ]
    },
    {
     "name": "stdout",
     "output_type": "stream",
     "text": [
      "test accuracy: 71.66%\n"
     ]
    },
    {
     "name": "stderr",
     "output_type": "stream",
     "text": [
      "Epoch 14 Iter 782: loss 0.69792. : 100%|██████████| 782/782 [00:19<00:00, 39.71it/s]\n",
      "  0%|          | 0/782 [00:00<?, ?it/s]"
     ]
    },
    {
     "name": "stdout",
     "output_type": "stream",
     "text": [
      "test accuracy: 70.75%\n"
     ]
    },
    {
     "name": "stderr",
     "output_type": "stream",
     "text": [
      "Epoch 15 Iter 782: loss 0.40668. : 100%|██████████| 782/782 [00:20<00:00, 38.02it/s]\n",
      "  0%|          | 0/782 [00:00<?, ?it/s]"
     ]
    },
    {
     "name": "stdout",
     "output_type": "stream",
     "text": [
      "test accuracy: 71.15%\n"
     ]
    },
    {
     "name": "stderr",
     "output_type": "stream",
     "text": [
      "Epoch 16 Iter 782: loss 0.77975. : 100%|██████████| 782/782 [00:20<00:00, 38.70it/s]\n",
      "  0%|          | 0/782 [00:00<?, ?it/s]"
     ]
    },
    {
     "name": "stdout",
     "output_type": "stream",
     "text": [
      "test accuracy: 72.1%\n"
     ]
    },
    {
     "name": "stderr",
     "output_type": "stream",
     "text": [
      "Epoch 17 Iter 782: loss 0.71573. : 100%|██████████| 782/782 [00:20<00:00, 38.39it/s]\n",
      "  0%|          | 0/782 [00:00<?, ?it/s]"
     ]
    },
    {
     "name": "stdout",
     "output_type": "stream",
     "text": [
      "test accuracy: 71.38%\n"
     ]
    },
    {
     "name": "stderr",
     "output_type": "stream",
     "text": [
      "Epoch 18 Iter 782: loss 0.47648. : 100%|██████████| 782/782 [00:20<00:00, 37.59it/s]\n",
      "  0%|          | 0/782 [00:00<?, ?it/s]"
     ]
    },
    {
     "name": "stdout",
     "output_type": "stream",
     "text": [
      "test accuracy: 72.52%\n"
     ]
    },
    {
     "name": "stderr",
     "output_type": "stream",
     "text": [
      "Epoch 19 Iter 782: loss 0.44457. : 100%|██████████| 782/782 [00:20<00:00, 37.42it/s]\n",
      "  0%|          | 0/782 [00:00<?, ?it/s]"
     ]
    },
    {
     "name": "stdout",
     "output_type": "stream",
     "text": [
      "test accuracy: 72.53%\n"
     ]
    },
    {
     "name": "stderr",
     "output_type": "stream",
     "text": [
      "Epoch 20 Iter 782: loss 0.23115. : 100%|██████████| 782/782 [00:20<00:00, 38.03it/s]\n"
     ]
    }
   ],
   "source": [
    "test_loss_list = []\n",
    "train_loss_list = []\n",
    "test_accuracy_list = []\n",
    "train_accuracy_list = []\n",
    "# Initialize lists to store gradient information\n",
    "gradients = []\n",
    "gradient_norms = []\n",
    "gradient_max_values = []\n",
    "gradient_min_values = []\n",
    "best_loss = 100\n",
    "for epoch in range(NUM_EPOCHS):\n",
    "    progress_bar = tqdm(trainloader, total=len(trainloader))\n",
    "\n",
    "    # Calculate test loss, accuracy for currently trained model\n",
    "    model.eval()\n",
    "    test_loss = 0.0\n",
    "    correct = 0\n",
    "    total = 0\n",
    "\n",
    "    with torch.no_grad():\n",
    "        for data in testloader:\n",
    "            images_test, labels_test = data\n",
    "            # using GPU for inference\n",
    "            images_test, labels_test = images_test.to(device), labels_test.to(device)\n",
    "            # calculate model outputs\n",
    "            outputs_test = model(images_test)\n",
    "            # calculate test loss\n",
    "            loss = criterion(outputs_test, labels_test)\n",
    "            test_loss += loss.item()\n",
    "            # derive model predictions from out outputs\n",
    "            predicted = torch.argmax(outputs_test, dim = -1)\n",
    "            # calculate accuracy\n",
    "            total += labels_test.size(0)\n",
    "            correct += (predicted == labels_test).sum().item()\n",
    "\n",
    "        test_loss /= len(testloader)\n",
    "        accuracy = 100 * correct / total\n",
    "\n",
    "        print(f\"test accuracy: {accuracy}%\")\n",
    "\n",
    "        # Potentially prevent overfitting\n",
    "        if test_loss < best_loss:\n",
    "            best_loss = loss\n",
    "            torch.save({\n",
    "                'epoch': epoch,\n",
    "                'model_state_dict': model.state_dict(),\n",
    "                'optimizer_state_dict': optimizer.state_dict(),\n",
    "            }, f\"models/checkpoint_epoch_{epoch}.pth\")\n",
    "        #saving the best checkpoint\n",
    "        \n",
    "    test_loss_list.append(test_loss)\n",
    "    test_accuracy_list.append(accuracy)\n",
    "    \n",
    "    # Turn model back to training mode\n",
    "    model.train()\n",
    "\n",
    "    train_loss_list_iter = []\n",
    "    train_accuracy_list_iter = []\n",
    "    for i, (imgs, labels) in enumerate(progress_bar):\n",
    "\n",
    "        # using GPU\n",
    "        imgs, labels = imgs.to(device), labels.to(device)\n",
    "    \n",
    "        # forward pass\n",
    "        preds = model(imgs)\n",
    "\n",
    "        # calculate accuracy\n",
    "        with torch.no_grad():\n",
    "            predicted = preds.argmax(dim=-1)\n",
    "            correct = (predicted == labels).sum().item()\n",
    "            accuracy = correct/labels.shape[0] * 100\n",
    "\n",
    "        train_accuracy_list_iter.append(accuracy)\n",
    "\n",
    "        # computing error\n",
    "        loss = criterion(preds, labels)\n",
    "        train_loss_list_iter.append(loss.item())\n",
    "        # removing accumulated gradients\n",
    "        optimizer.zero_grad()\n",
    "    \n",
    "        # backprogating error to compute gradients\n",
    "        loss.backward()\n",
    "    \n",
    "        # updating parameters\n",
    "        optimizer.step()\n",
    "\n",
    "        '''In the following we calculate gradient information!'''\n",
    "        \n",
    "        # Calculate gradient information\n",
    "        for name, param in model.named_parameters():\n",
    "            # Tracking the matrices led to oom errors\n",
    "            if name in ['layers.0.bias']:\n",
    "                gradients.append(param.grad)\n",
    "                gradient_norms.append(torch.norm(param.grad).item())\n",
    "                gradient_max_values.append(param.grad.max().item())\n",
    "                gradient_min_values.append(param.grad.min().item())\n",
    "\n",
    "        '''Stop calculating gradient inforamtion'''\n",
    "    \n",
    "        if(i % 10 == 0 or i == len(trainloader) - 1):\n",
    "            progress_bar.set_description(f\"Epoch {epoch + 1} Iter {i + 1}: loss {loss.item():.5f}. \")\n",
    "    train_accuracy_list.append(np.mean(train_accuracy_list_iter))\n",
    "    train_loss_list.append(np.mean(train_loss_list_iter))"
   ]
  },
  {
   "cell_type": "markdown",
   "metadata": {},
   "source": [
    "evaluating the model"
   ]
  },
  {
   "cell_type": "code",
   "execution_count": 18,
   "metadata": {
    "ExecuteTime": {
     "end_time": "2023-10-26T11:34:21.093866700Z",
     "start_time": "2023-10-26T11:34:15.887650500Z"
    },
    "collapsed": false,
    "jupyter": {
     "outputs_hidden": false
    }
   },
   "outputs": [
    {
     "name": "stderr",
     "output_type": "stream",
     "text": [
      "100%|██████████| 157/157 [00:02<00:00, 72.82it/s]"
     ]
    },
    {
     "name": "stdout",
     "output_type": "stream",
     "text": [
      "Test accuracy: 72.86%\n"
     ]
    },
    {
     "name": "stderr",
     "output_type": "stream",
     "text": [
      "\n"
     ]
    }
   ],
   "source": [
    "n_correct = 0\n",
    "with torch.no_grad():\n",
    "    progress_bar = tqdm(enumerate(testloader), total=len(testloader))\n",
    "    for i, (imgs, labels) in progress_bar:\n",
    "        #everything needs to be on the same device\n",
    "        imgs = imgs.to(device)\n",
    "        labels = labels.to(device)\n",
    "\n",
    "        # forward pass\n",
    "        preds = model(imgs)\n",
    "\n",
    "        pred_labels = torch.argmax(preds, dim=-1)\n",
    "        cur_correct = len(torch.where(pred_labels == labels)[0])\n",
    "        n_correct = n_correct + cur_correct\n",
    "\n",
    "\n",
    "accuracy = n_correct / len(test_dataset) * 100\n",
    "print(f\"Test accuracy: {round(accuracy,2)}%\")"
   ]
  },
  {
   "cell_type": "markdown",
   "metadata": {},
   "source": [
    "### Visualization: Loss curves and accuracy development"
   ]
  },
  {
   "cell_type": "code",
   "execution_count": 19,
   "metadata": {},
   "outputs": [
    {
     "data": {
      "image/png": "[encoded data removed]",
      "text/plain": [
       "<Figure size 1000x500 with 1 Axes>"
      ]
     },
     "metadata": {},
     "output_type": "display_data"
    },
    {
     "data": {
      "image/png": "[encoded data removed]",
      "text/plain": [
       "<Figure size 1000x500 with 1 Axes>"
      ]
     },
     "metadata": {},
     "output_type": "display_data"
    }
   ],
   "source": [
    "utils.plot_loss_epoch(train_loss_list,  test_loss_list)\n",
    "utils.plot_accuracy_epoch(test_accuracy_list, train_accuracy=train_accuracy_list)"
   ]
  },
  {
   "cell_type": "markdown",
   "metadata": {},
   "source": [
    "Training and Test Loss develop as expected. At around epoch 10 the model becomes overconfident in its own predictions, which is why the test loss inceases but the test accuracy stays mostly at the same level"
   ]
  },
  {
   "cell_type": "markdown",
   "metadata": {},
   "source": [
    "# Evaluation without hyperparameter optimization\n",
    "Here we achieved an accuracy of 73.1%. We observe a significant increase from the MLP, which achieves an accuracy of around 50%. It is very likely, that the CNN makes better use of the spatial features of an image than the simple MLP. "
   ]
  },
  {
   "cell_type": "markdown",
   "metadata": {},
   "source": [
    "### Hyperparameter optimization using optuna"
   ]
  },
  {
   "cell_type": "markdown",
   "metadata": {},
   "source": [
    "Next we want to \"somewhat optimize\" our hyperparameters using optuna"
   ]
  },
  {
   "cell_type": "code",
   "execution_count": 82,
   "metadata": {},
   "outputs": [],
   "source": [
    "import optuna\n",
    "from optuna.trial import TrialState"
   ]
  },
  {
   "cell_type": "code",
   "execution_count": null,
   "metadata": {},
   "outputs": [],
   "source": [
    "kernel_size1 = 3\n",
    "kernel_size2 = 3\n",
    "kernel_size3 = 3\n",
    "\n",
    "# Calculate padding based on kernel sizes\n",
    "padding1 = 1 if kernel_size1 == 3 else 2\n",
    "padding2 = 1 if kernel_size2 == 3 else 2\n",
    "padding3 = 1 if kernel_size3 == 3 else 2\n"
   ]
  },
  {
   "cell_type": "code",
   "execution_count": 12,
   "metadata": {},
   "outputs": [],
   "source": [
    "class DropoutCNN(nn.Module):\n",
    "    \"\"\" \n",
    "    Adapted to CIFAR-10\n",
    "    \"\"\"\n",
    "    def __init__(self, kernel_size1 = 3, kernel_size2 = 3, kernel_size3= 3, padding1=1, padding2=1, padding3=1, dropout_prob=0):\n",
    "        \"\"\" Model initializer \"\"\"\n",
    "        super().__init__()\n",
    "        \n",
    "        # Layer 1\n",
    "        # (3,32,32)\n",
    "        self.conv1 = nn.Conv2d(in_channels=3, out_channels=64, kernel_size=kernel_size1, stride=1, padding=padding1)\n",
    "        self.relu1 = nn.ReLU()\n",
    "        # Layer 2\n",
    "        # (64, 32, 32)\n",
    "        self.maxpool1 = nn.MaxPool2d(kernel_size=2)\n",
    "        self.dropout1 = nn.Dropout(p=dropout_prob)\n",
    "\n",
    "        # (64, 16, 16)\n",
    "        self.conv2 = nn.Conv2d(in_channels=64, out_channels=128, kernel_size=kernel_size2, stride=1, padding=padding2)\n",
    "        self.relu2 = nn.ReLU()\n",
    "        # (128, 16, 16)\n",
    "        self.maxpool2 = nn.MaxPool2d(kernel_size=2)\n",
    "        # (128, 8, 8)\n",
    "        self.dropout2 = nn.Dropout(p=dropout_prob)\n",
    "\n",
    "        # Layer 3\n",
    "        self.conv3 = nn.Conv2d(in_channels=128, out_channels=256, kernel_size=kernel_size3, stride=1, padding=padding3)\n",
    "        self.relu3 = nn.ReLU()\n",
    "        self.dropout3 = nn.Dropout(p=dropout_prob)\n",
    "        # (256, 8, 8)\n",
    "        \n",
    "        # Fully connected classifier\n",
    "        in_dim = 256 * 8 * 8\n",
    "        self.fc = nn.Linear(in_features=in_dim, out_features=10)\n",
    "        \n",
    "    def forward(self, x):\n",
    "        \"\"\" Forward pass \"\"\"\n",
    "        cur_b_size = x.shape[0]\n",
    "        x = self.conv1(x)\n",
    "        x = self.relu1(x)\n",
    "        x = self.maxpool1(x)\n",
    "        x = self.dropout1(x)\n",
    "\n",
    "        x = self.conv2(x)\n",
    "        x = self.relu2(x)\n",
    "        x = self.maxpool2(x)\n",
    "        x = self.dropout2(x)\n",
    "        x = self.conv3(x)\n",
    "        x = self.relu3(x)\n",
    "        x = self.dropout3(x)\n",
    "        out_flat = x.view(cur_b_size, -1)\n",
    "        y = self.fc(out_flat)\n",
    "        return y\n",
    "    "
   ]
  },
  {
   "cell_type": "code",
   "execution_count": 99,
   "metadata": {},
   "outputs": [],
   "source": [
    "def define_model(trial):\n",
    "    # Suggest hyperparameters to optimize\n",
    "    kernel_size1 = trial.suggest_categorical('kernel_size1', [3, 5])\n",
    "    kernel_size2 = trial.suggest_categorical('kernel_size2', [3, 5])\n",
    "    kernel_size3 = trial.suggest_categorical('kernel_size3', [3, 5])\n",
    "\n",
    "    # Calculate padding based on kernel sizes\n",
    "    padding1 = 1 if kernel_size1 == 3 else 2\n",
    "    padding2 = 1 if kernel_size2 == 3 else 2\n",
    "    padding3 = 1 if kernel_size3 == 3 else 2\n",
    "\n",
    "    # Create the CNN model with suggested hyperparameters\n",
    "    model = DropoutCNN(kernel_size1, kernel_size2, kernel_size3, padding1, padding2, padding3)\n",
    "    return model"
   ]
  },
  {
   "cell_type": "code",
   "execution_count": 102,
   "metadata": {},
   "outputs": [],
   "source": [
    "\n",
    "# Define the objective function for Optuna\n",
    "def objective(trial):\n",
    "\n",
    "    # Define the model\n",
    "    model = define_model(trial)\n",
    "    model = model.to(device)\n",
    "    # lr = trial.suggest_loguniform('learning_rate', 1e-6, 1e-3)\n",
    "    optimizer = torch.optim.Adam(model.parameters(), lr=LR)\n",
    "    \n",
    "    # Training Loop\n",
    "    for epoch in range(NUM_EPOCHS):\n",
    "        progress_bar = tqdm(trainloader, total=len(trainloader))\n",
    "        for i, (imgs, labels) in enumerate(progress_bar):\n",
    "\n",
    "            # using GPU\n",
    "            imgs, labels = imgs.to(device), labels.to(device)\n",
    "        \n",
    "            # forward pass\n",
    "            preds = model(imgs)\n",
    "\n",
    "            # calculate accuracy\n",
    "            with torch.no_grad():\n",
    "                predicted = preds.argmax(dim=-1)\n",
    "                correct = (predicted == labels).sum().item()\n",
    "                accuracy = correct/labels.shape[0]\n",
    "\n",
    "            train_accuracy_list.append(accuracy)\n",
    "\n",
    "            # computing error\n",
    "            loss = criterion(preds, labels)\n",
    "            train_loss_list.append(loss.item())\n",
    "            # removing accumulated gradients\n",
    "            optimizer.zero_grad()\n",
    "        \n",
    "            # backprogating error to compute gradients\n",
    "            loss.backward()\n",
    "        \n",
    "            # updating parameters\n",
    "            optimizer.step()\n",
    "        \n",
    "            if(i % 10 == 0 or i == len(trainloader) - 1):\n",
    "                progress_bar.set_description(f\"Epoch {epoch + 1} Iter {i + 1}: loss {loss.item():.5f}. \")\n",
    "\n",
    "    # Evaluate the model\n",
    "    correct = 0\n",
    "    total = 0\n",
    "    with torch.no_grad():\n",
    "        for data in testloader:\n",
    "            images, labels = data\n",
    "            images = images.to(device)\n",
    "            labels = labels.to(device)\n",
    "            outputs = model(images)\n",
    "            _, predicted = torch.max(outputs.data, 1)\n",
    "            total += labels.size(0)\n",
    "            correct += (predicted == labels).sum().item()\n",
    "\n",
    "    accuracy = 100 * correct / total\n",
    "\n",
    "    # prune some trials that are doomed to save time\n",
    "    if trial.should_prune():\n",
    "        raise optuna.exceptions.TrialPruned()\n",
    "\n",
    "    return accuracy\n",
    "\n"
   ]
  },
  {
   "cell_type": "code",
   "execution_count": 104,
   "metadata": {},
   "outputs": [
    {
     "name": "stderr",
     "output_type": "stream",
     "text": [
      "[I 2023-11-05 23:43:54,473] A new study created in memory with name: no-name-56ec05a8-9563-4924-bef2-6d54a96b6600\n",
      "Epoch 1 Iter 782: loss 1.22255. : 100%|██████████| 782/782 [00:03<00:00, 234.58it/s]\n",
      "Epoch 2 Iter 782: loss 0.71677. : 100%|██████████| 782/782 [00:03<00:00, 221.75it/s]\n",
      "Epoch 3 Iter 782: loss 0.50753. : 100%|██████████| 782/782 [00:03<00:00, 213.92it/s]\n",
      "Epoch 4 Iter 782: loss 0.72547. : 100%|██████████| 782/782 [00:03<00:00, 232.24it/s]\n",
      "Epoch 5 Iter 782: loss 0.81223. : 100%|██████████| 782/782 [00:03<00:00, 218.85it/s]\n",
      "Epoch 6 Iter 782: loss 0.81606. : 100%|██████████| 782/782 [00:03<00:00, 224.14it/s]\n",
      "Epoch 7 Iter 782: loss 0.87278. : 100%|██████████| 782/782 [00:03<00:00, 229.45it/s]\n",
      "Epoch 8 Iter 782: loss 0.29715. : 100%|██████████| 782/782 [00:03<00:00, 232.23it/s]\n",
      "Epoch 9 Iter 782: loss 0.33649. : 100%|██████████| 782/782 [00:03<00:00, 220.43it/s]\n",
      "Epoch 10 Iter 782: loss 0.27176. : 100%|██████████| 782/782 [00:03<00:00, 224.71it/s]\n",
      "Epoch 11 Iter 782: loss 0.16803. : 100%|██████████| 782/782 [00:03<00:00, 227.08it/s]\n",
      "Epoch 12 Iter 782: loss 0.19493. : 100%|██████████| 782/782 [00:03<00:00, 211.77it/s]\n",
      "Epoch 13 Iter 782: loss 0.11000. : 100%|██████████| 782/782 [00:03<00:00, 221.11it/s]\n",
      "Epoch 14 Iter 782: loss 0.16969. : 100%|██████████| 782/782 [00:03<00:00, 233.51it/s]\n",
      "Epoch 15 Iter 782: loss 0.03629. : 100%|██████████| 782/782 [00:03<00:00, 230.51it/s]\n",
      "Epoch 16 Iter 782: loss 0.04931. : 100%|██████████| 782/782 [00:03<00:00, 227.99it/s]\n",
      "Epoch 17 Iter 782: loss 0.07277. : 100%|██████████| 782/782 [00:03<00:00, 232.65it/s]\n",
      "Epoch 18 Iter 782: loss 0.05016. : 100%|██████████| 782/782 [00:03<00:00, 221.99it/s]\n",
      "Epoch 19 Iter 782: loss 0.06704. : 100%|██████████| 782/782 [00:03<00:00, 240.71it/s]\n",
      "Epoch 20 Iter 782: loss 0.18132. : 100%|██████████| 782/782 [00:03<00:00, 226.52it/s]\n",
      "[I 2023-11-05 23:45:04,377] Trial 0 finished with value: 74.65 and parameters: {'kernel_size1': 3, 'kernel_size2': 3, 'kernel_size3': 5}. Best is trial 0 with value: 74.65.\n",
      "Epoch 1 Iter 782: loss 1.33216. : 100%|██████████| 782/782 [00:03<00:00, 222.20it/s]\n",
      "Epoch 2 Iter 782: loss 0.85965. : 100%|██████████| 782/782 [00:03<00:00, 229.02it/s]\n",
      "Epoch 3 Iter 782: loss 0.60787. : 100%|██████████| 782/782 [00:03<00:00, 222.70it/s]\n",
      "Epoch 4 Iter 782: loss 0.83522. : 100%|██████████| 782/782 [00:03<00:00, 231.55it/s]\n",
      "Epoch 5 Iter 782: loss 0.57184. : 100%|██████████| 782/782 [00:03<00:00, 232.44it/s]\n",
      "Epoch 6 Iter 782: loss 0.96675. : 100%|██████████| 782/782 [00:03<00:00, 212.76it/s]\n",
      "Epoch 7 Iter 782: loss 0.44016. : 100%|██████████| 782/782 [00:03<00:00, 214.47it/s]\n",
      "Epoch 8 Iter 782: loss 0.69082. : 100%|██████████| 782/782 [00:03<00:00, 250.43it/s]\n",
      "Epoch 9 Iter 782: loss 0.41222. : 100%|██████████| 782/782 [00:03<00:00, 240.69it/s]\n",
      "Epoch 10 Iter 782: loss 0.44774. : 100%|██████████| 782/782 [00:03<00:00, 226.32it/s]\n",
      "Epoch 11 Iter 782: loss 0.15293. : 100%|██████████| 782/782 [00:03<00:00, 222.01it/s]\n",
      "Epoch 12 Iter 782: loss 0.62640. : 100%|██████████| 782/782 [00:03<00:00, 224.95it/s]\n",
      "Epoch 13 Iter 782: loss 0.17862. : 100%|██████████| 782/782 [00:03<00:00, 249.19it/s]\n",
      "Epoch 14 Iter 782: loss 0.16505. : 100%|██████████| 782/782 [00:03<00:00, 223.20it/s]\n",
      "Epoch 15 Iter 782: loss 0.07253. : 100%|██████████| 782/782 [00:03<00:00, 215.09it/s]\n",
      "Epoch 16 Iter 782: loss 0.08629. : 100%|██████████| 782/782 [00:03<00:00, 230.18it/s]\n",
      "Epoch 17 Iter 782: loss 0.05665. : 100%|██████████| 782/782 [00:03<00:00, 227.09it/s]\n",
      "Epoch 18 Iter 782: loss 0.28090. : 100%|██████████| 782/782 [00:03<00:00, 222.44it/s]\n",
      "Epoch 19 Iter 782: loss 0.01743. : 100%|██████████| 782/782 [00:03<00:00, 227.60it/s]\n",
      "Epoch 20 Iter 782: loss 0.03113. : 100%|██████████| 782/782 [00:03<00:00, 221.78it/s]\n",
      "[I 2023-11-05 23:46:14,123] Trial 1 finished with value: 73.86 and parameters: {'kernel_size1': 3, 'kernel_size2': 5, 'kernel_size3': 3}. Best is trial 0 with value: 74.65.\n",
      "Epoch 1 Iter 782: loss 1.15298. : 100%|██████████| 782/782 [00:03<00:00, 237.41it/s]\n",
      "Epoch 2 Iter 782: loss 1.11822. : 100%|██████████| 782/782 [00:03<00:00, 219.58it/s]\n",
      "Epoch 3 Iter 782: loss 0.96621. : 100%|██████████| 782/782 [00:03<00:00, 218.70it/s]\n",
      "Epoch 4 Iter 782: loss 0.48966. : 100%|██████████| 782/782 [00:03<00:00, 230.59it/s]\n",
      "Epoch 5 Iter 782: loss 1.05377. : 100%|██████████| 782/782 [00:03<00:00, 223.46it/s]\n",
      "Epoch 6 Iter 782: loss 0.63465. : 100%|██████████| 782/782 [00:03<00:00, 235.61it/s]\n",
      "Epoch 7 Iter 782: loss 0.20753. : 100%|██████████| 782/782 [00:03<00:00, 212.73it/s]\n",
      "Epoch 8 Iter 782: loss 0.82825. : 100%|██████████| 782/782 [00:03<00:00, 232.47it/s]\n",
      "Epoch 9 Iter 782: loss 1.09962. : 100%|██████████| 782/782 [00:03<00:00, 227.45it/s]\n",
      "Epoch 10 Iter 782: loss 0.39307. : 100%|██████████| 782/782 [00:03<00:00, 214.48it/s]\n",
      "Epoch 11 Iter 782: loss 0.21715. : 100%|██████████| 782/782 [00:03<00:00, 224.50it/s]\n",
      "Epoch 12 Iter 782: loss 0.16376. : 100%|██████████| 782/782 [00:03<00:00, 215.20it/s]\n",
      "Epoch 13 Iter 782: loss 0.22272. : 100%|██████████| 782/782 [00:03<00:00, 216.52it/s]\n",
      "Epoch 14 Iter 782: loss 0.07274. : 100%|██████████| 782/782 [00:03<00:00, 226.07it/s]\n",
      "Epoch 15 Iter 782: loss 0.12059. : 100%|██████████| 782/782 [00:03<00:00, 230.57it/s]\n",
      "Epoch 16 Iter 782: loss 0.43349. : 100%|██████████| 782/782 [00:03<00:00, 220.09it/s]\n",
      "Epoch 17 Iter 782: loss 0.01729. : 100%|██████████| 782/782 [00:03<00:00, 229.83it/s]\n",
      "Epoch 18 Iter 782: loss 0.01670. : 100%|██████████| 782/782 [00:03<00:00, 228.09it/s]\n",
      "Epoch 19 Iter 782: loss 0.01169. : 100%|██████████| 782/782 [00:03<00:00, 225.70it/s]\n",
      "Epoch 20 Iter 782: loss 0.01823. : 100%|██████████| 782/782 [00:03<00:00, 211.64it/s]\n",
      "[I 2023-11-05 23:47:24,819] Trial 2 finished with value: 75.56 and parameters: {'kernel_size1': 3, 'kernel_size2': 3, 'kernel_size3': 5}. Best is trial 2 with value: 75.56.\n",
      "Epoch 1 Iter 782: loss 0.96888. : 100%|██████████| 782/782 [00:03<00:00, 233.40it/s]\n",
      "Epoch 2 Iter 782: loss 0.82936. : 100%|██████████| 782/782 [00:03<00:00, 221.99it/s]\n",
      "Epoch 3 Iter 782: loss 0.49935. : 100%|██████████| 782/782 [00:03<00:00, 226.81it/s]\n",
      "Epoch 4 Iter 782: loss 0.40753. : 100%|██████████| 782/782 [00:03<00:00, 219.83it/s]\n",
      "Epoch 5 Iter 782: loss 0.60722. : 100%|██████████| 782/782 [00:03<00:00, 226.83it/s]\n",
      "Epoch 6 Iter 782: loss 0.75761. : 100%|██████████| 782/782 [00:03<00:00, 230.56it/s]\n",
      "Epoch 7 Iter 782: loss 0.63505. : 100%|██████████| 782/782 [00:03<00:00, 212.45it/s]\n",
      "Epoch 8 Iter 782: loss 0.48338. : 100%|██████████| 782/782 [00:03<00:00, 219.45it/s]\n",
      "Epoch 9 Iter 782: loss 0.36053. : 100%|██████████| 782/782 [00:03<00:00, 223.39it/s]\n",
      "Epoch 10 Iter 782: loss 0.27750. : 100%|██████████| 782/782 [00:03<00:00, 230.10it/s]\n",
      "Epoch 11 Iter 782: loss 0.44944. : 100%|██████████| 782/782 [00:03<00:00, 217.10it/s]\n",
      "Epoch 12 Iter 782: loss 0.08939. : 100%|██████████| 782/782 [00:03<00:00, 234.43it/s]\n",
      "Epoch 13 Iter 782: loss 0.37228. : 100%|██████████| 782/782 [00:03<00:00, 232.65it/s]\n",
      "Epoch 14 Iter 782: loss 0.15688. : 100%|██████████| 782/782 [00:03<00:00, 239.91it/s]\n",
      "Epoch 15 Iter 782: loss 0.11210. : 100%|██████████| 782/782 [00:03<00:00, 228.12it/s]\n",
      "Epoch 16 Iter 782: loss 0.14981. : 100%|██████████| 782/782 [00:03<00:00, 247.62it/s]\n",
      "Epoch 17 Iter 782: loss 0.12844. : 100%|██████████| 782/782 [00:03<00:00, 232.26it/s]\n",
      "Epoch 18 Iter 782: loss 0.09621. : 100%|██████████| 782/782 [00:03<00:00, 232.03it/s]\n",
      "Epoch 19 Iter 782: loss 0.08775. : 100%|██████████| 782/782 [00:03<00:00, 212.60it/s]\n",
      "Epoch 20 Iter 782: loss 0.01807. : 100%|██████████| 782/782 [00:03<00:00, 234.91it/s]\n",
      "[I 2023-11-05 23:48:34,404] Trial 3 finished with value: 73.12 and parameters: {'kernel_size1': 5, 'kernel_size2': 3, 'kernel_size3': 3}. Best is trial 2 with value: 75.56.\n",
      "Epoch 1 Iter 782: loss 0.94142. : 100%|██████████| 782/782 [00:03<00:00, 223.31it/s]\n",
      "Epoch 2 Iter 782: loss 0.72566. : 100%|██████████| 782/782 [00:03<00:00, 220.14it/s]\n",
      "Epoch 3 Iter 782: loss 0.95450. : 100%|██████████| 782/782 [00:03<00:00, 238.99it/s]\n",
      "Epoch 4 Iter 782: loss 0.38115. : 100%|██████████| 782/782 [00:03<00:00, 215.74it/s]\n",
      "Epoch 5 Iter 782: loss 0.68308. : 100%|██████████| 782/782 [00:03<00:00, 229.70it/s]\n",
      "Epoch 6 Iter 782: loss 0.32085. : 100%|██████████| 782/782 [00:03<00:00, 225.92it/s]\n",
      "Epoch 7 Iter 782: loss 0.38481. : 100%|██████████| 782/782 [00:03<00:00, 222.09it/s]\n",
      "Epoch 8 Iter 782: loss 0.40192. : 100%|██████████| 782/782 [00:03<00:00, 228.75it/s]\n",
      "Epoch 9 Iter 782: loss 0.72187. : 100%|██████████| 782/782 [00:03<00:00, 236.09it/s]\n",
      "Epoch 10 Iter 782: loss 0.40466. : 100%|██████████| 782/782 [00:03<00:00, 220.05it/s]\n",
      "Epoch 11 Iter 782: loss 0.23819. : 100%|██████████| 782/782 [00:03<00:00, 230.67it/s]\n",
      "Epoch 12 Iter 782: loss 0.25288. : 100%|██████████| 782/782 [00:03<00:00, 238.42it/s]\n",
      "Epoch 13 Iter 782: loss 0.15188. : 100%|██████████| 782/782 [00:03<00:00, 218.87it/s]\n",
      "Epoch 14 Iter 782: loss 0.17826. : 100%|██████████| 782/782 [00:03<00:00, 233.89it/s]\n",
      "Epoch 15 Iter 782: loss 0.26944. : 100%|██████████| 782/782 [00:03<00:00, 221.90it/s]\n",
      "Epoch 16 Iter 782: loss 0.03374. : 100%|██████████| 782/782 [00:03<00:00, 224.36it/s]\n",
      "Epoch 17 Iter 782: loss 0.05803. : 100%|██████████| 782/782 [00:03<00:00, 234.42it/s]\n",
      "Epoch 18 Iter 782: loss 0.00871. : 100%|██████████| 782/782 [00:03<00:00, 226.65it/s]\n",
      "Epoch 19 Iter 782: loss 0.11613. : 100%|██████████| 782/782 [00:03<00:00, 230.09it/s]\n",
      "Epoch 20 Iter 782: loss 0.01055. : 100%|██████████| 782/782 [00:03<00:00, 219.57it/s]\n",
      "[I 2023-11-05 23:49:44,188] Trial 4 finished with value: 75.26 and parameters: {'kernel_size1': 3, 'kernel_size2': 5, 'kernel_size3': 5}. Best is trial 2 with value: 75.56.\n",
      "Epoch 1 Iter 782: loss 1.51518. : 100%|██████████| 782/782 [00:03<00:00, 239.16it/s]\n",
      "Epoch 2 Iter 782: loss 1.18070. : 100%|██████████| 782/782 [00:03<00:00, 219.64it/s]\n",
      "Epoch 3 Iter 782: loss 0.52117. : 100%|██████████| 782/782 [00:03<00:00, 224.13it/s]\n",
      "Epoch 4 Iter 782: loss 0.83405. : 100%|██████████| 782/782 [00:03<00:00, 232.89it/s]\n",
      "Epoch 5 Iter 782: loss 0.91150. : 100%|██████████| 782/782 [00:03<00:00, 226.17it/s]\n",
      "Epoch 6 Iter 782: loss 0.40310. : 100%|██████████| 782/782 [00:03<00:00, 228.64it/s]\n",
      "Epoch 7 Iter 782: loss 0.84230. : 100%|██████████| 782/782 [00:03<00:00, 225.40it/s]\n",
      "Epoch 8 Iter 782: loss 0.45950. : 100%|██████████| 782/782 [00:03<00:00, 228.63it/s]\n",
      "Epoch 9 Iter 782: loss 0.41309. : 100%|██████████| 782/782 [00:03<00:00, 241.95it/s]\n",
      "Epoch 10 Iter 782: loss 0.47725. : 100%|██████████| 782/782 [00:03<00:00, 218.77it/s]\n",
      "Epoch 11 Iter 782: loss 1.02282. : 100%|██████████| 782/782 [00:03<00:00, 221.81it/s]\n",
      "Epoch 12 Iter 782: loss 0.71836. : 100%|██████████| 782/782 [00:03<00:00, 216.47it/s]\n",
      "Epoch 13 Iter 782: loss 0.19124. : 100%|██████████| 782/782 [00:03<00:00, 232.98it/s]\n",
      "Epoch 14 Iter 782: loss 0.33987. : 100%|██████████| 782/782 [00:03<00:00, 220.02it/s]\n",
      "Epoch 15 Iter 782: loss 0.23442. : 100%|██████████| 782/782 [00:03<00:00, 234.03it/s]\n",
      "Epoch 16 Iter 782: loss 0.16367. : 100%|██████████| 782/782 [00:03<00:00, 222.68it/s]\n",
      "Epoch 17 Iter 782: loss 0.12808. : 100%|██████████| 782/782 [00:03<00:00, 231.81it/s]\n",
      "Epoch 18 Iter 782: loss 0.22201. : 100%|██████████| 782/782 [00:03<00:00, 226.28it/s]\n",
      "Epoch 19 Iter 782: loss 0.01784. : 100%|██████████| 782/782 [00:03<00:00, 230.24it/s]\n",
      "Epoch 20 Iter 782: loss 0.05064. : 100%|██████████| 782/782 [00:03<00:00, 223.97it/s]\n",
      "[I 2023-11-05 23:50:53,901] Trial 5 finished with value: 75.93 and parameters: {'kernel_size1': 3, 'kernel_size2': 3, 'kernel_size3': 3}. Best is trial 5 with value: 75.93.\n",
      "Epoch 1 Iter 782: loss 1.16556. : 100%|██████████| 782/782 [00:03<00:00, 224.88it/s]\n",
      "Epoch 2 Iter 782: loss 1.00351. : 100%|██████████| 782/782 [00:03<00:00, 219.44it/s]\n",
      "Epoch 3 Iter 782: loss 0.89849. : 100%|██████████| 782/782 [00:03<00:00, 234.91it/s]\n",
      "Epoch 4 Iter 782: loss 0.87200. : 100%|██████████| 782/782 [00:03<00:00, 238.97it/s]\n",
      "Epoch 5 Iter 782: loss 0.59762. : 100%|██████████| 782/782 [00:03<00:00, 227.49it/s]\n",
      "Epoch 6 Iter 782: loss 0.94801. : 100%|██████████| 782/782 [00:03<00:00, 228.31it/s]\n",
      "Epoch 7 Iter 782: loss 0.21654. : 100%|██████████| 782/782 [00:03<00:00, 224.20it/s]\n",
      "Epoch 8 Iter 782: loss 0.54808. : 100%|██████████| 782/782 [00:03<00:00, 231.65it/s]\n",
      "Epoch 9 Iter 782: loss 0.51090. : 100%|██████████| 782/782 [00:03<00:00, 241.51it/s]\n",
      "Epoch 10 Iter 782: loss 0.13521. : 100%|██████████| 782/782 [00:03<00:00, 217.95it/s]\n",
      "Epoch 11 Iter 782: loss 0.40488. : 100%|██████████| 782/782 [00:03<00:00, 219.31it/s]\n",
      "Epoch 12 Iter 782: loss 0.28296. : 100%|██████████| 782/782 [00:03<00:00, 230.19it/s]\n",
      "Epoch 13 Iter 782: loss 0.44842. : 100%|██████████| 782/782 [00:03<00:00, 212.76it/s]\n",
      "Epoch 14 Iter 782: loss 0.20219. : 100%|██████████| 782/782 [00:03<00:00, 229.32it/s]\n",
      "Epoch 15 Iter 782: loss 0.22903. : 100%|██████████| 782/782 [00:03<00:00, 222.15it/s]\n",
      "Epoch 16 Iter 782: loss 0.27310. : 100%|██████████| 782/782 [00:03<00:00, 221.32it/s]\n",
      "Epoch 17 Iter 782: loss 0.21771. : 100%|██████████| 782/782 [00:03<00:00, 229.86it/s]\n",
      "Epoch 18 Iter 782: loss 0.28063. : 100%|██████████| 782/782 [00:03<00:00, 215.60it/s]\n",
      "Epoch 19 Iter 782: loss 0.07529. : 100%|██████████| 782/782 [00:03<00:00, 241.85it/s]\n",
      "Epoch 20 Iter 782: loss 0.04257. : 100%|██████████| 782/782 [00:03<00:00, 219.91it/s]\n",
      "[I 2023-11-05 23:52:03,949] Trial 6 finished with value: 75.02 and parameters: {'kernel_size1': 3, 'kernel_size2': 3, 'kernel_size3': 3}. Best is trial 5 with value: 75.93.\n",
      "Epoch 1 Iter 782: loss 1.06670. : 100%|██████████| 782/782 [00:03<00:00, 236.67it/s]\n",
      "Epoch 2 Iter 782: loss 1.26332. : 100%|██████████| 782/782 [00:03<00:00, 224.48it/s]\n",
      "Epoch 3 Iter 782: loss 1.35547. : 100%|██████████| 782/782 [00:03<00:00, 228.75it/s]\n",
      "Epoch 4 Iter 782: loss 1.07505. : 100%|██████████| 782/782 [00:03<00:00, 227.76it/s]\n",
      "Epoch 5 Iter 782: loss 1.12614. : 100%|██████████| 782/782 [00:03<00:00, 219.24it/s]\n",
      "Epoch 6 Iter 782: loss 0.21247. : 100%|██████████| 782/782 [00:03<00:00, 219.26it/s]\n",
      "Epoch 7 Iter 782: loss 0.45719. : 100%|██████████| 782/782 [00:03<00:00, 226.70it/s]\n",
      "Epoch 8 Iter 782: loss 0.27350. : 100%|██████████| 782/782 [00:03<00:00, 225.85it/s]\n",
      "Epoch 9 Iter 782: loss 0.52305. : 100%|██████████| 782/782 [00:03<00:00, 225.02it/s]\n",
      "Epoch 10 Iter 782: loss 0.27648. : 100%|██████████| 782/782 [00:03<00:00, 233.21it/s]\n",
      "Epoch 11 Iter 782: loss 0.61221. : 100%|██████████| 782/782 [00:03<00:00, 223.02it/s]\n",
      "Epoch 12 Iter 782: loss 0.60587. : 100%|██████████| 782/782 [00:03<00:00, 207.80it/s]\n",
      "Epoch 13 Iter 782: loss 0.06216. : 100%|██████████| 782/782 [00:03<00:00, 232.22it/s]\n",
      "Epoch 14 Iter 782: loss 0.40222. : 100%|██████████| 782/782 [00:03<00:00, 231.79it/s]\n",
      "Epoch 15 Iter 782: loss 0.25969. : 100%|██████████| 782/782 [00:03<00:00, 229.13it/s]\n",
      "Epoch 16 Iter 782: loss 0.23947. : 100%|██████████| 782/782 [00:03<00:00, 214.95it/s]\n",
      "Epoch 17 Iter 782: loss 0.16809. : 100%|██████████| 782/782 [00:03<00:00, 227.80it/s]\n",
      "Epoch 18 Iter 782: loss 0.07520. : 100%|██████████| 782/782 [00:03<00:00, 231.76it/s]\n",
      "Epoch 19 Iter 782: loss 0.14299. : 100%|██████████| 782/782 [00:03<00:00, 229.66it/s]\n",
      "Epoch 20 Iter 782: loss 0.09299. : 100%|██████████| 782/782 [00:03<00:00, 223.26it/s]\n",
      "[I 2023-11-05 23:53:14,096] Trial 7 finished with value: 75.6 and parameters: {'kernel_size1': 3, 'kernel_size2': 5, 'kernel_size3': 3}. Best is trial 5 with value: 75.93.\n"
     ]
    },
    {
     "name": "stdout",
     "output_type": "stream",
     "text": [
      "Number of finished trials:  8\n",
      "Best trial:\n",
      "  Value:  75.93\n",
      "  Params: \n",
      "    kernel_size1: 3\n",
      "    kernel_size2: 3\n",
      "    kernel_size3: 3\n"
     ]
    }
   ],
   "source": [
    "# Create a study and optimize\n",
    "study = optuna.create_study(direction=\"maximize\")  # maximize accuracy\n",
    "study.optimize(objective, n_trials=8)\n",
    "\n",
    "# Print the best hyperparameters\n",
    "print(\"Number of finished trials: \", len(study.trials))\n",
    "print(\"Best trial:\")\n",
    "trial = study.best_trial\n",
    "print(\"  Value: \", trial.value)\n",
    "print(\"  Params: \")\n",
    "for key, value in trial.params.items():\n",
    "    print(\"    {}: {}\".format(key, value))"
   ]
  },
  {
   "cell_type": "code",
   "execution_count": 134,
   "metadata": {},
   "outputs": [],
   "source": [
    "kernel_size1 = 3\n",
    "kernel_size2 = 3\n",
    "kernel_size3 = 3\n",
    "\n",
    "# Calculate padding based on kernel sizes\n",
    "padding1 = 1 if kernel_size1 == 3 else 2\n",
    "padding2 = 1 if kernel_size2 == 3 else 2\n",
    "padding3 = 1 if kernel_size3 == 3 else 2"
   ]
  },
  {
   "cell_type": "code",
   "execution_count": 17,
   "metadata": {},
   "outputs": [],
   "source": [
    "device = torch.device(\"cuda\" if torch.cuda.is_available() else \"cpu\")\n",
    "model = DropoutCNN(dropout_prob=0) #Default values were the best, so no need to change them.\n",
    "model.to(device)\n",
    "criterion = nn.CrossEntropyLoss()  # Note, that this already includes a Softmax!\n",
    "optimizer = torch.optim.Adam(model.parameters(), lr=LR)\n"
   ]
  },
  {
   "cell_type": "code",
   "execution_count": null,
   "metadata": {},
   "outputs": [],
   "source": []
  },
  {
   "cell_type": "code",
   "execution_count": 20,
   "metadata": {},
   "outputs": [
    {
     "name": "stderr",
     "output_type": "stream",
     "text": [
      "  0%|          | 0/782 [00:00<?, ?it/s]"
     ]
    },
    {
     "name": "stdout",
     "output_type": "stream",
     "text": [
      "test accuracy: 10.08%\n"
     ]
    },
    {
     "name": "stderr",
     "output_type": "stream",
     "text": [
      "Epoch 1 Iter 782: loss 1.72456. : 100%|██████████| 782/782 [00:25<00:00, 30.66it/s]\n",
      "  0%|          | 0/782 [00:00<?, ?it/s]"
     ]
    },
    {
     "name": "stdout",
     "output_type": "stream",
     "text": [
      "test accuracy: 49.98%\n"
     ]
    },
    {
     "name": "stderr",
     "output_type": "stream",
     "text": [
      "Epoch 2 Iter 782: loss 1.18167. : 100%|██████████| 782/782 [00:27<00:00, 28.43it/s]\n",
      "  0%|          | 0/782 [00:00<?, ?it/s]"
     ]
    },
    {
     "name": "stdout",
     "output_type": "stream",
     "text": [
      "test accuracy: 59.04%\n"
     ]
    },
    {
     "name": "stderr",
     "output_type": "stream",
     "text": [
      "Epoch 3 Iter 782: loss 1.00277. : 100%|██████████| 782/782 [00:29<00:00, 26.30it/s]\n",
      "  0%|          | 0/782 [00:00<?, ?it/s]"
     ]
    },
    {
     "name": "stdout",
     "output_type": "stream",
     "text": [
      "test accuracy: 62.17%\n"
     ]
    },
    {
     "name": "stderr",
     "output_type": "stream",
     "text": [
      "Epoch 4 Iter 782: loss 0.92667. : 100%|██████████| 782/782 [00:29<00:00, 26.18it/s]\n",
      "  0%|          | 0/782 [00:00<?, ?it/s]"
     ]
    },
    {
     "name": "stdout",
     "output_type": "stream",
     "text": [
      "test accuracy: 64.82%\n"
     ]
    },
    {
     "name": "stderr",
     "output_type": "stream",
     "text": [
      "Epoch 5 Iter 782: loss 0.97002. : 100%|██████████| 782/782 [00:30<00:00, 25.60it/s]\n",
      "  0%|          | 0/782 [00:00<?, ?it/s]"
     ]
    },
    {
     "name": "stdout",
     "output_type": "stream",
     "text": [
      "test accuracy: 64.82%\n"
     ]
    },
    {
     "name": "stderr",
     "output_type": "stream",
     "text": [
      "Epoch 6 Iter 782: loss 0.69201. : 100%|██████████| 782/782 [00:29<00:00, 26.88it/s]\n",
      "  0%|          | 0/782 [00:00<?, ?it/s]"
     ]
    },
    {
     "name": "stdout",
     "output_type": "stream",
     "text": [
      "test accuracy: 66.72%\n"
     ]
    },
    {
     "name": "stderr",
     "output_type": "stream",
     "text": [
      "Epoch 7 Iter 782: loss 0.56203. : 100%|██████████| 782/782 [00:30<00:00, 26.03it/s]\n",
      "  0%|          | 0/782 [00:00<?, ?it/s]"
     ]
    },
    {
     "name": "stdout",
     "output_type": "stream",
     "text": [
      "test accuracy: 68.44%\n"
     ]
    },
    {
     "name": "stderr",
     "output_type": "stream",
     "text": [
      "Epoch 8 Iter 782: loss 0.79814. : 100%|██████████| 782/782 [00:21<00:00, 36.87it/s]\n",
      "  0%|          | 0/782 [00:00<?, ?it/s]"
     ]
    },
    {
     "name": "stdout",
     "output_type": "stream",
     "text": [
      "test accuracy: 69.91%\n"
     ]
    },
    {
     "name": "stderr",
     "output_type": "stream",
     "text": [
      "Epoch 9 Iter 782: loss 0.92333. : 100%|██████████| 782/782 [00:21<00:00, 36.01it/s]\n",
      "  0%|          | 0/782 [00:00<?, ?it/s]"
     ]
    },
    {
     "name": "stdout",
     "output_type": "stream",
     "text": [
      "test accuracy: 69.71%\n"
     ]
    },
    {
     "name": "stderr",
     "output_type": "stream",
     "text": [
      "Epoch 10 Iter 782: loss 0.60491. : 100%|██████████| 782/782 [00:20<00:00, 37.55it/s]\n",
      "  0%|          | 0/782 [00:00<?, ?it/s]"
     ]
    },
    {
     "name": "stdout",
     "output_type": "stream",
     "text": [
      "test accuracy: 69.92%\n"
     ]
    },
    {
     "name": "stderr",
     "output_type": "stream",
     "text": [
      "Epoch 11 Iter 782: loss 0.48421. : 100%|██████████| 782/782 [00:20<00:00, 37.70it/s]\n",
      "  0%|          | 0/782 [00:00<?, ?it/s]"
     ]
    },
    {
     "name": "stdout",
     "output_type": "stream",
     "text": [
      "test accuracy: 71.23%\n"
     ]
    },
    {
     "name": "stderr",
     "output_type": "stream",
     "text": [
      "Epoch 12 Iter 782: loss 0.57964. : 100%|██████████| 782/782 [00:20<00:00, 37.32it/s]\n",
      "  0%|          | 0/782 [00:00<?, ?it/s]"
     ]
    },
    {
     "name": "stdout",
     "output_type": "stream",
     "text": [
      "test accuracy: 70.28%\n"
     ]
    },
    {
     "name": "stderr",
     "output_type": "stream",
     "text": [
      "Epoch 13 Iter 782: loss 0.70865. : 100%|██████████| 782/782 [00:20<00:00, 37.28it/s]\n",
      "  0%|          | 0/782 [00:00<?, ?it/s]"
     ]
    },
    {
     "name": "stdout",
     "output_type": "stream",
     "text": [
      "test accuracy: 71.55%\n"
     ]
    },
    {
     "name": "stderr",
     "output_type": "stream",
     "text": [
      "Epoch 14 Iter 782: loss 0.72122. : 100%|██████████| 782/782 [00:20<00:00, 38.99it/s]\n",
      "  0%|          | 0/782 [00:00<?, ?it/s]"
     ]
    },
    {
     "name": "stdout",
     "output_type": "stream",
     "text": [
      "test accuracy: 70.73%\n"
     ]
    },
    {
     "name": "stderr",
     "output_type": "stream",
     "text": [
      "Epoch 15 Iter 782: loss 0.76757. : 100%|██████████| 782/782 [00:20<00:00, 37.53it/s]\n",
      "  0%|          | 0/782 [00:00<?, ?it/s]"
     ]
    },
    {
     "name": "stdout",
     "output_type": "stream",
     "text": [
      "test accuracy: 71.59%\n"
     ]
    },
    {
     "name": "stderr",
     "output_type": "stream",
     "text": [
      "Epoch 16 Iter 782: loss 0.50034. : 100%|██████████| 782/782 [00:20<00:00, 37.42it/s]\n",
      "  0%|          | 0/782 [00:00<?, ?it/s]"
     ]
    },
    {
     "name": "stdout",
     "output_type": "stream",
     "text": [
      "test accuracy: 72.38%\n"
     ]
    },
    {
     "name": "stderr",
     "output_type": "stream",
     "text": [
      "Epoch 17 Iter 782: loss 0.62070. : 100%|██████████| 782/782 [00:20<00:00, 37.80it/s]\n",
      "  0%|          | 0/782 [00:00<?, ?it/s]"
     ]
    },
    {
     "name": "stdout",
     "output_type": "stream",
     "text": [
      "test accuracy: 72.51%\n"
     ]
    },
    {
     "name": "stderr",
     "output_type": "stream",
     "text": [
      "Epoch 18 Iter 782: loss 0.49387. : 100%|██████████| 782/782 [00:21<00:00, 37.12it/s]\n",
      "  0%|          | 0/782 [00:00<?, ?it/s]"
     ]
    },
    {
     "name": "stdout",
     "output_type": "stream",
     "text": [
      "test accuracy: 72.72%\n"
     ]
    },
    {
     "name": "stderr",
     "output_type": "stream",
     "text": [
      "Epoch 19 Iter 782: loss 0.17981. : 100%|██████████| 782/782 [00:21<00:00, 37.07it/s]\n",
      "  0%|          | 0/782 [00:00<?, ?it/s]"
     ]
    },
    {
     "name": "stdout",
     "output_type": "stream",
     "text": [
      "test accuracy: 73.14%\n"
     ]
    },
    {
     "name": "stderr",
     "output_type": "stream",
     "text": [
      "Epoch 20 Iter 782: loss 0.70543. : 100%|██████████| 782/782 [00:20<00:00, 38.02it/s]\n"
     ]
    }
   ],
   "source": [
    "test_loss_list = []\n",
    "train_loss_list = []\n",
    "test_accuracy_list = []\n",
    "train_accuracy_list = []\n",
    "# Initialize lists to store gradient information\n",
    "gradients = []\n",
    "gradient_norms = []\n",
    "gradient_max_values = []\n",
    "gradient_min_values = []\n",
    "best_loss = 100\n",
    "for epoch in range(NUM_EPOCHS):\n",
    "    progress_bar = tqdm(trainloader, total=len(trainloader))\n",
    "\n",
    "    # Calculate test loss, accuracy for currently trained model\n",
    "    model.eval()\n",
    "    test_loss = 0.0\n",
    "    correct = 0\n",
    "    total = 0\n",
    "\n",
    "    with torch.no_grad():\n",
    "        for data in testloader:\n",
    "            images_test, labels_test = data\n",
    "            # using GPU for inference\n",
    "            images_test, labels_test = images_test.to(device), labels_test.to(device)\n",
    "            # calculate model outputs\n",
    "            outputs_test = model(images_test)\n",
    "            # calculate test loss\n",
    "            loss = criterion(outputs_test, labels_test)\n",
    "            test_loss += loss.item()\n",
    "            # derive model predictions from out outputs\n",
    "            predicted = torch.argmax(outputs_test, dim = -1)\n",
    "            # calculate accuracy\n",
    "            total += labels_test.size(0)\n",
    "            correct += (predicted == labels_test).sum().item()\n",
    "\n",
    "        test_loss /= len(testloader)\n",
    "        accuracy = 100 * correct / total\n",
    "\n",
    "        print(f\"test accuracy: {accuracy}%\")\n",
    "\n",
    "        # Potentially prevent overfitting\n",
    "        if test_loss < best_loss:\n",
    "            best_loss = loss\n",
    "            torch.save({\n",
    "                'epoch': epoch,\n",
    "                'model_state_dict': model.state_dict(),\n",
    "                'optimizer_state_dict': optimizer.state_dict(),\n",
    "            }, f\"models/checkpoint_epoch_{epoch}.pth\")\n",
    "        #saving the best checkpoint\n",
    "        \n",
    "    test_loss_list.append(test_loss)\n",
    "    test_accuracy_list.append(accuracy)\n",
    "    \n",
    "    # Turn model back to training mode\n",
    "    model.train()\n",
    "\n",
    "    train_loss_list_iter = []\n",
    "    train_accuracy_list_iter = []\n",
    "    for i, (imgs, labels) in enumerate(progress_bar):\n",
    "\n",
    "        # using GPU\n",
    "        imgs, labels = imgs.to(device), labels.to(device)\n",
    "    \n",
    "        # forward pass\n",
    "        preds = model(imgs)\n",
    "\n",
    "        # calculate accuracy\n",
    "        with torch.no_grad():\n",
    "            predicted = preds.argmax(dim=-1)\n",
    "            correct = (predicted == labels).sum().item()\n",
    "            accuracy = correct/labels.shape[0] * 100\n",
    "\n",
    "        train_accuracy_list_iter.append(accuracy)\n",
    "\n",
    "        # computing error\n",
    "        loss = criterion(preds, labels)\n",
    "        train_loss_list_iter.append(loss.item())\n",
    "        # removing accumulated gradients\n",
    "        optimizer.zero_grad()\n",
    "    \n",
    "        # backprogating error to compute gradients\n",
    "        loss.backward()\n",
    "    \n",
    "        # updating parameters\n",
    "        optimizer.step()\n",
    "\n",
    "        '''In the following we calculate gradient information!'''\n",
    "        \n",
    "        # Calculate gradient information\n",
    "        for name, param in model.named_parameters():\n",
    "            # Tracking the matrices led to oom errors\n",
    "            if name in ['layers.0.bias']:\n",
    "                gradients.append(param.grad)\n",
    "                gradient_norms.append(torch.norm(param.grad).item())\n",
    "                gradient_max_values.append(param.grad.max().item())\n",
    "                gradient_min_values.append(param.grad.min().item())\n",
    "\n",
    "        '''Stop calculating gradient inforamtion'''\n",
    "    \n",
    "        if(i % 10 == 0 or i == len(trainloader) - 1):\n",
    "            progress_bar.set_description(f\"Epoch {epoch + 1} Iter {i + 1}: loss {loss.item():.5f}. \")\n",
    "    train_accuracy_list.append(np.mean(train_accuracy_list_iter))\n",
    "    train_loss_list.append(np.mean(train_loss_list_iter))"
   ]
  },
  {
   "cell_type": "code",
   "execution_count": 136,
   "metadata": {},
   "outputs": [
    {
     "name": "stderr",
     "output_type": "stream",
     "text": [
      "100%|██████████| 157/157 [00:00<00:00, 219.70it/s]"
     ]
    },
    {
     "name": "stdout",
     "output_type": "stream",
     "text": [
      "Test accuracy: 75.28%\n"
     ]
    },
    {
     "name": "stderr",
     "output_type": "stream",
     "text": [
      "\n"
     ]
    }
   ],
   "source": [
    "n_correct = 0\n",
    "model.eval()\n",
    "with torch.no_grad():\n",
    "    progress_bar = tqdm(enumerate(testloader), total=len(testloader))\n",
    "    for i, (imgs, labels) in progress_bar:\n",
    "        #everything needs to be on the same device\n",
    "        imgs = imgs.to(device)\n",
    "        labels = labels.to(device)\n",
    "\n",
    "        # forward pass\n",
    "        preds = model(imgs)\n",
    "\n",
    "        pred_labels = torch.argmax(preds, dim=-1)\n",
    "        cur_correct = len(torch.where(pred_labels == labels)[0])\n",
    "        n_correct = n_correct + cur_correct\n",
    "\n",
    "\n",
    "accuracy = n_correct / len(test_dataset) * 100\n",
    "print(f\"Test accuracy: {round(accuracy,2)}%\")"
   ]
  },
  {
   "cell_type": "code",
   "execution_count": 137,
   "metadata": {},
   "outputs": [
    {
     "data": {
      "image/png": "[encoded data removed]",
      "text/plain": [
       "<Figure size 1000x500 with 1 Axes>"
      ]
     },
     "metadata": {},
     "output_type": "display_data"
    },
    {
     "data": {
      "image/png": "[encoded data removed]",
      "text/plain": [
       "<Figure size 1000x500 with 1 Axes>"
      ]
     },
     "metadata": {},
     "output_type": "display_data"
    }
   ],
   "source": [
    "utils.plot_loss_epoch(train_loss_list, test_loss_list)\n",
    "utils.plot_accuracy_epoch(test_accuracy_list, train_accuracy_list)"
   ]
  },
  {
   "cell_type": "code",
   "execution_count": null,
   "metadata": {},
   "outputs": [],
   "source": []
  },
  {
   "cell_type": "markdown",
   "metadata": {},
   "source": [
    "### Kernel visualization"
   ]
  },
  {
   "cell_type": "code",
   "execution_count": 107,
   "metadata": {},
   "outputs": [],
   "source": [
    "# device = torch.device(\"cuda\" if torch.cuda.is_available() else \"cpu\")\n",
    "# model = DropoutCNN(dropout_prob=0) #Default values were the best, so no need to change them.\n",
    "# model.to(device)\n",
    "#model = torch.load(\"models/checkpoint_epoch_5.pth\")"
   ]
  },
  {
   "cell_type": "code",
   "execution_count": 21,
   "metadata": {},
   "outputs": [
    {
     "name": "stdout",
     "output_type": "stream",
     "text": [
      "Total convolution layers: 3\n",
      "conv_layers\n"
     ]
    }
   ],
   "source": [
    "# we will save the conv layer weights in this list\n",
    "model_weights =[]\n",
    "#we will save the 49 conv layers in this list\n",
    "conv_layers = []\n",
    "# get all the model children as list\n",
    "model_children = list(model.children())\n",
    "#counter to keep count of the conv layers\n",
    "counter = 0\n",
    "#append all the conv layers and their respective wights to the list\n",
    "for i in range(len(model_children)):\n",
    "    if type(model_children[i]) == nn.Conv2d:\n",
    "        counter+=1\n",
    "        model_weights.append(model_children[i].weight)\n",
    "        conv_layers.append(model_children[i])\n",
    "    elif type(model_children[i]) == nn.Sequential:\n",
    "        for j in range(len(model_children[i])):\n",
    "            for child in model_children[i][j].children():\n",
    "                if type(child) == nn.Conv2d:\n",
    "                    counter+=1\n",
    "                    model_weights.append(child.weight)\n",
    "                    conv_layers.append(child)\n",
    "print(f\"Total convolution layers: {counter}\")\n",
    "print(\"conv_layers\")"
   ]
  },
  {
   "cell_type": "code",
   "execution_count": 22,
   "metadata": {},
   "outputs": [],
   "source": [
    "transform = transforms.Compose(\n",
    "    [\n",
    "     transforms.ToTensor(), # setup in convmix paper\n",
    "    ])"
   ]
  },
  {
   "cell_type": "code",
   "execution_count": 23,
   "metadata": {},
   "outputs": [
    {
     "name": "stdout",
     "output_type": "stream",
     "text": [
      "Files already downloaded and verified\n"
     ]
    }
   ],
   "source": [
    "train_dataset = torchvision.datasets.CIFAR10(root='./data', train=True, # \n",
    "                                        download=True, transform=transform)"
   ]
  },
  {
   "cell_type": "code",
   "execution_count": 24,
   "metadata": {},
   "outputs": [
    {
     "data": {
      "image/png": "[encoded data removed]",
      "text/plain": [
       "<Figure size 3000x300 with 10 Axes>"
      ]
     },
     "metadata": {},
     "output_type": "display_data"
    }
   ],
   "source": [
    "N_IMGS = 10\n",
    "fig, ax = plt.subplots(1,N_IMGS)\n",
    "fig.set_size_inches(3 * N_IMGS, 3)\n",
    "\n",
    "\n",
    "for i in range(10):\n",
    "    img = train_dataset[i][0].numpy().reshape(3,32,32).transpose(1, 2, 0)\n",
    "    ax[i].imshow(img)\n",
    "    ax[i].set_title(f\"Img #{n}  Label: {train_dataset[n][1]}\")\n",
    "    ax[i].axis(\"off\")\n",
    "plt.show()"
   ]
  },
  {
   "cell_type": "code",
   "execution_count": 28,
   "metadata": {},
   "outputs": [],
   "source": [
    "import torchvision.transforms.functional as TF"
   ]
  },
  {
   "cell_type": "code",
   "execution_count": 29,
   "metadata": {},
   "outputs": [
    {
     "data": {
      "image/png": "[encoded data removed]",
      "text/plain": [
       "<Figure size 640x480 with 1 Axes>"
      ]
     },
     "metadata": {},
     "output_type": "display_data"
    }
   ],
   "source": [
    "image_index = 8  # You can change this to any index you prefer\n",
    "image, _ = train_dataset[image_index]\n",
    "image = image.to(device)\n",
    "\n",
    "if isinstance(image, torch.Tensor):\n",
    "    image = TF.to_pil_image(image)\n",
    "\n",
    "# Display the image\n",
    "plt.imshow(image)\n",
    "plt.show()"
   ]
  },
  {
   "cell_type": "code",
   "execution_count": 27,
   "metadata": {},
   "outputs": [
    {
     "name": "stdout",
     "output_type": "stream",
     "text": [
      "3\n",
      "torch.Size([64, 32, 32])\n",
      "torch.Size([128, 32, 32])\n",
      "torch.Size([256, 32, 32])\n",
      "(32, 32)\n",
      "(32, 32)\n",
      "(32, 32)\n"
     ]
    },
    {
     "data": {
      "image/png": "[encoded data removed]",
      "text/plain": [
       "<Figure size 3000x5000 with 3 Axes>"
      ]
     },
     "metadata": {},
     "output_type": "display_data"
    }
   ],
   "source": [
    "\n",
    "\n",
    "outputs = []\n",
    "names = []\n",
    "for layer in conv_layers[0:]:\n",
    "    image = layer(image)\n",
    "    outputs.append(image)\n",
    "    names.append(str(layer))\n",
    "print(len(outputs))\n",
    "#print feature_maps\n",
    "for feature_map in outputs:\n",
    "    print(feature_map.shape)\n",
    "\n",
    "processed = []\n",
    "for feature_map in outputs:\n",
    "    feature_map = feature_map.squeeze(0)\n",
    "    gray_scale = torch.sum(feature_map,0)\n",
    "    gray_scale = gray_scale / feature_map.shape[0]\n",
    "    processed.append(gray_scale.data.cpu().numpy())\n",
    "for fm in processed:\n",
    "    print(fm.shape)\n",
    "\n",
    "fig = plt.figure(figsize=(30, 50))\n",
    "for i in range(len(processed)):\n",
    "    a = fig.add_subplot(5, 4, i+1)\n",
    "    imgplot = plt.imshow(processed[i])\n",
    "    a.axis(\"off\")\n",
    "    a.set_title(names[i].split('(')[0], fontsize=30)\n",
    "plt.savefig(str('feature_maps.jpg'), bbox_inches='tight')"
   ]
  },
  {
   "cell_type": "markdown",
   "metadata": {},
   "source": [
    "# Dropout"
   ]
  },
  {
   "cell_type": "markdown",
   "metadata": {},
   "source": [
    "Now we train the model with dropout and check whether we observe any changes. Note, that we added Droputs after Max Pooling layers. Adding Dropouts after convolutional layers appears to be not very popular in the literature. Therefore we opted to add them after the Pooling layers. Disregarding the literature however, one dropout layer after the final convolutional layer achieved positive results, which is why we added one dropout layer after the final convolution. "
   ]
  },
  {
   "cell_type": "code",
   "execution_count": 97,
   "metadata": {},
   "outputs": [],
   "source": [
    "model = DropoutCNN(dropout_prob=0.5)\n",
    "model.to(device)\n",
    "criterion = nn.CrossEntropyLoss()\n",
    "optimizer = torch.optim.Adam(model.parameters(), lr=LR)"
   ]
  },
  {
   "cell_type": "code",
   "execution_count": 106,
   "metadata": {},
   "outputs": [
    {
     "name": "stderr",
     "output_type": "stream",
     "text": [
      "  0%|          | 0/782 [00:00<?, ?it/s]"
     ]
    },
    {
     "name": "stdout",
     "output_type": "stream",
     "text": [
      "test accuracy: 10.05%\n"
     ]
    },
    {
     "name": "stderr",
     "output_type": "stream",
     "text": [
      "Epoch 1 Iter 782: loss 1.31114. : 100%|██████████| 782/782 [00:04<00:00, 188.19it/s]\n",
      "  0%|          | 0/782 [00:00<?, ?it/s]"
     ]
    },
    {
     "name": "stdout",
     "output_type": "stream",
     "text": [
      "test accuracy: 51.14%\n"
     ]
    },
    {
     "name": "stderr",
     "output_type": "stream",
     "text": [
      "Epoch 2 Iter 782: loss 1.17905. : 100%|██████████| 782/782 [00:04<00:00, 184.21it/s]\n",
      "  0%|          | 0/782 [00:00<?, ?it/s]"
     ]
    },
    {
     "name": "stdout",
     "output_type": "stream",
     "text": [
      "test accuracy: 57.87%\n"
     ]
    },
    {
     "name": "stderr",
     "output_type": "stream",
     "text": [
      "Epoch 3 Iter 782: loss 0.68798. : 100%|██████████| 782/782 [00:04<00:00, 194.40it/s]\n",
      "  0%|          | 0/782 [00:00<?, ?it/s]"
     ]
    },
    {
     "name": "stdout",
     "output_type": "stream",
     "text": [
      "test accuracy: 62.06%\n"
     ]
    },
    {
     "name": "stderr",
     "output_type": "stream",
     "text": [
      "Epoch 4 Iter 782: loss 1.46362. : 100%|██████████| 782/782 [00:04<00:00, 184.80it/s]\n",
      "  0%|          | 0/782 [00:00<?, ?it/s]"
     ]
    },
    {
     "name": "stdout",
     "output_type": "stream",
     "text": [
      "test accuracy: 65.43%\n"
     ]
    },
    {
     "name": "stderr",
     "output_type": "stream",
     "text": [
      "Epoch 5 Iter 782: loss 1.35063. : 100%|██████████| 782/782 [00:04<00:00, 183.09it/s]\n",
      "  0%|          | 0/782 [00:00<?, ?it/s]"
     ]
    },
    {
     "name": "stdout",
     "output_type": "stream",
     "text": [
      "test accuracy: 68.05%\n"
     ]
    },
    {
     "name": "stderr",
     "output_type": "stream",
     "text": [
      "Epoch 6 Iter 782: loss 1.44737. : 100%|██████████| 782/782 [00:04<00:00, 191.89it/s]\n",
      "  0%|          | 0/782 [00:00<?, ?it/s]"
     ]
    },
    {
     "name": "stdout",
     "output_type": "stream",
     "text": [
      "test accuracy: 67.64%\n"
     ]
    },
    {
     "name": "stderr",
     "output_type": "stream",
     "text": [
      "Epoch 7 Iter 782: loss 0.75682. : 100%|██████████| 782/782 [00:04<00:00, 193.18it/s]\n",
      "  0%|          | 0/782 [00:00<?, ?it/s]"
     ]
    },
    {
     "name": "stdout",
     "output_type": "stream",
     "text": [
      "test accuracy: 69.93%\n"
     ]
    },
    {
     "name": "stderr",
     "output_type": "stream",
     "text": [
      "Epoch 8 Iter 782: loss 0.64162. : 100%|██████████| 782/782 [00:04<00:00, 186.34it/s]\n",
      "  0%|          | 0/782 [00:00<?, ?it/s]"
     ]
    },
    {
     "name": "stdout",
     "output_type": "stream",
     "text": [
      "test accuracy: 71.58%\n"
     ]
    },
    {
     "name": "stderr",
     "output_type": "stream",
     "text": [
      "Epoch 9 Iter 782: loss 0.84943. : 100%|██████████| 782/782 [00:04<00:00, 183.92it/s]\n",
      "  0%|          | 0/782 [00:00<?, ?it/s]"
     ]
    },
    {
     "name": "stdout",
     "output_type": "stream",
     "text": [
      "test accuracy: 72.27%\n"
     ]
    },
    {
     "name": "stderr",
     "output_type": "stream",
     "text": [
      "Epoch 10 Iter 782: loss 0.90327. : 100%|██████████| 782/782 [00:04<00:00, 192.66it/s]\n",
      "  0%|          | 0/782 [00:00<?, ?it/s]"
     ]
    },
    {
     "name": "stdout",
     "output_type": "stream",
     "text": [
      "test accuracy: 73.28%\n"
     ]
    },
    {
     "name": "stderr",
     "output_type": "stream",
     "text": [
      "Epoch 11 Iter 782: loss 1.21464. : 100%|██████████| 782/782 [00:03<00:00, 195.76it/s]\n",
      "  0%|          | 0/782 [00:00<?, ?it/s]"
     ]
    },
    {
     "name": "stdout",
     "output_type": "stream",
     "text": [
      "test accuracy: 73.09%\n"
     ]
    },
    {
     "name": "stderr",
     "output_type": "stream",
     "text": [
      "Epoch 12 Iter 782: loss 0.86959. : 100%|██████████| 782/782 [00:04<00:00, 187.93it/s]\n",
      "  0%|          | 0/782 [00:00<?, ?it/s]"
     ]
    },
    {
     "name": "stdout",
     "output_type": "stream",
     "text": [
      "test accuracy: 74.11%\n"
     ]
    },
    {
     "name": "stderr",
     "output_type": "stream",
     "text": [
      "Epoch 13 Iter 782: loss 0.66048. : 100%|██████████| 782/782 [00:04<00:00, 188.35it/s]\n",
      "  0%|          | 0/782 [00:00<?, ?it/s]"
     ]
    },
    {
     "name": "stdout",
     "output_type": "stream",
     "text": [
      "test accuracy: 75.31%\n"
     ]
    },
    {
     "name": "stderr",
     "output_type": "stream",
     "text": [
      "Epoch 14 Iter 782: loss 0.91758. : 100%|██████████| 782/782 [00:04<00:00, 184.14it/s]\n",
      "  0%|          | 0/782 [00:00<?, ?it/s]"
     ]
    },
    {
     "name": "stdout",
     "output_type": "stream",
     "text": [
      "test accuracy: 74.93%\n"
     ]
    },
    {
     "name": "stderr",
     "output_type": "stream",
     "text": [
      "Epoch 15 Iter 782: loss 0.92632. : 100%|██████████| 782/782 [00:03<00:00, 210.94it/s]\n",
      "  0%|          | 0/782 [00:00<?, ?it/s]"
     ]
    },
    {
     "name": "stdout",
     "output_type": "stream",
     "text": [
      "test accuracy: 75.3%\n"
     ]
    },
    {
     "name": "stderr",
     "output_type": "stream",
     "text": [
      "Epoch 16 Iter 782: loss 0.54230. : 100%|██████████| 782/782 [00:03<00:00, 198.59it/s]\n",
      "  0%|          | 0/782 [00:00<?, ?it/s]"
     ]
    },
    {
     "name": "stdout",
     "output_type": "stream",
     "text": [
      "test accuracy: 76.11%\n"
     ]
    },
    {
     "name": "stderr",
     "output_type": "stream",
     "text": [
      "Epoch 17 Iter 782: loss 0.78872. : 100%|██████████| 782/782 [00:04<00:00, 193.82it/s]\n",
      "  0%|          | 0/782 [00:00<?, ?it/s]"
     ]
    },
    {
     "name": "stdout",
     "output_type": "stream",
     "text": [
      "test accuracy: 76.15%\n"
     ]
    },
    {
     "name": "stderr",
     "output_type": "stream",
     "text": [
      "Epoch 18 Iter 782: loss 0.66718. : 100%|██████████| 782/782 [00:04<00:00, 189.59it/s]\n",
      "  0%|          | 0/782 [00:00<?, ?it/s]"
     ]
    },
    {
     "name": "stdout",
     "output_type": "stream",
     "text": [
      "test accuracy: 77.14%\n"
     ]
    },
    {
     "name": "stderr",
     "output_type": "stream",
     "text": [
      "Epoch 19 Iter 782: loss 0.74390. : 100%|██████████| 782/782 [00:04<00:00, 186.72it/s]\n",
      "  0%|          | 0/782 [00:00<?, ?it/s]"
     ]
    },
    {
     "name": "stdout",
     "output_type": "stream",
     "text": [
      "test accuracy: 77.29%\n"
     ]
    },
    {
     "name": "stderr",
     "output_type": "stream",
     "text": [
      "Epoch 20 Iter 782: loss 0.67041. : 100%|██████████| 782/782 [00:04<00:00, 190.69it/s]\n"
     ]
    }
   ],
   "source": [
    "test_loss_list = []\n",
    "train_loss_list = []\n",
    "test_accuracy_list = []\n",
    "train_accuracy_list = []\n",
    "# Initialize lists to store gradient information\n",
    "gradients = []\n",
    "gradient_norms = []\n",
    "gradient_max_values = []\n",
    "gradient_min_values = []\n",
    "best_loss = 100\n",
    "for epoch in range(NUM_EPOCHS):\n",
    "    progress_bar = tqdm(trainloader, total=len(trainloader))\n",
    "\n",
    "    # Calculate test loss, accuracy for currently trained model\n",
    "    model.eval()\n",
    "    test_loss = 0.0\n",
    "    correct = 0\n",
    "    total = 0\n",
    "\n",
    "    with torch.no_grad():\n",
    "        for data in testloader:\n",
    "            images_test, labels_test = data\n",
    "            # using GPU for inference\n",
    "            images_test, labels_test = images_test.to(device), labels_test.to(device)\n",
    "            # calculate model outputs\n",
    "            outputs_test = model(images_test)\n",
    "            # calculate test loss\n",
    "            loss = criterion(outputs_test, labels_test)\n",
    "            test_loss += loss.item()\n",
    "            # derive model predictions from out outputs\n",
    "            predicted = torch.argmax(outputs_test, dim = -1)\n",
    "            # calculate accuracy\n",
    "            total += labels_test.size(0)\n",
    "            correct += (predicted == labels_test).sum().item()\n",
    "\n",
    "        test_loss /= len(testloader)\n",
    "        accuracy = 100 * correct / total\n",
    "\n",
    "        print(f\"test accuracy: {accuracy}%\")\n",
    "\n",
    "        # Potentially prevent overfitting\n",
    "        if test_loss < best_loss:\n",
    "            best_loss = loss\n",
    "            torch.save({\n",
    "                'epoch': epoch,\n",
    "                'model_state_dict': model.state_dict(),\n",
    "                'optimizer_state_dict': optimizer.state_dict(),\n",
    "            }, f\"models/checkpoint_epoch_{epoch}.pth\")\n",
    "        #saving the best checkpoint\n",
    "        \n",
    "    test_loss_list.append(test_loss)\n",
    "    test_accuracy_list.append(accuracy)\n",
    "    \n",
    "    # Turn model back to training mode\n",
    "    model.train()\n",
    "\n",
    "    train_loss_list_iter = []\n",
    "    train_accuracy_list_iter = []\n",
    "    for i, (imgs, labels) in enumerate(progress_bar):\n",
    "\n",
    "        # using GPU\n",
    "        imgs, labels = imgs.to(device), labels.to(device)\n",
    "    \n",
    "        # forward pass\n",
    "        preds = model(imgs)\n",
    "\n",
    "        # calculate accuracy\n",
    "        with torch.no_grad():\n",
    "            predicted = preds.argmax(dim=-1)\n",
    "            correct = (predicted == labels).sum().item()\n",
    "            accuracy = correct/labels.shape[0] * 100\n",
    "\n",
    "        train_accuracy_list_iter.append(accuracy)\n",
    "\n",
    "        # computing error\n",
    "        loss = criterion(preds, labels)\n",
    "        train_loss_list_iter.append(loss.item())\n",
    "        # removing accumulated gradients\n",
    "        optimizer.zero_grad()\n",
    "    \n",
    "        # backprogating error to compute gradients\n",
    "        loss.backward()\n",
    "    \n",
    "        # updating parameters\n",
    "        optimizer.step()\n",
    "\n",
    "        '''In the following we calculate gradient information!'''\n",
    "        \n",
    "        # Calculate gradient information\n",
    "        for name, param in model.named_parameters():\n",
    "            # Tracking the matrices led to oom errors\n",
    "            if name in ['layers.0.bias']:\n",
    "                gradients.append(param.grad)\n",
    "                gradient_norms.append(torch.norm(param.grad).item())\n",
    "                gradient_max_values.append(param.grad.max().item())\n",
    "                gradient_min_values.append(param.grad.min().item())\n",
    "\n",
    "        '''Stop calculating gradient inforamtion'''\n",
    "    \n",
    "        if(i % 10 == 0 or i == len(trainloader) - 1):\n",
    "            progress_bar.set_description(f\"Epoch {epoch + 1} Iter {i + 1}: loss {loss.item():.5f}. \")\n",
    "    train_accuracy_list.append(np.mean(train_accuracy_list_iter))\n",
    "    train_loss_list.append(np.mean(train_loss_list_iter))"
   ]
  },
  {
   "cell_type": "markdown",
   "metadata": {},
   "source": [
    "### Test accuracy"
   ]
  },
  {
   "cell_type": "markdown",
   "metadata": {},
   "source": []
  },
  {
   "cell_type": "code",
   "execution_count": 107,
   "metadata": {},
   "outputs": [
    {
     "name": "stderr",
     "output_type": "stream",
     "text": [
      "  0%|          | 0/157 [00:00<?, ?it/s]"
     ]
    },
    {
     "name": "stderr",
     "output_type": "stream",
     "text": [
      "100%|██████████| 157/157 [00:00<00:00, 222.84it/s]"
     ]
    },
    {
     "name": "stdout",
     "output_type": "stream",
     "text": [
      "Test accuracy: 77.46%\n"
     ]
    },
    {
     "name": "stderr",
     "output_type": "stream",
     "text": [
      "\n"
     ]
    }
   ],
   "source": [
    "n_correct = 0\n",
    "model.eval()\n",
    "with torch.no_grad():\n",
    "    progress_bar = tqdm(enumerate(testloader), total=len(testloader))\n",
    "    for i, (imgs, labels) in progress_bar:\n",
    "        #everything needs to be on the same device\n",
    "        imgs = imgs.to(device)\n",
    "        labels = labels.to(device)\n",
    "\n",
    "        # forward pass\n",
    "        preds = model(imgs)\n",
    "\n",
    "        pred_labels = torch.argmax(preds, dim=-1)\n",
    "        cur_correct = len(torch.where(pred_labels == labels)[0])\n",
    "        n_correct = n_correct + cur_correct\n",
    "\n",
    "\n",
    "accuracy = n_correct / len(test_dataset) * 100\n",
    "print(f\"Test accuracy: {round(accuracy,2)}%\")"
   ]
  },
  {
   "cell_type": "code",
   "execution_count": 108,
   "metadata": {},
   "outputs": [
    {
     "data": {
      "image/png": "[encoded data removed]",
      "text/plain": [
       "<Figure size 1000x500 with 1 Axes>"
      ]
     },
     "metadata": {},
     "output_type": "display_data"
    },
    {
     "data": {
      "image/png": "[encoded data removed]",
      "text/plain": [
       "<Figure size 1000x500 with 1 Axes>"
      ]
     },
     "metadata": {},
     "output_type": "display_data"
    }
   ],
   "source": [
    "utils.plot_loss_epoch(train_loss_list, test_loss_list)\n",
    "utils.plot_accuracy_epoch(test_accuracy_list, train_accuracy=train_accuracy_list,)"
   ]
  },
  {
   "cell_type": "markdown",
   "metadata": {},
   "source": [
    "Looking at out plots, we observe expected results. The test loss is still slightly higher than our training loss. The testing accuracy is slightly below our training accuracy.\n",
    "Comparing our results to our earlier plots we can see that our model is not overconfident in (wrong) predictions anymore. This is good. Additionally, we observe a 3% increase in accuracy. We do believe a smarter architecture and additional hyperparameteroptimization can improve our reults even further."
   ]
  },
  {
   "cell_type": "markdown",
   "metadata": {},
   "source": [
    "## Learning Rate Scheduler"
   ]
  },
  {
   "cell_type": "markdown",
   "metadata": {},
   "source": [
    "We implemented a simple step learning rate scheduler with a warmup function."
   ]
  },
  {
   "cell_type": "code",
   "execution_count": 31,
   "metadata": {},
   "outputs": [],
   "source": [
    "class LearningRateSchedulerWithWarmup():\n",
    "    '''\n",
    "    Parameters: \n",
    "    optimizer: pytorch optimizer used during training\n",
    "    lr: learning rate\n",
    "    warmup_epochs: number of epochs we warm up our learning rate\n",
    "\n",
    "    milestones: List of epochs when the learning rate will be reduced by a factor\n",
    "    gamma: Factor by which the learning rate will be reduced\n",
    "    '''\n",
    "    def __init__(self, optimizer, lr, milestones, gamma = 0.5, warmup_epochs = 5):\n",
    "        self.optimizer = optimizer\n",
    "        self.lr = lr\n",
    "        self.warmup_epochs = warmup_epochs\n",
    "        self.milestones = milestones\n",
    "        self.gamma = gamma\n",
    "        self.current_lr = 0\n",
    "\n",
    "    def step(self, epoch):\n",
    "        if epoch <= self.warmup_epochs:\n",
    "            # Warm-up phase: Linearly increase learning rate\n",
    "            self.current_lr = (epoch / self.warmup_epochs) * self.lr\n",
    "        else:\n",
    "            if epoch in self.milestones:\n",
    "                self.current_lr *= self.gamma\n",
    "\n",
    "        for param_group in self.optimizer.param_groups:\n",
    "            param_group['lr'] = self.current_lr"
   ]
  },
  {
   "cell_type": "code",
   "execution_count": 32,
   "metadata": {},
   "outputs": [],
   "source": [
    "\n",
    "device = torch.device(\"cuda\" if torch.cuda.is_available() else \"cpu\")\n",
    "model = DropoutCNN(dropout_prob=0)\n",
    "model.to(device)\n",
    "criterion = nn.CrossEntropyLoss()\n",
    "optimizer = torch.optim.Adam(model.parameters(), lr=LR)\n",
    "scheduler = LearningRateSchedulerWithWarmup(optimizer, LR, milestones=[10, 15, 20], gamma = 0.1, warmup_epochs=5)\n"
   ]
  },
  {
   "cell_type": "code",
   "execution_count": 128,
   "metadata": {},
   "outputs": [
    {
     "name": "stderr",
     "output_type": "stream",
     "text": [
      "  0%|          | 0/782 [00:00<?, ?it/s]"
     ]
    },
    {
     "name": "stdout",
     "output_type": "stream",
     "text": [
      "test accuracy: 10.0%\n"
     ]
    },
    {
     "name": "stderr",
     "output_type": "stream",
     "text": [
      "Epoch 1 Iter 782: loss 1.29250. : 100%|██████████| 782/782 [00:04<00:00, 189.34it/s]\n",
      "  0%|          | 0/782 [00:00<?, ?it/s]"
     ]
    },
    {
     "name": "stdout",
     "output_type": "stream",
     "text": [
      "test accuracy: 46.87%\n"
     ]
    },
    {
     "name": "stderr",
     "output_type": "stream",
     "text": [
      "Epoch 2 Iter 782: loss 1.29379. : 100%|██████████| 782/782 [00:03<00:00, 202.91it/s]\n",
      "  0%|          | 0/782 [00:00<?, ?it/s]"
     ]
    },
    {
     "name": "stdout",
     "output_type": "stream",
     "text": [
      "test accuracy: 54.08%\n"
     ]
    },
    {
     "name": "stderr",
     "output_type": "stream",
     "text": [
      "Epoch 3 Iter 782: loss 1.36260. : 100%|██████████| 782/782 [00:04<00:00, 191.08it/s]\n",
      "  0%|          | 0/782 [00:00<?, ?it/s]"
     ]
    },
    {
     "name": "stdout",
     "output_type": "stream",
     "text": [
      "test accuracy: 60.59%\n"
     ]
    },
    {
     "name": "stderr",
     "output_type": "stream",
     "text": [
      "Epoch 4 Iter 782: loss 0.98232. : 100%|██████████| 782/782 [00:03<00:00, 197.45it/s]\n",
      "  0%|          | 0/782 [00:00<?, ?it/s]"
     ]
    },
    {
     "name": "stdout",
     "output_type": "stream",
     "text": [
      "test accuracy: 64.66%\n"
     ]
    },
    {
     "name": "stderr",
     "output_type": "stream",
     "text": [
      "Epoch 5 Iter 782: loss 0.55047. : 100%|██████████| 782/782 [00:04<00:00, 185.66it/s]\n",
      "  0%|          | 0/782 [00:00<?, ?it/s]"
     ]
    },
    {
     "name": "stdout",
     "output_type": "stream",
     "text": [
      "test accuracy: 67.58%\n"
     ]
    },
    {
     "name": "stderr",
     "output_type": "stream",
     "text": [
      "Epoch 6 Iter 782: loss 0.71259. : 100%|██████████| 782/782 [00:04<00:00, 184.08it/s]\n",
      "  0%|          | 0/782 [00:00<?, ?it/s]"
     ]
    },
    {
     "name": "stdout",
     "output_type": "stream",
     "text": [
      "test accuracy: 69.54%\n"
     ]
    },
    {
     "name": "stderr",
     "output_type": "stream",
     "text": [
      "Epoch 7 Iter 782: loss 0.68104. : 100%|██████████| 782/782 [00:04<00:00, 191.08it/s]\n",
      "  0%|          | 0/782 [00:00<?, ?it/s]"
     ]
    },
    {
     "name": "stdout",
     "output_type": "stream",
     "text": [
      "test accuracy: 70.84%\n"
     ]
    },
    {
     "name": "stderr",
     "output_type": "stream",
     "text": [
      "Epoch 8 Iter 782: loss 0.42667. : 100%|██████████| 782/782 [00:03<00:00, 199.40it/s]\n",
      "  0%|          | 0/782 [00:00<?, ?it/s]"
     ]
    },
    {
     "name": "stdout",
     "output_type": "stream",
     "text": [
      "test accuracy: 73.56%\n"
     ]
    },
    {
     "name": "stderr",
     "output_type": "stream",
     "text": [
      "Epoch 9 Iter 782: loss 0.49652. : 100%|██████████| 782/782 [00:03<00:00, 200.06it/s]\n",
      "  0%|          | 0/782 [00:00<?, ?it/s]"
     ]
    },
    {
     "name": "stdout",
     "output_type": "stream",
     "text": [
      "test accuracy: 74.76%\n"
     ]
    },
    {
     "name": "stderr",
     "output_type": "stream",
     "text": [
      "Epoch 10 Iter 782: loss 0.48318. : 100%|██████████| 782/782 [00:03<00:00, 208.75it/s]\n",
      "  0%|          | 0/782 [00:00<?, ?it/s]"
     ]
    },
    {
     "name": "stdout",
     "output_type": "stream",
     "text": [
      "test accuracy: 75.77%\n"
     ]
    },
    {
     "name": "stderr",
     "output_type": "stream",
     "text": [
      "Epoch 11 Iter 782: loss 0.49670. : 100%|██████████| 782/782 [00:04<00:00, 186.12it/s]\n",
      "  0%|          | 0/782 [00:00<?, ?it/s]"
     ]
    },
    {
     "name": "stdout",
     "output_type": "stream",
     "text": [
      "test accuracy: 75.89%\n"
     ]
    },
    {
     "name": "stderr",
     "output_type": "stream",
     "text": [
      "Epoch 12 Iter 782: loss 0.48598. : 100%|██████████| 782/782 [00:04<00:00, 191.37it/s]\n",
      "  0%|          | 0/782 [00:00<?, ?it/s]"
     ]
    },
    {
     "name": "stdout",
     "output_type": "stream",
     "text": [
      "test accuracy: 76.12%\n"
     ]
    },
    {
     "name": "stderr",
     "output_type": "stream",
     "text": [
      "Epoch 13 Iter 782: loss 0.30455. : 100%|██████████| 782/782 [00:04<00:00, 191.55it/s]\n",
      "  0%|          | 0/782 [00:00<?, ?it/s]"
     ]
    },
    {
     "name": "stdout",
     "output_type": "stream",
     "text": [
      "test accuracy: 76.0%\n"
     ]
    },
    {
     "name": "stderr",
     "output_type": "stream",
     "text": [
      "Epoch 14 Iter 782: loss 0.38490. : 100%|██████████| 782/782 [00:04<00:00, 181.41it/s]\n",
      "  0%|          | 0/782 [00:00<?, ?it/s]"
     ]
    },
    {
     "name": "stdout",
     "output_type": "stream",
     "text": [
      "test accuracy: 76.22%\n"
     ]
    },
    {
     "name": "stderr",
     "output_type": "stream",
     "text": [
      "Epoch 15 Iter 782: loss 0.21504. : 100%|██████████| 782/782 [00:03<00:00, 203.55it/s]\n",
      "  0%|          | 0/782 [00:00<?, ?it/s]"
     ]
    },
    {
     "name": "stdout",
     "output_type": "stream",
     "text": [
      "test accuracy: 76.1%\n"
     ]
    },
    {
     "name": "stderr",
     "output_type": "stream",
     "text": [
      "Epoch 16 Iter 782: loss 0.24518. : 100%|██████████| 782/782 [00:04<00:00, 187.33it/s]\n",
      "  0%|          | 0/782 [00:00<?, ?it/s]"
     ]
    },
    {
     "name": "stdout",
     "output_type": "stream",
     "text": [
      "test accuracy: 76.19%\n"
     ]
    },
    {
     "name": "stderr",
     "output_type": "stream",
     "text": [
      "Epoch 17 Iter 782: loss 0.29639. : 100%|██████████| 782/782 [00:04<00:00, 188.91it/s]\n",
      "  0%|          | 0/782 [00:00<?, ?it/s]"
     ]
    },
    {
     "name": "stdout",
     "output_type": "stream",
     "text": [
      "test accuracy: 76.15%\n"
     ]
    },
    {
     "name": "stderr",
     "output_type": "stream",
     "text": [
      "Epoch 18 Iter 782: loss 0.26930. : 100%|██████████| 782/782 [00:04<00:00, 189.47it/s]\n",
      "  0%|          | 0/782 [00:00<?, ?it/s]"
     ]
    },
    {
     "name": "stdout",
     "output_type": "stream",
     "text": [
      "test accuracy: 76.04%\n"
     ]
    },
    {
     "name": "stderr",
     "output_type": "stream",
     "text": [
      "Epoch 19 Iter 782: loss 0.53848. : 100%|██████████| 782/782 [00:03<00:00, 196.37it/s]\n",
      "  0%|          | 0/782 [00:00<?, ?it/s]"
     ]
    },
    {
     "name": "stdout",
     "output_type": "stream",
     "text": [
      "test accuracy: 76.18%\n"
     ]
    },
    {
     "name": "stderr",
     "output_type": "stream",
     "text": [
      "Epoch 20 Iter 782: loss 0.30891. : 100%|██████████| 782/782 [00:04<00:00, 188.01it/s]\n"
     ]
    }
   ],
   "source": [
    "test_loss_list = []\n",
    "train_loss_list = []\n",
    "test_accuracy_list = []\n",
    "train_accuracy_list = []\n",
    "# Initialize lists to store gradient information\n",
    "gradients = []\n",
    "gradient_norms = []\n",
    "gradient_max_values = []\n",
    "gradient_min_values = []\n",
    "best_loss = 100\n",
    "for i, epoch in enumerate(range(NUM_EPOCHS)):\n",
    "    scheduler.step(i+1)\n",
    "    progress_bar = tqdm(trainloader, total=len(trainloader))\n",
    "\n",
    "    # Calculate test loss, accuracy for currently trained model\n",
    "    model.eval()\n",
    "    test_loss = 0.0\n",
    "    correct = 0\n",
    "    total = 0\n",
    "\n",
    "    with torch.no_grad():\n",
    "        for data in testloader:\n",
    "            images_test, labels_test = data\n",
    "            # using GPU for inference\n",
    "            images_test, labels_test = images_test.to(device), labels_test.to(device)\n",
    "            # calculate model outputs\n",
    "            outputs_test = model(images_test)\n",
    "            # calculate test loss\n",
    "            loss = criterion(outputs_test, labels_test)\n",
    "            test_loss += loss.item()\n",
    "            # derive model predictions from out outputs\n",
    "            predicted = torch.argmax(outputs_test, dim = -1)\n",
    "            # calculate accuracy\n",
    "            total += labels_test.size(0)\n",
    "            correct += (predicted == labels_test).sum().item()\n",
    "\n",
    "        test_loss /= len(testloader)\n",
    "        accuracy = 100 * correct / total\n",
    "\n",
    "        print(f\"test accuracy: {accuracy}%\")\n",
    "\n",
    "        # Potentially prevent overfitting\n",
    "        if test_loss < best_loss:\n",
    "            best_loss = loss\n",
    "            torch.save({\n",
    "                'epoch': epoch,\n",
    "                'model_state_dict': model.state_dict(),\n",
    "                'optimizer_state_dict': optimizer.state_dict(),\n",
    "            }, f\"models/checkpoint_epoch_{epoch}.pth\")\n",
    "        #saving the best checkpoint\n",
    "        \n",
    "    test_loss_list.append(test_loss)\n",
    "    test_accuracy_list.append(accuracy)\n",
    "    \n",
    "    # Turn model back to training mode\n",
    "    model.train()\n",
    "\n",
    "    train_loss_list_iter = []\n",
    "    train_accuracy_list_iter = []\n",
    "    for i, (imgs, labels) in enumerate(progress_bar):\n",
    "\n",
    "        # using GPU\n",
    "        imgs, labels = imgs.to(device), labels.to(device)\n",
    "    \n",
    "        # forward pass\n",
    "        preds = model(imgs)\n",
    "\n",
    "        # calculate accuracy\n",
    "        with torch.no_grad():\n",
    "            predicted = preds.argmax(dim=-1)\n",
    "            correct = (predicted == labels).sum().item()\n",
    "            accuracy = correct/labels.shape[0] * 100\n",
    "\n",
    "        train_accuracy_list_iter.append(accuracy)\n",
    "\n",
    "        # computing error\n",
    "        loss = criterion(preds, labels)\n",
    "        train_loss_list_iter.append(loss.item())\n",
    "        # removing accumulated gradients\n",
    "        optimizer.zero_grad()\n",
    "    \n",
    "        # backprogating error to compute gradients\n",
    "        loss.backward()\n",
    "    \n",
    "        # updating parameters\n",
    "        optimizer.step()\n",
    "\n",
    "        '''In the following we calculate gradient information!'''\n",
    "        \n",
    "        # Calculate gradient information\n",
    "        for name, param in model.named_parameters():\n",
    "            # Tracking the matrices led to oom errors\n",
    "            if name in ['layers.0.bias']:\n",
    "                gradients.append(param.grad)\n",
    "                gradient_norms.append(torch.norm(param.grad).item())\n",
    "                gradient_max_values.append(param.grad.max().item())\n",
    "                gradient_min_values.append(param.grad.min().item())\n",
    "\n",
    "        '''Stop calculating gradient inforamtion'''\n",
    "    \n",
    "        if(i % 10 == 0 or i == len(trainloader) - 1):\n",
    "            progress_bar.set_description(f\"Epoch {epoch + 1} Iter {i + 1}: loss {loss.item():.5f}. \")\n",
    "    train_accuracy_list.append(np.mean(train_accuracy_list_iter))\n",
    "    train_loss_list.append(np.mean(train_loss_list_iter))"
   ]
  },
  {
   "cell_type": "code",
   "execution_count": 132,
   "metadata": {},
   "outputs": [
    {
     "data": {
      "image/png": "[encoded data removed]",
      "text/plain": [
       "<Figure size 1000x500 with 1 Axes>"
      ]
     },
     "metadata": {},
     "output_type": "display_data"
    },
    {
     "data": {
      "image/png": "[encoded data removed]",
      "text/plain": [
       "<Figure size 1000x500 with 1 Axes>"
      ]
     },
     "metadata": {},
     "output_type": "display_data"
    }
   ],
   "source": [
    "utils.plot_loss_epoch(train_accuracy_list, test_accuracy_list)\n",
    "utils.plot_accuracy_epoch(test_accuracy_list, train_accuracy_list)\n"
   ]
  },
  {
   "cell_type": "markdown",
   "metadata": {},
   "source": [
    "### ConvMixer"
   ]
  },
  {
   "cell_type": "code",
   "execution_count": 24,
   "metadata": {},
   "outputs": [],
   "source": [
    "from tqdm import tqdm"
   ]
  },
  {
   "cell_type": "code",
   "execution_count": 35,
   "metadata": {},
   "outputs": [],
   "source": [
    "class Residual(nn.Module):\n",
    "    def __init__(self, fn):\n",
    "        super().__init__()\n",
    "        self.fn = fn\n",
    "\n",
    "    def forward(self, x):\n",
    "        return self.fn(x) + x\n",
    "    \n",
    "def ConvMixer(dim, depth, kernel_size=9, patch_size=7, n_classes=1000):\n",
    "            return nn.Sequential(nn.Conv2d(3, dim, kernel_size=patch_size, stride=patch_size),\n",
    "            nn.GELU(),\n",
    "            nn.BatchNorm2d(dim),\n",
    "            *[nn.Sequential(\n",
    "                Residual(nn.Sequential(\n",
    "                    nn.Conv2d(dim, dim, kernel_size, groups=dim, padding=\"same\"),\n",
    "                    nn.GELU(),\n",
    "                    nn.BatchNorm2d(dim)\n",
    "                )),\n",
    "                nn.Conv2d(dim, dim, kernel_size=1),\n",
    "                nn.GELU(),\n",
    "                nn.BatchNorm2d(dim))\n",
    "            for i in range(depth)],      \n",
    "            nn.AdaptiveAvgPool2d((1,1)),\n",
    "            nn.Flatten(),\n",
    "            nn.Linear(dim, n_classes))"
   ]
  },
  {
   "cell_type": "code",
   "execution_count": 36,
   "metadata": {},
   "outputs": [],
   "source": [
    "device = torch.device(\"cuda\" if torch.cuda.is_available() else \"cpu\")\n",
    "model = ConvMixer(dim=256, depth=4, kernel_size=8,patch_size=1, n_classes=10)\n",
    "model = model.to(device)\n",
    "LR = float(config[\"LRConvMix\"])\n",
    "NUM_EPOCHS = int(config[\"NUM_EPOCHS\"])\n"
   ]
  },
  {
   "cell_type": "code",
   "execution_count": 37,
   "metadata": {},
   "outputs": [],
   "source": [
    "criterion = nn.CrossEntropyLoss()  # Note, that this already includes a Softmax!\n",
    "optimizer = torch.optim.AdamW(model.parameters(), lr=LR) #adamW was used in the paper\n",
    "scheduler = torch.optim.lr_scheduler.OneCycleLR(optimizer, max_lr=0.01, steps_per_epoch=len(trainloader), epochs=NUM_EPOCHS)"
   ]
  },
  {
   "cell_type": "code",
   "execution_count": 38,
   "metadata": {},
   "outputs": [],
   "source": [
    "@torch.no_grad()\n",
    "def eval_model(model):\n",
    "    \"\"\" Computing model accuracy \"\"\"\n",
    "    correct = 0\n",
    "    total = 0\n",
    "    loss_list = []\n",
    "    \n",
    "    for images, labels in testloader:\n",
    "        images = images.to(device)\n",
    "        labels = labels.to(device)\n",
    "        \n",
    "        # Forward pass only to get logits/output\n",
    "        outputs = model(images)\n",
    "                 \n",
    "        loss = criterion(outputs, labels)\n",
    "        loss_list.append(loss.item())\n",
    "            \n",
    "        # Get predictions from the maximum value\n",
    "        preds = torch.argmax(outputs, dim=1)\n",
    "        correct += len( torch.where(preds==labels)[0] )\n",
    "        total += len(labels)\n",
    "                 \n",
    "    # Total correct predictions and loss\n",
    "    accuracy = correct / total * 100\n",
    "    loss = np.mean(loss_list)\n",
    "    return accuracy, loss"
   ]
  },
  {
   "cell_type": "code",
   "execution_count": 39,
   "metadata": {},
   "outputs": [
    {
     "name": "stderr",
     "output_type": "stream",
     "text": [
      "Epoch 1 Iter 782: loss 1.17502. : 100%|██████████| 782/782 [01:05<00:00, 11.92it/s]\n"
     ]
    },
    {
     "name": "stdout",
     "output_type": "stream",
     "text": [
      "Val accuracy at epoch 0: 52.37%\n"
     ]
    },
    {
     "name": "stderr",
     "output_type": "stream",
     "text": [
      "Epoch 2 Iter 782: loss 0.93681. : 100%|██████████| 782/782 [01:07<00:00, 11.61it/s]\n"
     ]
    },
    {
     "name": "stdout",
     "output_type": "stream",
     "text": [
      "Val accuracy at epoch 1: 62.06%\n"
     ]
    },
    {
     "name": "stderr",
     "output_type": "stream",
     "text": [
      "Epoch 3 Iter 782: loss 1.35745. : 100%|██████████| 782/782 [01:07<00:00, 11.62it/s]\n"
     ]
    },
    {
     "name": "stdout",
     "output_type": "stream",
     "text": [
      "Val accuracy at epoch 2: 67.07%\n"
     ]
    },
    {
     "name": "stderr",
     "output_type": "stream",
     "text": [
      "Epoch 4 Iter 782: loss 0.77455. : 100%|██████████| 782/782 [01:07<00:00, 11.60it/s]\n"
     ]
    },
    {
     "name": "stdout",
     "output_type": "stream",
     "text": [
      "Val accuracy at epoch 3: 70.19%\n"
     ]
    },
    {
     "name": "stderr",
     "output_type": "stream",
     "text": [
      "Epoch 5 Iter 782: loss 0.42936. : 100%|██████████| 782/782 [01:07<00:00, 11.59it/s]\n"
     ]
    },
    {
     "name": "stdout",
     "output_type": "stream",
     "text": [
      "Val accuracy at epoch 4: 72.49%\n"
     ]
    },
    {
     "name": "stderr",
     "output_type": "stream",
     "text": [
      "Epoch 6 Iter 782: loss 0.97805. : 100%|██████████| 782/782 [01:07<00:00, 11.59it/s]\n"
     ]
    },
    {
     "name": "stdout",
     "output_type": "stream",
     "text": [
      "Val accuracy at epoch 5: 73.75%\n"
     ]
    },
    {
     "name": "stderr",
     "output_type": "stream",
     "text": [
      "Epoch 7 Iter 782: loss 0.73825. : 100%|██████████| 782/782 [01:07<00:00, 11.61it/s]\n"
     ]
    },
    {
     "name": "stdout",
     "output_type": "stream",
     "text": [
      "Val accuracy at epoch 6: 74.37%\n"
     ]
    },
    {
     "name": "stderr",
     "output_type": "stream",
     "text": [
      "Epoch 8 Iter 782: loss 0.78687. : 100%|██████████| 782/782 [01:05<00:00, 11.94it/s]\n"
     ]
    },
    {
     "name": "stdout",
     "output_type": "stream",
     "text": [
      "Val accuracy at epoch 7: 75.97%\n"
     ]
    },
    {
     "name": "stderr",
     "output_type": "stream",
     "text": [
      "Epoch 9 Iter 782: loss 0.43928. : 100%|██████████| 782/782 [01:05<00:00, 11.93it/s]\n"
     ]
    },
    {
     "name": "stdout",
     "output_type": "stream",
     "text": [
      "Val accuracy at epoch 8: 77.24%\n"
     ]
    },
    {
     "name": "stderr",
     "output_type": "stream",
     "text": [
      "Epoch 10 Iter 782: loss 1.09266. : 100%|██████████| 782/782 [01:06<00:00, 11.84it/s]\n"
     ]
    },
    {
     "name": "stdout",
     "output_type": "stream",
     "text": [
      "Val accuracy at epoch 9: 78.7%\n"
     ]
    },
    {
     "name": "stderr",
     "output_type": "stream",
     "text": [
      "Epoch 11 Iter 782: loss 0.68178. : 100%|██████████| 782/782 [01:06<00:00, 11.82it/s]\n"
     ]
    },
    {
     "name": "stdout",
     "output_type": "stream",
     "text": [
      "Val accuracy at epoch 10: 79.64%\n"
     ]
    },
    {
     "name": "stderr",
     "output_type": "stream",
     "text": [
      "Epoch 12 Iter 782: loss 0.82273. : 100%|██████████| 782/782 [01:06<00:00, 11.77it/s]\n"
     ]
    },
    {
     "name": "stdout",
     "output_type": "stream",
     "text": [
      "Val accuracy at epoch 11: 80.7%\n"
     ]
    },
    {
     "name": "stderr",
     "output_type": "stream",
     "text": [
      "Epoch 13 Iter 782: loss 0.66141. : 100%|██████████| 782/782 [01:07<00:00, 11.64it/s]\n"
     ]
    },
    {
     "name": "stdout",
     "output_type": "stream",
     "text": [
      "Val accuracy at epoch 12: 81.09%\n"
     ]
    },
    {
     "name": "stderr",
     "output_type": "stream",
     "text": [
      "Epoch 14 Iter 782: loss 0.39639. : 100%|██████████| 782/782 [01:07<00:00, 11.61it/s]\n"
     ]
    },
    {
     "name": "stdout",
     "output_type": "stream",
     "text": [
      "Val accuracy at epoch 13: 82.24%\n"
     ]
    },
    {
     "name": "stderr",
     "output_type": "stream",
     "text": [
      "Epoch 15 Iter 782: loss 0.09699. : 100%|██████████| 782/782 [01:07<00:00, 11.62it/s]\n"
     ]
    },
    {
     "name": "stdout",
     "output_type": "stream",
     "text": [
      "Val accuracy at epoch 14: 83.9%\n"
     ]
    },
    {
     "name": "stderr",
     "output_type": "stream",
     "text": [
      "Epoch 16 Iter 782: loss 0.42467. : 100%|██████████| 782/782 [01:07<00:00, 11.61it/s]\n"
     ]
    },
    {
     "name": "stdout",
     "output_type": "stream",
     "text": [
      "Val accuracy at epoch 15: 84.31%\n"
     ]
    },
    {
     "name": "stderr",
     "output_type": "stream",
     "text": [
      "Epoch 17 Iter 782: loss 0.35565. : 100%|██████████| 782/782 [01:07<00:00, 11.60it/s]\n"
     ]
    },
    {
     "name": "stdout",
     "output_type": "stream",
     "text": [
      "Val accuracy at epoch 16: 84.79%\n"
     ]
    },
    {
     "name": "stderr",
     "output_type": "stream",
     "text": [
      "Epoch 18 Iter 782: loss 0.17321. : 100%|██████████| 782/782 [01:07<00:00, 11.60it/s]\n"
     ]
    },
    {
     "name": "stdout",
     "output_type": "stream",
     "text": [
      "Val accuracy at epoch 17: 85.64%\n"
     ]
    },
    {
     "name": "stderr",
     "output_type": "stream",
     "text": [
      "Epoch 19 Iter 782: loss 0.17440. : 100%|██████████| 782/782 [01:07<00:00, 11.61it/s]\n"
     ]
    },
    {
     "name": "stdout",
     "output_type": "stream",
     "text": [
      "Val accuracy at epoch 18: 85.52%\n"
     ]
    },
    {
     "name": "stderr",
     "output_type": "stream",
     "text": [
      "Epoch 20 Iter 782: loss 0.13939. : 100%|██████████| 782/782 [01:07<00:00, 11.63it/s]\n"
     ]
    },
    {
     "name": "stdout",
     "output_type": "stream",
     "text": [
      "Val accuracy at epoch 19: 85.64%\n"
     ]
    }
   ],
   "source": [
    "loss_hist = []\n",
    "train_acc_hist = []\n",
    "valid_loss_hist = []\n",
    "valid_acc_hist = []\n",
    "for epoch in range(NUM_EPOCHS):\n",
    "    loss_list = []\n",
    "    acc_list = []\n",
    "    progress_bar = tqdm(enumerate(trainloader), total=len(trainloader))\n",
    "    for i, (images, labels) in progress_bar:\n",
    "        images = images.to(device)\n",
    "        labels = labels.to(device)\n",
    "        \n",
    "        # Clear gradients w.r.t. parameters\n",
    "        optimizer.zero_grad()\n",
    "        \n",
    "        # Forward pass to get output/logits\n",
    "        outputs = model(images)\n",
    "         \n",
    "        # Calculate Loss: softmax --> cross entropy loss\n",
    "        loss = criterion(outputs, labels)\n",
    "        loss_list.append(loss.item())\n",
    "        \n",
    "        with torch.no_grad():\n",
    "            predicted = outputs.argmax(dim=-1)\n",
    "            correct = (predicted == labels).sum().item()\n",
    "            accuracy = correct/labels.shape[0] * 100\n",
    "        acc_list.append(accuracy)\n",
    "        # Getting gradients w.r.t. parameters\n",
    "        loss.backward()\n",
    "        torch.nn.utils.clip_grad_norm_(model.parameters(), max_norm=2.0, norm_type=2.0)\n",
    "        # Updating parameters\n",
    "        optimizer.step()\n",
    "        scheduler.step()\n",
    "        \n",
    "        progress_bar.set_description(f\"Epoch {epoch+1} Iter {i+1}: loss {loss.item():.5f}. \")\n",
    "    \n",
    "    loss_hist.append(np.mean(loss_list))\n",
    "    train_acc_hist.append(np.mean(acc_list))\n",
    "    val_accuracy, valid_loss = eval_model(model)\n",
    "    print(f\"Val accuracy at epoch {epoch}: {round(val_accuracy, 2)}%\")\n",
    "    valid_loss_hist.append(valid_loss)\n",
    "    valid_acc_hist.append(val_accuracy)\n"
   ]
  },
  {
   "cell_type": "code",
   "execution_count": 40,
   "metadata": {},
   "outputs": [
    {
     "data": {
      "image/png": "[encoded data removed]",
      "text/plain": [
       "<Figure size 1000x500 with 1 Axes>"
      ]
     },
     "metadata": {},
     "output_type": "display_data"
    },
    {
     "data": {
      "image/png": "[encoded data removed]",
      "text/plain": [
       "<Figure size 1000x500 with 1 Axes>"
      ]
     },
     "metadata": {},
     "output_type": "display_data"
    }
   ],
   "source": [
    "utils.plot_loss_epoch(loss_hist, valid_loss_hist)\n",
    "utils.plot_accuracy_epoch(valid_acc_hist, train_acc_hist)"
   ]
  },
  {
   "cell_type": "code",
   "execution_count": null,
   "metadata": {},
   "outputs": [],
   "source": []
  },
  {
   "cell_type": "code",
   "execution_count": null,
   "metadata": {},
   "outputs": [],
   "source": []
  },
  {
   "cell_type": "code",
   "execution_count": null,
   "metadata": {},
   "outputs": [],
   "source": []
  }
 ],
 "metadata": {
  "kernelspec": {
   "display_name": "Python 3 (ipykernel)",
   "language": "python",
   "name": "python3"
  },
  "language_info": {
   "codemirror_mode": {
    "name": "ipython",
    "version": 3
   },
   "file_extension": ".py",
   "mimetype": "text/x-python",
   "name": "python",
   "nbconvert_exporter": "python",
   "pygments_lexer": "ipython3",
   "version": "3.11.5"
  }
 },
 "nbformat": 4,
 "nbformat_minor": 4
}
