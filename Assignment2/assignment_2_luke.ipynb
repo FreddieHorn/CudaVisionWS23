{
 "cells": [
  {
   "cell_type": "markdown",
   "metadata": {},
   "source": [
    "# Assignment 2"
   ]
  },
  {
   "cell_type": "code",
   "execution_count": 42,
   "metadata": {
    "ExecuteTime": {
     "end_time": "2023-10-26T11:28:20.679027100Z",
     "start_time": "2023-10-26T11:28:20.503439200Z"
    }
   },
   "outputs": [],
   "source": [
    "import numpy as np\n",
    "import matplotlib.pyplot as plt\n",
    "import torch\n",
    "import torch.nn as nn\n",
    "import torchvision\n",
    "import torchvision.transforms as transforms\n",
    "import torchvision.datasets as datasets\n",
    "import yaml\n",
    "import os\n",
    "import pdb\n",
    "import os\n",
    "\n",
    "\n",
    "import sys\n",
    "\n",
    "# Add the path to utils\n",
    "sys.path.append('..')\n",
    "from template import utils"
   ]
  },
  {
   "cell_type": "code",
   "execution_count": 43,
   "metadata": {},
   "outputs": [],
   "source": [
    "# should be added into a utils file in the future\n",
    "def set_seed():\n",
    "    # Set a fixed random seed for reproducibility\n",
    "\n",
    "    # Set the random seed for PyTorch\n",
    "    torch.manual_seed(9001)\n",
    "    torch.backends.cudnn.deterministic = True\n",
    "    torch.backends.cudnn.benchmark = False\n",
    "\n",
    "    # If you are using CUDA, set the seed for CUDA as well\n",
    "\n",
    "    if torch.cuda.is_available():\n",
    "        torch.cuda.manual_seed(9001)"
   ]
  },
  {
   "cell_type": "code",
   "execution_count": 44,
   "metadata": {},
   "outputs": [],
   "source": [
    "set_seed()"
   ]
  },
  {
   "cell_type": "markdown",
   "metadata": {},
   "source": [
    "### Handling the data"
   ]
  },
  {
   "cell_type": "code",
   "execution_count": 45,
   "metadata": {
    "ExecuteTime": {
     "end_time": "2023-10-26T11:28:20.804008400Z",
     "start_time": "2023-10-26T11:28:20.519060800Z"
    }
   },
   "outputs": [
    {
     "name": "stdout",
     "output_type": "stream",
     "text": [
      "config: {'BATCH_SIZE': 64, 'NUM_EPOCHS': 15, 'LR': '3e-4'}\n"
     ]
    }
   ],
   "source": [
    "# I am a big fan of config files and I believe it is a good practise\n",
    "config = yaml.safe_load(open(\"config.yaml\"))\n",
    "print(f\"config: {config}\")\n",
    "batch_size = int(config[\"BATCH_SIZE\"])\n"
   ]
  },
  {
   "cell_type": "code",
   "execution_count": 46,
   "metadata": {
    "ExecuteTime": {
     "end_time": "2023-10-26T11:28:20.804008400Z",
     "start_time": "2023-10-26T11:28:20.534682200Z"
    }
   },
   "outputs": [],
   "source": [
    "# may differ depending on the problem\n",
    "transform = transforms.Compose(\n",
    "    [transforms.ToTensor(),\n",
    "     ]) # put more transforms options here"
   ]
  },
  {
   "cell_type": "code",
   "execution_count": 47,
   "metadata": {
    "ExecuteTime": {
     "end_time": "2023-10-26T11:28:22.569379300Z",
     "start_time": "2023-10-26T11:28:20.550303200Z"
    }
   },
   "outputs": [
    {
     "name": "stdout",
     "output_type": "stream",
     "text": [
      "Files already downloaded and verified\n",
      "Files already downloaded and verified\n"
     ]
    }
   ],
   "source": [
    "#load datasets (in the future it's possible that the whole process will be in a \n",
    "#separate file)\n",
    "train_dataset = torchvision.datasets.CIFAR10(root='./data', train=True,\n",
    "                                        download=True, transform=transform)\n",
    "test_dataset = torchvision.datasets.CIFAR10(root='./data', train=False,\n",
    "                                       download=True, transform=transform)"
   ]
  },
  {
   "cell_type": "code",
   "execution_count": 48,
   "metadata": {
    "ExecuteTime": {
     "end_time": "2023-10-26T11:28:22.584964400Z",
     "start_time": "2023-10-26T11:28:22.569379300Z"
    }
   },
   "outputs": [],
   "source": [
    "#create dataloaders\n",
    "trainloader = torch.utils.data.DataLoader(train_dataset, batch_size=batch_size,\n",
    "                                          shuffle=True, num_workers=2)\n",
    "testloader = torch.utils.data.DataLoader(test_dataset, batch_size=batch_size,\n",
    "                                         shuffle=False, num_workers=2)"
   ]
  },
  {
   "cell_type": "code",
   "execution_count": 49,
   "metadata": {
    "ExecuteTime": {
     "end_time": "2023-10-26T11:28:26.863985900Z",
     "start_time": "2023-10-26T11:28:22.584964400Z"
    }
   },
   "outputs": [
    {
     "name": "stdout",
     "output_type": "stream",
     "text": [
      "Image Shapes: torch.Size([64, 3, 32, 32])\n",
      "Label Shapes: torch.Size([64])\n"
     ]
    }
   ],
   "source": [
    "imgs, labels = next(iter(testloader))\n",
    "print(f\"Image Shapes: {imgs.shape}\")\n",
    "print(f\"Label Shapes: {labels.shape}\")"
   ]
  },
  {
   "cell_type": "markdown",
   "metadata": {},
   "source": [
    "### We can display some images from the dataset\n",
    "Functions used will probably vastly differ from task to task"
   ]
  },
  {
   "cell_type": "code",
   "execution_count": 50,
   "metadata": {
    "ExecuteTime": {
     "end_time": "2023-10-26T11:28:27.593236800Z",
     "start_time": "2023-10-26T11:28:26.863985900Z"
    }
   },
   "outputs": [
    {
     "data": {
      "image/png": "[encoded data removed]",
      "text/plain": [
       "<Figure size 2400x300 with 8 Axes>"
      ]
     },
     "metadata": {},
     "output_type": "display_data"
    }
   ],
   "source": [
    "N_IMGS = 8\n",
    "fig, ax = plt.subplots(1,N_IMGS)\n",
    "fig.set_size_inches(3 * N_IMGS, 3)\n",
    "\n",
    "ids = np.random.randint(low=0, high=len(train_dataset), size=N_IMGS)\n",
    "\n",
    "for i, n in enumerate(ids):\n",
    "    img = train_dataset[n][0].numpy().reshape(3,32,32).transpose(1, 2, 0)\n",
    "    ax[i].imshow(img)\n",
    "    #ax[i].set_title(f\"Img #{n}  Label: {train_dataset[n][1]}\")\n",
    "    #ax[i].axis(\"off\")\n",
    "plt.show()"
   ]
  },
  {
   "cell_type": "markdown",
   "metadata": {},
   "source": [
    "### Creating the model"
   ]
  },
  {
   "cell_type": "code",
   "execution_count": 51,
   "metadata": {
    "ExecuteTime": {
     "end_time": "2023-10-26T11:28:27.714358200Z",
     "start_time": "2023-10-26T11:28:27.593236800Z"
    }
   },
   "outputs": [],
   "source": [
    "class CNN(nn.Module):\n",
    "    \"\"\" \n",
    "    Adapted to CIFAR-10\n",
    "    \"\"\"\n",
    "    def __init__(self):\n",
    "        \"\"\" Model initializer \"\"\"\n",
    "        super().__init__()\n",
    "        \n",
    "        # layer 1\n",
    "        # (3,32,32)\n",
    "        self.conv1 = nn.Conv2d(in_channels=3, out_channels=64, kernel_size=5, stride=1, padding=2)\n",
    "        self.relu1 = nn.ReLU()\n",
    "        # Layer 2\n",
    "        # (64, 32, 32)\n",
    "        self.maxpool1 = nn.MaxPool2d(kernel_size=2)\n",
    "        # (64, 16, 16)\n",
    "        self.conv2 = nn.Conv2d(in_channels=64, out_channels=128, kernel_size = 5, stride=1, padding=2)\n",
    "        self.relu2 = nn.ReLU()\n",
    "        # (128, 16, 16)\n",
    "        self.maxpool2 = nn.MaxPool2d(kernel_size=2)\n",
    "        # (128, 8, 8)\n",
    "\n",
    "        # Layer 3\n",
    "        self.conv3 = nn.Conv2d(in_channels=128, out_channels=256, kernel_size=5, stride=1, padding=2)\n",
    "        self.relu3 = nn.ReLU()\n",
    "        # (256, 8, 8)\n",
    "        \n",
    "        # fully connected classifier\n",
    "        in_dim = 256 * 8 * 8\n",
    "        self.fc = nn.Linear(in_features=in_dim, out_features=10)\n",
    "        \n",
    "        return\n",
    "        \n",
    "    def forward(self, x):\n",
    "        \"\"\" Forward pass \"\"\"\n",
    "        cur_b_size = x.shape[0]\n",
    "        x = self.conv1(x)\n",
    "        x = self.relu1(x)\n",
    "        x = self.maxpool1(x)\n",
    "        x = self.conv2(x)\n",
    "        x = self.relu2(x)\n",
    "        x = self.maxpool2(x)\n",
    "        x = self.conv3(x)\n",
    "        x = self.relu3(x)\n",
    "        out_flat = x.view(cur_b_size, -1)\n",
    "        y = self.fc(out_flat)\n",
    "        return y\n",
    "    \n",
    "def count_model_params(model):\n",
    "    \"\"\" Counting the number of learnable parameters in a nn.Module \"\"\"\n",
    "    num_params = sum(p.numel() for p in model.parameters() if p.requires_grad)\n",
    "    return num_params"
   ]
  },
  {
   "cell_type": "markdown",
   "metadata": {},
   "source": [
    "### Training the model"
   ]
  },
  {
   "cell_type": "code",
   "execution_count": 52,
   "metadata": {
    "ExecuteTime": {
     "end_time": "2023-10-26T11:28:27.714358200Z",
     "start_time": "2023-10-26T11:28:27.620630Z"
    }
   },
   "outputs": [],
   "source": [
    "from tqdm import tqdm"
   ]
  },
  {
   "cell_type": "code",
   "execution_count": 53,
   "metadata": {
    "ExecuteTime": {
     "end_time": "2023-10-26T11:28:27.714358200Z",
     "start_time": "2023-10-26T11:28:27.620630Z"
    }
   },
   "outputs": [],
   "source": [
    "NUM_EPOCHS = int(config[\"NUM_EPOCHS\"])\n",
    "LR = float(config[\"LR\"])"
   ]
  },
  {
   "cell_type": "code",
   "execution_count": 54,
   "metadata": {
    "ExecuteTime": {
     "end_time": "2023-10-26T11:28:27.714358200Z",
     "start_time": "2023-10-26T11:28:27.636252100Z"
    }
   },
   "outputs": [],
   "source": [
    "device = torch.device(\"cuda\" if torch.cuda.is_available() else \"cpu\")\n",
    "model = CNN()\n",
    "model = model.to(device)"
   ]
  },
  {
   "cell_type": "code",
   "execution_count": 55,
   "metadata": {
    "ExecuteTime": {
     "end_time": "2023-10-26T11:28:27.714358200Z",
     "start_time": "2023-10-26T11:28:27.667494Z"
    }
   },
   "outputs": [],
   "source": [
    "criterion = nn.CrossEntropyLoss()  # Note, that this already includes a Softmax!\n",
    "optimizer = torch.optim.Adam(model.parameters(), lr=LR)"
   ]
  },
  {
   "cell_type": "markdown",
   "metadata": {},
   "source": [
    "Training loop"
   ]
  },
  {
   "cell_type": "code",
   "execution_count": 56,
   "metadata": {
    "ExecuteTime": {
     "end_time": "2023-10-26T11:28:27.714358200Z",
     "start_time": "2023-10-26T11:28:27.683115600Z"
    }
   },
   "outputs": [],
   "source": [
    "# For saving models and checkpoints later\n",
    "if(not os.path.exists(\"models\")):\n",
    "    os.makedirs(\"models\")"
   ]
  },
  {
   "cell_type": "code",
   "execution_count": 57,
   "metadata": {
    "ExecuteTime": {
     "end_time": "2023-10-26T11:34:15.872029Z",
     "start_time": "2023-10-26T11:28:27.714358200Z"
    }
   },
   "outputs": [
    {
     "name": "stderr",
     "output_type": "stream",
     "text": [
      "  0%|          | 0/782 [00:00<?, ?it/s]"
     ]
    },
    {
     "name": "stdout",
     "output_type": "stream",
     "text": [
      "test accuracy: 8.96%\n"
     ]
    },
    {
     "name": "stderr",
     "output_type": "stream",
     "text": [
      "Epoch 1 Iter 782: loss 0.87712. : 100%|██████████| 782/782 [00:04<00:00, 188.21it/s]\n",
      "  0%|          | 0/782 [00:00<?, ?it/s]"
     ]
    },
    {
     "name": "stdout",
     "output_type": "stream",
     "text": [
      "test accuracy: 59.29%\n"
     ]
    },
    {
     "name": "stderr",
     "output_type": "stream",
     "text": [
      "Epoch 2 Iter 782: loss 0.65593. : 100%|██████████| 782/782 [00:04<00:00, 187.88it/s]\n",
      "  0%|          | 0/782 [00:00<?, ?it/s]"
     ]
    },
    {
     "name": "stdout",
     "output_type": "stream",
     "text": [
      "test accuracy: 65.97%\n"
     ]
    },
    {
     "name": "stderr",
     "output_type": "stream",
     "text": [
      "Epoch 3 Iter 782: loss 1.16435. : 100%|██████████| 782/782 [00:04<00:00, 188.07it/s]\n",
      "  0%|          | 0/782 [00:00<?, ?it/s]"
     ]
    },
    {
     "name": "stdout",
     "output_type": "stream",
     "text": [
      "test accuracy: 71.31%\n"
     ]
    },
    {
     "name": "stderr",
     "output_type": "stream",
     "text": [
      "Epoch 4 Iter 782: loss 0.30201. : 100%|██████████| 782/782 [00:03<00:00, 200.35it/s]\n",
      "  0%|          | 0/782 [00:00<?, ?it/s]"
     ]
    },
    {
     "name": "stdout",
     "output_type": "stream",
     "text": [
      "test accuracy: 71.8%\n"
     ]
    },
    {
     "name": "stderr",
     "output_type": "stream",
     "text": [
      "Epoch 5 Iter 782: loss 0.28211. : 100%|██████████| 782/782 [00:04<00:00, 187.12it/s]\n",
      "  0%|          | 0/782 [00:00<?, ?it/s]"
     ]
    },
    {
     "name": "stdout",
     "output_type": "stream",
     "text": [
      "test accuracy: 73.53%\n"
     ]
    },
    {
     "name": "stderr",
     "output_type": "stream",
     "text": [
      "Epoch 6 Iter 782: loss 0.36777. : 100%|██████████| 782/782 [00:04<00:00, 195.15it/s]\n",
      "  0%|          | 0/782 [00:00<?, ?it/s]"
     ]
    },
    {
     "name": "stdout",
     "output_type": "stream",
     "text": [
      "test accuracy: 73.6%\n"
     ]
    },
    {
     "name": "stderr",
     "output_type": "stream",
     "text": [
      "Epoch 7 Iter 782: loss 0.65250. : 100%|██████████| 782/782 [00:04<00:00, 184.93it/s]\n",
      "  0%|          | 0/782 [00:00<?, ?it/s]"
     ]
    },
    {
     "name": "stdout",
     "output_type": "stream",
     "text": [
      "test accuracy: 75.79%\n"
     ]
    },
    {
     "name": "stderr",
     "output_type": "stream",
     "text": [
      "Epoch 8 Iter 782: loss 0.46136. : 100%|██████████| 782/782 [00:04<00:00, 194.18it/s]\n",
      "  0%|          | 0/782 [00:00<?, ?it/s]"
     ]
    },
    {
     "name": "stdout",
     "output_type": "stream",
     "text": [
      "test accuracy: 74.93%\n"
     ]
    },
    {
     "name": "stderr",
     "output_type": "stream",
     "text": [
      "Epoch 9 Iter 782: loss 0.13926. : 100%|██████████| 782/782 [00:03<00:00, 196.69it/s]\n",
      "  0%|          | 0/782 [00:00<?, ?it/s]"
     ]
    },
    {
     "name": "stdout",
     "output_type": "stream",
     "text": [
      "test accuracy: 75.58%\n"
     ]
    },
    {
     "name": "stderr",
     "output_type": "stream",
     "text": [
      "Epoch 10 Iter 782: loss 0.35633. : 100%|██████████| 782/782 [00:04<00:00, 185.69it/s]\n",
      "  0%|          | 0/782 [00:00<?, ?it/s]"
     ]
    },
    {
     "name": "stdout",
     "output_type": "stream",
     "text": [
      "test accuracy: 75.4%\n"
     ]
    },
    {
     "name": "stderr",
     "output_type": "stream",
     "text": [
      "Epoch 11 Iter 782: loss 0.10333. : 100%|██████████| 782/782 [00:04<00:00, 188.61it/s]\n",
      "  0%|          | 0/782 [00:00<?, ?it/s]"
     ]
    },
    {
     "name": "stdout",
     "output_type": "stream",
     "text": [
      "test accuracy: 75.23%\n"
     ]
    },
    {
     "name": "stderr",
     "output_type": "stream",
     "text": [
      "Epoch 12 Iter 782: loss 0.00942. : 100%|██████████| 782/782 [00:04<00:00, 179.34it/s]\n",
      "  0%|          | 0/782 [00:00<?, ?it/s]"
     ]
    },
    {
     "name": "stdout",
     "output_type": "stream",
     "text": [
      "test accuracy: 75.03%\n"
     ]
    },
    {
     "name": "stderr",
     "output_type": "stream",
     "text": [
      "Epoch 13 Iter 782: loss 0.08094. : 100%|██████████| 782/782 [00:03<00:00, 195.97it/s]\n",
      "  0%|          | 0/782 [00:00<?, ?it/s]"
     ]
    },
    {
     "name": "stdout",
     "output_type": "stream",
     "text": [
      "test accuracy: 73.63%\n"
     ]
    },
    {
     "name": "stderr",
     "output_type": "stream",
     "text": [
      "Epoch 14 Iter 782: loss 0.09876. : 100%|██████████| 782/782 [00:03<00:00, 211.63it/s]\n",
      "  0%|          | 0/782 [00:00<?, ?it/s]"
     ]
    },
    {
     "name": "stdout",
     "output_type": "stream",
     "text": [
      "test accuracy: 73.66%\n"
     ]
    },
    {
     "name": "stderr",
     "output_type": "stream",
     "text": [
      "Epoch 15 Iter 782: loss 0.01775. : 100%|██████████| 782/782 [00:04<00:00, 180.02it/s]\n"
     ]
    }
   ],
   "source": [
    "test_loss_list = []\n",
    "train_loss_list = []\n",
    "test_accuracy_list = []\n",
    "train_accuracy_list = []\n",
    "# Initialize lists to store gradient information\n",
    "gradients = []\n",
    "gradient_norms = []\n",
    "gradient_max_values = []\n",
    "gradient_min_values = []\n",
    "best_loss = 100\n",
    "for epoch in range(NUM_EPOCHS):\n",
    "    progress_bar = tqdm(trainloader, total=len(trainloader))\n",
    "\n",
    "    # Calculate test loss, accuracy for currently trained model\n",
    "    model.eval()\n",
    "    test_loss = 0.0\n",
    "    correct = 0\n",
    "    total = 0\n",
    "\n",
    "    with torch.no_grad():\n",
    "        for data in testloader:\n",
    "            images_test, labels_test = data\n",
    "            # using GPU for inference\n",
    "            images_test, labels_test = images_test.to(device), labels_test.to(device)\n",
    "            # calculate model outputs\n",
    "            outputs_test = model(images_test)\n",
    "            # calculate test loss\n",
    "            loss = criterion(outputs_test, labels_test)\n",
    "            test_loss += loss.item()\n",
    "            # derive model predictions from out outputs\n",
    "            predicted = torch.argmax(outputs_test, dim = -1)\n",
    "            # calculate accuracy\n",
    "            total += labels_test.size(0)\n",
    "            correct += (predicted == labels_test).sum().item()\n",
    "\n",
    "        test_loss /= len(testloader)\n",
    "        accuracy = 100 * correct / total\n",
    "\n",
    "        print(f\"test accuracy: {accuracy}%\")\n",
    "\n",
    "        # Potentially prevent overfitting\n",
    "        if test_loss < best_loss:\n",
    "            best_loss = loss\n",
    "            torch.save({\n",
    "                'epoch': epoch,\n",
    "                'model_state_dict': model.state_dict(),\n",
    "                'optimizer_state_dict': optimizer.state_dict(),\n",
    "            }, f\"models/checkpoint_epoch_{epoch}.pth\")\n",
    "        #saving the best checkpoint\n",
    "        \n",
    "    test_loss_list.append(test_loss)\n",
    "    test_accuracy_list.append(accuracy)\n",
    "    \n",
    "    # Turn model back to training mode\n",
    "    model.train()\n",
    "\n",
    "    train_loss_list_iter = []\n",
    "    train_accuracy_list_iter = []\n",
    "    for i, (imgs, labels) in enumerate(progress_bar):\n",
    "\n",
    "        # using GPU\n",
    "        imgs, labels = imgs.to(device), labels.to(device)\n",
    "    \n",
    "        # forward pass\n",
    "        preds = model(imgs)\n",
    "\n",
    "        # calculate accuracy\n",
    "        with torch.no_grad():\n",
    "            predicted = preds.argmax(dim=-1)\n",
    "            correct = (predicted == labels).sum().item()\n",
    "            accuracy = correct/labels.shape[0] * 100\n",
    "\n",
    "        train_accuracy_list_iter.append(accuracy)\n",
    "\n",
    "        # computing error\n",
    "        loss = criterion(preds, labels)\n",
    "        train_loss_list_iter.append(loss.item())\n",
    "        # removing accumulated gradients\n",
    "        optimizer.zero_grad()\n",
    "    \n",
    "        # backprogating error to compute gradients\n",
    "        loss.backward()\n",
    "    \n",
    "        # updating parameters\n",
    "        optimizer.step()\n",
    "\n",
    "        '''In the following we calculate gradient information!'''\n",
    "        \n",
    "        # Calculate gradient information\n",
    "        for name, param in model.named_parameters():\n",
    "            # Tracking the matrices led to oom errors\n",
    "            if name in ['layers.0.bias']:\n",
    "                gradients.append(param.grad)\n",
    "                gradient_norms.append(torch.norm(param.grad).item())\n",
    "                gradient_max_values.append(param.grad.max().item())\n",
    "                gradient_min_values.append(param.grad.min().item())\n",
    "\n",
    "        '''Stop calculating gradient inforamtion'''\n",
    "    \n",
    "        if(i % 10 == 0 or i == len(trainloader) - 1):\n",
    "            progress_bar.set_description(f\"Epoch {epoch + 1} Iter {i + 1}: loss {loss.item():.5f}. \")\n",
    "    train_accuracy_list.append(np.mean(train_accuracy_list_iter))\n",
    "    train_loss_list.append(np.mean(train_loss_list_iter))"
   ]
  },
  {
   "cell_type": "markdown",
   "metadata": {},
   "source": [
    "evaluating the model"
   ]
  },
  {
   "cell_type": "code",
   "execution_count": 58,
   "metadata": {
    "ExecuteTime": {
     "end_time": "2023-10-26T11:34:21.093866700Z",
     "start_time": "2023-10-26T11:34:15.887650500Z"
    },
    "collapsed": false,
    "jupyter": {
     "outputs_hidden": false
    }
   },
   "outputs": [
    {
     "name": "stderr",
     "output_type": "stream",
     "text": [
      " 21%|██        | 33/157 [00:00<00:00, 169.64it/s]"
     ]
    },
    {
     "name": "stderr",
     "output_type": "stream",
     "text": [
      "100%|██████████| 157/157 [00:00<00:00, 209.77it/s]"
     ]
    },
    {
     "name": "stdout",
     "output_type": "stream",
     "text": [
      "Test accuracy: 74.48%\n"
     ]
    },
    {
     "name": "stderr",
     "output_type": "stream",
     "text": [
      "\n"
     ]
    }
   ],
   "source": [
    "n_correct = 0\n",
    "with torch.no_grad():\n",
    "    progress_bar = tqdm(enumerate(testloader), total=len(testloader))\n",
    "    for i, (imgs, labels) in progress_bar:\n",
    "        #everything needs to be on the same device\n",
    "        imgs = imgs.to(device)\n",
    "        labels = labels.to(device)\n",
    "\n",
    "        # forward pass\n",
    "        preds = model(imgs)\n",
    "\n",
    "        pred_labels = torch.argmax(preds, dim=-1)\n",
    "        cur_correct = len(torch.where(pred_labels == labels)[0])\n",
    "        n_correct = n_correct + cur_correct\n",
    "\n",
    "\n",
    "accuracy = n_correct / len(test_dataset) * 100\n",
    "print(f\"Test accuracy: {round(accuracy,2)}%\")"
   ]
  },
  {
   "cell_type": "markdown",
   "metadata": {},
   "source": [
    "### Visualization: Loss curves and accuracy development"
   ]
  },
  {
   "cell_type": "code",
   "execution_count": 59,
   "metadata": {},
   "outputs": [
    {
     "data": {
      "image/png": "[encoded data removed]",
      "text/plain": [
       "<Figure size 1000x500 with 1 Axes>"
      ]
     },
     "metadata": {},
     "output_type": "display_data"
    },
    {
     "data": {
      "image/png": "[encoded data removed]",
      "text/plain": [
       "<Figure size 1000x500 with 1 Axes>"
      ]
     },
     "metadata": {},
     "output_type": "display_data"
    }
   ],
   "source": [
    "utils.plot_loss_epoch(train_loss_list,  test_loss_list)\n",
    "utils.plot_accuracy_epoch(test_accuracy_list, train_accuracy=train_accuracy_list)"
   ]
  },
  {
   "cell_type": "markdown",
   "metadata": {},
   "source": [
    "Training and Test Loss develop as expected. At around epoch 10 the model becomes overconfident in its own predictions, which is why the test loss inceases but the test accuracy stays mostly at the same level"
   ]
  },
  {
   "cell_type": "markdown",
   "metadata": {},
   "source": [
    "# Evaluation without hyperparameter optimization\n",
    "Here we achieved an accuracy of 73.1%. We observe a significant increase from the MLP, which achieves an accuracy of around 50%. It is very likely, that the CNN makes better use of the spatial features of an image than the simple MLP. "
   ]
  },
  {
   "cell_type": "markdown",
   "metadata": {},
   "source": [
    "Next we want to \"somewhat optimize\" our hyperparameters using optuna"
   ]
  },
  {
   "cell_type": "markdown",
   "metadata": {},
   "source": [
    "### Hyperparameter optimization using optuna"
   ]
  },
  {
   "cell_type": "code",
   "execution_count": 94,
   "metadata": {},
   "outputs": [],
   "source": [
    "import optuna\n",
    "from optuna.trial import TrialState"
   ]
  },
  {
   "cell_type": "code",
   "execution_count": 95,
   "metadata": {},
   "outputs": [],
   "source": [
    "class OptCNN(nn.Module):\n",
    "    def __init__(self, kernel_size1, kernel_size2, kernel_size3, padding1, padding2, padding3):\n",
    "        super().__init__()\n",
    "        self.conv1 = nn.Conv2d(in_channels=3, out_channels=64, kernel_size=kernel_size1, stride=1, padding=padding1)\n",
    "        self.relu1 = nn.ReLU()\n",
    "        self.maxpool1 = nn.MaxPool2d(kernel_size=2)\n",
    "        self.conv2 = nn.Conv2d(in_channels=64, out_channels=128, kernel_size=kernel_size2, stride=1, padding=padding2)\n",
    "        self.relu2 = nn.ReLU()\n",
    "        self.maxpool2 = nn.MaxPool2d(kernel_size=2)\n",
    "        self.conv3 = nn.Conv2d(in_channels=128, out_channels=256, kernel_size=kernel_size3, stride=1, padding=padding3)\n",
    "        self.relu3 = nn.ReLU()\n",
    "        self.in_dim = 256 * 8 * 8\n",
    "        self.fc = nn.Linear(in_features=self.in_dim, out_features=10)\n",
    "        \n",
    "    def forward(self, x):\n",
    "        \"\"\" Forward pass \"\"\"\n",
    "        cur_b_size = x.shape[0]\n",
    "        x = self.conv1(x)\n",
    "        x = self.relu1(x)\n",
    "        x = self.maxpool1(x)\n",
    "        x = self.conv2(x)\n",
    "        x = self.relu2(x)\n",
    "        x = self.maxpool2(x)\n",
    "        x = self.conv3(x)\n",
    "        x = self.relu3(x)\n",
    "        out_flat = x.view(cur_b_size, -1)\n",
    "        y = self.fc(out_flat)\n",
    "        return y\n",
    "    "
   ]
  },
  {
   "cell_type": "code",
   "execution_count": 99,
   "metadata": {},
   "outputs": [],
   "source": [
    "def define_model(trial):\n",
    "    # Suggest hyperparameters to optimize\n",
    "    kernel_size1 = trial.suggest_categorical('kernel_size1', [3, 5])\n",
    "    kernel_size2 = trial.suggest_categorical('kernel_size2', [3, 5])\n",
    "    kernel_size3 = trial.suggest_categorical('kernel_size3', [3, 5])\n",
    "\n",
    "    # Calculate padding based on kernel sizes\n",
    "    padding1 = 1 if kernel_size1 == 3 else 2\n",
    "    padding2 = 1 if kernel_size2 == 3 else 2\n",
    "    padding3 = 1 if kernel_size3 == 3 else 2\n",
    "\n",
    "    # Create the CNN model with suggested hyperparameters\n",
    "    model = OptCNN(kernel_size1, kernel_size2, kernel_size3, padding1, padding2, padding3)\n",
    "    return model"
   ]
  },
  {
   "cell_type": "code",
   "execution_count": 110,
   "metadata": {},
   "outputs": [],
   "source": [
    "\n",
    "# Define the objective function for Optuna\n",
    "def objective(trial):\n",
    "\n",
    "    # Define the model\n",
    "    model = define_model(trial)\n",
    "    model = model.to(device)\n",
    "    lr = trial.suggest_loguniform('learning_rate', 1e-6, 1e-3)\n",
    "    optimizer = torch.optim.Adam(model.parameters(), lr=1e-3)\n",
    "    \n",
    "    # Training Loop\n",
    "    for epoch in range(NUM_EPOCHS):\n",
    "        progress_bar = tqdm(trainloader, total=len(trainloader))\n",
    "        for i, (imgs, labels) in enumerate(progress_bar):\n",
    "\n",
    "            # using GPU\n",
    "            imgs, labels = imgs.to(device), labels.to(device)\n",
    "        \n",
    "            # forward pass\n",
    "            preds = model(imgs)\n",
    "\n",
    "            # calculate accuracy\n",
    "            with torch.no_grad():\n",
    "                predicted = preds.argmax(dim=-1)\n",
    "                correct = (predicted == labels).sum().item()\n",
    "                accuracy = correct/labels.shape[0]\n",
    "\n",
    "            train_accuracy_list.append(accuracy)\n",
    "\n",
    "            # computing error\n",
    "            loss = criterion(preds, labels)\n",
    "            train_loss_list.append(loss.item())\n",
    "            # removing accumulated gradients\n",
    "            optimizer.zero_grad()\n",
    "        \n",
    "            # backprogating error to compute gradients\n",
    "            loss.backward()\n",
    "        \n",
    "            # updating parameters\n",
    "            optimizer.step()\n",
    "        \n",
    "            if(i % 10 == 0 or i == len(trainloader) - 1):\n",
    "                progress_bar.set_description(f\"Epoch {epoch + 1} Iter {i + 1}: loss {loss.item():.5f}. \")\n",
    "\n",
    "    # Evaluate the model\n",
    "    correct = 0\n",
    "    total = 0\n",
    "    with torch.no_grad():\n",
    "        for data in testloader:\n",
    "            images, labels = data\n",
    "            images = images.to(device)\n",
    "            labels = labels.to(device)\n",
    "            outputs = model(images)\n",
    "            _, predicted = torch.max(outputs.data, 1)\n",
    "            total += labels.size(0)\n",
    "            correct += (predicted == labels).sum().item()\n",
    "\n",
    "    accuracy = 100 * correct / total\n",
    "\n",
    "    # prune some trials that are doomed to save time\n",
    "    if trial.should_prune():\n",
    "        raise optuna.exceptions.TrialPruned()\n",
    "\n",
    "    return accuracy\n",
    "\n"
   ]
  },
  {
   "cell_type": "code",
   "execution_count": 109,
   "metadata": {},
   "outputs": [
    {
     "name": "stderr",
     "output_type": "stream",
     "text": [
      "[I 2023-11-03 16:13:33,623] A new study created in memory with name: no-name-c7c31af8-8f64-4aaf-8a68-bb2757f5ee40\n",
      "Epoch 1 Iter 782: loss 1.27414. : 100%|██████████| 782/782 [00:03<00:00, 227.60it/s]\n",
      "Epoch 2 Iter 782: loss 1.14527. : 100%|██████████| 782/782 [00:03<00:00, 229.45it/s]\n",
      "Epoch 3 Iter 782: loss 0.92293. : 100%|██████████| 782/782 [00:03<00:00, 222.86it/s]\n",
      "Epoch 4 Iter 782: loss 0.63789. : 100%|██████████| 782/782 [00:03<00:00, 260.01it/s]\n",
      "Epoch 5 Iter 782: loss 0.34909. : 100%|██████████| 782/782 [00:03<00:00, 213.82it/s]\n",
      "Epoch 6 Iter 782: loss 0.42880. : 100%|██████████| 782/782 [00:03<00:00, 221.31it/s]\n",
      "Epoch 7 Iter 782: loss 0.28563. : 100%|██████████| 782/782 [00:03<00:00, 231.49it/s]\n",
      "Epoch 8 Iter 782: loss 0.38000. : 100%|██████████| 782/782 [00:03<00:00, 223.52it/s]\n",
      "Epoch 9 Iter 782: loss 0.29248. : 100%|██████████| 782/782 [00:03<00:00, 235.54it/s]\n",
      "Epoch 10 Iter 782: loss 0.12286. : 100%|██████████| 782/782 [00:03<00:00, 241.65it/s]\n",
      "[I 2023-11-03 16:14:08,359] Trial 0 finished with value: 73.06 and parameters: {'kernel_size1': 5, 'kernel_size2': 3, 'kernel_size3': 3}. Best is trial 0 with value: 73.06.\n",
      "Epoch 1 Iter 782: loss 0.90272. : 100%|██████████| 782/782 [00:03<00:00, 241.47it/s]\n",
      "Epoch 2 Iter 782: loss 1.11552. : 100%|██████████| 782/782 [00:03<00:00, 247.65it/s]\n",
      "Epoch 3 Iter 782: loss 0.72185. : 100%|██████████| 782/782 [00:03<00:00, 228.34it/s]\n",
      "Epoch 4 Iter 782: loss 0.86274. : 100%|██████████| 782/782 [00:03<00:00, 222.35it/s]\n",
      "Epoch 5 Iter 782: loss 0.69981. : 100%|██████████| 782/782 [00:03<00:00, 227.89it/s]\n",
      "Epoch 6 Iter 782: loss 0.56273. : 100%|██████████| 782/782 [00:03<00:00, 246.67it/s]\n",
      "Epoch 7 Iter 782: loss 0.15196. : 100%|██████████| 782/782 [00:03<00:00, 225.43it/s]\n",
      "Epoch 8 Iter 782: loss 0.22993. : 100%|██████████| 782/782 [00:03<00:00, 214.17it/s]\n",
      "Epoch 9 Iter 782: loss 0.29408. : 100%|██████████| 782/782 [00:03<00:00, 242.39it/s]\n",
      "Epoch 10 Iter 782: loss 0.30841. : 100%|██████████| 782/782 [00:03<00:00, 229.60it/s]\n",
      "[I 2023-11-03 16:14:42,957] Trial 1 finished with value: 69.87 and parameters: {'kernel_size1': 3, 'kernel_size2': 5, 'kernel_size3': 3}. Best is trial 0 with value: 73.06.\n",
      "Epoch 1 Iter 782: loss 1.29592. : 100%|██████████| 782/782 [00:03<00:00, 239.87it/s]\n",
      "Epoch 2 Iter 782: loss 0.71275. : 100%|██████████| 782/782 [00:03<00:00, 202.36it/s]\n",
      "Epoch 3 Iter 782: loss 0.21613. : 100%|██████████| 782/782 [00:03<00:00, 224.82it/s]\n",
      "Epoch 4 Iter 782: loss 0.64653. : 100%|██████████| 782/782 [00:03<00:00, 213.99it/s]\n",
      "Epoch 5 Iter 782: loss 0.57676. : 100%|██████████| 782/782 [00:03<00:00, 250.04it/s]\n",
      "Epoch 6 Iter 782: loss 0.75391. : 100%|██████████| 782/782 [00:03<00:00, 226.27it/s]\n",
      "Epoch 7 Iter 782: loss 0.18609. : 100%|██████████| 782/782 [00:02<00:00, 261.57it/s]\n",
      "Epoch 8 Iter 782: loss 0.30882. : 100%|██████████| 782/782 [00:03<00:00, 218.73it/s]\n",
      "Epoch 9 Iter 782: loss 0.31530. : 100%|██████████| 782/782 [00:03<00:00, 235.80it/s]\n",
      "Epoch 10 Iter 782: loss 0.21147. : 100%|██████████| 782/782 [00:03<00:00, 253.99it/s]\n",
      "[I 2023-11-03 16:15:17,433] Trial 2 finished with value: 71.69 and parameters: {'kernel_size1': 3, 'kernel_size2': 5, 'kernel_size3': 5}. Best is trial 0 with value: 73.06.\n",
      "Epoch 1 Iter 782: loss 0.88481. : 100%|██████████| 782/782 [00:03<00:00, 218.87it/s]\n",
      "Epoch 2 Iter 782: loss 1.14716. : 100%|██████████| 782/782 [00:03<00:00, 241.01it/s]\n",
      "Epoch 3 Iter 782: loss 0.86390. : 100%|██████████| 782/782 [00:03<00:00, 242.01it/s]\n",
      "Epoch 4 Iter 782: loss 0.87140. : 100%|██████████| 782/782 [00:03<00:00, 246.72it/s]\n",
      "Epoch 5 Iter 782: loss 0.64795. : 100%|██████████| 782/782 [00:03<00:00, 253.22it/s]\n",
      "Epoch 6 Iter 782: loss 0.74507. : 100%|██████████| 782/782 [00:03<00:00, 256.79it/s]\n",
      "Epoch 7 Iter 782: loss 0.26822. : 100%|██████████| 782/782 [00:03<00:00, 259.96it/s]\n",
      "Epoch 8 Iter 782: loss 0.93109. : 100%|██████████| 782/782 [00:03<00:00, 247.34it/s]\n",
      "Epoch 9 Iter 782: loss 0.31708. : 100%|██████████| 782/782 [00:03<00:00, 246.84it/s]\n",
      "Epoch 10 Iter 782: loss 0.50669. : 100%|██████████| 782/782 [00:03<00:00, 225.76it/s]\n",
      "[I 2023-11-03 16:15:50,402] Trial 3 finished with value: 68.49 and parameters: {'kernel_size1': 5, 'kernel_size2': 5, 'kernel_size3': 5}. Best is trial 0 with value: 73.06.\n",
      "Epoch 1 Iter 782: loss 1.71873. : 100%|██████████| 782/782 [00:03<00:00, 238.07it/s]\n",
      "Epoch 2 Iter 782: loss 0.75629. : 100%|██████████| 782/782 [00:03<00:00, 230.78it/s]\n",
      "Epoch 3 Iter 782: loss 0.81140. : 100%|██████████| 782/782 [00:03<00:00, 259.52it/s]\n",
      "Epoch 4 Iter 782: loss 0.96224. : 100%|██████████| 782/782 [00:03<00:00, 244.43it/s]\n",
      "Epoch 5 Iter 782: loss 0.55175. : 100%|██████████| 782/782 [00:03<00:00, 236.86it/s]\n",
      "Epoch 6 Iter 782: loss 0.62958. : 100%|██████████| 782/782 [00:03<00:00, 218.55it/s]\n",
      "Epoch 7 Iter 782: loss 0.70216. : 100%|██████████| 782/782 [00:03<00:00, 239.34it/s]\n",
      "Epoch 8 Iter 782: loss 0.49996. : 100%|██████████| 782/782 [00:03<00:00, 217.27it/s]\n",
      "Epoch 9 Iter 782: loss 0.38552. : 100%|██████████| 782/782 [00:03<00:00, 248.21it/s]\n",
      "Epoch 10 Iter 782: loss 0.16854. : 100%|██████████| 782/782 [00:03<00:00, 223.11it/s]\n",
      "[I 2023-11-03 16:16:24,516] Trial 4 finished with value: 71.86 and parameters: {'kernel_size1': 3, 'kernel_size2': 3, 'kernel_size3': 3}. Best is trial 0 with value: 73.06.\n",
      "Epoch 1 Iter 782: loss 0.95816. : 100%|██████████| 782/782 [00:03<00:00, 229.33it/s]\n",
      "Epoch 2 Iter 782: loss 1.23691. : 100%|██████████| 782/782 [00:03<00:00, 244.38it/s]\n",
      "Epoch 3 Iter 782: loss 1.01721. : 100%|██████████| 782/782 [00:03<00:00, 227.10it/s]\n",
      "Epoch 4 Iter 782: loss 1.00217. : 100%|██████████| 782/782 [00:03<00:00, 251.25it/s]\n",
      "Epoch 5 Iter 782: loss 0.76687. : 100%|██████████| 782/782 [00:03<00:00, 231.03it/s]\n",
      "Epoch 6 Iter 782: loss 1.30257. : 100%|██████████| 782/782 [00:03<00:00, 236.88it/s]\n",
      "Epoch 7 Iter 782: loss 0.27859. : 100%|██████████| 782/782 [00:03<00:00, 247.67it/s]\n",
      "Epoch 8 Iter 71: loss 0.27912. :   9%|▉         | 73/782 [00:00<00:04, 167.04it/s]\n",
      "[W 2023-11-03 16:16:47,986] Trial 5 failed with parameters: {'kernel_size1': 3, 'kernel_size2': 5, 'kernel_size3': 5} because of the following error: KeyboardInterrupt().\n",
      "Traceback (most recent call last):\n",
      "  File \"/home/user/lschulze/anaconda3/envs/lab2/lib/python3.10/site-packages/optuna/study/_optimize.py\", line 200, in _run_trial\n",
      "    value_or_values = func(trial)\n",
      "  File \"/tmp/ipykernel_2279137/754141933.py\", line 12, in objective\n",
      "    for i, (imgs, labels) in enumerate(progress_bar):\n",
      "  File \"/home/user/lschulze/anaconda3/envs/lab2/lib/python3.10/site-packages/tqdm/std.py\", line 1182, in __iter__\n",
      "    for obj in iterable:\n",
      "  File \"/home/user/lschulze/anaconda3/envs/lab2/lib/python3.10/site-packages/torch/utils/data/dataloader.py\", line 630, in __next__\n",
      "    data = self._next_data()\n",
      "  File \"/home/user/lschulze/anaconda3/envs/lab2/lib/python3.10/site-packages/torch/utils/data/dataloader.py\", line 1328, in _next_data\n",
      "    idx, data = self._get_data()\n",
      "  File \"/home/user/lschulze/anaconda3/envs/lab2/lib/python3.10/site-packages/torch/utils/data/dataloader.py\", line 1294, in _get_data\n",
      "    success, data = self._try_get_data()\n",
      "  File \"/home/user/lschulze/anaconda3/envs/lab2/lib/python3.10/site-packages/torch/utils/data/dataloader.py\", line 1132, in _try_get_data\n",
      "    data = self._data_queue.get(timeout=timeout)\n",
      "  File \"/home/user/lschulze/anaconda3/envs/lab2/lib/python3.10/multiprocessing/queues.py\", line 122, in get\n",
      "    return _ForkingPickler.loads(res)\n",
      "  File \"/home/user/lschulze/anaconda3/envs/lab2/lib/python3.10/site-packages/torch/multiprocessing/reductions.py\", line 355, in rebuild_storage_fd\n",
      "    fd = df.detach()\n",
      "  File \"/home/user/lschulze/anaconda3/envs/lab2/lib/python3.10/multiprocessing/resource_sharer.py\", line 57, in detach\n",
      "    with _resource_sharer.get_connection(self._id) as conn:\n",
      "  File \"/home/user/lschulze/anaconda3/envs/lab2/lib/python3.10/multiprocessing/resource_sharer.py\", line 86, in get_connection\n",
      "    c = Client(address, authkey=process.current_process().authkey)\n",
      "  File \"/home/user/lschulze/anaconda3/envs/lab2/lib/python3.10/multiprocessing/connection.py\", line 508, in Client\n",
      "    answer_challenge(c, authkey)\n",
      "  File \"/home/user/lschulze/anaconda3/envs/lab2/lib/python3.10/multiprocessing/connection.py\", line 752, in answer_challenge\n",
      "    message = connection.recv_bytes(256)         # reject large message\n",
      "  File \"/home/user/lschulze/anaconda3/envs/lab2/lib/python3.10/multiprocessing/connection.py\", line 216, in recv_bytes\n",
      "    buf = self._recv_bytes(maxlength)\n",
      "  File \"/home/user/lschulze/anaconda3/envs/lab2/lib/python3.10/multiprocessing/connection.py\", line 414, in _recv_bytes\n",
      "    buf = self._recv(4)\n",
      "  File \"/home/user/lschulze/anaconda3/envs/lab2/lib/python3.10/multiprocessing/connection.py\", line 379, in _recv\n",
      "    chunk = read(handle, remaining)\n",
      "KeyboardInterrupt\n",
      "[W 2023-11-03 16:16:47,986] Trial 5 failed with value None.\n"
     ]
    },
    {
     "ename": "KeyboardInterrupt",
     "evalue": "",
     "output_type": "error",
     "traceback": [
      "\u001b[0;31m---------------------------------------------------------------------------\u001b[0m",
      "\u001b[0;31mKeyboardInterrupt\u001b[0m                         Traceback (most recent call last)",
      "\u001b[1;32m/home/user/lschulze/projects/CudaVisionWS23/Assignment2/assignment_2_luke.ipynb Cell 35\u001b[0m line \u001b[0;36m3\n\u001b[1;32m      <a href='vscode-notebook-cell://ssh-remote%2Bcuda6.informatik.uni-bonn.de/home/user/lschulze/projects/CudaVisionWS23/Assignment2/assignment_2_luke.ipynb#Y112sdnNjb2RlLXJlbW90ZQ%3D%3D?line=0'>1</a>\u001b[0m \u001b[39m# Create a study and optimize\u001b[39;00m\n\u001b[1;32m      <a href='vscode-notebook-cell://ssh-remote%2Bcuda6.informatik.uni-bonn.de/home/user/lschulze/projects/CudaVisionWS23/Assignment2/assignment_2_luke.ipynb#Y112sdnNjb2RlLXJlbW90ZQ%3D%3D?line=1'>2</a>\u001b[0m study \u001b[39m=\u001b[39m optuna\u001b[39m.\u001b[39mcreate_study(direction\u001b[39m=\u001b[39m\u001b[39m\"\u001b[39m\u001b[39mmaximize\u001b[39m\u001b[39m\"\u001b[39m)  \u001b[39m# maximize accuracy\u001b[39;00m\n\u001b[0;32m----> <a href='vscode-notebook-cell://ssh-remote%2Bcuda6.informatik.uni-bonn.de/home/user/lschulze/projects/CudaVisionWS23/Assignment2/assignment_2_luke.ipynb#Y112sdnNjb2RlLXJlbW90ZQ%3D%3D?line=2'>3</a>\u001b[0m study\u001b[39m.\u001b[39;49moptimize(objective, n_trials\u001b[39m=\u001b[39;49m\u001b[39m50\u001b[39;49m)\n\u001b[1;32m      <a href='vscode-notebook-cell://ssh-remote%2Bcuda6.informatik.uni-bonn.de/home/user/lschulze/projects/CudaVisionWS23/Assignment2/assignment_2_luke.ipynb#Y112sdnNjb2RlLXJlbW90ZQ%3D%3D?line=4'>5</a>\u001b[0m \u001b[39m# Print the best hyperparameters\u001b[39;00m\n\u001b[1;32m      <a href='vscode-notebook-cell://ssh-remote%2Bcuda6.informatik.uni-bonn.de/home/user/lschulze/projects/CudaVisionWS23/Assignment2/assignment_2_luke.ipynb#Y112sdnNjb2RlLXJlbW90ZQ%3D%3D?line=5'>6</a>\u001b[0m \u001b[39mprint\u001b[39m(\u001b[39m\"\u001b[39m\u001b[39mNumber of finished trials: \u001b[39m\u001b[39m\"\u001b[39m, \u001b[39mlen\u001b[39m(study\u001b[39m.\u001b[39mtrials))\n",
      "File \u001b[0;32m~/anaconda3/envs/lab2/lib/python3.10/site-packages/optuna/study/study.py:451\u001b[0m, in \u001b[0;36mStudy.optimize\u001b[0;34m(self, func, n_trials, timeout, n_jobs, catch, callbacks, gc_after_trial, show_progress_bar)\u001b[0m\n\u001b[1;32m    348\u001b[0m \u001b[39mdef\u001b[39;00m \u001b[39moptimize\u001b[39m(\n\u001b[1;32m    349\u001b[0m     \u001b[39mself\u001b[39m,\n\u001b[1;32m    350\u001b[0m     func: ObjectiveFuncType,\n\u001b[0;32m   (...)\u001b[0m\n\u001b[1;32m    357\u001b[0m     show_progress_bar: \u001b[39mbool\u001b[39m \u001b[39m=\u001b[39m \u001b[39mFalse\u001b[39;00m,\n\u001b[1;32m    358\u001b[0m ) \u001b[39m-\u001b[39m\u001b[39m>\u001b[39m \u001b[39mNone\u001b[39;00m:\n\u001b[1;32m    359\u001b[0m \u001b[39m    \u001b[39m\u001b[39m\"\"\"Optimize an objective function.\u001b[39;00m\n\u001b[1;32m    360\u001b[0m \n\u001b[1;32m    361\u001b[0m \u001b[39m    Optimization is done by choosing a suitable set of hyperparameter values from a given\u001b[39;00m\n\u001b[0;32m   (...)\u001b[0m\n\u001b[1;32m    449\u001b[0m \u001b[39m            If nested invocation of this method occurs.\u001b[39;00m\n\u001b[1;32m    450\u001b[0m \u001b[39m    \"\"\"\u001b[39;00m\n\u001b[0;32m--> 451\u001b[0m     _optimize(\n\u001b[1;32m    452\u001b[0m         study\u001b[39m=\u001b[39;49m\u001b[39mself\u001b[39;49m,\n\u001b[1;32m    453\u001b[0m         func\u001b[39m=\u001b[39;49mfunc,\n\u001b[1;32m    454\u001b[0m         n_trials\u001b[39m=\u001b[39;49mn_trials,\n\u001b[1;32m    455\u001b[0m         timeout\u001b[39m=\u001b[39;49mtimeout,\n\u001b[1;32m    456\u001b[0m         n_jobs\u001b[39m=\u001b[39;49mn_jobs,\n\u001b[1;32m    457\u001b[0m         catch\u001b[39m=\u001b[39;49m\u001b[39mtuple\u001b[39;49m(catch) \u001b[39mif\u001b[39;49;00m \u001b[39misinstance\u001b[39;49m(catch, Iterable) \u001b[39melse\u001b[39;49;00m (catch,),\n\u001b[1;32m    458\u001b[0m         callbacks\u001b[39m=\u001b[39;49mcallbacks,\n\u001b[1;32m    459\u001b[0m         gc_after_trial\u001b[39m=\u001b[39;49mgc_after_trial,\n\u001b[1;32m    460\u001b[0m         show_progress_bar\u001b[39m=\u001b[39;49mshow_progress_bar,\n\u001b[1;32m    461\u001b[0m     )\n",
      "File \u001b[0;32m~/anaconda3/envs/lab2/lib/python3.10/site-packages/optuna/study/_optimize.py:66\u001b[0m, in \u001b[0;36m_optimize\u001b[0;34m(study, func, n_trials, timeout, n_jobs, catch, callbacks, gc_after_trial, show_progress_bar)\u001b[0m\n\u001b[1;32m     64\u001b[0m \u001b[39mtry\u001b[39;00m:\n\u001b[1;32m     65\u001b[0m     \u001b[39mif\u001b[39;00m n_jobs \u001b[39m==\u001b[39m \u001b[39m1\u001b[39m:\n\u001b[0;32m---> 66\u001b[0m         _optimize_sequential(\n\u001b[1;32m     67\u001b[0m             study,\n\u001b[1;32m     68\u001b[0m             func,\n\u001b[1;32m     69\u001b[0m             n_trials,\n\u001b[1;32m     70\u001b[0m             timeout,\n\u001b[1;32m     71\u001b[0m             catch,\n\u001b[1;32m     72\u001b[0m             callbacks,\n\u001b[1;32m     73\u001b[0m             gc_after_trial,\n\u001b[1;32m     74\u001b[0m             reseed_sampler_rng\u001b[39m=\u001b[39;49m\u001b[39mFalse\u001b[39;49;00m,\n\u001b[1;32m     75\u001b[0m             time_start\u001b[39m=\u001b[39;49m\u001b[39mNone\u001b[39;49;00m,\n\u001b[1;32m     76\u001b[0m             progress_bar\u001b[39m=\u001b[39;49mprogress_bar,\n\u001b[1;32m     77\u001b[0m         )\n\u001b[1;32m     78\u001b[0m     \u001b[39melse\u001b[39;00m:\n\u001b[1;32m     79\u001b[0m         \u001b[39mif\u001b[39;00m n_jobs \u001b[39m==\u001b[39m \u001b[39m-\u001b[39m\u001b[39m1\u001b[39m:\n",
      "File \u001b[0;32m~/anaconda3/envs/lab2/lib/python3.10/site-packages/optuna/study/_optimize.py:163\u001b[0m, in \u001b[0;36m_optimize_sequential\u001b[0;34m(study, func, n_trials, timeout, catch, callbacks, gc_after_trial, reseed_sampler_rng, time_start, progress_bar)\u001b[0m\n\u001b[1;32m    160\u001b[0m         \u001b[39mbreak\u001b[39;00m\n\u001b[1;32m    162\u001b[0m \u001b[39mtry\u001b[39;00m:\n\u001b[0;32m--> 163\u001b[0m     frozen_trial \u001b[39m=\u001b[39m _run_trial(study, func, catch)\n\u001b[1;32m    164\u001b[0m \u001b[39mfinally\u001b[39;00m:\n\u001b[1;32m    165\u001b[0m     \u001b[39m# The following line mitigates memory problems that can be occurred in some\u001b[39;00m\n\u001b[1;32m    166\u001b[0m     \u001b[39m# environments (e.g., services that use computing containers such as GitHub Actions).\u001b[39;00m\n\u001b[1;32m    167\u001b[0m     \u001b[39m# Please refer to the following PR for further details:\u001b[39;00m\n\u001b[1;32m    168\u001b[0m     \u001b[39m# https://github.com/optuna/optuna/pull/325.\u001b[39;00m\n\u001b[1;32m    169\u001b[0m     \u001b[39mif\u001b[39;00m gc_after_trial:\n",
      "File \u001b[0;32m~/anaconda3/envs/lab2/lib/python3.10/site-packages/optuna/study/_optimize.py:251\u001b[0m, in \u001b[0;36m_run_trial\u001b[0;34m(study, func, catch)\u001b[0m\n\u001b[1;32m    244\u001b[0m         \u001b[39massert\u001b[39;00m \u001b[39mFalse\u001b[39;00m, \u001b[39m\"\u001b[39m\u001b[39mShould not reach.\u001b[39m\u001b[39m\"\u001b[39m\n\u001b[1;32m    246\u001b[0m \u001b[39mif\u001b[39;00m (\n\u001b[1;32m    247\u001b[0m     frozen_trial\u001b[39m.\u001b[39mstate \u001b[39m==\u001b[39m TrialState\u001b[39m.\u001b[39mFAIL\n\u001b[1;32m    248\u001b[0m     \u001b[39mand\u001b[39;00m func_err \u001b[39mis\u001b[39;00m \u001b[39mnot\u001b[39;00m \u001b[39mNone\u001b[39;00m\n\u001b[1;32m    249\u001b[0m     \u001b[39mand\u001b[39;00m \u001b[39mnot\u001b[39;00m \u001b[39misinstance\u001b[39m(func_err, catch)\n\u001b[1;32m    250\u001b[0m ):\n\u001b[0;32m--> 251\u001b[0m     \u001b[39mraise\u001b[39;00m func_err\n\u001b[1;32m    252\u001b[0m \u001b[39mreturn\u001b[39;00m frozen_trial\n",
      "File \u001b[0;32m~/anaconda3/envs/lab2/lib/python3.10/site-packages/optuna/study/_optimize.py:200\u001b[0m, in \u001b[0;36m_run_trial\u001b[0;34m(study, func, catch)\u001b[0m\n\u001b[1;32m    198\u001b[0m \u001b[39mwith\u001b[39;00m get_heartbeat_thread(trial\u001b[39m.\u001b[39m_trial_id, study\u001b[39m.\u001b[39m_storage):\n\u001b[1;32m    199\u001b[0m     \u001b[39mtry\u001b[39;00m:\n\u001b[0;32m--> 200\u001b[0m         value_or_values \u001b[39m=\u001b[39m func(trial)\n\u001b[1;32m    201\u001b[0m     \u001b[39mexcept\u001b[39;00m exceptions\u001b[39m.\u001b[39mTrialPruned \u001b[39mas\u001b[39;00m e:\n\u001b[1;32m    202\u001b[0m         \u001b[39m# TODO(mamu): Handle multi-objective cases.\u001b[39;00m\n\u001b[1;32m    203\u001b[0m         state \u001b[39m=\u001b[39m TrialState\u001b[39m.\u001b[39mPRUNED\n",
      "\u001b[1;32m/home/user/lschulze/projects/CudaVisionWS23/Assignment2/assignment_2_luke.ipynb Cell 35\u001b[0m line \u001b[0;36m1\n\u001b[1;32m     <a href='vscode-notebook-cell://ssh-remote%2Bcuda6.informatik.uni-bonn.de/home/user/lschulze/projects/CudaVisionWS23/Assignment2/assignment_2_luke.ipynb#Y112sdnNjb2RlLXJlbW90ZQ%3D%3D?line=9'>10</a>\u001b[0m \u001b[39mfor\u001b[39;00m epoch \u001b[39min\u001b[39;00m \u001b[39mrange\u001b[39m(NUM_EPOCHS):\n\u001b[1;32m     <a href='vscode-notebook-cell://ssh-remote%2Bcuda6.informatik.uni-bonn.de/home/user/lschulze/projects/CudaVisionWS23/Assignment2/assignment_2_luke.ipynb#Y112sdnNjb2RlLXJlbW90ZQ%3D%3D?line=10'>11</a>\u001b[0m     progress_bar \u001b[39m=\u001b[39m tqdm(trainloader, total\u001b[39m=\u001b[39m\u001b[39mlen\u001b[39m(trainloader))\n\u001b[0;32m---> <a href='vscode-notebook-cell://ssh-remote%2Bcuda6.informatik.uni-bonn.de/home/user/lschulze/projects/CudaVisionWS23/Assignment2/assignment_2_luke.ipynb#Y112sdnNjb2RlLXJlbW90ZQ%3D%3D?line=11'>12</a>\u001b[0m     \u001b[39mfor\u001b[39;00m i, (imgs, labels) \u001b[39min\u001b[39;00m \u001b[39menumerate\u001b[39m(progress_bar):\n\u001b[1;32m     <a href='vscode-notebook-cell://ssh-remote%2Bcuda6.informatik.uni-bonn.de/home/user/lschulze/projects/CudaVisionWS23/Assignment2/assignment_2_luke.ipynb#Y112sdnNjb2RlLXJlbW90ZQ%3D%3D?line=12'>13</a>\u001b[0m \n\u001b[1;32m     <a href='vscode-notebook-cell://ssh-remote%2Bcuda6.informatik.uni-bonn.de/home/user/lschulze/projects/CudaVisionWS23/Assignment2/assignment_2_luke.ipynb#Y112sdnNjb2RlLXJlbW90ZQ%3D%3D?line=13'>14</a>\u001b[0m         \u001b[39m# using GPU\u001b[39;00m\n\u001b[1;32m     <a href='vscode-notebook-cell://ssh-remote%2Bcuda6.informatik.uni-bonn.de/home/user/lschulze/projects/CudaVisionWS23/Assignment2/assignment_2_luke.ipynb#Y112sdnNjb2RlLXJlbW90ZQ%3D%3D?line=14'>15</a>\u001b[0m         imgs, labels \u001b[39m=\u001b[39m imgs\u001b[39m.\u001b[39mto(device), labels\u001b[39m.\u001b[39mto(device)\n\u001b[1;32m     <a href='vscode-notebook-cell://ssh-remote%2Bcuda6.informatik.uni-bonn.de/home/user/lschulze/projects/CudaVisionWS23/Assignment2/assignment_2_luke.ipynb#Y112sdnNjb2RlLXJlbW90ZQ%3D%3D?line=16'>17</a>\u001b[0m         \u001b[39m# forward pass\u001b[39;00m\n",
      "File \u001b[0;32m~/anaconda3/envs/lab2/lib/python3.10/site-packages/tqdm/std.py:1182\u001b[0m, in \u001b[0;36mtqdm.__iter__\u001b[0;34m(self)\u001b[0m\n\u001b[1;32m   1179\u001b[0m time \u001b[39m=\u001b[39m \u001b[39mself\u001b[39m\u001b[39m.\u001b[39m_time\n\u001b[1;32m   1181\u001b[0m \u001b[39mtry\u001b[39;00m:\n\u001b[0;32m-> 1182\u001b[0m     \u001b[39mfor\u001b[39;00m obj \u001b[39min\u001b[39;00m iterable:\n\u001b[1;32m   1183\u001b[0m         \u001b[39myield\u001b[39;00m obj\n\u001b[1;32m   1184\u001b[0m         \u001b[39m# Update and possibly print the progressbar.\u001b[39;00m\n\u001b[1;32m   1185\u001b[0m         \u001b[39m# Note: does not call self.update(1) for speed optimisation.\u001b[39;00m\n",
      "File \u001b[0;32m~/anaconda3/envs/lab2/lib/python3.10/site-packages/torch/utils/data/dataloader.py:630\u001b[0m, in \u001b[0;36m_BaseDataLoaderIter.__next__\u001b[0;34m(self)\u001b[0m\n\u001b[1;32m    627\u001b[0m \u001b[39mif\u001b[39;00m \u001b[39mself\u001b[39m\u001b[39m.\u001b[39m_sampler_iter \u001b[39mis\u001b[39;00m \u001b[39mNone\u001b[39;00m:\n\u001b[1;32m    628\u001b[0m     \u001b[39m# TODO(https://github.com/pytorch/pytorch/issues/76750)\u001b[39;00m\n\u001b[1;32m    629\u001b[0m     \u001b[39mself\u001b[39m\u001b[39m.\u001b[39m_reset()  \u001b[39m# type: ignore[call-arg]\u001b[39;00m\n\u001b[0;32m--> 630\u001b[0m data \u001b[39m=\u001b[39m \u001b[39mself\u001b[39;49m\u001b[39m.\u001b[39;49m_next_data()\n\u001b[1;32m    631\u001b[0m \u001b[39mself\u001b[39m\u001b[39m.\u001b[39m_num_yielded \u001b[39m+\u001b[39m\u001b[39m=\u001b[39m \u001b[39m1\u001b[39m\n\u001b[1;32m    632\u001b[0m \u001b[39mif\u001b[39;00m \u001b[39mself\u001b[39m\u001b[39m.\u001b[39m_dataset_kind \u001b[39m==\u001b[39m _DatasetKind\u001b[39m.\u001b[39mIterable \u001b[39mand\u001b[39;00m \\\n\u001b[1;32m    633\u001b[0m         \u001b[39mself\u001b[39m\u001b[39m.\u001b[39m_IterableDataset_len_called \u001b[39mis\u001b[39;00m \u001b[39mnot\u001b[39;00m \u001b[39mNone\u001b[39;00m \u001b[39mand\u001b[39;00m \\\n\u001b[1;32m    634\u001b[0m         \u001b[39mself\u001b[39m\u001b[39m.\u001b[39m_num_yielded \u001b[39m>\u001b[39m \u001b[39mself\u001b[39m\u001b[39m.\u001b[39m_IterableDataset_len_called:\n",
      "File \u001b[0;32m~/anaconda3/envs/lab2/lib/python3.10/site-packages/torch/utils/data/dataloader.py:1328\u001b[0m, in \u001b[0;36m_MultiProcessingDataLoaderIter._next_data\u001b[0;34m(self)\u001b[0m\n\u001b[1;32m   1325\u001b[0m     \u001b[39mreturn\u001b[39;00m \u001b[39mself\u001b[39m\u001b[39m.\u001b[39m_process_data(data)\n\u001b[1;32m   1327\u001b[0m \u001b[39massert\u001b[39;00m \u001b[39mnot\u001b[39;00m \u001b[39mself\u001b[39m\u001b[39m.\u001b[39m_shutdown \u001b[39mand\u001b[39;00m \u001b[39mself\u001b[39m\u001b[39m.\u001b[39m_tasks_outstanding \u001b[39m>\u001b[39m \u001b[39m0\u001b[39m\n\u001b[0;32m-> 1328\u001b[0m idx, data \u001b[39m=\u001b[39m \u001b[39mself\u001b[39;49m\u001b[39m.\u001b[39;49m_get_data()\n\u001b[1;32m   1329\u001b[0m \u001b[39mself\u001b[39m\u001b[39m.\u001b[39m_tasks_outstanding \u001b[39m-\u001b[39m\u001b[39m=\u001b[39m \u001b[39m1\u001b[39m\n\u001b[1;32m   1330\u001b[0m \u001b[39mif\u001b[39;00m \u001b[39mself\u001b[39m\u001b[39m.\u001b[39m_dataset_kind \u001b[39m==\u001b[39m _DatasetKind\u001b[39m.\u001b[39mIterable:\n\u001b[1;32m   1331\u001b[0m     \u001b[39m# Check for _IterableDatasetStopIteration\u001b[39;00m\n",
      "File \u001b[0;32m~/anaconda3/envs/lab2/lib/python3.10/site-packages/torch/utils/data/dataloader.py:1294\u001b[0m, in \u001b[0;36m_MultiProcessingDataLoaderIter._get_data\u001b[0;34m(self)\u001b[0m\n\u001b[1;32m   1290\u001b[0m     \u001b[39m# In this case, `self._data_queue` is a `queue.Queue`,. But we don't\u001b[39;00m\n\u001b[1;32m   1291\u001b[0m     \u001b[39m# need to call `.task_done()` because we don't use `.join()`.\u001b[39;00m\n\u001b[1;32m   1292\u001b[0m \u001b[39melse\u001b[39;00m:\n\u001b[1;32m   1293\u001b[0m     \u001b[39mwhile\u001b[39;00m \u001b[39mTrue\u001b[39;00m:\n\u001b[0;32m-> 1294\u001b[0m         success, data \u001b[39m=\u001b[39m \u001b[39mself\u001b[39;49m\u001b[39m.\u001b[39;49m_try_get_data()\n\u001b[1;32m   1295\u001b[0m         \u001b[39mif\u001b[39;00m success:\n\u001b[1;32m   1296\u001b[0m             \u001b[39mreturn\u001b[39;00m data\n",
      "File \u001b[0;32m~/anaconda3/envs/lab2/lib/python3.10/site-packages/torch/utils/data/dataloader.py:1132\u001b[0m, in \u001b[0;36m_MultiProcessingDataLoaderIter._try_get_data\u001b[0;34m(self, timeout)\u001b[0m\n\u001b[1;32m   1119\u001b[0m \u001b[39mdef\u001b[39;00m \u001b[39m_try_get_data\u001b[39m(\u001b[39mself\u001b[39m, timeout\u001b[39m=\u001b[39m_utils\u001b[39m.\u001b[39mMP_STATUS_CHECK_INTERVAL):\n\u001b[1;32m   1120\u001b[0m     \u001b[39m# Tries to fetch data from `self._data_queue` once for a given timeout.\u001b[39;00m\n\u001b[1;32m   1121\u001b[0m     \u001b[39m# This can also be used as inner loop of fetching without timeout, with\u001b[39;00m\n\u001b[0;32m   (...)\u001b[0m\n\u001b[1;32m   1129\u001b[0m     \u001b[39m# Returns a 2-tuple:\u001b[39;00m\n\u001b[1;32m   1130\u001b[0m     \u001b[39m#   (bool: whether successfully get data, any: data if successful else None)\u001b[39;00m\n\u001b[1;32m   1131\u001b[0m     \u001b[39mtry\u001b[39;00m:\n\u001b[0;32m-> 1132\u001b[0m         data \u001b[39m=\u001b[39m \u001b[39mself\u001b[39;49m\u001b[39m.\u001b[39;49m_data_queue\u001b[39m.\u001b[39;49mget(timeout\u001b[39m=\u001b[39;49mtimeout)\n\u001b[1;32m   1133\u001b[0m         \u001b[39mreturn\u001b[39;00m (\u001b[39mTrue\u001b[39;00m, data)\n\u001b[1;32m   1134\u001b[0m     \u001b[39mexcept\u001b[39;00m \u001b[39mException\u001b[39;00m \u001b[39mas\u001b[39;00m e:\n\u001b[1;32m   1135\u001b[0m         \u001b[39m# At timeout and error, we manually check whether any worker has\u001b[39;00m\n\u001b[1;32m   1136\u001b[0m         \u001b[39m# failed. Note that this is the only mechanism for Windows to detect\u001b[39;00m\n\u001b[1;32m   1137\u001b[0m         \u001b[39m# worker failures.\u001b[39;00m\n",
      "File \u001b[0;32m~/anaconda3/envs/lab2/lib/python3.10/multiprocessing/queues.py:122\u001b[0m, in \u001b[0;36mQueue.get\u001b[0;34m(self, block, timeout)\u001b[0m\n\u001b[1;32m    120\u001b[0m         \u001b[39mself\u001b[39m\u001b[39m.\u001b[39m_rlock\u001b[39m.\u001b[39mrelease()\n\u001b[1;32m    121\u001b[0m \u001b[39m# unserialize the data after having released the lock\u001b[39;00m\n\u001b[0;32m--> 122\u001b[0m \u001b[39mreturn\u001b[39;00m _ForkingPickler\u001b[39m.\u001b[39;49mloads(res)\n",
      "File \u001b[0;32m~/anaconda3/envs/lab2/lib/python3.10/site-packages/torch/multiprocessing/reductions.py:355\u001b[0m, in \u001b[0;36mrebuild_storage_fd\u001b[0;34m(cls, df, size)\u001b[0m\n\u001b[1;32m    354\u001b[0m \u001b[39mdef\u001b[39;00m \u001b[39mrebuild_storage_fd\u001b[39m(\u001b[39mcls\u001b[39m, df, size):\n\u001b[0;32m--> 355\u001b[0m     fd \u001b[39m=\u001b[39m df\u001b[39m.\u001b[39;49mdetach()\n\u001b[1;32m    356\u001b[0m     \u001b[39mtry\u001b[39;00m:\n\u001b[1;32m    357\u001b[0m         storage \u001b[39m=\u001b[39m storage_from_cache(\u001b[39mcls\u001b[39m, fd_id(fd))\n",
      "File \u001b[0;32m~/anaconda3/envs/lab2/lib/python3.10/multiprocessing/resource_sharer.py:57\u001b[0m, in \u001b[0;36mDupFd.detach\u001b[0;34m(self)\u001b[0m\n\u001b[1;32m     55\u001b[0m \u001b[39mdef\u001b[39;00m \u001b[39mdetach\u001b[39m(\u001b[39mself\u001b[39m):\n\u001b[1;32m     56\u001b[0m \u001b[39m    \u001b[39m\u001b[39m'''Get the fd.  This should only be called once.'''\u001b[39;00m\n\u001b[0;32m---> 57\u001b[0m     \u001b[39mwith\u001b[39;00m _resource_sharer\u001b[39m.\u001b[39;49mget_connection(\u001b[39mself\u001b[39;49m\u001b[39m.\u001b[39;49m_id) \u001b[39mas\u001b[39;00m conn:\n\u001b[1;32m     58\u001b[0m         \u001b[39mreturn\u001b[39;00m reduction\u001b[39m.\u001b[39mrecv_handle(conn)\n",
      "File \u001b[0;32m~/anaconda3/envs/lab2/lib/python3.10/multiprocessing/resource_sharer.py:86\u001b[0m, in \u001b[0;36m_ResourceSharer.get_connection\u001b[0;34m(ident)\u001b[0m\n\u001b[1;32m     84\u001b[0m \u001b[39mfrom\u001b[39;00m \u001b[39m.\u001b[39;00m\u001b[39mconnection\u001b[39;00m \u001b[39mimport\u001b[39;00m Client\n\u001b[1;32m     85\u001b[0m address, key \u001b[39m=\u001b[39m ident\n\u001b[0;32m---> 86\u001b[0m c \u001b[39m=\u001b[39m Client(address, authkey\u001b[39m=\u001b[39;49mprocess\u001b[39m.\u001b[39;49mcurrent_process()\u001b[39m.\u001b[39;49mauthkey)\n\u001b[1;32m     87\u001b[0m c\u001b[39m.\u001b[39msend((key, os\u001b[39m.\u001b[39mgetpid()))\n\u001b[1;32m     88\u001b[0m \u001b[39mreturn\u001b[39;00m c\n",
      "File \u001b[0;32m~/anaconda3/envs/lab2/lib/python3.10/multiprocessing/connection.py:508\u001b[0m, in \u001b[0;36mClient\u001b[0;34m(address, family, authkey)\u001b[0m\n\u001b[1;32m    505\u001b[0m     \u001b[39mraise\u001b[39;00m \u001b[39mTypeError\u001b[39;00m(\u001b[39m'\u001b[39m\u001b[39mauthkey should be a byte string\u001b[39m\u001b[39m'\u001b[39m)\n\u001b[1;32m    507\u001b[0m \u001b[39mif\u001b[39;00m authkey \u001b[39mis\u001b[39;00m \u001b[39mnot\u001b[39;00m \u001b[39mNone\u001b[39;00m:\n\u001b[0;32m--> 508\u001b[0m     answer_challenge(c, authkey)\n\u001b[1;32m    509\u001b[0m     deliver_challenge(c, authkey)\n\u001b[1;32m    511\u001b[0m \u001b[39mreturn\u001b[39;00m c\n",
      "File \u001b[0;32m~/anaconda3/envs/lab2/lib/python3.10/multiprocessing/connection.py:752\u001b[0m, in \u001b[0;36manswer_challenge\u001b[0;34m(connection, authkey)\u001b[0m\n\u001b[1;32m    749\u001b[0m \u001b[39mif\u001b[39;00m \u001b[39mnot\u001b[39;00m \u001b[39misinstance\u001b[39m(authkey, \u001b[39mbytes\u001b[39m):\n\u001b[1;32m    750\u001b[0m     \u001b[39mraise\u001b[39;00m \u001b[39mValueError\u001b[39;00m(\n\u001b[1;32m    751\u001b[0m         \u001b[39m\"\u001b[39m\u001b[39mAuthkey must be bytes, not \u001b[39m\u001b[39m{0!s}\u001b[39;00m\u001b[39m\"\u001b[39m\u001b[39m.\u001b[39mformat(\u001b[39mtype\u001b[39m(authkey)))\n\u001b[0;32m--> 752\u001b[0m message \u001b[39m=\u001b[39m connection\u001b[39m.\u001b[39;49mrecv_bytes(\u001b[39m256\u001b[39;49m)         \u001b[39m# reject large message\u001b[39;00m\n\u001b[1;32m    753\u001b[0m \u001b[39massert\u001b[39;00m message[:\u001b[39mlen\u001b[39m(CHALLENGE)] \u001b[39m==\u001b[39m CHALLENGE, \u001b[39m'\u001b[39m\u001b[39mmessage = \u001b[39m\u001b[39m%r\u001b[39;00m\u001b[39m'\u001b[39m \u001b[39m%\u001b[39m message\n\u001b[1;32m    754\u001b[0m message \u001b[39m=\u001b[39m message[\u001b[39mlen\u001b[39m(CHALLENGE):]\n",
      "File \u001b[0;32m~/anaconda3/envs/lab2/lib/python3.10/multiprocessing/connection.py:216\u001b[0m, in \u001b[0;36m_ConnectionBase.recv_bytes\u001b[0;34m(self, maxlength)\u001b[0m\n\u001b[1;32m    214\u001b[0m \u001b[39mif\u001b[39;00m maxlength \u001b[39mis\u001b[39;00m \u001b[39mnot\u001b[39;00m \u001b[39mNone\u001b[39;00m \u001b[39mand\u001b[39;00m maxlength \u001b[39m<\u001b[39m \u001b[39m0\u001b[39m:\n\u001b[1;32m    215\u001b[0m     \u001b[39mraise\u001b[39;00m \u001b[39mValueError\u001b[39;00m(\u001b[39m\"\u001b[39m\u001b[39mnegative maxlength\u001b[39m\u001b[39m\"\u001b[39m)\n\u001b[0;32m--> 216\u001b[0m buf \u001b[39m=\u001b[39m \u001b[39mself\u001b[39;49m\u001b[39m.\u001b[39;49m_recv_bytes(maxlength)\n\u001b[1;32m    217\u001b[0m \u001b[39mif\u001b[39;00m buf \u001b[39mis\u001b[39;00m \u001b[39mNone\u001b[39;00m:\n\u001b[1;32m    218\u001b[0m     \u001b[39mself\u001b[39m\u001b[39m.\u001b[39m_bad_message_length()\n",
      "File \u001b[0;32m~/anaconda3/envs/lab2/lib/python3.10/multiprocessing/connection.py:414\u001b[0m, in \u001b[0;36mConnection._recv_bytes\u001b[0;34m(self, maxsize)\u001b[0m\n\u001b[1;32m    413\u001b[0m \u001b[39mdef\u001b[39;00m \u001b[39m_recv_bytes\u001b[39m(\u001b[39mself\u001b[39m, maxsize\u001b[39m=\u001b[39m\u001b[39mNone\u001b[39;00m):\n\u001b[0;32m--> 414\u001b[0m     buf \u001b[39m=\u001b[39m \u001b[39mself\u001b[39;49m\u001b[39m.\u001b[39;49m_recv(\u001b[39m4\u001b[39;49m)\n\u001b[1;32m    415\u001b[0m     size, \u001b[39m=\u001b[39m struct\u001b[39m.\u001b[39munpack(\u001b[39m\"\u001b[39m\u001b[39m!i\u001b[39m\u001b[39m\"\u001b[39m, buf\u001b[39m.\u001b[39mgetvalue())\n\u001b[1;32m    416\u001b[0m     \u001b[39mif\u001b[39;00m size \u001b[39m==\u001b[39m \u001b[39m-\u001b[39m\u001b[39m1\u001b[39m:\n",
      "File \u001b[0;32m~/anaconda3/envs/lab2/lib/python3.10/multiprocessing/connection.py:379\u001b[0m, in \u001b[0;36mConnection._recv\u001b[0;34m(self, size, read)\u001b[0m\n\u001b[1;32m    377\u001b[0m remaining \u001b[39m=\u001b[39m size\n\u001b[1;32m    378\u001b[0m \u001b[39mwhile\u001b[39;00m remaining \u001b[39m>\u001b[39m \u001b[39m0\u001b[39m:\n\u001b[0;32m--> 379\u001b[0m     chunk \u001b[39m=\u001b[39m read(handle, remaining)\n\u001b[1;32m    380\u001b[0m     n \u001b[39m=\u001b[39m \u001b[39mlen\u001b[39m(chunk)\n\u001b[1;32m    381\u001b[0m     \u001b[39mif\u001b[39;00m n \u001b[39m==\u001b[39m \u001b[39m0\u001b[39m:\n",
      "\u001b[0;31mKeyboardInterrupt\u001b[0m: "
     ]
    }
   ],
   "source": [
    "# Create a study and optimize\n",
    "study = optuna.create_study(direction=\"maximize\")  # maximize accuracy\n",
    "study.optimize(objective, n_trials=50)\n",
    "\n",
    "# Print the best hyperparameters\n",
    "print(\"Number of finished trials: \", len(study.trials))\n",
    "print(\"Best trial:\")\n",
    "trial = study.best_trial\n",
    "print(\"  Value: \", trial.value)\n",
    "print(\"  Params: \")\n",
    "for key, value in trial.params.items():\n",
    "    print(\"    {}: {}\".format(key, value))"
   ]
  },
  {
   "cell_type": "markdown",
   "metadata": {},
   "source": [
    "# Dropout"
   ]
  },
  {
   "cell_type": "markdown",
   "metadata": {},
   "source": [
    "Now we train the model with dropout and check whether we observe any changes. Note, that we added Droputs after our convolutional layers. This appears to be not very popular in the literature. Nevertheless, it achieved the desired effect."
   ]
  },
  {
   "cell_type": "code",
   "execution_count": 63,
   "metadata": {},
   "outputs": [],
   "source": [
    "class DropoutCNN(nn.Module):\n",
    "    \"\"\" \n",
    "    Adapted to CIFAR-10\n",
    "    \"\"\"\n",
    "    def __init__(self, dropout_prob=0.5):\n",
    "        \"\"\" Model initializer \"\"\"\n",
    "        super().__init__()\n",
    "        \n",
    "        # Layer 1\n",
    "        # (3,32,32)\n",
    "        self.conv1 = nn.Conv2d(in_channels=3, out_channels=64, kernel_size=5, stride=1, padding=2)\n",
    "        self.relu1 = nn.ReLU()\n",
    "        self.dropout1 = nn.Dropout(p=dropout_prob)\n",
    "        # Layer 2\n",
    "        # (64, 32, 32)\n",
    "        self.maxpool1 = nn.MaxPool2d(kernel_size=2)\n",
    "        # (64, 16, 16)\n",
    "        self.conv2 = nn.Conv2d(in_channels=64, out_channels=128, kernel_size=5, stride=1, padding=2)\n",
    "        self.relu2 = nn.ReLU()\n",
    "        self.dropout2 = nn.Dropout(p=dropout_prob)\n",
    "        # (128, 16, 16)\n",
    "        self.maxpool2 = nn.MaxPool2d(kernel_size=2)\n",
    "        # (128, 8, 8)\n",
    "\n",
    "        # Layer 3\n",
    "        self.conv3 = nn.Conv2d(in_channels=128, out_channels=256, kernel_size=5, stride=1, padding=2)\n",
    "        self.relu3 = nn.ReLU()\n",
    "        self.dropout3 = nn.Dropout(p=dropout_prob)\n",
    "        # (256, 8, 8)\n",
    "        \n",
    "        # Fully connected classifier\n",
    "        in_dim = 256 * 8 * 8\n",
    "        self.fc = nn.Linear(in_features=in_dim, out_features=10)\n",
    "        \n",
    "    def forward(self, x):\n",
    "        \"\"\" Forward pass \"\"\"\n",
    "        cur_b_size = x.shape[0]\n",
    "        x = self.conv1(x)\n",
    "        x = self.relu1(x)\n",
    "        x = self.dropout1(x)\n",
    "        x = self.maxpool1(x)\n",
    "        x = self.conv2(x)\n",
    "        x = self.relu2(x)\n",
    "        x = self.dropout2(x)\n",
    "        x = self.maxpool2(x)\n",
    "        x = self.conv3(x)\n",
    "        x = self.relu3(x)\n",
    "        x = self.dropout3(x)\n",
    "        out_flat = x.view(cur_b_size, -1)\n",
    "        y = self.fc(out_flat)\n",
    "        return y"
   ]
  },
  {
   "cell_type": "code",
   "execution_count": 69,
   "metadata": {},
   "outputs": [],
   "source": [
    "model = DropoutCNN()\n",
    "model.to(device)\n",
    "criterion = nn.CrossEntropyLoss()\n",
    "optimizer = torch.optim.Adam(model.parameters(), lr=LR)"
   ]
  },
  {
   "cell_type": "code",
   "execution_count": 70,
   "metadata": {},
   "outputs": [
    {
     "name": "stderr",
     "output_type": "stream",
     "text": [
      "  0%|          | 0/782 [00:00<?, ?it/s]"
     ]
    },
    {
     "name": "stdout",
     "output_type": "stream",
     "text": [
      "test accuracy: 9.99%\n"
     ]
    },
    {
     "name": "stderr",
     "output_type": "stream",
     "text": [
      "Epoch 1 Iter 782: loss 1.63327. : 100%|██████████| 782/782 [00:03<00:00, 199.61it/s]\n",
      "  0%|          | 0/782 [00:00<?, ?it/s]"
     ]
    },
    {
     "name": "stdout",
     "output_type": "stream",
     "text": [
      "test accuracy: 56.85%\n"
     ]
    },
    {
     "name": "stderr",
     "output_type": "stream",
     "text": [
      "Epoch 2 Iter 782: loss 1.00030. : 100%|██████████| 782/782 [00:04<00:00, 193.73it/s]\n",
      "  0%|          | 0/782 [00:00<?, ?it/s]"
     ]
    },
    {
     "name": "stdout",
     "output_type": "stream",
     "text": [
      "test accuracy: 63.2%\n"
     ]
    },
    {
     "name": "stderr",
     "output_type": "stream",
     "text": [
      "Epoch 3 Iter 782: loss 0.99539. : 100%|██████████| 782/782 [00:04<00:00, 186.37it/s]\n",
      "  0%|          | 0/782 [00:00<?, ?it/s]"
     ]
    },
    {
     "name": "stdout",
     "output_type": "stream",
     "text": [
      "test accuracy: 67.74%\n"
     ]
    },
    {
     "name": "stderr",
     "output_type": "stream",
     "text": [
      "Epoch 4 Iter 782: loss 0.90785. : 100%|██████████| 782/782 [00:04<00:00, 177.92it/s]\n",
      "  0%|          | 0/782 [00:00<?, ?it/s]"
     ]
    },
    {
     "name": "stdout",
     "output_type": "stream",
     "text": [
      "test accuracy: 69.65%\n"
     ]
    },
    {
     "name": "stderr",
     "output_type": "stream",
     "text": [
      "Epoch 5 Iter 782: loss 0.72100. : 100%|██████████| 782/782 [00:03<00:00, 196.47it/s]\n",
      "  0%|          | 0/782 [00:00<?, ?it/s]"
     ]
    },
    {
     "name": "stdout",
     "output_type": "stream",
     "text": [
      "test accuracy: 71.05%\n"
     ]
    },
    {
     "name": "stderr",
     "output_type": "stream",
     "text": [
      "Epoch 6 Iter 782: loss 0.60469. : 100%|██████████| 782/782 [00:04<00:00, 181.30it/s]\n",
      "  0%|          | 0/782 [00:00<?, ?it/s]"
     ]
    },
    {
     "name": "stdout",
     "output_type": "stream",
     "text": [
      "test accuracy: 71.38%\n"
     ]
    },
    {
     "name": "stderr",
     "output_type": "stream",
     "text": [
      "Epoch 7 Iter 782: loss 0.98409. : 100%|██████████| 782/782 [00:04<00:00, 189.28it/s]\n",
      "  0%|          | 0/782 [00:00<?, ?it/s]"
     ]
    },
    {
     "name": "stdout",
     "output_type": "stream",
     "text": [
      "test accuracy: 73.94%\n"
     ]
    },
    {
     "name": "stderr",
     "output_type": "stream",
     "text": [
      "Epoch 8 Iter 782: loss 0.40326. : 100%|██████████| 782/782 [00:03<00:00, 195.61it/s]\n",
      "  0%|          | 0/782 [00:00<?, ?it/s]"
     ]
    },
    {
     "name": "stdout",
     "output_type": "stream",
     "text": [
      "test accuracy: 73.93%\n"
     ]
    },
    {
     "name": "stderr",
     "output_type": "stream",
     "text": [
      "Epoch 9 Iter 782: loss 0.28798. : 100%|██████████| 782/782 [00:03<00:00, 204.88it/s]\n",
      "  0%|          | 0/782 [00:00<?, ?it/s]"
     ]
    },
    {
     "name": "stdout",
     "output_type": "stream",
     "text": [
      "test accuracy: 75.69%\n"
     ]
    },
    {
     "name": "stderr",
     "output_type": "stream",
     "text": [
      "Epoch 10 Iter 782: loss 0.54509. : 100%|██████████| 782/782 [00:04<00:00, 182.89it/s]\n",
      "  0%|          | 0/782 [00:00<?, ?it/s]"
     ]
    },
    {
     "name": "stdout",
     "output_type": "stream",
     "text": [
      "test accuracy: 76.27%\n"
     ]
    },
    {
     "name": "stderr",
     "output_type": "stream",
     "text": [
      "Epoch 11 Iter 782: loss 0.60070. : 100%|██████████| 782/782 [00:04<00:00, 183.36it/s]\n",
      "  0%|          | 0/782 [00:00<?, ?it/s]"
     ]
    },
    {
     "name": "stdout",
     "output_type": "stream",
     "text": [
      "test accuracy: 75.92%\n"
     ]
    },
    {
     "name": "stderr",
     "output_type": "stream",
     "text": [
      "Epoch 12 Iter 782: loss 0.50598. : 100%|██████████| 782/782 [00:04<00:00, 189.00it/s]\n",
      "  0%|          | 0/782 [00:00<?, ?it/s]"
     ]
    },
    {
     "name": "stdout",
     "output_type": "stream",
     "text": [
      "test accuracy: 75.7%\n"
     ]
    },
    {
     "name": "stderr",
     "output_type": "stream",
     "text": [
      "Epoch 13 Iter 782: loss 0.55125. : 100%|██████████| 782/782 [00:04<00:00, 189.98it/s]\n",
      "  0%|          | 0/782 [00:00<?, ?it/s]"
     ]
    },
    {
     "name": "stdout",
     "output_type": "stream",
     "text": [
      "test accuracy: 75.88%\n"
     ]
    },
    {
     "name": "stderr",
     "output_type": "stream",
     "text": [
      "Epoch 14 Iter 782: loss 0.33716. : 100%|██████████| 782/782 [00:04<00:00, 178.18it/s]\n",
      "  0%|          | 0/782 [00:00<?, ?it/s]"
     ]
    },
    {
     "name": "stdout",
     "output_type": "stream",
     "text": [
      "test accuracy: 76.25%\n"
     ]
    },
    {
     "name": "stderr",
     "output_type": "stream",
     "text": [
      "Epoch 15 Iter 782: loss 0.23608. : 100%|██████████| 782/782 [00:03<00:00, 199.04it/s]\n"
     ]
    }
   ],
   "source": [
    "test_loss_list = []\n",
    "train_loss_list = []\n",
    "test_accuracy_list = []\n",
    "train_accuracy_list = []\n",
    "# Initialize lists to store gradient information\n",
    "gradients = []\n",
    "gradient_norms = []\n",
    "gradient_max_values = []\n",
    "gradient_min_values = []\n",
    "best_loss = 100\n",
    "for epoch in range(NUM_EPOCHS):\n",
    "    progress_bar = tqdm(trainloader, total=len(trainloader))\n",
    "\n",
    "    # Calculate test loss, accuracy for currently trained model\n",
    "    model.eval()\n",
    "    test_loss = 0.0\n",
    "    correct = 0\n",
    "    total = 0\n",
    "\n",
    "    with torch.no_grad():\n",
    "        for data in testloader:\n",
    "            images_test, labels_test = data\n",
    "            # using GPU for inference\n",
    "            images_test, labels_test = images_test.to(device), labels_test.to(device)\n",
    "            # calculate model outputs\n",
    "            outputs_test = model(images_test)\n",
    "            # calculate test loss\n",
    "            loss = criterion(outputs_test, labels_test)\n",
    "            test_loss += loss.item()\n",
    "            # derive model predictions from out outputs\n",
    "            predicted = torch.argmax(outputs_test, dim = -1)\n",
    "            # calculate accuracy\n",
    "            total += labels_test.size(0)\n",
    "            correct += (predicted == labels_test).sum().item()\n",
    "\n",
    "        test_loss /= len(testloader)\n",
    "        accuracy = 100 * correct / total\n",
    "\n",
    "        print(f\"test accuracy: {accuracy}%\")\n",
    "\n",
    "        # Potentially prevent overfitting\n",
    "        if test_loss < best_loss:\n",
    "            best_loss = loss\n",
    "            torch.save({\n",
    "                'epoch': epoch,\n",
    "                'model_state_dict': model.state_dict(),\n",
    "                'optimizer_state_dict': optimizer.state_dict(),\n",
    "            }, f\"models/checkpoint_epoch_{epoch}.pth\")\n",
    "        #saving the best checkpoint\n",
    "        \n",
    "    test_loss_list.append(test_loss)\n",
    "    test_accuracy_list.append(accuracy)\n",
    "    \n",
    "    # Turn model back to training mode\n",
    "    model.train()\n",
    "\n",
    "    train_loss_list_iter = []\n",
    "    train_accuracy_list_iter = []\n",
    "    for i, (imgs, labels) in enumerate(progress_bar):\n",
    "\n",
    "        # using GPU\n",
    "        imgs, labels = imgs.to(device), labels.to(device)\n",
    "    \n",
    "        # forward pass\n",
    "        preds = model(imgs)\n",
    "\n",
    "        # calculate accuracy\n",
    "        with torch.no_grad():\n",
    "            predicted = preds.argmax(dim=-1)\n",
    "            correct = (predicted == labels).sum().item()\n",
    "            accuracy = correct/labels.shape[0] * 100\n",
    "\n",
    "        train_accuracy_list_iter.append(accuracy)\n",
    "\n",
    "        # computing error\n",
    "        loss = criterion(preds, labels)\n",
    "        train_loss_list_iter.append(loss.item())\n",
    "        # removing accumulated gradients\n",
    "        optimizer.zero_grad()\n",
    "    \n",
    "        # backprogating error to compute gradients\n",
    "        loss.backward()\n",
    "    \n",
    "        # updating parameters\n",
    "        optimizer.step()\n",
    "\n",
    "        '''In the following we calculate gradient information!'''\n",
    "        \n",
    "        # Calculate gradient information\n",
    "        for name, param in model.named_parameters():\n",
    "            # Tracking the matrices led to oom errors\n",
    "            if name in ['layers.0.bias']:\n",
    "                gradients.append(param.grad)\n",
    "                gradient_norms.append(torch.norm(param.grad).item())\n",
    "                gradient_max_values.append(param.grad.max().item())\n",
    "                gradient_min_values.append(param.grad.min().item())\n",
    "\n",
    "        '''Stop calculating gradient inforamtion'''\n",
    "    \n",
    "        if(i % 10 == 0 or i == len(trainloader) - 1):\n",
    "            progress_bar.set_description(f\"Epoch {epoch + 1} Iter {i + 1}: loss {loss.item():.5f}. \")\n",
    "    train_accuracy_list.append(np.mean(train_accuracy_list_iter))\n",
    "    train_loss_list.append(np.mean(train_loss_list_iter))"
   ]
  },
  {
   "cell_type": "markdown",
   "metadata": {},
   "source": [
    "### Test accuracy"
   ]
  },
  {
   "cell_type": "code",
   "execution_count": 71,
   "metadata": {},
   "outputs": [
    {
     "name": "stderr",
     "output_type": "stream",
     "text": [
      "  0%|          | 0/157 [00:00<?, ?it/s]"
     ]
    },
    {
     "name": "stderr",
     "output_type": "stream",
     "text": [
      "100%|██████████| 157/157 [00:00<00:00, 206.34it/s]"
     ]
    },
    {
     "name": "stdout",
     "output_type": "stream",
     "text": [
      "Test accuracy: 72.5%\n"
     ]
    },
    {
     "name": "stderr",
     "output_type": "stream",
     "text": [
      "\n"
     ]
    }
   ],
   "source": [
    "n_correct = 0\n",
    "with torch.no_grad():\n",
    "    progress_bar = tqdm(enumerate(testloader), total=len(testloader))\n",
    "    for i, (imgs, labels) in progress_bar:\n",
    "        #everything needs to be on the same device\n",
    "        imgs = imgs.to(device)\n",
    "        labels = labels.to(device)\n",
    "\n",
    "        # forward pass\n",
    "        preds = model(imgs)\n",
    "\n",
    "        pred_labels = torch.argmax(preds, dim=-1)\n",
    "        cur_correct = len(torch.where(pred_labels == labels)[0])\n",
    "        n_correct = n_correct + cur_correct\n",
    "\n",
    "\n",
    "accuracy = n_correct / len(test_dataset) * 100\n",
    "print(f\"Test accuracy: {round(accuracy,2)}%\")"
   ]
  },
  {
   "cell_type": "code",
   "execution_count": 76,
   "metadata": {},
   "outputs": [
    {
     "data": {
      "image/png": "[encoded data removed]",
      "text/plain": [
       "<Figure size 1000x500 with 1 Axes>"
      ]
     },
     "metadata": {},
     "output_type": "display_data"
    },
    {
     "ename": "AttributeError",
     "evalue": "module 'template.utils' has no attribute 'plot_accuracy_epoch'",
     "output_type": "error",
     "traceback": [
      "\u001b[0;31m---------------------------------------------------------------------------\u001b[0m",
      "\u001b[0;31mAttributeError\u001b[0m                            Traceback (most recent call last)",
      "\u001b[1;32m/home/user/lschulze/projects/CudaVisionWS23/Assignment2/assignment_2_luke.ipynb Cell 44\u001b[0m line \u001b[0;36m2\n\u001b[1;32m      <a href='vscode-notebook-cell://ssh-remote%2Bcuda6.informatik.uni-bonn.de/home/user/lschulze/projects/CudaVisionWS23/Assignment2/assignment_2_luke.ipynb#Y104sdnNjb2RlLXJlbW90ZQ%3D%3D?line=0'>1</a>\u001b[0m utils\u001b[39m.\u001b[39mplot_loss_epoch(train_loss_list, test_loss_list)\n\u001b[0;32m----> <a href='vscode-notebook-cell://ssh-remote%2Bcuda6.informatik.uni-bonn.de/home/user/lschulze/projects/CudaVisionWS23/Assignment2/assignment_2_luke.ipynb#Y104sdnNjb2RlLXJlbW90ZQ%3D%3D?line=1'>2</a>\u001b[0m utils\u001b[39m.\u001b[39;49mplot_accuracy_epoch(test_accuracy_list, train_accuracy\u001b[39m=\u001b[39mtrain_accuracy_list,)\n",
      "\u001b[0;31mAttributeError\u001b[0m: module 'template.utils' has no attribute 'plot_accuracy_epoch'"
     ]
    }
   ],
   "source": [
    "utils.plot_loss_epoch(train_loss_list, test_loss_list)\n",
    "utils.plot_accuracy_epoch(test_accuracy_list, train_accuracy=train_accuracy_list,)"
   ]
  },
  {
   "cell_type": "markdown",
   "metadata": {},
   "source": [
    "# Bonus Task: MLP Mixer\n"
   ]
  },
  {
   "cell_type": "code",
   "execution_count": 25,
   "metadata": {},
   "outputs": [],
   "source": [
    "\n",
    "class MLPBlock(nn.Module):\n",
    "    '''\n",
    "    Parameters:\n",
    "         dim: int\n",
    "         Input and Output dimension of the entire block\n",
    "         hidden_dim: int\n",
    "         hidden layer dimension\n",
    "    '''\n",
    "    def __init__(self, dim, hidden_dim):\n",
    "        super().__init__()\n",
    "        self.linear_1 = nn.Linear(dim, hidden_dim)\n",
    "        self.activation = nn.GELU()\n",
    "        self.linear_2 = nn.Linear(hidden_dim, dim)\n",
    "\n",
    "    def forward(self, x):\n",
    "        '''\n",
    "\n",
    "        :param x: torch.tensor\n",
    "        Input tensor of shape (batch, n_channels, n_patches)\n",
    "        :return: torch.tensor, which has the shape (batch, n_channels, n_patches)\n",
    "        '''\n",
    "        # print(x.shape)\n",
    "        x = self.linear_1(x)\n",
    "        x = self.activation(x)\n",
    "        x = self.linear_2(x)\n",
    "\n",
    "        return x\n",
    "\n",
    "\n",
    "class MixerBlock(nn.Module):\n",
    "    '''Parameters:\n",
    "           n_patches : int\n",
    "           hidden_dim: int\n",
    "           This was the C value in the paper, the dimension which we project out patches to\n",
    "           tokens_mlp_dim : int\n",
    "           Hidden dimension for doing token-mixing\n",
    "           channels_mlp_dim: int\n",
    "           Hidden dimension for doing channel mixing\n",
    "   '''\n",
    "\n",
    "\n",
    "    def __init__(self, *, n_patches, hidden_dim, token_mlp_dim, channels_mlp_dim):\n",
    "        super().__init__()\n",
    "\n",
    "        self.norm_1 = nn.LayerNorm(hidden_dim)\n",
    "        self.norm_2 = nn.LayerNorm(hidden_dim)\n",
    "\n",
    "        self.token_mlp_block = MLPBlock(n_patches, token_mlp_dim)\n",
    "        self.channel_mlp_block = MLPBlock(hidden_dim, channels_mlp_dim)\n",
    "\n",
    "    def forward(self, x):\n",
    "        '''\n",
    "        :param x: torch.Tensor\n",
    "        It is of shape (batch_size, n_patches, hidden_dim)\n",
    "        :return: torch. Tensor\n",
    "        Shape: (batch_size, n_patches, hidden_dim)\n",
    "        '''\n",
    "        # Separate y, because we need x as a residual connection\n",
    "        y = self.norm_1(x)  # (batch, n_patches, hidden_dim)\n",
    "        # 3d pytorch inputs takes the last dim, i.e. the row, therefore we need to transpose\n",
    "        y = y.permute(0, 2, 1)  # (batch_size, hidden_dim, n_patches)\n",
    "        y = self.token_mlp_block(y)  # (batch_size, hidden_dim, n_patches)\n",
    "        y = y.permute(0, 2, 1)  # (batch_size, n_patches, hidden_dim)\n",
    "        x = x + y  # (batch_size, n_patches, hidden_dim)\n",
    "        y = self.norm_2(x)\n",
    "        res = x + self.channel_mlp_block(y)  # (batch_size, n_patches, hidden_dim)\n",
    "\n",
    "        return res\n",
    "\n",
    "\n",
    "\n",
    "\n",
    "class MLPMixer(nn.Module):\n",
    "    \"\"\"\n",
    "    sticking all parts together\n",
    "\n",
    "    Parameters:\n",
    "        image_size: int (We assume squares due to us focussing on CIFAR)\n",
    "            Height and width of the input image\n",
    "        patch_size: int\n",
    "            Height and width of the square patches\n",
    "        tokens_mlp_dim: int\n",
    "            Hidden Dim for token mixer MLP\n",
    "        channels_mlp_dim: int\n",
    "            Hidden dim for MLPBlock when doing the channel mixing\n",
    "        n_classes : int\n",
    "            Number of classes for classification\n",
    "        hidden_dim : int\n",
    "            dim of patch embeddings\n",
    "        n_blocks : int\n",
    "            number of mixerblocks in the architecture\n",
    "    \"\"\"\n",
    "\n",
    "    def __init__(self, *, image_size, patch_size, tokens_mlp_dim, channels_mlp_dim, n_classes, hidden_dim, n_blocks):\n",
    "        super().__init__()\n",
    "        n_patches = (image_size // patch_size) ** 2  # assume divisibility\n",
    "\n",
    "        self.patch_embedder = nn.Conv2d(3, hidden_dim, kernel_size=patch_size, stride=patch_size)\n",
    "\n",
    "        self.blocks = nn.ModuleList([MixerBlock(\n",
    "            n_patches=n_patches,\n",
    "            hidden_dim = hidden_dim,\n",
    "            token_mlp_dim=tokens_mlp_dim,\n",
    "            channels_mlp_dim = channels_mlp_dim\n",
    "        ) for _ in range(n_blocks)])\n",
    "\n",
    "        self.pre_head_norm = nn.LayerNorm(hidden_dim)\n",
    "        self.head_classifier = nn.Linear(hidden_dim, n_classes)\n",
    "\n",
    "    def forward(self, x):\n",
    "        '''Parameters:\n",
    "        x : torch. Tensor\n",
    "            Input batch of square images of shape (batch_size, n_channels, image_size, images_size)\n",
    "\n",
    "        :returns torch. Tensor\n",
    "            class logits of shape (batch_size, n_classes)\n",
    "        '''\n",
    "\n",
    "        x = self.patch_embedder(x) # (batch_size, hidden_dim, n_patches**0.5, n_patches**0.5)\n",
    "        x = einops.rearrange(x, \"n c h w -> n (h w) c\") # (batch, n_patches, hidden_dim)\n",
    "\n",
    "\n",
    "        for mixer_block in self.blocks:\n",
    "            x = mixer_block(x)  # (batch, n_patches, hidden_dim)\n",
    "\n",
    "\n",
    "        x = self.pre_head_norm(x)  # (batch_size, n_patches, hidden_dim)\n",
    "        x = x.mean(dim=1)  # (batch, hidden_dim)\n",
    "        y = self.head_classifier(x)  # (batch, n_classes)\n",
    "        return y"
   ]
  },
  {
   "cell_type": "code",
   "execution_count": 26,
   "metadata": {},
   "outputs": [],
   "source": [
    "device = torch.device(\"cuda\" if torch.cuda.is_available() else \"cpu\")\n",
    "model = MLPMixer(image_size=32, patch_size=4, tokens_mlp_dim=2048, channels_mlp_dim=256,\n",
    "                    n_classes=10, hidden_dim = 512, n_blocks=8)\n",
    "model = model.to(device)"
   ]
  },
  {
   "cell_type": "code",
   "execution_count": 27,
   "metadata": {},
   "outputs": [],
   "source": [
    "criterion = nn.CrossEntropyLoss()  # Note, that this already includes a Softmax!\n",
    "optimizer = torch.optim.Adam(model.parameters(), lr=LR)\n",
    "\n",
    "# needed for calculating the patches\n",
    "import einops"
   ]
  },
  {
   "cell_type": "code",
   "execution_count": 28,
   "metadata": {},
   "outputs": [
    {
     "name": "stderr",
     "output_type": "stream",
     "text": [
      "Epoch 1 Iter 782: loss 1.41887. : 100%|██████████| 782/782 [00:44<00:00, 17.65it/s]\n",
      "Epoch 2 Iter 782: loss 1.47089. : 100%|██████████| 782/782 [00:44<00:00, 17.42it/s]\n",
      "Epoch 3 Iter 782: loss 1.12344. : 100%|██████████| 782/782 [00:45<00:00, 17.22it/s]\n",
      "Epoch 4 Iter 782: loss 0.75514. : 100%|██████████| 782/782 [00:45<00:00, 17.11it/s]\n",
      "Epoch 5 Iter 782: loss 0.93481. : 100%|██████████| 782/782 [00:45<00:00, 17.03it/s]\n",
      "Epoch 6 Iter 782: loss 0.73485. : 100%|██████████| 782/782 [00:46<00:00, 16.99it/s]\n",
      "Epoch 7 Iter 782: loss 0.53589. : 100%|██████████| 782/782 [00:46<00:00, 16.98it/s]\n",
      "Epoch 8 Iter 782: loss 0.64929. : 100%|██████████| 782/782 [00:46<00:00, 16.98it/s]\n",
      "Epoch 9 Iter 782: loss 0.30312. : 100%|██████████| 782/782 [00:46<00:00, 16.97it/s]\n",
      "Epoch 10 Iter 782: loss 0.19899. : 100%|██████████| 782/782 [00:46<00:00, 16.97it/s]\n"
     ]
    }
   ],
   "source": [
    "train_loss_list = []\n",
    "train_accuracy_list = []\n",
    "for epoch in range(NUM_EPOCHS):\n",
    "    progress_bar = tqdm(trainloader, total=len(trainloader))\n",
    "    for i, (imgs, labels) in enumerate(progress_bar):\n",
    "\n",
    "        # Turn model back to training mode\n",
    "        model.train()\n",
    "\n",
    "        # using GPU\n",
    "        imgs, labels = imgs.to(device), labels.to(device)\n",
    "    \n",
    "        # forward pass\n",
    "        preds = model(imgs)\n",
    "\n",
    "        # calculate accuracy\n",
    "        with torch.no_grad():\n",
    "            predicted = preds.argmax(dim=-1)\n",
    "            correct = (predicted == labels).sum().item()\n",
    "            accuracy = correct/labels.shape[0]\n",
    "\n",
    "        train_accuracy_list.append(accuracy)\n",
    "\n",
    "        # computing error\n",
    "        loss = criterion(preds, labels)\n",
    "        train_loss_list.append(loss.item())\n",
    "\n",
    "\n",
    "        # removing accumulated gradients\n",
    "        optimizer.zero_grad()\n",
    "    \n",
    "        # backprogating error to compute gradients\n",
    "        loss.backward()\n",
    "    \n",
    "        # updating parameters\n",
    "        optimizer.step()\n",
    "\n",
    "    \n",
    "        if(i % 10 == 0 or i == len(trainloader) - 1):\n",
    "            progress_bar.set_description(f\"Epoch {epoch + 1} Iter {i + 1}: loss {loss.item():.5f}. \")"
   ]
  },
  {
   "cell_type": "code",
   "execution_count": 29,
   "metadata": {},
   "outputs": [
    {
     "name": "stderr",
     "output_type": "stream",
     "text": [
      "100%|██████████| 157/157 [00:03<00:00, 40.73it/s]"
     ]
    },
    {
     "name": "stdout",
     "output_type": "stream",
     "text": [
      "Test accuracy: 64.19%\n"
     ]
    },
    {
     "name": "stderr",
     "output_type": "stream",
     "text": [
      "\n"
     ]
    }
   ],
   "source": [
    "n_correct = 0\n",
    "with torch.no_grad():\n",
    "    progress_bar = tqdm(enumerate(testloader), total=len(testloader))\n",
    "    for i, (imgs, labels) in progress_bar:\n",
    "        #everything needs to be on the same device\n",
    "        imgs = imgs.to(device)\n",
    "        labels = labels.to(device)\n",
    "\n",
    "        # forward pass\n",
    "        preds = model(imgs)\n",
    "\n",
    "        pred_labels = torch.argmax(preds, dim=-1)\n",
    "        cur_correct = len(torch.where(pred_labels == labels)[0])\n",
    "        n_correct = n_correct + cur_correct\n",
    "\n",
    "\n",
    "accuracy = n_correct / len(test_dataset) * 100\n",
    "print(f\"Test accuracy: {round(accuracy,2)}%\")"
   ]
  },
  {
   "cell_type": "markdown",
   "metadata": {},
   "source": [
    "# Evaluation: MLP Mixer\n",
    "\n",
    "Due to time constraints, we will unfortunately not be able to optimize our hyperparameters further. The ones we used were taken straight from the paper. Due to time constraints we are also not able to pre-train our model.\n",
    "\n",
    "The MLP Mixer achieved an accuracy of 64.19% on the test set, which was better than the accuracy achieved on the MLP, even after hyperparameter optimization. A reason for this could be the better designed network. It could for instance be possible that, due to the splitting of the images into patches and then connecting the individual patches with each other, we make more use of the spatial information given to us by the data. In addition, we used some simple but more modern techniques like residual connections, which facilitate training of neural networks.\n",
    "\n",
    "Nevertheless, we do not consider this a complete sucess. We believe, that with sufficient pre-training and hyperparameter optimization higher accuracies can be achieved."
   ]
  },
  {
   "cell_type": "markdown",
   "metadata": {},
   "source": []
  }
 ],
 "metadata": {
  "kernelspec": {
   "display_name": "Python 3 (ipykernel)",
   "language": "python",
   "name": "python3"
  },
  "language_info": {
   "codemirror_mode": {
    "name": "ipython",
    "version": 3
   },
   "file_extension": ".py",
   "mimetype": "text/x-python",
   "name": "python",
   "nbconvert_exporter": "python",
   "pygments_lexer": "ipython3",
   "version": "3.10.13"
  }
 },
 "nbformat": 4,
 "nbformat_minor": 4
}
