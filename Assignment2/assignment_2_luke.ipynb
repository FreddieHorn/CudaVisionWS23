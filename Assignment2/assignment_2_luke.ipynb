{
 "cells": [
  {
   "cell_type": "markdown",
   "metadata": {},
   "source": [
    "# Assignment 2"
   ]
  },
  {
   "cell_type": "code",
   "execution_count": 1,
   "metadata": {
    "ExecuteTime": {
     "end_time": "2023-10-26T11:28:20.679027100Z",
     "start_time": "2023-10-26T11:28:20.503439200Z"
    }
   },
   "outputs": [],
   "source": [
    "import numpy as np\n",
    "import matplotlib.pyplot as plt\n",
    "import torch\n",
    "import torch.nn as nn\n",
    "import torchvision\n",
    "import torchvision.transforms as transforms\n",
    "import torchvision.datasets as datasets\n",
    "import yaml\n",
    "import os\n",
    "import pdb\n",
    "import os\n",
    "\n",
    "\n",
    "import sys\n",
    "\n",
    "# Add the path to utils\n",
    "sys.path.append('..')\n",
    "from template import utils"
   ]
  },
  {
   "cell_type": "code",
   "execution_count": 2,
   "metadata": {},
   "outputs": [],
   "source": [
    "# should be added into a utils file in the future\n",
    "def set_seed():\n",
    "    # Set a fixed random seed for reproducibility\n",
    "\n",
    "    # Set the random seed for PyTorch\n",
    "    torch.manual_seed(9001)\n",
    "    torch.backends.cudnn.deterministic = True\n",
    "    torch.backends.cudnn.benchmark = False\n",
    "\n",
    "    # If you are using CUDA, set the seed for CUDA as well\n",
    "\n",
    "    if torch.cuda.is_available():\n",
    "        torch.cuda.manual_seed(9001)"
   ]
  },
  {
   "cell_type": "code",
   "execution_count": 3,
   "metadata": {},
   "outputs": [],
   "source": [
    "set_seed()"
   ]
  },
  {
   "cell_type": "markdown",
   "metadata": {},
   "source": [
    "### Handling the data"
   ]
  },
  {
   "cell_type": "code",
   "execution_count": 4,
   "metadata": {
    "ExecuteTime": {
     "end_time": "2023-10-26T11:28:20.804008400Z",
     "start_time": "2023-10-26T11:28:20.519060800Z"
    }
   },
   "outputs": [
    {
     "name": "stdout",
     "output_type": "stream",
     "text": [
      "config: {'BATCH_SIZE': 64, 'NUM_EPOCHS': 20, 'LR': '3e-4'}\n"
     ]
    }
   ],
   "source": [
    "# I am a big fan of config files and I believe it is a good practise\n",
    "config = yaml.safe_load(open(\"config.yaml\"))\n",
    "print(f\"config: {config}\")\n",
    "batch_size = int(config[\"BATCH_SIZE\"])\n"
   ]
  },
  {
   "cell_type": "code",
   "execution_count": 5,
   "metadata": {
    "ExecuteTime": {
     "end_time": "2023-10-26T11:28:20.804008400Z",
     "start_time": "2023-10-26T11:28:20.534682200Z"
    }
   },
   "outputs": [],
   "source": [
    "# may differ depending on the problem\n",
    "transform = transforms.Compose(\n",
    "    [transforms.ToTensor(),\n",
    "     ]) # put more transforms options here"
   ]
  },
  {
   "cell_type": "code",
   "execution_count": 6,
   "metadata": {
    "ExecuteTime": {
     "end_time": "2023-10-26T11:28:22.569379300Z",
     "start_time": "2023-10-26T11:28:20.550303200Z"
    }
   },
   "outputs": [
    {
     "name": "stdout",
     "output_type": "stream",
     "text": [
      "Files already downloaded and verified\n"
     ]
    },
    {
     "name": "stdout",
     "output_type": "stream",
     "text": [
      "Files already downloaded and verified\n"
     ]
    }
   ],
   "source": [
    "#load datasets (in the future it's possible that the whole process will be in a \n",
    "#separate file)\n",
    "train_dataset = torchvision.datasets.CIFAR10(root='./data', train=True,\n",
    "                                        download=True, transform=transform)\n",
    "test_dataset = torchvision.datasets.CIFAR10(root='./data', train=False,\n",
    "                                       download=True, transform=transform)"
   ]
  },
  {
   "cell_type": "code",
   "execution_count": 7,
   "metadata": {
    "ExecuteTime": {
     "end_time": "2023-10-26T11:28:22.584964400Z",
     "start_time": "2023-10-26T11:28:22.569379300Z"
    }
   },
   "outputs": [],
   "source": [
    "#create dataloaders\n",
    "trainloader = torch.utils.data.DataLoader(train_dataset, batch_size=batch_size,\n",
    "                                          shuffle=True, num_workers=2)\n",
    "testloader = torch.utils.data.DataLoader(test_dataset, batch_size=batch_size,\n",
    "                                         shuffle=False, num_workers=2)"
   ]
  },
  {
   "cell_type": "code",
   "execution_count": 8,
   "metadata": {
    "ExecuteTime": {
     "end_time": "2023-10-26T11:28:26.863985900Z",
     "start_time": "2023-10-26T11:28:22.584964400Z"
    }
   },
   "outputs": [
    {
     "name": "stdout",
     "output_type": "stream",
     "text": [
      "Image Shapes: torch.Size([64, 3, 32, 32])\n",
      "Label Shapes: torch.Size([64])\n"
     ]
    }
   ],
   "source": [
    "imgs, labels = next(iter(testloader))\n",
    "print(f\"Image Shapes: {imgs.shape}\")\n",
    "print(f\"Label Shapes: {labels.shape}\")"
   ]
  },
  {
   "cell_type": "markdown",
   "metadata": {},
   "source": [
    "### We can display some images from the dataset\n",
    "Functions used will probably vastly differ from task to task"
   ]
  },
  {
   "cell_type": "code",
   "execution_count": 9,
   "metadata": {
    "ExecuteTime": {
     "end_time": "2023-10-26T11:28:27.593236800Z",
     "start_time": "2023-10-26T11:28:26.863985900Z"
    }
   },
   "outputs": [
    {
     "data": {
      "image/png": "[encoded data removed]",
      "text/plain": [
       "<Figure size 2400x300 with 8 Axes>"
      ]
     },
     "metadata": {},
     "output_type": "display_data"
    }
   ],
   "source": [
    "N_IMGS = 8\n",
    "fig, ax = plt.subplots(1,N_IMGS)\n",
    "fig.set_size_inches(3 * N_IMGS, 3)\n",
    "\n",
    "ids = np.random.randint(low=0, high=len(train_dataset), size=N_IMGS)\n",
    "\n",
    "for i, n in enumerate(ids):\n",
    "    img = train_dataset[n][0].numpy().reshape(3,32,32).transpose(1, 2, 0)\n",
    "    ax[i].imshow(img)\n",
    "    #ax[i].set_title(f\"Img #{n}  Label: {train_dataset[n][1]}\")\n",
    "    #ax[i].axis(\"off\")\n",
    "plt.show()"
   ]
  },
  {
   "cell_type": "markdown",
   "metadata": {},
   "source": [
    "### Creating the model"
   ]
  },
  {
   "cell_type": "code",
   "execution_count": 10,
   "metadata": {
    "ExecuteTime": {
     "end_time": "2023-10-26T11:28:27.714358200Z",
     "start_time": "2023-10-26T11:28:27.593236800Z"
    }
   },
   "outputs": [],
   "source": [
    "class CNN(nn.Module):\n",
    "    \"\"\" \n",
    "    Adapted to CIFAR-10\n",
    "    \"\"\"\n",
    "    def __init__(self):\n",
    "        \"\"\" Model initializer \"\"\"\n",
    "        super().__init__()\n",
    "        \n",
    "        # layer 1\n",
    "        # (3,32,32)\n",
    "        self.conv1 = nn.Conv2d(in_channels=3, out_channels=64, kernel_size=5, stride=1, padding=2)\n",
    "        self.relu1 = nn.ReLU()\n",
    "        # Layer 2\n",
    "        # (64, 32, 32)\n",
    "        self.maxpool1 = nn.MaxPool2d(kernel_size=2)\n",
    "        # (64, 16, 16)\n",
    "        self.conv2 = nn.Conv2d(in_channels=64, out_channels=128, kernel_size = 5, stride=1, padding=2)\n",
    "        self.relu2 = nn.ReLU()\n",
    "        # (128, 16, 16)\n",
    "        self.maxpool2 = nn.MaxPool2d(kernel_size=2)\n",
    "        # (128, 8, 8)\n",
    "\n",
    "        # Layer 3\n",
    "        self.conv3 = nn.Conv2d(in_channels=128, out_channels=256, kernel_size=5, stride=1, padding=2)\n",
    "        self.relu3 = nn.ReLU()\n",
    "        # (256, 8, 8)\n",
    "        \n",
    "        # fully connected classifier\n",
    "        in_dim = 256 * 8 * 8\n",
    "        self.fc = nn.Linear(in_features=in_dim, out_features=10)\n",
    "        \n",
    "        return\n",
    "        \n",
    "    def forward(self, x):\n",
    "        \"\"\" Forward pass \"\"\"\n",
    "        cur_b_size = x.shape[0]\n",
    "        x = self.conv1(x)\n",
    "        x = self.relu1(x)\n",
    "        x = self.maxpool1(x)\n",
    "        x = self.conv2(x)\n",
    "        x = self.relu2(x)\n",
    "        x = self.maxpool2(x)\n",
    "        x = self.conv3(x)\n",
    "        x = self.relu3(x)\n",
    "        out_flat = x.view(cur_b_size, -1)\n",
    "        y = self.fc(out_flat)\n",
    "        return y\n",
    "    \n",
    "def count_model_params(model):\n",
    "    \"\"\" Counting the number of learnable parameters in a nn.Module \"\"\"\n",
    "    num_params = sum(p.numel() for p in model.parameters() if p.requires_grad)\n",
    "    return num_params"
   ]
  },
  {
   "cell_type": "markdown",
   "metadata": {},
   "source": [
    "### Training the model"
   ]
  },
  {
   "cell_type": "code",
   "execution_count": 11,
   "metadata": {
    "ExecuteTime": {
     "end_time": "2023-10-26T11:28:27.714358200Z",
     "start_time": "2023-10-26T11:28:27.620630Z"
    }
   },
   "outputs": [],
   "source": [
    "from tqdm import tqdm"
   ]
  },
  {
   "cell_type": "code",
   "execution_count": 12,
   "metadata": {
    "ExecuteTime": {
     "end_time": "2023-10-26T11:28:27.714358200Z",
     "start_time": "2023-10-26T11:28:27.620630Z"
    }
   },
   "outputs": [],
   "source": [
    "NUM_EPOCHS = int(config[\"NUM_EPOCHS\"])\n",
    "LR = float(config[\"LR\"])"
   ]
  },
  {
   "cell_type": "code",
   "execution_count": 13,
   "metadata": {
    "ExecuteTime": {
     "end_time": "2023-10-26T11:28:27.714358200Z",
     "start_time": "2023-10-26T11:28:27.636252100Z"
    }
   },
   "outputs": [],
   "source": [
    "device = torch.device(\"cuda\" if torch.cuda.is_available() else \"cpu\")\n",
    "model = CNN()\n",
    "model = model.to(device)"
   ]
  },
  {
   "cell_type": "code",
   "execution_count": 14,
   "metadata": {
    "ExecuteTime": {
     "end_time": "2023-10-26T11:28:27.714358200Z",
     "start_time": "2023-10-26T11:28:27.667494Z"
    }
   },
   "outputs": [],
   "source": [
    "criterion = nn.CrossEntropyLoss()  # Note, that this already includes a Softmax!\n",
    "optimizer = torch.optim.Adam(model.parameters(), lr=LR)"
   ]
  },
  {
   "cell_type": "markdown",
   "metadata": {},
   "source": [
    "Training loop"
   ]
  },
  {
   "cell_type": "code",
   "execution_count": 15,
   "metadata": {
    "ExecuteTime": {
     "end_time": "2023-10-26T11:28:27.714358200Z",
     "start_time": "2023-10-26T11:28:27.683115600Z"
    }
   },
   "outputs": [],
   "source": [
    "# For saving models and checkpoints later\n",
    "if(not os.path.exists(\"models\")):\n",
    "    os.makedirs(\"models\")"
   ]
  },
  {
   "cell_type": "code",
   "execution_count": 16,
   "metadata": {
    "ExecuteTime": {
     "end_time": "2023-10-26T11:34:15.872029Z",
     "start_time": "2023-10-26T11:28:27.714358200Z"
    }
   },
   "outputs": [
    {
     "name": "stderr",
     "output_type": "stream",
     "text": [
      "  0%|          | 0/782 [00:00<?, ?it/s]"
     ]
    },
    {
     "name": "stdout",
     "output_type": "stream",
     "text": [
      "test accuracy: 8.96%\n"
     ]
    },
    {
     "name": "stderr",
     "output_type": "stream",
     "text": [
      "Epoch 1 Iter 782: loss 0.87712. : 100%|██████████| 782/782 [00:04<00:00, 188.67it/s]\n",
      "  0%|          | 0/782 [00:00<?, ?it/s]"
     ]
    },
    {
     "name": "stdout",
     "output_type": "stream",
     "text": [
      "test accuracy: 59.29%\n"
     ]
    },
    {
     "name": "stderr",
     "output_type": "stream",
     "text": [
      "Epoch 2 Iter 782: loss 0.65593. : 100%|██████████| 782/782 [00:03<00:00, 197.81it/s]\n",
      "  0%|          | 0/782 [00:00<?, ?it/s]"
     ]
    },
    {
     "name": "stdout",
     "output_type": "stream",
     "text": [
      "test accuracy: 65.97%\n"
     ]
    },
    {
     "name": "stderr",
     "output_type": "stream",
     "text": [
      "Epoch 3 Iter 782: loss 1.16435. : 100%|██████████| 782/782 [00:04<00:00, 192.38it/s]\n",
      "  0%|          | 0/782 [00:00<?, ?it/s]"
     ]
    },
    {
     "name": "stdout",
     "output_type": "stream",
     "text": [
      "test accuracy: 71.31%\n"
     ]
    },
    {
     "name": "stderr",
     "output_type": "stream",
     "text": [
      "Epoch 4 Iter 782: loss 0.30201. : 100%|██████████| 782/782 [00:03<00:00, 195.95it/s]\n",
      "  0%|          | 0/782 [00:00<?, ?it/s]"
     ]
    },
    {
     "name": "stdout",
     "output_type": "stream",
     "text": [
      "test accuracy: 71.8%\n"
     ]
    },
    {
     "name": "stderr",
     "output_type": "stream",
     "text": [
      "Epoch 5 Iter 782: loss 0.28211. : 100%|██████████| 782/782 [00:04<00:00, 181.89it/s]\n",
      "  0%|          | 0/782 [00:00<?, ?it/s]"
     ]
    },
    {
     "name": "stdout",
     "output_type": "stream",
     "text": [
      "test accuracy: 73.53%\n"
     ]
    },
    {
     "name": "stderr",
     "output_type": "stream",
     "text": [
      "Epoch 6 Iter 782: loss 0.36777. : 100%|██████████| 782/782 [00:03<00:00, 198.82it/s]\n",
      "  0%|          | 0/782 [00:00<?, ?it/s]"
     ]
    },
    {
     "name": "stdout",
     "output_type": "stream",
     "text": [
      "test accuracy: 73.6%\n"
     ]
    },
    {
     "name": "stderr",
     "output_type": "stream",
     "text": [
      "Epoch 7 Iter 782: loss 0.65250. : 100%|██████████| 782/782 [00:04<00:00, 183.95it/s]\n",
      "  0%|          | 0/782 [00:00<?, ?it/s]"
     ]
    },
    {
     "name": "stdout",
     "output_type": "stream",
     "text": [
      "test accuracy: 75.79%\n"
     ]
    },
    {
     "name": "stderr",
     "output_type": "stream",
     "text": [
      "Epoch 8 Iter 782: loss 0.46136. : 100%|██████████| 782/782 [00:04<00:00, 185.61it/s]\n",
      "  0%|          | 0/782 [00:00<?, ?it/s]"
     ]
    },
    {
     "name": "stdout",
     "output_type": "stream",
     "text": [
      "test accuracy: 74.93%\n"
     ]
    },
    {
     "name": "stderr",
     "output_type": "stream",
     "text": [
      "Epoch 9 Iter 782: loss 0.13926. : 100%|██████████| 782/782 [00:04<00:00, 185.57it/s]\n",
      "  0%|          | 0/782 [00:00<?, ?it/s]"
     ]
    },
    {
     "name": "stdout",
     "output_type": "stream",
     "text": [
      "test accuracy: 75.58%\n"
     ]
    },
    {
     "name": "stderr",
     "output_type": "stream",
     "text": [
      "Epoch 10 Iter 782: loss 0.35633. : 100%|██████████| 782/782 [00:03<00:00, 196.92it/s]\n",
      "  0%|          | 0/782 [00:00<?, ?it/s]"
     ]
    },
    {
     "name": "stdout",
     "output_type": "stream",
     "text": [
      "test accuracy: 75.4%\n"
     ]
    },
    {
     "name": "stderr",
     "output_type": "stream",
     "text": [
      "Epoch 11 Iter 782: loss 0.10333. : 100%|██████████| 782/782 [00:03<00:00, 200.87it/s]\n",
      "  0%|          | 0/782 [00:00<?, ?it/s]"
     ]
    },
    {
     "name": "stdout",
     "output_type": "stream",
     "text": [
      "test accuracy: 75.23%\n"
     ]
    },
    {
     "name": "stderr",
     "output_type": "stream",
     "text": [
      "Epoch 12 Iter 782: loss 0.00942. : 100%|██████████| 782/782 [00:03<00:00, 196.19it/s]\n",
      "  0%|          | 0/782 [00:00<?, ?it/s]"
     ]
    },
    {
     "name": "stdout",
     "output_type": "stream",
     "text": [
      "test accuracy: 75.03%\n"
     ]
    },
    {
     "name": "stderr",
     "output_type": "stream",
     "text": [
      "Epoch 13 Iter 782: loss 0.08094. : 100%|██████████| 782/782 [00:04<00:00, 184.35it/s]\n",
      "  0%|          | 0/782 [00:00<?, ?it/s]"
     ]
    },
    {
     "name": "stdout",
     "output_type": "stream",
     "text": [
      "test accuracy: 73.63%\n"
     ]
    },
    {
     "name": "stderr",
     "output_type": "stream",
     "text": [
      "Epoch 14 Iter 782: loss 0.09876. : 100%|██████████| 782/782 [00:03<00:00, 201.26it/s]\n",
      "  0%|          | 0/782 [00:00<?, ?it/s]"
     ]
    },
    {
     "name": "stdout",
     "output_type": "stream",
     "text": [
      "test accuracy: 73.66%\n"
     ]
    },
    {
     "name": "stderr",
     "output_type": "stream",
     "text": [
      "Epoch 15 Iter 782: loss 0.01775. : 100%|██████████| 782/782 [00:03<00:00, 204.57it/s]\n",
      "  0%|          | 0/782 [00:00<?, ?it/s]"
     ]
    },
    {
     "name": "stdout",
     "output_type": "stream",
     "text": [
      "test accuracy: 74.48%\n"
     ]
    },
    {
     "name": "stderr",
     "output_type": "stream",
     "text": [
      "Epoch 16 Iter 782: loss 0.11617. : 100%|██████████| 782/782 [00:03<00:00, 200.37it/s]\n",
      "  0%|          | 0/782 [00:00<?, ?it/s]"
     ]
    },
    {
     "name": "stdout",
     "output_type": "stream",
     "text": [
      "test accuracy: 75.1%\n"
     ]
    },
    {
     "name": "stderr",
     "output_type": "stream",
     "text": [
      "Epoch 17 Iter 782: loss 0.00289. : 100%|██████████| 782/782 [00:04<00:00, 193.27it/s]\n",
      "  0%|          | 0/782 [00:00<?, ?it/s]"
     ]
    },
    {
     "name": "stdout",
     "output_type": "stream",
     "text": [
      "test accuracy: 74.89%\n"
     ]
    },
    {
     "name": "stderr",
     "output_type": "stream",
     "text": [
      "Epoch 18 Iter 782: loss 0.02040. : 100%|██████████| 782/782 [00:04<00:00, 192.16it/s]\n",
      "  0%|          | 0/782 [00:00<?, ?it/s]"
     ]
    },
    {
     "name": "stdout",
     "output_type": "stream",
     "text": [
      "test accuracy: 73.89%\n"
     ]
    },
    {
     "name": "stderr",
     "output_type": "stream",
     "text": [
      "Epoch 19 Iter 782: loss 0.01923. : 100%|██████████| 782/782 [00:04<00:00, 181.50it/s]\n",
      "  0%|          | 0/782 [00:00<?, ?it/s]"
     ]
    },
    {
     "name": "stdout",
     "output_type": "stream",
     "text": [
      "test accuracy: 74.54%\n"
     ]
    },
    {
     "name": "stderr",
     "output_type": "stream",
     "text": [
      "Epoch 20 Iter 782: loss 0.01763. : 100%|██████████| 782/782 [00:03<00:00, 200.82it/s]\n"
     ]
    }
   ],
   "source": [
    "test_loss_list = []\n",
    "train_loss_list = []\n",
    "test_accuracy_list = []\n",
    "train_accuracy_list = []\n",
    "# Initialize lists to store gradient information\n",
    "gradients = []\n",
    "gradient_norms = []\n",
    "gradient_max_values = []\n",
    "gradient_min_values = []\n",
    "best_loss = 100\n",
    "for epoch in range(NUM_EPOCHS):\n",
    "    progress_bar = tqdm(trainloader, total=len(trainloader))\n",
    "\n",
    "    # Calculate test loss, accuracy for currently trained model\n",
    "    model.eval()\n",
    "    test_loss = 0.0\n",
    "    correct = 0\n",
    "    total = 0\n",
    "\n",
    "    with torch.no_grad():\n",
    "        for data in testloader:\n",
    "            images_test, labels_test = data\n",
    "            # using GPU for inference\n",
    "            images_test, labels_test = images_test.to(device), labels_test.to(device)\n",
    "            # calculate model outputs\n",
    "            outputs_test = model(images_test)\n",
    "            # calculate test loss\n",
    "            loss = criterion(outputs_test, labels_test)\n",
    "            test_loss += loss.item()\n",
    "            # derive model predictions from out outputs\n",
    "            predicted = torch.argmax(outputs_test, dim = -1)\n",
    "            # calculate accuracy\n",
    "            total += labels_test.size(0)\n",
    "            correct += (predicted == labels_test).sum().item()\n",
    "\n",
    "        test_loss /= len(testloader)\n",
    "        accuracy = 100 * correct / total\n",
    "\n",
    "        print(f\"test accuracy: {accuracy}%\")\n",
    "\n",
    "        # Potentially prevent overfitting\n",
    "        if test_loss < best_loss:\n",
    "            best_loss = loss\n",
    "            torch.save({\n",
    "                'epoch': epoch,\n",
    "                'model_state_dict': model.state_dict(),\n",
    "                'optimizer_state_dict': optimizer.state_dict(),\n",
    "            }, f\"models/checkpoint_epoch_{epoch}.pth\")\n",
    "        #saving the best checkpoint\n",
    "        \n",
    "    test_loss_list.append(test_loss)\n",
    "    test_accuracy_list.append(accuracy)\n",
    "    \n",
    "    # Turn model back to training mode\n",
    "    model.train()\n",
    "\n",
    "    train_loss_list_iter = []\n",
    "    train_accuracy_list_iter = []\n",
    "    for i, (imgs, labels) in enumerate(progress_bar):\n",
    "\n",
    "        # using GPU\n",
    "        imgs, labels = imgs.to(device), labels.to(device)\n",
    "    \n",
    "        # forward pass\n",
    "        preds = model(imgs)\n",
    "\n",
    "        # calculate accuracy\n",
    "        with torch.no_grad():\n",
    "            predicted = preds.argmax(dim=-1)\n",
    "            correct = (predicted == labels).sum().item()\n",
    "            accuracy = correct/labels.shape[0] * 100\n",
    "\n",
    "        train_accuracy_list_iter.append(accuracy)\n",
    "\n",
    "        # computing error\n",
    "        loss = criterion(preds, labels)\n",
    "        train_loss_list_iter.append(loss.item())\n",
    "        # removing accumulated gradients\n",
    "        optimizer.zero_grad()\n",
    "    \n",
    "        # backprogating error to compute gradients\n",
    "        loss.backward()\n",
    "    \n",
    "        # updating parameters\n",
    "        optimizer.step()\n",
    "\n",
    "        '''In the following we calculate gradient information!'''\n",
    "        \n",
    "        # Calculate gradient information\n",
    "        for name, param in model.named_parameters():\n",
    "            # Tracking the matrices led to oom errors\n",
    "            if name in ['layers.0.bias']:\n",
    "                gradients.append(param.grad)\n",
    "                gradient_norms.append(torch.norm(param.grad).item())\n",
    "                gradient_max_values.append(param.grad.max().item())\n",
    "                gradient_min_values.append(param.grad.min().item())\n",
    "\n",
    "        '''Stop calculating gradient inforamtion'''\n",
    "    \n",
    "        if(i % 10 == 0 or i == len(trainloader) - 1):\n",
    "            progress_bar.set_description(f\"Epoch {epoch + 1} Iter {i + 1}: loss {loss.item():.5f}. \")\n",
    "    train_accuracy_list.append(np.mean(train_accuracy_list_iter))\n",
    "    train_loss_list.append(np.mean(train_loss_list_iter))"
   ]
  },
  {
   "cell_type": "markdown",
   "metadata": {},
   "source": [
    "evaluating the model"
   ]
  },
  {
   "cell_type": "code",
   "execution_count": 17,
   "metadata": {
    "ExecuteTime": {
     "end_time": "2023-10-26T11:34:21.093866700Z",
     "start_time": "2023-10-26T11:34:15.887650500Z"
    },
    "collapsed": false,
    "jupyter": {
     "outputs_hidden": false
    }
   },
   "outputs": [
    {
     "name": "stderr",
     "output_type": "stream",
     "text": [
      "  0%|          | 0/157 [00:00<?, ?it/s]"
     ]
    },
    {
     "name": "stderr",
     "output_type": "stream",
     "text": [
      "100%|██████████| 157/157 [00:00<00:00, 253.79it/s]"
     ]
    },
    {
     "name": "stdout",
     "output_type": "stream",
     "text": [
      "Test accuracy: 73.28%\n"
     ]
    },
    {
     "name": "stderr",
     "output_type": "stream",
     "text": [
      "\n"
     ]
    }
   ],
   "source": [
    "n_correct = 0\n",
    "with torch.no_grad():\n",
    "    progress_bar = tqdm(enumerate(testloader), total=len(testloader))\n",
    "    for i, (imgs, labels) in progress_bar:\n",
    "        #everything needs to be on the same device\n",
    "        imgs = imgs.to(device)\n",
    "        labels = labels.to(device)\n",
    "\n",
    "        # forward pass\n",
    "        preds = model(imgs)\n",
    "\n",
    "        pred_labels = torch.argmax(preds, dim=-1)\n",
    "        cur_correct = len(torch.where(pred_labels == labels)[0])\n",
    "        n_correct = n_correct + cur_correct\n",
    "\n",
    "\n",
    "accuracy = n_correct / len(test_dataset) * 100\n",
    "print(f\"Test accuracy: {round(accuracy,2)}%\")"
   ]
  },
  {
   "cell_type": "markdown",
   "metadata": {},
   "source": [
    "### Visualization: Loss curves and accuracy development"
   ]
  },
  {
   "cell_type": "code",
   "execution_count": 18,
   "metadata": {},
   "outputs": [
    {
     "data": {
      "image/png": "[encoded data removed]",
      "text/plain": [
       "<Figure size 1000x500 with 1 Axes>"
      ]
     },
     "metadata": {},
     "output_type": "display_data"
    },
    {
     "data": {
      "image/png": "[encoded data removed]",
      "text/plain": [
       "<Figure size 1000x500 with 1 Axes>"
      ]
     },
     "metadata": {},
     "output_type": "display_data"
    }
   ],
   "source": [
    "utils.plot_loss_epoch(train_loss_list,  test_loss_list)\n",
    "utils.plot_accuracy_epoch(test_accuracy_list, train_accuracy=train_accuracy_list)"
   ]
  },
  {
   "cell_type": "markdown",
   "metadata": {},
   "source": [
    "Training and Test Loss develop as expected. At around epoch 10 the model becomes overconfident in its own predictions, which is why the test loss inceases but the test accuracy stays mostly at the same level"
   ]
  },
  {
   "cell_type": "markdown",
   "metadata": {},
   "source": [
    "# Evaluation without hyperparameter optimization\n",
    "Here we achieved an accuracy of 73.1%. We observe a significant increase from the MLP, which achieves an accuracy of around 50%. It is very likely, that the CNN makes better use of the spatial features of an image than the simple MLP. "
   ]
  },
  {
   "cell_type": "markdown",
   "metadata": {},
   "source": [
    "Next we want to \"somewhat optimize\" our hyperparameters using optuna"
   ]
  },
  {
   "cell_type": "markdown",
   "metadata": {},
   "source": [
    "### Hyperparameter optimization using optuna"
   ]
  },
  {
   "cell_type": "code",
   "execution_count": 19,
   "metadata": {},
   "outputs": [],
   "source": [
    "import optuna\n",
    "from optuna.trial import TrialState"
   ]
  },
  {
   "cell_type": "code",
   "execution_count": 20,
   "metadata": {},
   "outputs": [],
   "source": [
    "class OptCNN(nn.Module):\n",
    "    def __init__(self, kernel_size1, kernel_size2, kernel_size3, padding1, padding2, padding3):\n",
    "        super().__init__()\n",
    "        self.conv1 = nn.Conv2d(in_channels=3, out_channels=64, kernel_size=kernel_size1, stride=1, padding=padding1)\n",
    "        self.relu1 = nn.ReLU()\n",
    "        self.maxpool1 = nn.MaxPool2d(kernel_size=2)\n",
    "        self.conv2 = nn.Conv2d(in_channels=64, out_channels=128, kernel_size=kernel_size2, stride=1, padding=padding2)\n",
    "        self.relu2 = nn.ReLU()\n",
    "        self.maxpool2 = nn.MaxPool2d(kernel_size=2)\n",
    "        self.conv3 = nn.Conv2d(in_channels=128, out_channels=256, kernel_size=kernel_size3, stride=1, padding=padding3)\n",
    "        self.relu3 = nn.ReLU()\n",
    "        self.in_dim = 256 * 8 * 8\n",
    "        self.fc = nn.Linear(in_features=self.in_dim, out_features=10)\n",
    "        \n",
    "    def forward(self, x):\n",
    "        \"\"\" Forward pass \"\"\"\n",
    "        cur_b_size = x.shape[0]\n",
    "        x = self.conv1(x)\n",
    "        x = self.relu1(x)\n",
    "        x = self.maxpool1(x)\n",
    "        x = self.conv2(x)\n",
    "        x = self.relu2(x)\n",
    "        x = self.maxpool2(x)\n",
    "        x = self.conv3(x)\n",
    "        x = self.relu3(x)\n",
    "        out_flat = x.view(cur_b_size, -1)\n",
    "        y = self.fc(out_flat)\n",
    "        return y\n",
    "    "
   ]
  },
  {
   "cell_type": "code",
   "execution_count": 21,
   "metadata": {},
   "outputs": [],
   "source": [
    "def define_model(trial):\n",
    "    # Suggest hyperparameters to optimize\n",
    "    kernel_size1 = trial.suggest_categorical('kernel_size1', [3, 5])\n",
    "    kernel_size2 = trial.suggest_categorical('kernel_size2', [3, 5])\n",
    "    kernel_size3 = trial.suggest_categorical('kernel_size3', [3, 5])\n",
    "\n",
    "    # Calculate padding based on kernel sizes\n",
    "    padding1 = 1 if kernel_size1 == 3 else 2\n",
    "    padding2 = 1 if kernel_size2 == 3 else 2\n",
    "    padding3 = 1 if kernel_size3 == 3 else 2\n",
    "\n",
    "    # Create the CNN model with suggested hyperparameters\n",
    "    model = OptCNN(kernel_size1, kernel_size2, kernel_size3, padding1, padding2, padding3)\n",
    "    return model"
   ]
  },
  {
   "cell_type": "code",
   "execution_count": 22,
   "metadata": {},
   "outputs": [],
   "source": [
    "\n",
    "# Define the objective function for Optuna\n",
    "def objective(trial):\n",
    "\n",
    "    # Define the model\n",
    "    model = define_model(trial)\n",
    "    model = model.to(device)\n",
    "    lr = trial.suggest_loguniform('learning_rate', 1e-6, 1e-3)\n",
    "    optimizer = torch.optim.Adam(model.parameters(), lr=1e-3)\n",
    "    \n",
    "    # Training Loop\n",
    "    for epoch in range(NUM_EPOCHS):\n",
    "        progress_bar = tqdm(trainloader, total=len(trainloader))\n",
    "        for i, (imgs, labels) in enumerate(progress_bar):\n",
    "\n",
    "            # using GPU\n",
    "            imgs, labels = imgs.to(device), labels.to(device)\n",
    "        \n",
    "            # forward pass\n",
    "            preds = model(imgs)\n",
    "\n",
    "            # calculate accuracy\n",
    "            with torch.no_grad():\n",
    "                predicted = preds.argmax(dim=-1)\n",
    "                correct = (predicted == labels).sum().item()\n",
    "                accuracy = correct/labels.shape[0]\n",
    "\n",
    "            train_accuracy_list.append(accuracy)\n",
    "\n",
    "            # computing error\n",
    "            loss = criterion(preds, labels)\n",
    "            train_loss_list.append(loss.item())\n",
    "            # removing accumulated gradients\n",
    "            optimizer.zero_grad()\n",
    "        \n",
    "            # backprogating error to compute gradients\n",
    "            loss.backward()\n",
    "        \n",
    "            # updating parameters\n",
    "            optimizer.step()\n",
    "        \n",
    "            if(i % 10 == 0 or i == len(trainloader) - 1):\n",
    "                progress_bar.set_description(f\"Epoch {epoch + 1} Iter {i + 1}: loss {loss.item():.5f}. \")\n",
    "\n",
    "    # Evaluate the model\n",
    "    correct = 0\n",
    "    total = 0\n",
    "    with torch.no_grad():\n",
    "        for data in testloader:\n",
    "            images, labels = data\n",
    "            images = images.to(device)\n",
    "            labels = labels.to(device)\n",
    "            outputs = model(images)\n",
    "            _, predicted = torch.max(outputs.data, 1)\n",
    "            total += labels.size(0)\n",
    "            correct += (predicted == labels).sum().item()\n",
    "\n",
    "    accuracy = 100 * correct / total\n",
    "\n",
    "    # prune some trials that are doomed to save time\n",
    "    if trial.should_prune():\n",
    "        raise optuna.exceptions.TrialPruned()\n",
    "\n",
    "    return accuracy\n",
    "\n"
   ]
  },
  {
   "cell_type": "code",
   "execution_count": 23,
   "metadata": {},
   "outputs": [
    {
     "name": "stderr",
     "output_type": "stream",
     "text": [
      "[I 2023-11-03 17:56:07,078] A new study created in memory with name: no-name-e17f9579-2d13-48de-b1f4-6cd4898f715b\n",
      "/tmp/ipykernel_2852842/789317585.py:7: FutureWarning: suggest_loguniform has been deprecated in v3.0.0. This feature will be removed in v6.0.0. See https://github.com/optuna/optuna/releases/tag/v3.0.0. Use suggest_float(..., log=True) instead.\n",
      "  lr = trial.suggest_loguniform('learning_rate', 1e-6, 1e-3)\n",
      "Epoch 1 Iter 11: loss 2.23314. :   0%|          | 2/782 [00:00<00:43, 18.06it/s]"
     ]
    },
    {
     "name": "stderr",
     "output_type": "stream",
     "text": [
      "Epoch 1 Iter 782: loss 0.89721. : 100%|██████████| 782/782 [00:03<00:00, 226.67it/s]\n",
      "Epoch 2 Iter 782: loss 0.82841. : 100%|██████████| 782/782 [00:03<00:00, 241.74it/s]\n",
      "Epoch 3 Iter 782: loss 0.92581. : 100%|██████████| 782/782 [00:03<00:00, 250.07it/s]\n",
      "Epoch 4 Iter 711: loss 0.51170. :  92%|█████████▏| 718/782 [00:03<00:00, 230.14it/s]\n",
      "[W 2023-11-03 17:56:20,024] Trial 0 failed with parameters: {'kernel_size1': 5, 'kernel_size2': 3, 'kernel_size3': 3, 'learning_rate': 4.4210358942144625e-06} because of the following error: KeyboardInterrupt().\n",
      "Traceback (most recent call last):\n",
      "  File \"/home/user/lschulze/anaconda3/envs/lab2/lib/python3.10/site-packages/optuna/study/_optimize.py\", line 200, in _run_trial\n",
      "    value_or_values = func(trial)\n",
      "  File \"/tmp/ipykernel_2852842/789317585.py\", line 39, in objective\n",
      "    optimizer.step()\n",
      "  File \"/home/user/lschulze/anaconda3/envs/lab2/lib/python3.10/site-packages/torch/optim/optimizer.py\", line 373, in wrapper\n",
      "    out = func(*args, **kwargs)\n",
      "  File \"/home/user/lschulze/anaconda3/envs/lab2/lib/python3.10/site-packages/torch/optim/optimizer.py\", line 76, in _use_grad\n",
      "    ret = func(self, *args, **kwargs)\n",
      "  File \"/home/user/lschulze/anaconda3/envs/lab2/lib/python3.10/site-packages/torch/optim/adam.py\", line 163, in step\n",
      "    adam(\n",
      "  File \"/home/user/lschulze/anaconda3/envs/lab2/lib/python3.10/site-packages/torch/optim/adam.py\", line 311, in adam\n",
      "    func(params,\n",
      "  File \"/home/user/lschulze/anaconda3/envs/lab2/lib/python3.10/site-packages/torch/optim/adam.py\", line 565, in _multi_tensor_adam\n",
      "    exp_avg_sq_sqrt = torch._foreach_sqrt(device_exp_avg_sqs)\n",
      "KeyboardInterrupt\n",
      "[W 2023-11-03 17:56:20,025] Trial 0 failed with value None.\n"
     ]
    },
    {
     "ename": "KeyboardInterrupt",
     "evalue": "",
     "output_type": "error",
     "traceback": [
      "\u001b[0;31m---------------------------------------------------------------------------\u001b[0m",
      "\u001b[0;31mKeyboardInterrupt\u001b[0m                         Traceback (most recent call last)",
      "\u001b[1;32m/home/user/lschulze/projects/CudaVisionWS23/Assignment2/assignment_2_luke.ipynb Cell 35\u001b[0m line \u001b[0;36m3\n\u001b[1;32m      <a href='vscode-notebook-cell://ssh-remote%2Bcuda6.informatik.uni-bonn.de/home/user/lschulze/projects/CudaVisionWS23/Assignment2/assignment_2_luke.ipynb#X46sdnNjb2RlLXJlbW90ZQ%3D%3D?line=0'>1</a>\u001b[0m \u001b[39m# Create a study and optimize\u001b[39;00m\n\u001b[1;32m      <a href='vscode-notebook-cell://ssh-remote%2Bcuda6.informatik.uni-bonn.de/home/user/lschulze/projects/CudaVisionWS23/Assignment2/assignment_2_luke.ipynb#X46sdnNjb2RlLXJlbW90ZQ%3D%3D?line=1'>2</a>\u001b[0m study \u001b[39m=\u001b[39m optuna\u001b[39m.\u001b[39mcreate_study(direction\u001b[39m=\u001b[39m\u001b[39m\"\u001b[39m\u001b[39mmaximize\u001b[39m\u001b[39m\"\u001b[39m)  \u001b[39m# maximize accuracy\u001b[39;00m\n\u001b[0;32m----> <a href='vscode-notebook-cell://ssh-remote%2Bcuda6.informatik.uni-bonn.de/home/user/lschulze/projects/CudaVisionWS23/Assignment2/assignment_2_luke.ipynb#X46sdnNjb2RlLXJlbW90ZQ%3D%3D?line=2'>3</a>\u001b[0m study\u001b[39m.\u001b[39;49moptimize(objective, n_trials\u001b[39m=\u001b[39;49m\u001b[39m50\u001b[39;49m)\n\u001b[1;32m      <a href='vscode-notebook-cell://ssh-remote%2Bcuda6.informatik.uni-bonn.de/home/user/lschulze/projects/CudaVisionWS23/Assignment2/assignment_2_luke.ipynb#X46sdnNjb2RlLXJlbW90ZQ%3D%3D?line=4'>5</a>\u001b[0m \u001b[39m# Print the best hyperparameters\u001b[39;00m\n\u001b[1;32m      <a href='vscode-notebook-cell://ssh-remote%2Bcuda6.informatik.uni-bonn.de/home/user/lschulze/projects/CudaVisionWS23/Assignment2/assignment_2_luke.ipynb#X46sdnNjb2RlLXJlbW90ZQ%3D%3D?line=5'>6</a>\u001b[0m \u001b[39mprint\u001b[39m(\u001b[39m\"\u001b[39m\u001b[39mNumber of finished trials: \u001b[39m\u001b[39m\"\u001b[39m, \u001b[39mlen\u001b[39m(study\u001b[39m.\u001b[39mtrials))\n",
      "File \u001b[0;32m~/anaconda3/envs/lab2/lib/python3.10/site-packages/optuna/study/study.py:451\u001b[0m, in \u001b[0;36mStudy.optimize\u001b[0;34m(self, func, n_trials, timeout, n_jobs, catch, callbacks, gc_after_trial, show_progress_bar)\u001b[0m\n\u001b[1;32m    348\u001b[0m \u001b[39mdef\u001b[39;00m \u001b[39moptimize\u001b[39m(\n\u001b[1;32m    349\u001b[0m     \u001b[39mself\u001b[39m,\n\u001b[1;32m    350\u001b[0m     func: ObjectiveFuncType,\n\u001b[0;32m   (...)\u001b[0m\n\u001b[1;32m    357\u001b[0m     show_progress_bar: \u001b[39mbool\u001b[39m \u001b[39m=\u001b[39m \u001b[39mFalse\u001b[39;00m,\n\u001b[1;32m    358\u001b[0m ) \u001b[39m-\u001b[39m\u001b[39m>\u001b[39m \u001b[39mNone\u001b[39;00m:\n\u001b[1;32m    359\u001b[0m \u001b[39m    \u001b[39m\u001b[39m\"\"\"Optimize an objective function.\u001b[39;00m\n\u001b[1;32m    360\u001b[0m \n\u001b[1;32m    361\u001b[0m \u001b[39m    Optimization is done by choosing a suitable set of hyperparameter values from a given\u001b[39;00m\n\u001b[0;32m   (...)\u001b[0m\n\u001b[1;32m    449\u001b[0m \u001b[39m            If nested invocation of this method occurs.\u001b[39;00m\n\u001b[1;32m    450\u001b[0m \u001b[39m    \"\"\"\u001b[39;00m\n\u001b[0;32m--> 451\u001b[0m     _optimize(\n\u001b[1;32m    452\u001b[0m         study\u001b[39m=\u001b[39;49m\u001b[39mself\u001b[39;49m,\n\u001b[1;32m    453\u001b[0m         func\u001b[39m=\u001b[39;49mfunc,\n\u001b[1;32m    454\u001b[0m         n_trials\u001b[39m=\u001b[39;49mn_trials,\n\u001b[1;32m    455\u001b[0m         timeout\u001b[39m=\u001b[39;49mtimeout,\n\u001b[1;32m    456\u001b[0m         n_jobs\u001b[39m=\u001b[39;49mn_jobs,\n\u001b[1;32m    457\u001b[0m         catch\u001b[39m=\u001b[39;49m\u001b[39mtuple\u001b[39;49m(catch) \u001b[39mif\u001b[39;49;00m \u001b[39misinstance\u001b[39;49m(catch, Iterable) \u001b[39melse\u001b[39;49;00m (catch,),\n\u001b[1;32m    458\u001b[0m         callbacks\u001b[39m=\u001b[39;49mcallbacks,\n\u001b[1;32m    459\u001b[0m         gc_after_trial\u001b[39m=\u001b[39;49mgc_after_trial,\n\u001b[1;32m    460\u001b[0m         show_progress_bar\u001b[39m=\u001b[39;49mshow_progress_bar,\n\u001b[1;32m    461\u001b[0m     )\n",
      "File \u001b[0;32m~/anaconda3/envs/lab2/lib/python3.10/site-packages/optuna/study/_optimize.py:66\u001b[0m, in \u001b[0;36m_optimize\u001b[0;34m(study, func, n_trials, timeout, n_jobs, catch, callbacks, gc_after_trial, show_progress_bar)\u001b[0m\n\u001b[1;32m     64\u001b[0m \u001b[39mtry\u001b[39;00m:\n\u001b[1;32m     65\u001b[0m     \u001b[39mif\u001b[39;00m n_jobs \u001b[39m==\u001b[39m \u001b[39m1\u001b[39m:\n\u001b[0;32m---> 66\u001b[0m         _optimize_sequential(\n\u001b[1;32m     67\u001b[0m             study,\n\u001b[1;32m     68\u001b[0m             func,\n\u001b[1;32m     69\u001b[0m             n_trials,\n\u001b[1;32m     70\u001b[0m             timeout,\n\u001b[1;32m     71\u001b[0m             catch,\n\u001b[1;32m     72\u001b[0m             callbacks,\n\u001b[1;32m     73\u001b[0m             gc_after_trial,\n\u001b[1;32m     74\u001b[0m             reseed_sampler_rng\u001b[39m=\u001b[39;49m\u001b[39mFalse\u001b[39;49;00m,\n\u001b[1;32m     75\u001b[0m             time_start\u001b[39m=\u001b[39;49m\u001b[39mNone\u001b[39;49;00m,\n\u001b[1;32m     76\u001b[0m             progress_bar\u001b[39m=\u001b[39;49mprogress_bar,\n\u001b[1;32m     77\u001b[0m         )\n\u001b[1;32m     78\u001b[0m     \u001b[39melse\u001b[39;00m:\n\u001b[1;32m     79\u001b[0m         \u001b[39mif\u001b[39;00m n_jobs \u001b[39m==\u001b[39m \u001b[39m-\u001b[39m\u001b[39m1\u001b[39m:\n",
      "File \u001b[0;32m~/anaconda3/envs/lab2/lib/python3.10/site-packages/optuna/study/_optimize.py:163\u001b[0m, in \u001b[0;36m_optimize_sequential\u001b[0;34m(study, func, n_trials, timeout, catch, callbacks, gc_after_trial, reseed_sampler_rng, time_start, progress_bar)\u001b[0m\n\u001b[1;32m    160\u001b[0m         \u001b[39mbreak\u001b[39;00m\n\u001b[1;32m    162\u001b[0m \u001b[39mtry\u001b[39;00m:\n\u001b[0;32m--> 163\u001b[0m     frozen_trial \u001b[39m=\u001b[39m _run_trial(study, func, catch)\n\u001b[1;32m    164\u001b[0m \u001b[39mfinally\u001b[39;00m:\n\u001b[1;32m    165\u001b[0m     \u001b[39m# The following line mitigates memory problems that can be occurred in some\u001b[39;00m\n\u001b[1;32m    166\u001b[0m     \u001b[39m# environments (e.g., services that use computing containers such as GitHub Actions).\u001b[39;00m\n\u001b[1;32m    167\u001b[0m     \u001b[39m# Please refer to the following PR for further details:\u001b[39;00m\n\u001b[1;32m    168\u001b[0m     \u001b[39m# https://github.com/optuna/optuna/pull/325.\u001b[39;00m\n\u001b[1;32m    169\u001b[0m     \u001b[39mif\u001b[39;00m gc_after_trial:\n",
      "File \u001b[0;32m~/anaconda3/envs/lab2/lib/python3.10/site-packages/optuna/study/_optimize.py:251\u001b[0m, in \u001b[0;36m_run_trial\u001b[0;34m(study, func, catch)\u001b[0m\n\u001b[1;32m    244\u001b[0m         \u001b[39massert\u001b[39;00m \u001b[39mFalse\u001b[39;00m, \u001b[39m\"\u001b[39m\u001b[39mShould not reach.\u001b[39m\u001b[39m\"\u001b[39m\n\u001b[1;32m    246\u001b[0m \u001b[39mif\u001b[39;00m (\n\u001b[1;32m    247\u001b[0m     frozen_trial\u001b[39m.\u001b[39mstate \u001b[39m==\u001b[39m TrialState\u001b[39m.\u001b[39mFAIL\n\u001b[1;32m    248\u001b[0m     \u001b[39mand\u001b[39;00m func_err \u001b[39mis\u001b[39;00m \u001b[39mnot\u001b[39;00m \u001b[39mNone\u001b[39;00m\n\u001b[1;32m    249\u001b[0m     \u001b[39mand\u001b[39;00m \u001b[39mnot\u001b[39;00m \u001b[39misinstance\u001b[39m(func_err, catch)\n\u001b[1;32m    250\u001b[0m ):\n\u001b[0;32m--> 251\u001b[0m     \u001b[39mraise\u001b[39;00m func_err\n\u001b[1;32m    252\u001b[0m \u001b[39mreturn\u001b[39;00m frozen_trial\n",
      "File \u001b[0;32m~/anaconda3/envs/lab2/lib/python3.10/site-packages/optuna/study/_optimize.py:200\u001b[0m, in \u001b[0;36m_run_trial\u001b[0;34m(study, func, catch)\u001b[0m\n\u001b[1;32m    198\u001b[0m \u001b[39mwith\u001b[39;00m get_heartbeat_thread(trial\u001b[39m.\u001b[39m_trial_id, study\u001b[39m.\u001b[39m_storage):\n\u001b[1;32m    199\u001b[0m     \u001b[39mtry\u001b[39;00m:\n\u001b[0;32m--> 200\u001b[0m         value_or_values \u001b[39m=\u001b[39m func(trial)\n\u001b[1;32m    201\u001b[0m     \u001b[39mexcept\u001b[39;00m exceptions\u001b[39m.\u001b[39mTrialPruned \u001b[39mas\u001b[39;00m e:\n\u001b[1;32m    202\u001b[0m         \u001b[39m# TODO(mamu): Handle multi-objective cases.\u001b[39;00m\n\u001b[1;32m    203\u001b[0m         state \u001b[39m=\u001b[39m TrialState\u001b[39m.\u001b[39mPRUNED\n",
      "\u001b[1;32m/home/user/lschulze/projects/CudaVisionWS23/Assignment2/assignment_2_luke.ipynb Cell 35\u001b[0m line \u001b[0;36m3\n\u001b[1;32m     <a href='vscode-notebook-cell://ssh-remote%2Bcuda6.informatik.uni-bonn.de/home/user/lschulze/projects/CudaVisionWS23/Assignment2/assignment_2_luke.ipynb#X46sdnNjb2RlLXJlbW90ZQ%3D%3D?line=35'>36</a>\u001b[0m loss\u001b[39m.\u001b[39mbackward()\n\u001b[1;32m     <a href='vscode-notebook-cell://ssh-remote%2Bcuda6.informatik.uni-bonn.de/home/user/lschulze/projects/CudaVisionWS23/Assignment2/assignment_2_luke.ipynb#X46sdnNjb2RlLXJlbW90ZQ%3D%3D?line=37'>38</a>\u001b[0m \u001b[39m# updating parameters\u001b[39;00m\n\u001b[0;32m---> <a href='vscode-notebook-cell://ssh-remote%2Bcuda6.informatik.uni-bonn.de/home/user/lschulze/projects/CudaVisionWS23/Assignment2/assignment_2_luke.ipynb#X46sdnNjb2RlLXJlbW90ZQ%3D%3D?line=38'>39</a>\u001b[0m optimizer\u001b[39m.\u001b[39;49mstep()\n\u001b[1;32m     <a href='vscode-notebook-cell://ssh-remote%2Bcuda6.informatik.uni-bonn.de/home/user/lschulze/projects/CudaVisionWS23/Assignment2/assignment_2_luke.ipynb#X46sdnNjb2RlLXJlbW90ZQ%3D%3D?line=40'>41</a>\u001b[0m \u001b[39mif\u001b[39;00m(i \u001b[39m%\u001b[39m \u001b[39m10\u001b[39m \u001b[39m==\u001b[39m \u001b[39m0\u001b[39m \u001b[39mor\u001b[39;00m i \u001b[39m==\u001b[39m \u001b[39mlen\u001b[39m(trainloader) \u001b[39m-\u001b[39m \u001b[39m1\u001b[39m):\n\u001b[1;32m     <a href='vscode-notebook-cell://ssh-remote%2Bcuda6.informatik.uni-bonn.de/home/user/lschulze/projects/CudaVisionWS23/Assignment2/assignment_2_luke.ipynb#X46sdnNjb2RlLXJlbW90ZQ%3D%3D?line=41'>42</a>\u001b[0m     progress_bar\u001b[39m.\u001b[39mset_description(\u001b[39mf\u001b[39m\u001b[39m\"\u001b[39m\u001b[39mEpoch \u001b[39m\u001b[39m{\u001b[39;00mepoch\u001b[39m \u001b[39m\u001b[39m+\u001b[39m\u001b[39m \u001b[39m\u001b[39m1\u001b[39m\u001b[39m}\u001b[39;00m\u001b[39m Iter \u001b[39m\u001b[39m{\u001b[39;00mi\u001b[39m \u001b[39m\u001b[39m+\u001b[39m\u001b[39m \u001b[39m\u001b[39m1\u001b[39m\u001b[39m}\u001b[39;00m\u001b[39m: loss \u001b[39m\u001b[39m{\u001b[39;00mloss\u001b[39m.\u001b[39mitem()\u001b[39m:\u001b[39;00m\u001b[39m.5f\u001b[39m\u001b[39m}\u001b[39;00m\u001b[39m. \u001b[39m\u001b[39m\"\u001b[39m)\n",
      "File \u001b[0;32m~/anaconda3/envs/lab2/lib/python3.10/site-packages/torch/optim/optimizer.py:373\u001b[0m, in \u001b[0;36mOptimizer.profile_hook_step.<locals>.wrapper\u001b[0;34m(*args, **kwargs)\u001b[0m\n\u001b[1;32m    368\u001b[0m         \u001b[39melse\u001b[39;00m:\n\u001b[1;32m    369\u001b[0m             \u001b[39mraise\u001b[39;00m \u001b[39mRuntimeError\u001b[39;00m(\n\u001b[1;32m    370\u001b[0m                 \u001b[39mf\u001b[39m\u001b[39m\"\u001b[39m\u001b[39m{\u001b[39;00mfunc\u001b[39m}\u001b[39;00m\u001b[39m must return None or a tuple of (new_args, new_kwargs), but got \u001b[39m\u001b[39m{\u001b[39;00mresult\u001b[39m}\u001b[39;00m\u001b[39m.\u001b[39m\u001b[39m\"\u001b[39m\n\u001b[1;32m    371\u001b[0m             )\n\u001b[0;32m--> 373\u001b[0m out \u001b[39m=\u001b[39m func(\u001b[39m*\u001b[39;49margs, \u001b[39m*\u001b[39;49m\u001b[39m*\u001b[39;49mkwargs)\n\u001b[1;32m    374\u001b[0m \u001b[39mself\u001b[39m\u001b[39m.\u001b[39m_optimizer_step_code()\n\u001b[1;32m    376\u001b[0m \u001b[39m# call optimizer step post hooks\u001b[39;00m\n",
      "File \u001b[0;32m~/anaconda3/envs/lab2/lib/python3.10/site-packages/torch/optim/optimizer.py:76\u001b[0m, in \u001b[0;36m_use_grad_for_differentiable.<locals>._use_grad\u001b[0;34m(self, *args, **kwargs)\u001b[0m\n\u001b[1;32m     74\u001b[0m     torch\u001b[39m.\u001b[39mset_grad_enabled(\u001b[39mself\u001b[39m\u001b[39m.\u001b[39mdefaults[\u001b[39m'\u001b[39m\u001b[39mdifferentiable\u001b[39m\u001b[39m'\u001b[39m])\n\u001b[1;32m     75\u001b[0m     torch\u001b[39m.\u001b[39m_dynamo\u001b[39m.\u001b[39mgraph_break()\n\u001b[0;32m---> 76\u001b[0m     ret \u001b[39m=\u001b[39m func(\u001b[39mself\u001b[39;49m, \u001b[39m*\u001b[39;49margs, \u001b[39m*\u001b[39;49m\u001b[39m*\u001b[39;49mkwargs)\n\u001b[1;32m     77\u001b[0m \u001b[39mfinally\u001b[39;00m:\n\u001b[1;32m     78\u001b[0m     torch\u001b[39m.\u001b[39m_dynamo\u001b[39m.\u001b[39mgraph_break()\n",
      "File \u001b[0;32m~/anaconda3/envs/lab2/lib/python3.10/site-packages/torch/optim/adam.py:163\u001b[0m, in \u001b[0;36mAdam.step\u001b[0;34m(self, closure)\u001b[0m\n\u001b[1;32m    152\u001b[0m     beta1, beta2 \u001b[39m=\u001b[39m group[\u001b[39m'\u001b[39m\u001b[39mbetas\u001b[39m\u001b[39m'\u001b[39m]\n\u001b[1;32m    154\u001b[0m     \u001b[39mself\u001b[39m\u001b[39m.\u001b[39m_init_group(\n\u001b[1;32m    155\u001b[0m         group,\n\u001b[1;32m    156\u001b[0m         params_with_grad,\n\u001b[0;32m   (...)\u001b[0m\n\u001b[1;32m    160\u001b[0m         max_exp_avg_sqs,\n\u001b[1;32m    161\u001b[0m         state_steps)\n\u001b[0;32m--> 163\u001b[0m     adam(\n\u001b[1;32m    164\u001b[0m         params_with_grad,\n\u001b[1;32m    165\u001b[0m         grads,\n\u001b[1;32m    166\u001b[0m         exp_avgs,\n\u001b[1;32m    167\u001b[0m         exp_avg_sqs,\n\u001b[1;32m    168\u001b[0m         max_exp_avg_sqs,\n\u001b[1;32m    169\u001b[0m         state_steps,\n\u001b[1;32m    170\u001b[0m         amsgrad\u001b[39m=\u001b[39;49mgroup[\u001b[39m'\u001b[39;49m\u001b[39mamsgrad\u001b[39;49m\u001b[39m'\u001b[39;49m],\n\u001b[1;32m    171\u001b[0m         beta1\u001b[39m=\u001b[39;49mbeta1,\n\u001b[1;32m    172\u001b[0m         beta2\u001b[39m=\u001b[39;49mbeta2,\n\u001b[1;32m    173\u001b[0m         lr\u001b[39m=\u001b[39;49mgroup[\u001b[39m'\u001b[39;49m\u001b[39mlr\u001b[39;49m\u001b[39m'\u001b[39;49m],\n\u001b[1;32m    174\u001b[0m         weight_decay\u001b[39m=\u001b[39;49mgroup[\u001b[39m'\u001b[39;49m\u001b[39mweight_decay\u001b[39;49m\u001b[39m'\u001b[39;49m],\n\u001b[1;32m    175\u001b[0m         eps\u001b[39m=\u001b[39;49mgroup[\u001b[39m'\u001b[39;49m\u001b[39meps\u001b[39;49m\u001b[39m'\u001b[39;49m],\n\u001b[1;32m    176\u001b[0m         maximize\u001b[39m=\u001b[39;49mgroup[\u001b[39m'\u001b[39;49m\u001b[39mmaximize\u001b[39;49m\u001b[39m'\u001b[39;49m],\n\u001b[1;32m    177\u001b[0m         foreach\u001b[39m=\u001b[39;49mgroup[\u001b[39m'\u001b[39;49m\u001b[39mforeach\u001b[39;49m\u001b[39m'\u001b[39;49m],\n\u001b[1;32m    178\u001b[0m         capturable\u001b[39m=\u001b[39;49mgroup[\u001b[39m'\u001b[39;49m\u001b[39mcapturable\u001b[39;49m\u001b[39m'\u001b[39;49m],\n\u001b[1;32m    179\u001b[0m         differentiable\u001b[39m=\u001b[39;49mgroup[\u001b[39m'\u001b[39;49m\u001b[39mdifferentiable\u001b[39;49m\u001b[39m'\u001b[39;49m],\n\u001b[1;32m    180\u001b[0m         fused\u001b[39m=\u001b[39;49mgroup[\u001b[39m'\u001b[39;49m\u001b[39mfused\u001b[39;49m\u001b[39m'\u001b[39;49m],\n\u001b[1;32m    181\u001b[0m         grad_scale\u001b[39m=\u001b[39;49m\u001b[39mgetattr\u001b[39;49m(\u001b[39mself\u001b[39;49m, \u001b[39m\"\u001b[39;49m\u001b[39mgrad_scale\u001b[39;49m\u001b[39m\"\u001b[39;49m, \u001b[39mNone\u001b[39;49;00m),\n\u001b[1;32m    182\u001b[0m         found_inf\u001b[39m=\u001b[39;49m\u001b[39mgetattr\u001b[39;49m(\u001b[39mself\u001b[39;49m, \u001b[39m\"\u001b[39;49m\u001b[39mfound_inf\u001b[39;49m\u001b[39m\"\u001b[39;49m, \u001b[39mNone\u001b[39;49;00m),\n\u001b[1;32m    183\u001b[0m     )\n\u001b[1;32m    185\u001b[0m \u001b[39mreturn\u001b[39;00m loss\n",
      "File \u001b[0;32m~/anaconda3/envs/lab2/lib/python3.10/site-packages/torch/optim/adam.py:311\u001b[0m, in \u001b[0;36madam\u001b[0;34m(params, grads, exp_avgs, exp_avg_sqs, max_exp_avg_sqs, state_steps, foreach, capturable, differentiable, fused, grad_scale, found_inf, amsgrad, beta1, beta2, lr, weight_decay, eps, maximize)\u001b[0m\n\u001b[1;32m    308\u001b[0m \u001b[39melse\u001b[39;00m:\n\u001b[1;32m    309\u001b[0m     func \u001b[39m=\u001b[39m _single_tensor_adam\n\u001b[0;32m--> 311\u001b[0m func(params,\n\u001b[1;32m    312\u001b[0m      grads,\n\u001b[1;32m    313\u001b[0m      exp_avgs,\n\u001b[1;32m    314\u001b[0m      exp_avg_sqs,\n\u001b[1;32m    315\u001b[0m      max_exp_avg_sqs,\n\u001b[1;32m    316\u001b[0m      state_steps,\n\u001b[1;32m    317\u001b[0m      amsgrad\u001b[39m=\u001b[39;49mamsgrad,\n\u001b[1;32m    318\u001b[0m      beta1\u001b[39m=\u001b[39;49mbeta1,\n\u001b[1;32m    319\u001b[0m      beta2\u001b[39m=\u001b[39;49mbeta2,\n\u001b[1;32m    320\u001b[0m      lr\u001b[39m=\u001b[39;49mlr,\n\u001b[1;32m    321\u001b[0m      weight_decay\u001b[39m=\u001b[39;49mweight_decay,\n\u001b[1;32m    322\u001b[0m      eps\u001b[39m=\u001b[39;49meps,\n\u001b[1;32m    323\u001b[0m      maximize\u001b[39m=\u001b[39;49mmaximize,\n\u001b[1;32m    324\u001b[0m      capturable\u001b[39m=\u001b[39;49mcapturable,\n\u001b[1;32m    325\u001b[0m      differentiable\u001b[39m=\u001b[39;49mdifferentiable,\n\u001b[1;32m    326\u001b[0m      grad_scale\u001b[39m=\u001b[39;49mgrad_scale,\n\u001b[1;32m    327\u001b[0m      found_inf\u001b[39m=\u001b[39;49mfound_inf)\n",
      "File \u001b[0;32m~/anaconda3/envs/lab2/lib/python3.10/site-packages/torch/optim/adam.py:565\u001b[0m, in \u001b[0;36m_multi_tensor_adam\u001b[0;34m(params, grads, exp_avgs, exp_avg_sqs, max_exp_avg_sqs, state_steps, grad_scale, found_inf, amsgrad, beta1, beta2, lr, weight_decay, eps, maximize, capturable, differentiable)\u001b[0m\n\u001b[1;32m    563\u001b[0m     exp_avg_sq_sqrt \u001b[39m=\u001b[39m torch\u001b[39m.\u001b[39m_foreach_sqrt(device_max_exp_avg_sqs)\n\u001b[1;32m    564\u001b[0m \u001b[39melse\u001b[39;00m:\n\u001b[0;32m--> 565\u001b[0m     exp_avg_sq_sqrt \u001b[39m=\u001b[39m torch\u001b[39m.\u001b[39;49m_foreach_sqrt(device_exp_avg_sqs)\n\u001b[1;32m    567\u001b[0m torch\u001b[39m.\u001b[39m_foreach_div_(exp_avg_sq_sqrt, bias_correction2_sqrt)\n\u001b[1;32m    568\u001b[0m torch\u001b[39m.\u001b[39m_foreach_add_(exp_avg_sq_sqrt, eps)\n",
      "\u001b[0;31mKeyboardInterrupt\u001b[0m: "
     ]
    }
   ],
   "source": [
    "# Create a study and optimize\n",
    "study = optuna.create_study(direction=\"maximize\")  # maximize accuracy\n",
    "study.optimize(objective, n_trials=50)\n",
    "\n",
    "# Print the best hyperparameters\n",
    "print(\"Number of finished trials: \", len(study.trials))\n",
    "print(\"Best trial:\")\n",
    "trial = study.best_trial\n",
    "print(\"  Value: \", trial.value)\n",
    "print(\"  Params: \")\n",
    "for key, value in trial.params.items():\n",
    "    print(\"    {}: {}\".format(key, value))"
   ]
  },
  {
   "cell_type": "markdown",
   "metadata": {},
   "source": [
    "# Dropout"
   ]
  },
  {
   "cell_type": "markdown",
   "metadata": {},
   "source": [
    "Now we train the model with dropout and check whether we observe any changes. Note, that we added Droputs after Max Pooling layers. Adding Dropouts after convolutional layers appears to be not very popular in the literature. Therefore we opted to add them after the Pooling layers. Disregarding the literature however, one dropout layer after the final convolutional layer achieved positive results, which is why we added one dropout layer after the final convolution. "
   ]
  },
  {
   "cell_type": "code",
   "execution_count": 53,
   "metadata": {},
   "outputs": [],
   "source": [
    "class DropoutCNN(nn.Module):\n",
    "    \"\"\" \n",
    "    Adapted to CIFAR-10\n",
    "    \"\"\"\n",
    "    def __init__(self, dropout_prob=0.5):\n",
    "        \"\"\" Model initializer \"\"\"\n",
    "        super().__init__()\n",
    "        \n",
    "        # Layer 1\n",
    "        # (3,32,32)\n",
    "        self.conv1 = nn.Conv2d(in_channels=3, out_channels=64, kernel_size=5, stride=1, padding=2)\n",
    "        self.relu1 = nn.ReLU()\n",
    "        # Layer 2\n",
    "        # (64, 32, 32)\n",
    "        self.maxpool1 = nn.MaxPool2d(kernel_size=2)\n",
    "        self.dropout1 = nn.Dropout(p=dropout_prob)\n",
    "\n",
    "        # (64, 16, 16)\n",
    "        self.conv2 = nn.Conv2d(in_channels=64, out_channels=128, kernel_size=5, stride=1, padding=2)\n",
    "        self.relu2 = nn.ReLU()\n",
    "        # (128, 16, 16)\n",
    "        self.maxpool2 = nn.MaxPool2d(kernel_size=2)\n",
    "        # (128, 8, 8)\n",
    "        self.dropout2 = nn.Dropout(p=dropout_prob)\n",
    "\n",
    "        # Layer 3\n",
    "        self.conv3 = nn.Conv2d(in_channels=128, out_channels=256, kernel_size=5, stride=1, padding=2)\n",
    "        self.relu3 = nn.ReLU()\n",
    "        self.dropout3 = nn.Dropout(p=dropout_prob)\n",
    "        # (256, 8, 8)\n",
    "        \n",
    "        # Fully connected classifier\n",
    "        in_dim = 256 * 8 * 8\n",
    "        self.fc = nn.Linear(in_features=in_dim, out_features=10)\n",
    "        \n",
    "    def forward(self, x):\n",
    "        \"\"\" Forward pass \"\"\"\n",
    "        cur_b_size = x.shape[0]\n",
    "        x = self.conv1(x)\n",
    "        x = self.relu1(x)\n",
    "        x = self.maxpool1(x)\n",
    "        x = self.dropout1(x)\n",
    "\n",
    "        x = self.conv2(x)\n",
    "        x = self.relu2(x)\n",
    "        x = self.maxpool2(x)\n",
    "        x = self.dropout2(x)\n",
    "        x = self.conv3(x)\n",
    "        x = self.relu3(x)\n",
    "        x = self.dropout3(x)\n",
    "        out_flat = x.view(cur_b_size, -1)\n",
    "        y = self.fc(out_flat)\n",
    "        return y"
   ]
  },
  {
   "cell_type": "code",
   "execution_count": 54,
   "metadata": {},
   "outputs": [],
   "source": [
    "model = DropoutCNN()\n",
    "model.to(device)\n",
    "criterion = nn.CrossEntropyLoss()\n",
    "optimizer = torch.optim.Adam(model.parameters(), lr=LR)"
   ]
  },
  {
   "cell_type": "code",
   "execution_count": 55,
   "metadata": {},
   "outputs": [
    {
     "name": "stderr",
     "output_type": "stream",
     "text": [
      "  0%|          | 0/782 [00:00<?, ?it/s]"
     ]
    },
    {
     "name": "stdout",
     "output_type": "stream",
     "text": [
      "test accuracy: 10.07%\n"
     ]
    },
    {
     "name": "stderr",
     "output_type": "stream",
     "text": [
      "Epoch 1 Iter 782: loss 1.54895. : 100%|██████████| 782/782 [00:04<00:00, 189.11it/s]\n",
      "  0%|          | 0/782 [00:00<?, ?it/s]"
     ]
    },
    {
     "name": "stdout",
     "output_type": "stream",
     "text": [
      "test accuracy: 55.79%\n"
     ]
    },
    {
     "name": "stderr",
     "output_type": "stream",
     "text": [
      "Epoch 2 Iter 782: loss 1.32437. : 100%|██████████| 782/782 [00:04<00:00, 181.43it/s]\n",
      "  0%|          | 0/782 [00:00<?, ?it/s]"
     ]
    },
    {
     "name": "stdout",
     "output_type": "stream",
     "text": [
      "test accuracy: 60.96%\n"
     ]
    },
    {
     "name": "stderr",
     "output_type": "stream",
     "text": [
      "Epoch 3 Iter 782: loss 1.37709. : 100%|██████████| 782/782 [00:03<00:00, 195.87it/s]\n",
      "  0%|          | 0/782 [00:00<?, ?it/s]"
     ]
    },
    {
     "name": "stdout",
     "output_type": "stream",
     "text": [
      "test accuracy: 67.44%\n"
     ]
    },
    {
     "name": "stderr",
     "output_type": "stream",
     "text": [
      "Epoch 4 Iter 782: loss 1.33128. : 100%|██████████| 782/782 [00:04<00:00, 182.09it/s]\n",
      "  0%|          | 0/782 [00:00<?, ?it/s]"
     ]
    },
    {
     "name": "stdout",
     "output_type": "stream",
     "text": [
      "test accuracy: 70.06%\n"
     ]
    },
    {
     "name": "stderr",
     "output_type": "stream",
     "text": [
      "Epoch 5 Iter 782: loss 0.81145. : 100%|██████████| 782/782 [00:04<00:00, 180.08it/s]\n",
      "  0%|          | 0/782 [00:00<?, ?it/s]"
     ]
    },
    {
     "name": "stdout",
     "output_type": "stream",
     "text": [
      "test accuracy: 70.97%\n"
     ]
    },
    {
     "name": "stderr",
     "output_type": "stream",
     "text": [
      "Epoch 6 Iter 782: loss 0.89527. : 100%|██████████| 782/782 [00:03<00:00, 197.38it/s]\n",
      "  0%|          | 0/782 [00:00<?, ?it/s]"
     ]
    },
    {
     "name": "stdout",
     "output_type": "stream",
     "text": [
      "test accuracy: 73.41%\n"
     ]
    },
    {
     "name": "stderr",
     "output_type": "stream",
     "text": [
      "Epoch 7 Iter 782: loss 0.60063. : 100%|██████████| 782/782 [00:04<00:00, 185.77it/s]\n",
      "  0%|          | 0/782 [00:00<?, ?it/s]"
     ]
    },
    {
     "name": "stdout",
     "output_type": "stream",
     "text": [
      "test accuracy: 73.8%\n"
     ]
    },
    {
     "name": "stderr",
     "output_type": "stream",
     "text": [
      "Epoch 8 Iter 782: loss 0.58631. : 100%|██████████| 782/782 [00:04<00:00, 195.20it/s]\n",
      "  0%|          | 0/782 [00:00<?, ?it/s]"
     ]
    },
    {
     "name": "stdout",
     "output_type": "stream",
     "text": [
      "test accuracy: 74.95%\n"
     ]
    },
    {
     "name": "stderr",
     "output_type": "stream",
     "text": [
      "Epoch 9 Iter 782: loss 0.52279. : 100%|██████████| 782/782 [00:04<00:00, 186.90it/s]\n",
      "  0%|          | 0/782 [00:00<?, ?it/s]"
     ]
    },
    {
     "name": "stdout",
     "output_type": "stream",
     "text": [
      "test accuracy: 76.11%\n"
     ]
    },
    {
     "name": "stderr",
     "output_type": "stream",
     "text": [
      "Epoch 10 Iter 782: loss 0.54003. : 100%|██████████| 782/782 [00:04<00:00, 187.14it/s]\n",
      "  0%|          | 0/782 [00:00<?, ?it/s]"
     ]
    },
    {
     "name": "stdout",
     "output_type": "stream",
     "text": [
      "test accuracy: 75.8%\n"
     ]
    },
    {
     "name": "stderr",
     "output_type": "stream",
     "text": [
      "Epoch 11 Iter 782: loss 0.97039. : 100%|██████████| 782/782 [00:04<00:00, 187.34it/s]\n",
      "  0%|          | 0/782 [00:00<?, ?it/s]"
     ]
    },
    {
     "name": "stdout",
     "output_type": "stream",
     "text": [
      "test accuracy: 77.0%\n"
     ]
    },
    {
     "name": "stderr",
     "output_type": "stream",
     "text": [
      "Epoch 12 Iter 782: loss 0.29728. : 100%|██████████| 782/782 [00:04<00:00, 194.24it/s]\n",
      "  0%|          | 0/782 [00:00<?, ?it/s]"
     ]
    },
    {
     "name": "stdout",
     "output_type": "stream",
     "text": [
      "test accuracy: 76.57%\n"
     ]
    },
    {
     "name": "stderr",
     "output_type": "stream",
     "text": [
      "Epoch 13 Iter 782: loss 0.86465. : 100%|██████████| 782/782 [00:03<00:00, 200.09it/s]\n",
      "  0%|          | 0/782 [00:00<?, ?it/s]"
     ]
    },
    {
     "name": "stdout",
     "output_type": "stream",
     "text": [
      "test accuracy: 77.24%\n"
     ]
    },
    {
     "name": "stderr",
     "output_type": "stream",
     "text": [
      "Epoch 14 Iter 782: loss 0.56153. : 100%|██████████| 782/782 [00:04<00:00, 191.51it/s]\n",
      "  0%|          | 0/782 [00:00<?, ?it/s]"
     ]
    },
    {
     "name": "stdout",
     "output_type": "stream",
     "text": [
      "test accuracy: 78.2%\n"
     ]
    },
    {
     "name": "stderr",
     "output_type": "stream",
     "text": [
      "Epoch 15 Iter 782: loss 0.64355. : 100%|██████████| 782/782 [00:03<00:00, 197.19it/s]\n",
      "  0%|          | 0/782 [00:00<?, ?it/s]"
     ]
    },
    {
     "name": "stdout",
     "output_type": "stream",
     "text": [
      "test accuracy: 78.18%\n"
     ]
    },
    {
     "name": "stderr",
     "output_type": "stream",
     "text": [
      "Epoch 16 Iter 782: loss 0.50230. : 100%|██████████| 782/782 [00:04<00:00, 186.94it/s]\n",
      "  0%|          | 0/782 [00:00<?, ?it/s]"
     ]
    },
    {
     "name": "stdout",
     "output_type": "stream",
     "text": [
      "test accuracy: 77.9%\n"
     ]
    },
    {
     "name": "stderr",
     "output_type": "stream",
     "text": [
      "Epoch 17 Iter 782: loss 0.27531. : 100%|██████████| 782/782 [00:04<00:00, 181.83it/s]\n",
      "  0%|          | 0/782 [00:00<?, ?it/s]"
     ]
    },
    {
     "name": "stdout",
     "output_type": "stream",
     "text": [
      "test accuracy: 78.55%\n"
     ]
    },
    {
     "name": "stderr",
     "output_type": "stream",
     "text": [
      "Epoch 18 Iter 782: loss 0.37280. : 100%|██████████| 782/782 [00:04<00:00, 192.63it/s]\n",
      "  0%|          | 0/782 [00:00<?, ?it/s]"
     ]
    },
    {
     "name": "stdout",
     "output_type": "stream",
     "text": [
      "test accuracy: 78.67%\n"
     ]
    },
    {
     "name": "stderr",
     "output_type": "stream",
     "text": [
      "Epoch 19 Iter 782: loss 0.78081. : 100%|██████████| 782/782 [00:04<00:00, 179.14it/s]\n",
      "  0%|          | 0/782 [00:00<?, ?it/s]"
     ]
    },
    {
     "name": "stdout",
     "output_type": "stream",
     "text": [
      "test accuracy: 78.82%\n"
     ]
    },
    {
     "name": "stderr",
     "output_type": "stream",
     "text": [
      "Epoch 20 Iter 782: loss 0.67600. : 100%|██████████| 782/782 [00:04<00:00, 186.07it/s]\n"
     ]
    }
   ],
   "source": [
    "test_loss_list = []\n",
    "train_loss_list = []\n",
    "test_accuracy_list = []\n",
    "train_accuracy_list = []\n",
    "# Initialize lists to store gradient information\n",
    "gradients = []\n",
    "gradient_norms = []\n",
    "gradient_max_values = []\n",
    "gradient_min_values = []\n",
    "best_loss = 100\n",
    "for epoch in range(NUM_EPOCHS):\n",
    "    progress_bar = tqdm(trainloader, total=len(trainloader))\n",
    "\n",
    "    # Calculate test loss, accuracy for currently trained model\n",
    "    model.eval()\n",
    "    test_loss = 0.0\n",
    "    correct = 0\n",
    "    total = 0\n",
    "\n",
    "    with torch.no_grad():\n",
    "        for data in testloader:\n",
    "            images_test, labels_test = data\n",
    "            # using GPU for inference\n",
    "            images_test, labels_test = images_test.to(device), labels_test.to(device)\n",
    "            # calculate model outputs\n",
    "            outputs_test = model(images_test)\n",
    "            # calculate test loss\n",
    "            loss = criterion(outputs_test, labels_test)\n",
    "            test_loss += loss.item()\n",
    "            # derive model predictions from out outputs\n",
    "            predicted = torch.argmax(outputs_test, dim = -1)\n",
    "            # calculate accuracy\n",
    "            total += labels_test.size(0)\n",
    "            correct += (predicted == labels_test).sum().item()\n",
    "\n",
    "        test_loss /= len(testloader)\n",
    "        accuracy = 100 * correct / total\n",
    "\n",
    "        print(f\"test accuracy: {accuracy}%\")\n",
    "\n",
    "        # Potentially prevent overfitting\n",
    "        if test_loss < best_loss:\n",
    "            best_loss = loss\n",
    "            torch.save({\n",
    "                'epoch': epoch,\n",
    "                'model_state_dict': model.state_dict(),\n",
    "                'optimizer_state_dict': optimizer.state_dict(),\n",
    "            }, f\"models/checkpoint_epoch_{epoch}.pth\")\n",
    "        #saving the best checkpoint\n",
    "        \n",
    "    test_loss_list.append(test_loss)\n",
    "    test_accuracy_list.append(accuracy)\n",
    "    \n",
    "    # Turn model back to training mode\n",
    "    model.train()\n",
    "\n",
    "    train_loss_list_iter = []\n",
    "    train_accuracy_list_iter = []\n",
    "    for i, (imgs, labels) in enumerate(progress_bar):\n",
    "\n",
    "        # using GPU\n",
    "        imgs, labels = imgs.to(device), labels.to(device)\n",
    "    \n",
    "        # forward pass\n",
    "        preds = model(imgs)\n",
    "\n",
    "        # calculate accuracy\n",
    "        with torch.no_grad():\n",
    "            predicted = preds.argmax(dim=-1)\n",
    "            correct = (predicted == labels).sum().item()\n",
    "            accuracy = correct/labels.shape[0] * 100\n",
    "\n",
    "        train_accuracy_list_iter.append(accuracy)\n",
    "\n",
    "        # computing error\n",
    "        loss = criterion(preds, labels)\n",
    "        train_loss_list_iter.append(loss.item())\n",
    "        # removing accumulated gradients\n",
    "        optimizer.zero_grad()\n",
    "    \n",
    "        # backprogating error to compute gradients\n",
    "        loss.backward()\n",
    "    \n",
    "        # updating parameters\n",
    "        optimizer.step()\n",
    "\n",
    "        '''In the following we calculate gradient information!'''\n",
    "        \n",
    "        # Calculate gradient information\n",
    "        for name, param in model.named_parameters():\n",
    "            # Tracking the matrices led to oom errors\n",
    "            if name in ['layers.0.bias']:\n",
    "                gradients.append(param.grad)\n",
    "                gradient_norms.append(torch.norm(param.grad).item())\n",
    "                gradient_max_values.append(param.grad.max().item())\n",
    "                gradient_min_values.append(param.grad.min().item())\n",
    "\n",
    "        '''Stop calculating gradient inforamtion'''\n",
    "    \n",
    "        if(i % 10 == 0 or i == len(trainloader) - 1):\n",
    "            progress_bar.set_description(f\"Epoch {epoch + 1} Iter {i + 1}: loss {loss.item():.5f}. \")\n",
    "    train_accuracy_list.append(np.mean(train_accuracy_list_iter))\n",
    "    train_loss_list.append(np.mean(train_loss_list_iter))"
   ]
  },
  {
   "cell_type": "markdown",
   "metadata": {},
   "source": [
    "### Test accuracy"
   ]
  },
  {
   "cell_type": "markdown",
   "metadata": {},
   "source": []
  },
  {
   "cell_type": "code",
   "execution_count": 58,
   "metadata": {},
   "outputs": [
    {
     "name": "stderr",
     "output_type": "stream",
     "text": [
      "  0%|          | 0/157 [00:00<?, ?it/s]"
     ]
    },
    {
     "name": "stderr",
     "output_type": "stream",
     "text": [
      "100%|██████████| 157/157 [00:00<00:00, 217.23it/s]"
     ]
    },
    {
     "name": "stdout",
     "output_type": "stream",
     "text": [
      "Test accuracy: 78.88%\n"
     ]
    },
    {
     "name": "stderr",
     "output_type": "stream",
     "text": [
      "\n"
     ]
    }
   ],
   "source": [
    "n_correct = 0\n",
    "model.eval()\n",
    "with torch.no_grad():\n",
    "    progress_bar = tqdm(enumerate(testloader), total=len(testloader))\n",
    "    for i, (imgs, labels) in progress_bar:\n",
    "        #everything needs to be on the same device\n",
    "        imgs = imgs.to(device)\n",
    "        labels = labels.to(device)\n",
    "\n",
    "        # forward pass\n",
    "        preds = model(imgs)\n",
    "\n",
    "        pred_labels = torch.argmax(preds, dim=-1)\n",
    "        cur_correct = len(torch.where(pred_labels == labels)[0])\n",
    "        n_correct = n_correct + cur_correct\n",
    "\n",
    "\n",
    "accuracy = n_correct / len(test_dataset) * 100\n",
    "print(f\"Test accuracy: {round(accuracy,2)}%\")"
   ]
  },
  {
   "cell_type": "code",
   "execution_count": 57,
   "metadata": {},
   "outputs": [
    {
     "data": {
      "image/png": "[encoded data removed]",
      "text/plain": [
       "<Figure size 1000x500 with 1 Axes>"
      ]
     },
     "metadata": {},
     "output_type": "display_data"
    },
    {
     "data": {
      "image/png": "[encoded data removed]",
      "text/plain": [
       "<Figure size 1000x500 with 1 Axes>"
      ]
     },
     "metadata": {},
     "output_type": "display_data"
    }
   ],
   "source": [
    "utils.plot_loss_epoch(train_loss_list, test_loss_list)\n",
    "utils.plot_accuracy_epoch(test_accuracy_list, train_accuracy=train_accuracy_list,)"
   ]
  },
  {
   "cell_type": "markdown",
   "metadata": {},
   "source": [
    "Looking at out plots, we observe expected results. The test loss is still slightly higher than our training loss. The testing accuracy is slightly below our training accuracy.\n",
    "Comparing our results to our earlier plots we can see that our model is not overconfident in (wrong) predictions anymore. This is good. Additionally, we observe a 3% increase in accuracy. We do believe a smarter architecture and additional hyperparameteroptimization can improve our reults even further."
   ]
  },
  {
   "cell_type": "markdown",
   "metadata": {},
   "source": [
    "# Bonus Task: MLP Mixer\n"
   ]
  },
  {
   "cell_type": "code",
   "execution_count": 30,
   "metadata": {},
   "outputs": [],
   "source": [
    "\n",
    "class MLPBlock(nn.Module):\n",
    "    '''\n",
    "    Parameters:\n",
    "         dim: int\n",
    "         Input and Output dimension of the entire block\n",
    "         hidden_dim: int\n",
    "         hidden layer dimension\n",
    "    '''\n",
    "    def __init__(self, dim, hidden_dim):\n",
    "        super().__init__()\n",
    "        self.linear_1 = nn.Linear(dim, hidden_dim)\n",
    "        self.activation = nn.GELU()\n",
    "        self.linear_2 = nn.Linear(hidden_dim, dim)\n",
    "\n",
    "    def forward(self, x):\n",
    "        '''\n",
    "\n",
    "        :param x: torch.tensor\n",
    "        Input tensor of shape (batch, n_channels, n_patches)\n",
    "        :return: torch.tensor, which has the shape (batch, n_channels, n_patches)\n",
    "        '''\n",
    "        # print(x.shape)\n",
    "        x = self.linear_1(x)\n",
    "        x = self.activation(x)\n",
    "        x = self.linear_2(x)\n",
    "\n",
    "        return x\n",
    "\n",
    "\n",
    "class MixerBlock(nn.Module):\n",
    "    '''Parameters:\n",
    "           n_patches : int\n",
    "           hidden_dim: int\n",
    "           This was the C value in the paper, the dimension which we project out patches to\n",
    "           tokens_mlp_dim : int\n",
    "           Hidden dimension for doing token-mixing\n",
    "           channels_mlp_dim: int\n",
    "           Hidden dimension for doing channel mixing\n",
    "   '''\n",
    "\n",
    "\n",
    "    def __init__(self, *, n_patches, hidden_dim, token_mlp_dim, channels_mlp_dim):\n",
    "        super().__init__()\n",
    "\n",
    "        self.norm_1 = nn.LayerNorm(hidden_dim)\n",
    "        self.norm_2 = nn.LayerNorm(hidden_dim)\n",
    "\n",
    "        self.token_mlp_block = MLPBlock(n_patches, token_mlp_dim)\n",
    "        self.channel_mlp_block = MLPBlock(hidden_dim, channels_mlp_dim)\n",
    "\n",
    "    def forward(self, x):\n",
    "        '''\n",
    "        :param x: torch.Tensor\n",
    "        It is of shape (batch_size, n_patches, hidden_dim)\n",
    "        :return: torch. Tensor\n",
    "        Shape: (batch_size, n_patches, hidden_dim)\n",
    "        '''\n",
    "        # Separate y, because we need x as a residual connection\n",
    "        y = self.norm_1(x)  # (batch, n_patches, hidden_dim)\n",
    "        # 3d pytorch inputs takes the last dim, i.e. the row, therefore we need to transpose\n",
    "        y = y.permute(0, 2, 1)  # (batch_size, hidden_dim, n_patches)\n",
    "        y = self.token_mlp_block(y)  # (batch_size, hidden_dim, n_patches)\n",
    "        y = y.permute(0, 2, 1)  # (batch_size, n_patches, hidden_dim)\n",
    "        x = x + y  # (batch_size, n_patches, hidden_dim)\n",
    "        y = self.norm_2(x)\n",
    "        res = x + self.channel_mlp_block(y)  # (batch_size, n_patches, hidden_dim)\n",
    "\n",
    "        return res\n",
    "\n",
    "\n",
    "\n",
    "\n",
    "class MLPMixer(nn.Module):\n",
    "    \"\"\"\n",
    "    sticking all parts together\n",
    "\n",
    "    Parameters:\n",
    "        image_size: int (We assume squares due to us focussing on CIFAR)\n",
    "            Height and width of the input image\n",
    "        patch_size: int\n",
    "            Height and width of the square patches\n",
    "        tokens_mlp_dim: int\n",
    "            Hidden Dim for token mixer MLP\n",
    "        channels_mlp_dim: int\n",
    "            Hidden dim for MLPBlock when doing the channel mixing\n",
    "        n_classes : int\n",
    "            Number of classes for classification\n",
    "        hidden_dim : int\n",
    "            dim of patch embeddings\n",
    "        n_blocks : int\n",
    "            number of mixerblocks in the architecture\n",
    "    \"\"\"\n",
    "\n",
    "    def __init__(self, *, image_size, patch_size, tokens_mlp_dim, channels_mlp_dim, n_classes, hidden_dim, n_blocks):\n",
    "        super().__init__()\n",
    "        n_patches = (image_size // patch_size) ** 2  # assume divisibility\n",
    "\n",
    "        self.patch_embedder = nn.Conv2d(3, hidden_dim, kernel_size=patch_size, stride=patch_size)\n",
    "\n",
    "        self.blocks = nn.ModuleList([MixerBlock(\n",
    "            n_patches=n_patches,\n",
    "            hidden_dim = hidden_dim,\n",
    "            token_mlp_dim=tokens_mlp_dim,\n",
    "            channels_mlp_dim = channels_mlp_dim\n",
    "        ) for _ in range(n_blocks)])\n",
    "\n",
    "        self.pre_head_norm = nn.LayerNorm(hidden_dim)\n",
    "        self.head_classifier = nn.Linear(hidden_dim, n_classes)\n",
    "\n",
    "    def forward(self, x):\n",
    "        '''Parameters:\n",
    "        x : torch. Tensor\n",
    "            Input batch of square images of shape (batch_size, n_channels, image_size, images_size)\n",
    "\n",
    "        :returns torch. Tensor\n",
    "            class logits of shape (batch_size, n_classes)\n",
    "        '''\n",
    "\n",
    "        x = self.patch_embedder(x) # (batch_size, hidden_dim, n_patches**0.5, n_patches**0.5)\n",
    "        x = einops.rearrange(x, \"n c h w -> n (h w) c\") # (batch, n_patches, hidden_dim)\n",
    "\n",
    "\n",
    "        for mixer_block in self.blocks:\n",
    "            x = mixer_block(x)  # (batch, n_patches, hidden_dim)\n",
    "\n",
    "\n",
    "        x = self.pre_head_norm(x)  # (batch_size, n_patches, hidden_dim)\n",
    "        x = x.mean(dim=1)  # (batch, hidden_dim)\n",
    "        y = self.head_classifier(x)  # (batch, n_classes)\n",
    "        return y"
   ]
  },
  {
   "cell_type": "code",
   "execution_count": 31,
   "metadata": {},
   "outputs": [],
   "source": [
    "device = torch.device(\"cuda\" if torch.cuda.is_available() else \"cpu\")\n",
    "model = MLPMixer(image_size=32, patch_size=4, tokens_mlp_dim=2048, channels_mlp_dim=256,\n",
    "                    n_classes=10, hidden_dim = 512, n_blocks=8)\n",
    "model = model.to(device)"
   ]
  },
  {
   "cell_type": "code",
   "execution_count": 32,
   "metadata": {},
   "outputs": [],
   "source": [
    "criterion = nn.CrossEntropyLoss()  # Note, that this already includes a Softmax!\n",
    "optimizer = torch.optim.Adam(model.parameters(), lr=LR)\n",
    "\n",
    "# needed for calculating the patches\n",
    "import einops"
   ]
  },
  {
   "cell_type": "code",
   "execution_count": 33,
   "metadata": {},
   "outputs": [
    {
     "name": "stderr",
     "output_type": "stream",
     "text": [
      "Epoch 1 Iter 1: loss 2.31450. :   0%|          | 1/782 [00:00<02:04,  6.29it/s]"
     ]
    },
    {
     "name": "stderr",
     "output_type": "stream",
     "text": [
      "Epoch 1 Iter 782: loss 0.95729. : 100%|██████████| 782/782 [00:45<00:00, 17.15it/s]\n",
      "Epoch 2 Iter 782: loss 1.25256. : 100%|██████████| 782/782 [00:45<00:00, 17.01it/s]\n",
      "Epoch 3 Iter 782: loss 1.32625. : 100%|██████████| 782/782 [01:01<00:00, 12.67it/s]\n",
      "Epoch 4 Iter 782: loss 0.91940. : 100%|██████████| 782/782 [00:59<00:00, 13.08it/s]\n",
      "Epoch 5 Iter 782: loss 0.49042. : 100%|██████████| 782/782 [00:46<00:00, 16.94it/s]\n",
      "Epoch 6 Iter 782: loss 0.72763. : 100%|██████████| 782/782 [00:46<00:00, 16.94it/s]\n",
      "Epoch 7 Iter 782: loss 0.35066. : 100%|██████████| 782/782 [00:46<00:00, 16.93it/s]\n",
      "Epoch 8 Iter 782: loss 0.73071. : 100%|██████████| 782/782 [00:46<00:00, 16.94it/s]\n",
      "Epoch 9 Iter 782: loss 0.06003. : 100%|██████████| 782/782 [00:46<00:00, 16.93it/s]\n",
      "Epoch 10 Iter 782: loss 0.14046. : 100%|██████████| 782/782 [00:46<00:00, 16.93it/s]\n",
      "Epoch 11 Iter 782: loss 0.17572. : 100%|██████████| 782/782 [00:46<00:00, 16.95it/s]\n",
      "Epoch 12 Iter 782: loss 0.04542. : 100%|██████████| 782/782 [00:46<00:00, 16.95it/s]\n",
      "Epoch 13 Iter 782: loss 0.21370. : 100%|██████████| 782/782 [00:46<00:00, 16.94it/s]\n",
      "Epoch 14 Iter 782: loss 0.04475. : 100%|██████████| 782/782 [00:46<00:00, 16.95it/s]\n",
      "Epoch 15 Iter 782: loss 0.54275. : 100%|██████████| 782/782 [00:46<00:00, 16.95it/s]\n",
      "Epoch 16 Iter 782: loss 0.13048. : 100%|██████████| 782/782 [00:46<00:00, 16.93it/s]\n",
      "Epoch 17 Iter 782: loss 0.03422. : 100%|██████████| 782/782 [00:46<00:00, 16.95it/s]\n",
      "Epoch 18 Iter 782: loss 0.07794. : 100%|██████████| 782/782 [00:46<00:00, 16.94it/s]\n",
      "Epoch 19 Iter 782: loss 0.02952. : 100%|██████████| 782/782 [00:46<00:00, 16.95it/s]\n",
      "Epoch 20 Iter 782: loss 0.02058. : 100%|██████████| 782/782 [00:46<00:00, 16.95it/s]\n"
     ]
    }
   ],
   "source": [
    "train_loss_list = []\n",
    "train_accuracy_list = []\n",
    "for epoch in range(NUM_EPOCHS):\n",
    "    progress_bar = tqdm(trainloader, total=len(trainloader))\n",
    "    for i, (imgs, labels) in enumerate(progress_bar):\n",
    "\n",
    "        # Turn model back to training mode\n",
    "        model.train()\n",
    "\n",
    "        # using GPU\n",
    "        imgs, labels = imgs.to(device), labels.to(device)\n",
    "    \n",
    "        # forward pass\n",
    "        preds = model(imgs)\n",
    "\n",
    "        # calculate accuracy\n",
    "        with torch.no_grad():\n",
    "            predicted = preds.argmax(dim=-1)\n",
    "            correct = (predicted == labels).sum().item()\n",
    "            accuracy = correct/labels.shape[0]\n",
    "\n",
    "        train_accuracy_list.append(accuracy)\n",
    "\n",
    "        # computing error\n",
    "        loss = criterion(preds, labels)\n",
    "        train_loss_list.append(loss.item())\n",
    "\n",
    "\n",
    "        # removing accumulated gradients\n",
    "        optimizer.zero_grad()\n",
    "    \n",
    "        # backprogating error to compute gradients\n",
    "        loss.backward()\n",
    "    \n",
    "        # updating parameters\n",
    "        optimizer.step()\n",
    "\n",
    "    \n",
    "        if(i % 10 == 0 or i == len(trainloader) - 1):\n",
    "            progress_bar.set_description(f\"Epoch {epoch + 1} Iter {i + 1}: loss {loss.item():.5f}. \")"
   ]
  },
  {
   "cell_type": "code",
   "execution_count": 34,
   "metadata": {},
   "outputs": [
    {
     "name": "stderr",
     "output_type": "stream",
     "text": [
      "  3%|▎         | 4/157 [00:00<00:04, 36.59it/s]"
     ]
    },
    {
     "name": "stderr",
     "output_type": "stream",
     "text": [
      "100%|██████████| 157/157 [00:03<00:00, 39.49it/s]"
     ]
    },
    {
     "name": "stdout",
     "output_type": "stream",
     "text": [
      "Test accuracy: 62.92%\n"
     ]
    },
    {
     "name": "stderr",
     "output_type": "stream",
     "text": [
      "\n"
     ]
    }
   ],
   "source": [
    "n_correct = 0\n",
    "with torch.no_grad():\n",
    "    progress_bar = tqdm(enumerate(testloader), total=len(testloader))\n",
    "    for i, (imgs, labels) in progress_bar:\n",
    "        #everything needs to be on the same device\n",
    "        imgs = imgs.to(device)\n",
    "        labels = labels.to(device)\n",
    "\n",
    "        # forward pass\n",
    "        preds = model(imgs)\n",
    "\n",
    "        pred_labels = torch.argmax(preds, dim=-1)\n",
    "        cur_correct = len(torch.where(pred_labels == labels)[0])\n",
    "        n_correct = n_correct + cur_correct\n",
    "\n",
    "\n",
    "accuracy = n_correct / len(test_dataset) * 100\n",
    "print(f\"Test accuracy: {round(accuracy,2)}%\")"
   ]
  },
  {
   "cell_type": "markdown",
   "metadata": {},
   "source": [
    "# Evaluation: MLP Mixer\n",
    "\n",
    "Due to time constraints, we will unfortunately not be able to optimize our hyperparameters further. The ones we used were taken straight from the paper. Due to time constraints we are also not able to pre-train our model.\n",
    "\n",
    "The MLP Mixer achieved an accuracy of 64.19% on the test set, which was better than the accuracy achieved on the MLP, even after hyperparameter optimization. A reason for this could be the better designed network. It could for instance be possible that, due to the splitting of the images into patches and then connecting the individual patches with each other, we make more use of the spatial information given to us by the data. In addition, we used some simple but more modern techniques like residual connections, which facilitate training of neural networks.\n",
    "\n",
    "Nevertheless, we do not consider this a complete sucess. We believe, that with sufficient pre-training and hyperparameter optimization higher accuracies can be achieved."
   ]
  },
  {
   "cell_type": "markdown",
   "metadata": {},
   "source": []
  }
 ],
 "metadata": {
  "kernelspec": {
   "display_name": "Python 3 (ipykernel)",
   "language": "python",
   "name": "python3"
  },
  "language_info": {
   "codemirror_mode": {
    "name": "ipython",
    "version": 3
   },
   "file_extension": ".py",
   "mimetype": "text/x-python",
   "name": "python",
   "nbconvert_exporter": "python",
   "pygments_lexer": "ipython3",
   "version": "3.10.13"
  }
 },
 "nbformat": 4,
 "nbformat_minor": 4
}
