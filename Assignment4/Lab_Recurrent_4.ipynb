{
 "cells": [
  {
   "cell_type": "code",
   "execution_count": 1,
   "id": "ee6ddc65-0b5d-40e8-b7c7-986cf4d03055",
   "metadata": {},
   "outputs": [],
   "source": [
    "import os\n",
    "from torchvision import transforms\n",
    "from torch.utils.data import DataLoader, Dataset\n",
    "from PIL import Image\n",
    "import torch\n",
    "import pdb\n",
    "import numpy as np"
   ]
  },
  {
   "cell_type": "code",
   "execution_count": 2,
   "id": "436b1e3f-a3be-4ed7-bbec-560ab7b5519b",
   "metadata": {},
   "outputs": [],
   "source": [
    "# Define the path to your processed dataset\n",
    "data_path = './processed/'\n",
    "\n",
    "# Define the subjects for each split\n",
    "subjects = [11, 12, 13, 14, 15, 16, 17, 18, 19, 20, 21, 23, 3, 5, 6, 7, 10]\n",
    "val_subjects = [24, 25, 1, 4]\n",
    "test_subjects = [22, 2, 8, 9]\n",
    "\n",
    "# Define the background variations\n",
    "background_variations = ['d1', 'd2', 'd3', 'd4']"
   ]
  },
  {
   "cell_type": "code",
   "execution_count": 3,
   "id": "52427c9c-27c0-4301-b52e-6c0d8cfcd917",
   "metadata": {},
   "outputs": [],
   "source": [
    "transform = transforms.Compose([\n",
    "    transforms.Resize((64, 64)),\n",
    "    transforms.ToTensor(),\n",
    "    # Add more augmentations if needed\n",
    "])"
   ]
  },
  {
   "cell_type": "code",
   "execution_count": 4,
   "id": "f2a56bfe-c3af-4608-9019-caf7bc52dbd4",
   "metadata": {},
   "outputs": [
    {
     "name": "stdout",
     "output_type": "stream",
     "text": [
      "{'boxing': 0, 'jogging': 1, 'handclapping': 2, 'walking': 3, 'running': 4, 'handwaving': 5}\n"
     ]
    },
    {
     "name": "stderr",
     "output_type": "stream",
     "text": [
      "<ipython-input-4-c931b049970c>:50: FutureWarning: The input object of type 'Tensor' is an array-like implementing one of the corresponding protocols (`__array__`, `__array_interface__` or `__array_struct__`); but not a sequence (or 0-D). In the future, this object will be coerced as if it was first converted using `np.array(obj)`. To retain the old behaviour, you have to either modify the type 'Tensor', or assign to an empty array created with `np.empty(correct_shape, dtype=object)`.\n",
      "  subsequence_frames = np.array(subsequence_frames)\n",
      "<ipython-input-4-c931b049970c>:50: VisibleDeprecationWarning: Creating an ndarray from ragged nested sequences (which is a list-or-tuple of lists-or-tuples-or ndarrays with different lengths or shapes) is deprecated. If you meant to do this, you must specify 'dtype=object' when creating the ndarray.\n",
      "  subsequence_frames = np.array(subsequence_frames)\n"
     ]
    }
   ],
   "source": [
    "processed_folder = './processed/'\n",
    "# Define the number of frames per subsequence\n",
    "num_frames_per_subsequence = 20\n",
    "# List all action folders in the processed folder\n",
    "action_folders = os.listdir(processed_folder)\n",
    "\n",
    "classes = action_folders\n",
    "class_to_label = {class_name: idx for idx, class_name in enumerate(classes)}\n",
    "sequences = []\n",
    "target_arr = []\n",
    "print(class_to_label)\n",
    "# Iterate over each action folder\n",
    "for action_folder in action_folders:\n",
    "    target = action_folder\n",
    "    action_path = os.path.join(processed_folder, action_folder)\n",
    "\n",
    "    # List all person folders in the action folder\n",
    "    person_folders_actual = os.listdir(action_path)\n",
    "    # Filter videos based on subjects and background variations\n",
    "    person_folders_target = [f'person{subject:02d}_{action_folder}_{bg}' \n",
    "                   for subject in subjects \n",
    "                   for bg in background_variations]\n",
    "    person_folders = set(person_folders_actual) & set(person_folders_target) # it can be that some background variations (or smth else) is missing. \n",
    "    # Iterate over each person folder\n",
    "    for person_folder in person_folders:\n",
    "        person_path = os.path.join(action_path, person_folder)\n",
    "        # List all image files in the person folder\n",
    "        image_files = os.listdir(person_path)\n",
    "\n",
    "        # Split the image files into subsequences\n",
    "        num_frames = len(image_files)\n",
    "        num_subsequences = num_frames // num_frames_per_subsequence\n",
    "\n",
    "        for i in range(num_subsequences):\n",
    "            start_index = i * num_frames_per_subsequence\n",
    "            end_index = start_index + num_frames_per_subsequence\n",
    "\n",
    "            # Load and process the frames in the subsequence\n",
    "            subsequence_frames = []\n",
    "            for j in range(start_index, end_index):\n",
    "                image_path = os.path.join(person_path, image_files[j])\n",
    "                frame = Image.open(image_path).convert('RGB')\n",
    "                # Apply any desired spatial augmentations to the frame\n",
    "                frame = transform(frame)\n",
    "                subsequence_frames.append(frame)\n",
    "\n",
    "            # Apply any desired temporal augmentations to the subsequence\n",
    "            \n",
    "            # Process the subsequence (e.g., feed it to a model for action classification)\n",
    "            subsequence_frames = np.array(subsequence_frames)\n",
    "            # Perform further processing on the subsequence\n",
    "\n",
    "            target_arr.append(class_to_label[target])\n",
    "            sequences.append(subsequence_frames)"
   ]
  },
  {
   "cell_type": "raw",
   "id": "a7f478ae-4af9-4b22-ae71-8e2a2431b7bc",
   "metadata": {},
   "source": []
  },
  {
   "cell_type": "code",
   "execution_count": 7,
   "id": "5f533d15-a84d-43a8-84ad-a38e23899726",
   "metadata": {},
   "outputs": [
    {
     "name": "stdout",
     "output_type": "stream",
     "text": [
      "(9844, 20)\n",
      "(9844,)\n",
      "tensor([[[0.1725, 0.1843, 0.1882,  ..., 0.2353, 0.2196, 0.2196],\n",
      "         [0.1608, 0.1725, 0.1804,  ..., 0.2196, 0.2039, 0.1922],\n",
      "         [0.1647, 0.1725, 0.1804,  ..., 0.2353, 0.2314, 0.2157],\n",
      "         ...,\n",
      "         [0.1451, 0.1529, 0.1608,  ..., 0.2196, 0.2157, 0.2078],\n",
      "         [0.1451, 0.1529, 0.1608,  ..., 0.2275, 0.2157, 0.2039],\n",
      "         [0.1333, 0.1490, 0.1608,  ..., 0.2353, 0.2275, 0.2078]],\n",
      "\n",
      "        [[0.1725, 0.1843, 0.1882,  ..., 0.2353, 0.2196, 0.2196],\n",
      "         [0.1608, 0.1725, 0.1804,  ..., 0.2196, 0.2039, 0.1922],\n",
      "         [0.1647, 0.1725, 0.1804,  ..., 0.2353, 0.2314, 0.2157],\n",
      "         ...,\n",
      "         [0.1451, 0.1529, 0.1608,  ..., 0.2196, 0.2157, 0.2078],\n",
      "         [0.1451, 0.1529, 0.1608,  ..., 0.2275, 0.2157, 0.2039],\n",
      "         [0.1333, 0.1490, 0.1608,  ..., 0.2353, 0.2275, 0.2078]],\n",
      "\n",
      "        [[0.1725, 0.1843, 0.1882,  ..., 0.2353, 0.2196, 0.2196],\n",
      "         [0.1608, 0.1725, 0.1804,  ..., 0.2196, 0.2039, 0.1922],\n",
      "         [0.1647, 0.1725, 0.1804,  ..., 0.2353, 0.2314, 0.2157],\n",
      "         ...,\n",
      "         [0.1451, 0.1529, 0.1608,  ..., 0.2196, 0.2157, 0.2078],\n",
      "         [0.1451, 0.1529, 0.1608,  ..., 0.2275, 0.2157, 0.2039],\n",
      "         [0.1333, 0.1490, 0.1608,  ..., 0.2353, 0.2275, 0.2078]]])\n"
     ]
    }
   ],
   "source": [
    "print(np.array(sequences).shape)\n",
    "print(np.array(target_arr).shape)\n",
    "print(np.array(sequences)[0][1])"
   ]
  },
  {
   "cell_type": "code",
   "execution_count": 3,
   "id": "644ebc09-e873-40c4-9615-a23a32829807",
   "metadata": {},
   "outputs": [],
   "source": [
    "# # Define your custom dataset class\n",
    "# class KTHDataset(Dataset):\n",
    "#     def __init__(self, data_path, subjects, background_variations, transform=None, num_frames=20):\n",
    "#         self.data_path = data_path\n",
    "#         self.transform = transform\n",
    "#         self.num_frames = num_frames\n",
    "#         self.classes = os.listdir(data_path)\n",
    "\n",
    "#         # Filter videos based on subjects and background variations\n",
    "#         self.videos = [f'{cls}/person{subject:02d}_{cls}_{bg}' \n",
    "#                        for subject in subjects \n",
    "#                        for cls in self.classes \n",
    "#                        for bg in background_variations]\n",
    "        \n",
    "        \n",
    "\n",
    "#     def __len__(self):\n",
    "#         return len(self.videos)\n",
    "\n",
    "#     def __getitem__(self, idx):\n",
    "#         video_name = self.videos[idx]\n",
    "#         print(idx)\n",
    "#         video_path = os.path.join(self.data_path, video_name)\n",
    "#         sorted_images = sorted(os.listdir(video_path))\n",
    "#         images = []\n",
    "#         for frame_init_id in range(0, len(sorted_images), self.num_frames):\n",
    "#             if frame_init_id + 20 > len(sorted_images):\n",
    "#                 break\n",
    "#             else:\n",
    "#                 for frame_id in range(frame_init_id, frame_init_id+self.num_frames):\n",
    "#                     frame = sorted_images[frame_id]\n",
    "#                     frame_path = os.path.join(video_path, frame)\n",
    "#                     image = Image.open(frame_path).convert('RGB')\n",
    "\n",
    "#                     if self.transform:\n",
    "#                         image = self.transform(image)\n",
    "\n",
    "#                     images.append(image)\n",
    "\n",
    "#         # Stack images along the time dimension to form a sequence\n",
    "#         sequence = torch.stack(images, dim=0)\n",
    "#         # Extract the action class from the video name\n",
    "#         class_name = video_name.split('_')[1]\n",
    "#         class_idx = self.classes.index(class_name)\n",
    "\n",
    "#         return sequence, class_idx"
   ]
  },
  {
   "cell_type": "code",
   "execution_count": 4,
   "id": "af978a53-4e9e-44fa-a8e2-05c8e8b0bd40",
   "metadata": {},
   "outputs": [],
   "source": [
    "# # Define data transformations and augmentations\n",
    "# transform = transforms.Compose([\n",
    "#     transforms.Resize((256, 256)),\n",
    "#     transforms.ToTensor(),\n",
    "#     # Add more augmentations if needed\n",
    "# ])\n",
    "\n",
    "# # Initialize datasets for training, validation, and test\n",
    "# train_dataset = KTHDataset(data_path, train_subjects, background_variations, transform=transform)\n",
    "# val_dataset = KTHDataset(data_path, val_subjects, background_variations, transform=transform)\n",
    "# test_dataset = KTHDataset(data_path, test_subjects, background_variations, transform=transform)\n",
    "\n",
    "# # Define the corresponding DataLoaders\n",
    "# batch_size = 32\n",
    "# train_dataloader = DataLoader(train_dataset, batch_size=batch_size, shuffle=False)\n",
    "# val_dataloader = DataLoader(val_dataset, batch_size=batch_size, shuffle=False)\n",
    "# test_dataloader = DataLoader(test_dataset, batch_size=batch_size, shuffle=False)\n"
   ]
  },
  {
   "cell_type": "code",
   "execution_count": 5,
   "id": "ea7b118e-c2a6-4d91-93b4-34daada2374f",
   "metadata": {},
   "outputs": [
    {
     "data": {
      "text/plain": [
       "<__main__.KTHDataset at 0x7fc8005e0d30>"
      ]
     },
     "execution_count": 5,
     "metadata": {},
     "output_type": "execute_result"
    }
   ],
   "source": [
    "# train_dataset"
   ]
  },
  {
   "cell_type": "code",
   "execution_count": 6,
   "id": "2cdf3f6f-edbe-490b-83d5-8a29c0e03536",
   "metadata": {},
   "outputs": [
    {
     "name": "stdout",
     "output_type": "stream",
     "text": [
      "0\n",
      "1\n",
      "2\n",
      "3\n",
      "4\n",
      "5\n",
      "6\n",
      "7\n",
      "8\n",
      "9\n",
      "10\n",
      "11\n",
      "12\n",
      "13\n",
      "14\n",
      "15\n",
      "16\n",
      "17\n",
      "18\n",
      "19\n",
      "20\n",
      "21\n",
      "22\n",
      "23\n",
      "24\n",
      "25\n",
      "26\n",
      "27\n",
      "28\n",
      "29\n",
      "30\n",
      "31\n"
     ]
    },
    {
     "ename": "RuntimeError",
     "evalue": "stack expects each tensor to be equal size, but got [340, 3, 256, 256] at entry 0 and [540, 3, 256, 256] at entry 1",
     "output_type": "error",
     "traceback": [
      "\u001b[0;31m---------------------------------------------------------------------------\u001b[0m",
      "\u001b[0;31mRuntimeError\u001b[0m                              Traceback (most recent call last)",
      "Cell \u001b[0;32mIn[6], line 3\u001b[0m\n\u001b[1;32m      1\u001b[0m \u001b[38;5;66;03m# Now, you can iterate over the training, validation, and test dataloaders\u001b[39;00m\n\u001b[1;32m      2\u001b[0m \u001b[38;5;28;01mfor\u001b[39;00m epoch \u001b[38;5;129;01min\u001b[39;00m \u001b[38;5;28mrange\u001b[39m(\u001b[38;5;241m20\u001b[39m):\n\u001b[0;32m----> 3\u001b[0m     \u001b[38;5;28;01mfor\u001b[39;00m batch \u001b[38;5;129;01min\u001b[39;00m train_dataloader:\n\u001b[1;32m      4\u001b[0m         inputs, labels \u001b[38;5;241m=\u001b[39m batch\n\u001b[1;32m      5\u001b[0m         \u001b[38;5;66;03m# Your model training code goes here\u001b[39;00m\n",
      "File \u001b[0;32m~/miniconda3/envs/CudaLab/lib/python3.8/site-packages/torch/utils/data/dataloader.py:633\u001b[0m, in \u001b[0;36m_BaseDataLoaderIter.__next__\u001b[0;34m(self)\u001b[0m\n\u001b[1;32m    630\u001b[0m \u001b[38;5;28;01mif\u001b[39;00m \u001b[38;5;28mself\u001b[39m\u001b[38;5;241m.\u001b[39m_sampler_iter \u001b[38;5;129;01mis\u001b[39;00m \u001b[38;5;28;01mNone\u001b[39;00m:\n\u001b[1;32m    631\u001b[0m     \u001b[38;5;66;03m# TODO(https://github.com/pytorch/pytorch/issues/76750)\u001b[39;00m\n\u001b[1;32m    632\u001b[0m     \u001b[38;5;28mself\u001b[39m\u001b[38;5;241m.\u001b[39m_reset()  \u001b[38;5;66;03m# type: ignore[call-arg]\u001b[39;00m\n\u001b[0;32m--> 633\u001b[0m data \u001b[38;5;241m=\u001b[39m \u001b[38;5;28;43mself\u001b[39;49m\u001b[38;5;241;43m.\u001b[39;49m\u001b[43m_next_data\u001b[49m\u001b[43m(\u001b[49m\u001b[43m)\u001b[49m\n\u001b[1;32m    634\u001b[0m \u001b[38;5;28mself\u001b[39m\u001b[38;5;241m.\u001b[39m_num_yielded \u001b[38;5;241m+\u001b[39m\u001b[38;5;241m=\u001b[39m \u001b[38;5;241m1\u001b[39m\n\u001b[1;32m    635\u001b[0m \u001b[38;5;28;01mif\u001b[39;00m \u001b[38;5;28mself\u001b[39m\u001b[38;5;241m.\u001b[39m_dataset_kind \u001b[38;5;241m==\u001b[39m _DatasetKind\u001b[38;5;241m.\u001b[39mIterable \u001b[38;5;129;01mand\u001b[39;00m \\\n\u001b[1;32m    636\u001b[0m         \u001b[38;5;28mself\u001b[39m\u001b[38;5;241m.\u001b[39m_IterableDataset_len_called \u001b[38;5;129;01mis\u001b[39;00m \u001b[38;5;129;01mnot\u001b[39;00m \u001b[38;5;28;01mNone\u001b[39;00m \u001b[38;5;129;01mand\u001b[39;00m \\\n\u001b[1;32m    637\u001b[0m         \u001b[38;5;28mself\u001b[39m\u001b[38;5;241m.\u001b[39m_num_yielded \u001b[38;5;241m>\u001b[39m \u001b[38;5;28mself\u001b[39m\u001b[38;5;241m.\u001b[39m_IterableDataset_len_called:\n",
      "File \u001b[0;32m~/miniconda3/envs/CudaLab/lib/python3.8/site-packages/torch/utils/data/dataloader.py:677\u001b[0m, in \u001b[0;36m_SingleProcessDataLoaderIter._next_data\u001b[0;34m(self)\u001b[0m\n\u001b[1;32m    675\u001b[0m \u001b[38;5;28;01mdef\u001b[39;00m \u001b[38;5;21m_next_data\u001b[39m(\u001b[38;5;28mself\u001b[39m):\n\u001b[1;32m    676\u001b[0m     index \u001b[38;5;241m=\u001b[39m \u001b[38;5;28mself\u001b[39m\u001b[38;5;241m.\u001b[39m_next_index()  \u001b[38;5;66;03m# may raise StopIteration\u001b[39;00m\n\u001b[0;32m--> 677\u001b[0m     data \u001b[38;5;241m=\u001b[39m \u001b[38;5;28;43mself\u001b[39;49m\u001b[38;5;241;43m.\u001b[39;49m\u001b[43m_dataset_fetcher\u001b[49m\u001b[38;5;241;43m.\u001b[39;49m\u001b[43mfetch\u001b[49m\u001b[43m(\u001b[49m\u001b[43mindex\u001b[49m\u001b[43m)\u001b[49m  \u001b[38;5;66;03m# may raise StopIteration\u001b[39;00m\n\u001b[1;32m    678\u001b[0m     \u001b[38;5;28;01mif\u001b[39;00m \u001b[38;5;28mself\u001b[39m\u001b[38;5;241m.\u001b[39m_pin_memory:\n\u001b[1;32m    679\u001b[0m         data \u001b[38;5;241m=\u001b[39m _utils\u001b[38;5;241m.\u001b[39mpin_memory\u001b[38;5;241m.\u001b[39mpin_memory(data, \u001b[38;5;28mself\u001b[39m\u001b[38;5;241m.\u001b[39m_pin_memory_device)\n",
      "File \u001b[0;32m~/miniconda3/envs/CudaLab/lib/python3.8/site-packages/torch/utils/data/_utils/fetch.py:54\u001b[0m, in \u001b[0;36m_MapDatasetFetcher.fetch\u001b[0;34m(self, possibly_batched_index)\u001b[0m\n\u001b[1;32m     52\u001b[0m \u001b[38;5;28;01melse\u001b[39;00m:\n\u001b[1;32m     53\u001b[0m     data \u001b[38;5;241m=\u001b[39m \u001b[38;5;28mself\u001b[39m\u001b[38;5;241m.\u001b[39mdataset[possibly_batched_index]\n\u001b[0;32m---> 54\u001b[0m \u001b[38;5;28;01mreturn\u001b[39;00m \u001b[38;5;28;43mself\u001b[39;49m\u001b[38;5;241;43m.\u001b[39;49m\u001b[43mcollate_fn\u001b[49m\u001b[43m(\u001b[49m\u001b[43mdata\u001b[49m\u001b[43m)\u001b[49m\n",
      "File \u001b[0;32m~/miniconda3/envs/CudaLab/lib/python3.8/site-packages/torch/utils/data/_utils/collate.py:265\u001b[0m, in \u001b[0;36mdefault_collate\u001b[0;34m(batch)\u001b[0m\n\u001b[1;32m    204\u001b[0m \u001b[38;5;28;01mdef\u001b[39;00m \u001b[38;5;21mdefault_collate\u001b[39m(batch):\n\u001b[1;32m    205\u001b[0m \u001b[38;5;250m    \u001b[39m\u001b[38;5;124mr\u001b[39m\u001b[38;5;124;03m\"\"\"\u001b[39;00m\n\u001b[1;32m    206\u001b[0m \u001b[38;5;124;03m        Function that takes in a batch of data and puts the elements within the batch\u001b[39;00m\n\u001b[1;32m    207\u001b[0m \u001b[38;5;124;03m        into a tensor with an additional outer dimension - batch size. The exact output type can be\u001b[39;00m\n\u001b[0;32m   (...)\u001b[0m\n\u001b[1;32m    263\u001b[0m \u001b[38;5;124;03m            >>> default_collate(batch)  # Handle `CustomType` automatically\u001b[39;00m\n\u001b[1;32m    264\u001b[0m \u001b[38;5;124;03m    \"\"\"\u001b[39;00m\n\u001b[0;32m--> 265\u001b[0m     \u001b[38;5;28;01mreturn\u001b[39;00m \u001b[43mcollate\u001b[49m\u001b[43m(\u001b[49m\u001b[43mbatch\u001b[49m\u001b[43m,\u001b[49m\u001b[43m \u001b[49m\u001b[43mcollate_fn_map\u001b[49m\u001b[38;5;241;43m=\u001b[39;49m\u001b[43mdefault_collate_fn_map\u001b[49m\u001b[43m)\u001b[49m\n",
      "File \u001b[0;32m~/miniconda3/envs/CudaLab/lib/python3.8/site-packages/torch/utils/data/_utils/collate.py:142\u001b[0m, in \u001b[0;36mcollate\u001b[0;34m(batch, collate_fn_map)\u001b[0m\n\u001b[1;32m    139\u001b[0m transposed \u001b[38;5;241m=\u001b[39m \u001b[38;5;28mlist\u001b[39m(\u001b[38;5;28mzip\u001b[39m(\u001b[38;5;241m*\u001b[39mbatch))  \u001b[38;5;66;03m# It may be accessed twice, so we use a list.\u001b[39;00m\n\u001b[1;32m    141\u001b[0m \u001b[38;5;28;01mif\u001b[39;00m \u001b[38;5;28misinstance\u001b[39m(elem, \u001b[38;5;28mtuple\u001b[39m):\n\u001b[0;32m--> 142\u001b[0m     \u001b[38;5;28;01mreturn\u001b[39;00m [collate(samples, collate_fn_map\u001b[38;5;241m=\u001b[39mcollate_fn_map) \u001b[38;5;28;01mfor\u001b[39;00m samples \u001b[38;5;129;01min\u001b[39;00m transposed]  \u001b[38;5;66;03m# Backwards compatibility.\u001b[39;00m\n\u001b[1;32m    143\u001b[0m \u001b[38;5;28;01melse\u001b[39;00m:\n\u001b[1;32m    144\u001b[0m     \u001b[38;5;28;01mtry\u001b[39;00m:\n",
      "File \u001b[0;32m~/miniconda3/envs/CudaLab/lib/python3.8/site-packages/torch/utils/data/_utils/collate.py:142\u001b[0m, in \u001b[0;36m<listcomp>\u001b[0;34m(.0)\u001b[0m\n\u001b[1;32m    139\u001b[0m transposed \u001b[38;5;241m=\u001b[39m \u001b[38;5;28mlist\u001b[39m(\u001b[38;5;28mzip\u001b[39m(\u001b[38;5;241m*\u001b[39mbatch))  \u001b[38;5;66;03m# It may be accessed twice, so we use a list.\u001b[39;00m\n\u001b[1;32m    141\u001b[0m \u001b[38;5;28;01mif\u001b[39;00m \u001b[38;5;28misinstance\u001b[39m(elem, \u001b[38;5;28mtuple\u001b[39m):\n\u001b[0;32m--> 142\u001b[0m     \u001b[38;5;28;01mreturn\u001b[39;00m [\u001b[43mcollate\u001b[49m\u001b[43m(\u001b[49m\u001b[43msamples\u001b[49m\u001b[43m,\u001b[49m\u001b[43m \u001b[49m\u001b[43mcollate_fn_map\u001b[49m\u001b[38;5;241;43m=\u001b[39;49m\u001b[43mcollate_fn_map\u001b[49m\u001b[43m)\u001b[49m \u001b[38;5;28;01mfor\u001b[39;00m samples \u001b[38;5;129;01min\u001b[39;00m transposed]  \u001b[38;5;66;03m# Backwards compatibility.\u001b[39;00m\n\u001b[1;32m    143\u001b[0m \u001b[38;5;28;01melse\u001b[39;00m:\n\u001b[1;32m    144\u001b[0m     \u001b[38;5;28;01mtry\u001b[39;00m:\n",
      "File \u001b[0;32m~/miniconda3/envs/CudaLab/lib/python3.8/site-packages/torch/utils/data/_utils/collate.py:119\u001b[0m, in \u001b[0;36mcollate\u001b[0;34m(batch, collate_fn_map)\u001b[0m\n\u001b[1;32m    117\u001b[0m \u001b[38;5;28;01mif\u001b[39;00m collate_fn_map \u001b[38;5;129;01mis\u001b[39;00m \u001b[38;5;129;01mnot\u001b[39;00m \u001b[38;5;28;01mNone\u001b[39;00m:\n\u001b[1;32m    118\u001b[0m     \u001b[38;5;28;01mif\u001b[39;00m elem_type \u001b[38;5;129;01min\u001b[39;00m collate_fn_map:\n\u001b[0;32m--> 119\u001b[0m         \u001b[38;5;28;01mreturn\u001b[39;00m \u001b[43mcollate_fn_map\u001b[49m\u001b[43m[\u001b[49m\u001b[43melem_type\u001b[49m\u001b[43m]\u001b[49m\u001b[43m(\u001b[49m\u001b[43mbatch\u001b[49m\u001b[43m,\u001b[49m\u001b[43m \u001b[49m\u001b[43mcollate_fn_map\u001b[49m\u001b[38;5;241;43m=\u001b[39;49m\u001b[43mcollate_fn_map\u001b[49m\u001b[43m)\u001b[49m\n\u001b[1;32m    121\u001b[0m     \u001b[38;5;28;01mfor\u001b[39;00m collate_type \u001b[38;5;129;01min\u001b[39;00m collate_fn_map:\n\u001b[1;32m    122\u001b[0m         \u001b[38;5;28;01mif\u001b[39;00m \u001b[38;5;28misinstance\u001b[39m(elem, collate_type):\n",
      "File \u001b[0;32m~/miniconda3/envs/CudaLab/lib/python3.8/site-packages/torch/utils/data/_utils/collate.py:162\u001b[0m, in \u001b[0;36mcollate_tensor_fn\u001b[0;34m(batch, collate_fn_map)\u001b[0m\n\u001b[1;32m    160\u001b[0m     storage \u001b[38;5;241m=\u001b[39m elem\u001b[38;5;241m.\u001b[39m_typed_storage()\u001b[38;5;241m.\u001b[39m_new_shared(numel, device\u001b[38;5;241m=\u001b[39melem\u001b[38;5;241m.\u001b[39mdevice)\n\u001b[1;32m    161\u001b[0m     out \u001b[38;5;241m=\u001b[39m elem\u001b[38;5;241m.\u001b[39mnew(storage)\u001b[38;5;241m.\u001b[39mresize_(\u001b[38;5;28mlen\u001b[39m(batch), \u001b[38;5;241m*\u001b[39m\u001b[38;5;28mlist\u001b[39m(elem\u001b[38;5;241m.\u001b[39msize()))\n\u001b[0;32m--> 162\u001b[0m \u001b[38;5;28;01mreturn\u001b[39;00m \u001b[43mtorch\u001b[49m\u001b[38;5;241;43m.\u001b[39;49m\u001b[43mstack\u001b[49m\u001b[43m(\u001b[49m\u001b[43mbatch\u001b[49m\u001b[43m,\u001b[49m\u001b[43m \u001b[49m\u001b[38;5;241;43m0\u001b[39;49m\u001b[43m,\u001b[49m\u001b[43m \u001b[49m\u001b[43mout\u001b[49m\u001b[38;5;241;43m=\u001b[39;49m\u001b[43mout\u001b[49m\u001b[43m)\u001b[49m\n",
      "\u001b[0;31mRuntimeError\u001b[0m: stack expects each tensor to be equal size, but got [340, 3, 256, 256] at entry 0 and [540, 3, 256, 256] at entry 1"
     ]
    }
   ],
   "source": [
    "# # Now, you can iterate over the training, validation, and test dataloaders\n",
    "# for epoch in range(20):\n",
    "#     for batch in train_dataloader:\n",
    "#         inputs, labels = batch\n",
    "#         # Your model training code goes here"
   ]
  },
  {
   "cell_type": "code",
   "execution_count": null,
   "id": "420430c4-617e-44db-a5d1-9af2636b4134",
   "metadata": {},
   "outputs": [],
   "source": []
  }
 ],
 "metadata": {
  "kernelspec": {
   "display_name": "Python 3",
   "language": "python",
   "name": "python3"
  },
  "language_info": {
   "codemirror_mode": {
    "name": "ipython",
    "version": 3
   },
   "file_extension": ".py",
   "mimetype": "text/x-python",
   "name": "python",
   "nbconvert_exporter": "python",
   "pygments_lexer": "ipython3",
   "version": "3.8.8"
  }
 },
 "nbformat": 4,
 "nbformat_minor": 5
}
