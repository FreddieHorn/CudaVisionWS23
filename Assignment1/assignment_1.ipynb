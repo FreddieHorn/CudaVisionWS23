{
 "cells": [
  {
   "cell_type": "markdown",
   "metadata": {},
   "source": [
    "# A template for future assignments"
   ]
  },
  {
   "cell_type": "code",
   "execution_count": 24,
   "metadata": {
    "ExecuteTime": {
     "end_time": "2023-10-25T15:19:03.076281700Z",
     "start_time": "2023-10-25T15:19:03.013764200Z"
    }
   },
   "outputs": [],
   "source": [
    "import numpy as np\n",
    "import matplotlib.pyplot as plt\n",
    "import torch\n",
    "import torch.nn as nn\n",
    "import torchvision\n",
    "import torchvision.transforms as transforms\n",
    "import torchvision.datasets as datasets\n",
    "import yaml\n",
    "import os\n",
    "import pdb"
   ]
  },
  {
   "cell_type": "markdown",
   "metadata": {},
   "source": [
    "### Handling the data"
   ]
  },
  {
   "cell_type": "code",
   "execution_count": 11,
   "metadata": {
    "ExecuteTime": {
     "end_time": "2023-10-25T15:06:28.424012600Z",
     "start_time": "2023-10-25T15:06:28.267523500Z"
    }
   },
   "outputs": [
    {
     "name": "stdout",
     "output_type": "stream",
     "text": [
      "config: {'BATCH_SIZE': 64, 'NUM_EPOCHS': 10, 'LR': '3e-4'}\n"
     ]
    }
   ],
   "source": [
    "# I am a big fan of config files and I believe it is a good practise\n",
    "config = yaml.safe_load(open(\"config.yaml\"))\n",
    "print(f\"config: {config}\")\n",
    "batch_size = int(config[\"BATCH_SIZE\"])\n"
   ]
  },
  {
   "cell_type": "code",
   "execution_count": 6,
   "metadata": {
    "ExecuteTime": {
     "end_time": "2023-10-25T15:05:19.032115500Z",
     "start_time": "2023-10-25T15:05:18.432926Z"
    }
   },
   "outputs": [],
   "source": [
    "# may differ depending on the problem\n",
    "transform = transforms.Compose(\n",
    "    [transforms.ToTensor(),\n",
    "     ]) # put more transforms options here"
   ]
  },
  {
   "cell_type": "code",
   "execution_count": 27,
   "metadata": {
    "ExecuteTime": {
     "end_time": "2023-10-25T15:33:11.466271500Z",
     "start_time": "2023-10-25T15:32:55.121350500Z"
    }
   },
   "outputs": [
    {
     "name": "stdout",
     "output_type": "stream",
     "text": [
      "Downloading https://www.cs.toronto.edu/~kriz/cifar-10-python.tar.gz to ./data\\cifar-10-python.tar.gz\n"
     ]
    },
    {
     "data": {
      "text/plain": "  0%|          | 0/170498071 [00:00<?, ?it/s]",
      "application/vnd.jupyter.widget-view+json": {
       "version_major": 2,
       "version_minor": 0,
       "model_id": "85b7bb7c7c594a0da4df7330e6f24a1d"
      }
     },
     "metadata": {},
     "output_type": "display_data"
    },
    {
     "name": "stdout",
     "output_type": "stream",
     "text": [
      "Extracting ./data\\cifar-10-python.tar.gz to ./data\n",
      "Files already downloaded and verified\n"
     ]
    }
   ],
   "source": [
    "#load datasets (in the future it's possible that the whole process will be in a \n",
    "#separate file)\n",
    "train_dataset = torchvision.datasets.CIFAR10(root='./data', train=True,\n",
    "                                        download=True, transform=transform)\n",
    "test_dataset = torchvision.datasets.CIFAR10(root='./data', train=False,\n",
    "                                       download=True, transform=transform)"
   ]
  },
  {
   "cell_type": "code",
   "execution_count": 28,
   "metadata": {
    "ExecuteTime": {
     "end_time": "2023-10-25T15:33:16.607538200Z",
     "start_time": "2023-10-25T15:33:16.560666800Z"
    }
   },
   "outputs": [],
   "source": [
    "#create dataloaders\n",
    "trainloader = torch.utils.data.DataLoader(train_dataset, batch_size=batch_size,\n",
    "                                          shuffle=True, num_workers=2)\n",
    "testloader = torch.utils.data.DataLoader(test_dataset, batch_size=batch_size,\n",
    "                                         shuffle=False, num_workers=2)"
   ]
  },
  {
   "cell_type": "code",
   "execution_count": 29,
   "metadata": {
    "ExecuteTime": {
     "end_time": "2023-10-25T15:33:24.986778200Z",
     "start_time": "2023-10-25T15:33:20.810573300Z"
    }
   },
   "outputs": [
    {
     "name": "stdout",
     "output_type": "stream",
     "text": [
      "Image Shapes: torch.Size([64, 3, 32, 32])\n",
      "Label Shapes: torch.Size([64])\n"
     ]
    }
   ],
   "source": [
    "imgs, labels = next(iter(testloader))\n",
    "print(f\"Image Shapes: {imgs.shape}\")\n",
    "print(f\"Label Shapes: {labels.shape}\")"
   ]
  },
  {
   "cell_type": "markdown",
   "metadata": {},
   "source": [
    "### We can display some images from the dataset\n",
    "Functions used will probably vastly differ from task to task"
   ]
  },
  {
   "cell_type": "code",
   "execution_count": 45,
   "metadata": {
    "ExecuteTime": {
     "end_time": "2023-10-25T15:45:48.596634500Z",
     "start_time": "2023-10-25T15:45:47.857367800Z"
    }
   },
   "outputs": [
    {
     "data": {
      "text/plain": "<Figure size 2400x300 with 8 Axes>",
      "image/png": "[encoded data removed]"
     },
     "metadata": {},
     "output_type": "display_data"
    }
   ],
   "source": [
    "N_IMGS = 8\n",
    "fig, ax = plt.subplots(1,N_IMGS)\n",
    "fig.set_size_inches(3 * N_IMGS, 3)\n",
    "\n",
    "ids = np.random.randint(low=0, high=len(train_dataset), size=N_IMGS)\n",
    "\n",
    "for i, n in enumerate(ids):\n",
    "    img = train_dataset[n][0].numpy().reshape(3,32,32).transpose(1, 2, 0)\n",
    "    ax[i].imshow(img)\n",
    "    #ax[i].set_title(f\"Img #{n}  Label: {train_dataset[n][1]}\")\n",
    "    #ax[i].axis(\"off\")\n",
    "plt.show()"
   ]
  },
  {
   "cell_type": "markdown",
   "metadata": {},
   "source": [
    "### Creating the model"
   ]
  },
  {
   "cell_type": "code",
   "execution_count": 46,
   "metadata": {
    "ExecuteTime": {
     "end_time": "2023-10-25T15:45:56.630227400Z",
     "start_time": "2023-10-25T15:45:56.567549100Z"
    }
   },
   "outputs": [],
   "source": [
    "class Model(nn.Module):\n",
    "    \"\"\"\n",
    "    DESCRIPTION\n",
    "    \"\"\"\n",
    "    def __init__(self, input_dim=784, hidden_dim=128, output_dim=10):\n",
    "        \"\"\" Model initalizer \"\"\"\n",
    "        super().__init__()\n",
    "        self.layers = nn.Sequential(\n",
    "                nn.Linear(in_features=input_dim, out_features=hidden_dim),\n",
    "                nn.ReLU(),\n",
    "                nn.Linear(in_features=hidden_dim, out_features=output_dim)\n",
    "            )\n",
    "        \n",
    "    def forward(self, x):\n",
    "        \"\"\" Forward pass through the model\"\"\"\n",
    "        assert len(x.shape) == 2, f\"ERROR! Shape of input must be 2D (b_size, dim)\"\n",
    "        pred = self.layers(x)\n",
    "        return pred\n",
    "    \n",
    "def count_model_params(model):\n",
    "    \"\"\" Counting the number of learnable parameters in a nn.Module \"\"\"\n",
    "    num_params = sum(p.numel() for p in model.parameters() if p.requires_grad)\n",
    "    return num_params"
   ]
  },
  {
   "cell_type": "markdown",
   "metadata": {},
   "source": [
    "### Training the model"
   ]
  },
  {
   "cell_type": "code",
   "execution_count": 47,
   "metadata": {
    "ExecuteTime": {
     "end_time": "2023-10-25T15:46:04.305493500Z",
     "start_time": "2023-10-25T15:46:04.242791200Z"
    }
   },
   "outputs": [],
   "source": [
    "from tqdm import tqdm"
   ]
  },
  {
   "cell_type": "code",
   "execution_count": 48,
   "metadata": {
    "ExecuteTime": {
     "end_time": "2023-10-25T15:46:05.042209800Z",
     "start_time": "2023-10-25T15:46:05.010965Z"
    }
   },
   "outputs": [],
   "source": [
    "NUM_EPOCHS = int(config[\"NUM_EPOCHS\"])\n",
    "LR = float(config[\"LR\"])"
   ]
  },
  {
   "cell_type": "code",
   "execution_count": 90,
   "metadata": {
    "ExecuteTime": {
     "end_time": "2023-10-25T21:42:27.961167500Z",
     "start_time": "2023-10-25T21:42:27.893729500Z"
    }
   },
   "outputs": [],
   "source": [
    "device = torch.device(\"cuda\" if torch.cuda.is_available() else \"cpu\")\n",
    "model = Model(input_dim=3072, hidden_dim=512, output_dim=10)\n",
    "model = model.to(device)"
   ]
  },
  {
   "cell_type": "code",
   "execution_count": 91,
   "metadata": {
    "ExecuteTime": {
     "end_time": "2023-10-25T21:42:32.853999200Z",
     "start_time": "2023-10-25T21:42:32.744053800Z"
    }
   },
   "outputs": [],
   "source": [
    "criterion = nn.CrossEntropyLoss()  # Note, that this already includes a Softmax!\n",
    "optimizer = torch.optim.Adam(model.parameters(), lr=LR)"
   ]
  },
  {
   "cell_type": "markdown",
   "metadata": {},
   "source": [
    "Training loop"
   ]
  },
  {
   "cell_type": "code",
   "execution_count": 92,
   "metadata": {
    "ExecuteTime": {
     "end_time": "2023-10-25T21:42:38.282702100Z",
     "start_time": "2023-10-25T21:42:38.253798500Z"
    }
   },
   "outputs": [],
   "source": [
    "# For saving models and checkpoints later\n",
    "if(not os.path.exists(\"models\")):\n",
    "    os.makedirs(\"models\")"
   ]
  },
  {
   "cell_type": "code",
   "execution_count": 93,
   "outputs": [
    {
     "name": "stdout",
     "output_type": "stream",
     "text": [
      "torch.Size([64, 10])\n",
      "torch.Size([64])\n",
      "torch.Size([64])\n",
      "torch.Size([64, 10])\n",
      "torch.Size([64])\n",
      "torch.Size([64])\n",
      "torch.Size([64, 10])\n",
      "torch.Size([64])\n",
      "torch.Size([64])\n",
      "torch.Size([64, 10])\n",
      "torch.Size([64])\n",
      "torch.Size([64])\n",
      "torch.Size([64, 10])\n",
      "torch.Size([64])\n",
      "torch.Size([64])\n",
      "torch.Size([64, 10])\n",
      "torch.Size([64])\n",
      "torch.Size([64])\n",
      "torch.Size([64, 10])\n",
      "torch.Size([64])\n",
      "torch.Size([64])\n",
      "torch.Size([64, 10])\n",
      "torch.Size([64])\n",
      "torch.Size([64])\n",
      "torch.Size([64, 10])\n",
      "torch.Size([64])\n",
      "torch.Size([64])\n",
      "torch.Size([64, 10])\n",
      "torch.Size([64])\n",
      "torch.Size([64])\n",
      "torch.Size([64, 10])\n",
      "torch.Size([64])\n",
      "torch.Size([64])\n",
      "torch.Size([64, 10])\n",
      "torch.Size([64])\n",
      "torch.Size([64])\n",
      "torch.Size([64, 10])\n",
      "torch.Size([64])\n",
      "torch.Size([64])\n",
      "torch.Size([64, 10])\n",
      "torch.Size([64])\n",
      "torch.Size([64])\n",
      "torch.Size([64, 10])\n",
      "torch.Size([64])\n",
      "torch.Size([64])\n",
      "torch.Size([64, 10])\n",
      "torch.Size([64])\n",
      "torch.Size([64])\n",
      "torch.Size([64, 10])\n",
      "torch.Size([64])\n",
      "torch.Size([64])\n",
      "torch.Size([64, 10])\n",
      "torch.Size([64])\n",
      "torch.Size([64])\n",
      "torch.Size([64, 10])\n",
      "torch.Size([64])\n",
      "torch.Size([64])\n",
      "torch.Size([64, 10])\n",
      "torch.Size([64])\n",
      "torch.Size([64])\n",
      "torch.Size([64, 10])\n",
      "torch.Size([64])\n",
      "torch.Size([64])\n",
      "torch.Size([64, 10])\n",
      "torch.Size([64])\n",
      "torch.Size([64])\n",
      "torch.Size([64, 10])\n",
      "torch.Size([64])\n",
      "torch.Size([64])\n",
      "torch.Size([64, 10])\n",
      "torch.Size([64])\n",
      "torch.Size([64])\n",
      "torch.Size([64, 10])\n",
      "torch.Size([64])\n",
      "torch.Size([64])\n",
      "torch.Size([64, 10])\n",
      "torch.Size([64])\n",
      "torch.Size([64])\n",
      "torch.Size([64, 10])\n",
      "torch.Size([64])\n",
      "torch.Size([64])\n",
      "torch.Size([64, 10])\n",
      "torch.Size([64])\n",
      "torch.Size([64])\n",
      "torch.Size([64, 10])\n",
      "torch.Size([64])\n",
      "torch.Size([64])\n",
      "torch.Size([64, 10])\n",
      "torch.Size([64])\n",
      "torch.Size([64])\n",
      "torch.Size([64, 10])\n",
      "torch.Size([64])\n",
      "torch.Size([64])\n",
      "torch.Size([64, 10])\n",
      "torch.Size([64])\n",
      "torch.Size([64])\n",
      "torch.Size([64, 10])\n",
      "torch.Size([64])\n",
      "torch.Size([64])\n",
      "torch.Size([64, 10])\n",
      "torch.Size([64])\n",
      "torch.Size([64])\n",
      "torch.Size([64, 10])\n",
      "torch.Size([64])\n",
      "torch.Size([64])\n",
      "torch.Size([64, 10])\n",
      "torch.Size([64])\n",
      "torch.Size([64])\n",
      "torch.Size([64, 10])\n",
      "torch.Size([64])\n",
      "torch.Size([64])\n",
      "torch.Size([64, 10])\n",
      "torch.Size([64])\n",
      "torch.Size([64])\n",
      "torch.Size([64, 10])\n",
      "torch.Size([64])\n",
      "torch.Size([64])\n",
      "torch.Size([64, 10])\n",
      "torch.Size([64])\n",
      "torch.Size([64])\n",
      "torch.Size([64, 10])\n",
      "torch.Size([64])\n",
      "torch.Size([64])\n",
      "torch.Size([64, 10])\n",
      "torch.Size([64])\n",
      "torch.Size([64])\n",
      "torch.Size([64, 10])\n",
      "torch.Size([64])\n",
      "torch.Size([64])\n",
      "torch.Size([64, 10])\n",
      "torch.Size([64])\n",
      "torch.Size([64])\n",
      "torch.Size([64, 10])\n",
      "torch.Size([64])\n",
      "torch.Size([64])\n",
      "torch.Size([64, 10])\n",
      "torch.Size([64])\n",
      "torch.Size([64])\n",
      "torch.Size([64, 10])\n",
      "torch.Size([64])\n",
      "torch.Size([64])\n",
      "torch.Size([64, 10])\n",
      "torch.Size([64])\n",
      "torch.Size([64])\n",
      "torch.Size([64, 10])\n",
      "torch.Size([64])\n",
      "torch.Size([64])\n",
      "torch.Size([64, 10])\n",
      "torch.Size([64])\n",
      "torch.Size([64])\n",
      "torch.Size([64, 10])\n",
      "torch.Size([64])\n",
      "torch.Size([64])\n",
      "torch.Size([64, 10])\n",
      "torch.Size([64])\n",
      "torch.Size([64])\n",
      "torch.Size([64, 10])\n",
      "torch.Size([64])\n",
      "torch.Size([64])\n",
      "torch.Size([64, 10])\n",
      "torch.Size([64])\n",
      "torch.Size([64])\n",
      "torch.Size([64, 10])\n",
      "torch.Size([64])\n",
      "torch.Size([64])\n",
      "torch.Size([64, 10])\n",
      "torch.Size([64])\n",
      "torch.Size([64])\n",
      "torch.Size([64, 10])\n",
      "torch.Size([64])\n",
      "torch.Size([64])\n",
      "torch.Size([64, 10])\n",
      "torch.Size([64])\n",
      "torch.Size([64])\n",
      "torch.Size([64, 10])\n",
      "torch.Size([64])\n",
      "torch.Size([64])\n",
      "torch.Size([64, 10])\n",
      "torch.Size([64])\n",
      "torch.Size([64])\n",
      "torch.Size([64, 10])\n",
      "torch.Size([64])\n",
      "torch.Size([64])\n",
      "torch.Size([64, 10])\n",
      "torch.Size([64])\n",
      "torch.Size([64])\n",
      "torch.Size([64, 10])\n",
      "torch.Size([64])\n",
      "torch.Size([64])\n",
      "torch.Size([64, 10])\n",
      "torch.Size([64])\n",
      "torch.Size([64])\n",
      "torch.Size([64, 10])\n",
      "torch.Size([64])\n",
      "torch.Size([64])\n",
      "torch.Size([64, 10])\n",
      "torch.Size([64])\n",
      "torch.Size([64])\n",
      "torch.Size([64, 10])\n",
      "torch.Size([64])\n",
      "torch.Size([64])\n",
      "torch.Size([64, 10])\n",
      "torch.Size([64])\n",
      "torch.Size([64])\n",
      "torch.Size([64, 10])\n",
      "torch.Size([64])\n",
      "torch.Size([64])\n",
      "torch.Size([64, 10])\n",
      "torch.Size([64])\n",
      "torch.Size([64])\n",
      "torch.Size([64, 10])\n",
      "torch.Size([64])\n",
      "torch.Size([64])\n",
      "torch.Size([64, 10])\n",
      "torch.Size([64])\n",
      "torch.Size([64])\n",
      "torch.Size([64, 10])\n",
      "torch.Size([64])\n",
      "torch.Size([64])\n",
      "torch.Size([64, 10])\n",
      "torch.Size([64])\n",
      "torch.Size([64])\n",
      "torch.Size([64, 10])\n",
      "torch.Size([64])\n",
      "torch.Size([64])\n",
      "torch.Size([64, 10])\n",
      "torch.Size([64])\n",
      "torch.Size([64])\n",
      "torch.Size([64, 10])\n",
      "torch.Size([64])\n",
      "torch.Size([64])\n",
      "torch.Size([64, 10])\n",
      "torch.Size([64])\n",
      "torch.Size([64])\n",
      "torch.Size([64, 10])\n",
      "torch.Size([64])\n",
      "torch.Size([64])\n",
      "torch.Size([64, 10])\n",
      "torch.Size([64])\n",
      "torch.Size([64])\n",
      "torch.Size([64, 10])\n",
      "torch.Size([64])\n",
      "torch.Size([64])\n",
      "torch.Size([64, 10])\n",
      "torch.Size([64])\n",
      "torch.Size([64])\n",
      "torch.Size([64, 10])\n",
      "torch.Size([64])\n",
      "torch.Size([64])\n",
      "torch.Size([64, 10])\n",
      "torch.Size([64])\n",
      "torch.Size([64])\n",
      "torch.Size([64, 10])\n",
      "torch.Size([64])\n",
      "torch.Size([64])\n",
      "torch.Size([64, 10])\n",
      "torch.Size([64])\n",
      "torch.Size([64])\n",
      "torch.Size([64, 10])\n",
      "torch.Size([64])\n",
      "torch.Size([64])\n",
      "torch.Size([64, 10])\n",
      "torch.Size([64])\n",
      "torch.Size([64])\n",
      "torch.Size([64, 10])\n",
      "torch.Size([64])\n",
      "torch.Size([64])\n",
      "torch.Size([64, 10])\n",
      "torch.Size([64])\n",
      "torch.Size([64])\n",
      "torch.Size([64, 10])\n",
      "torch.Size([64])\n",
      "torch.Size([64])\n",
      "torch.Size([64, 10])\n",
      "torch.Size([64])\n",
      "torch.Size([64])\n",
      "torch.Size([64, 10])\n",
      "torch.Size([64])\n",
      "torch.Size([64])\n",
      "torch.Size([64, 10])\n",
      "torch.Size([64])\n",
      "torch.Size([64])\n",
      "torch.Size([64, 10])\n",
      "torch.Size([64])\n",
      "torch.Size([64])\n",
      "torch.Size([64, 10])\n",
      "torch.Size([64])\n",
      "torch.Size([64])\n",
      "torch.Size([64, 10])\n",
      "torch.Size([64])\n",
      "torch.Size([64])\n",
      "torch.Size([64, 10])\n",
      "torch.Size([64])\n",
      "torch.Size([64])\n",
      "torch.Size([64, 10])\n",
      "torch.Size([64])\n",
      "torch.Size([64])\n",
      "torch.Size([64, 10])\n",
      "torch.Size([64])\n",
      "torch.Size([64])\n",
      "torch.Size([64, 10])\n",
      "torch.Size([64])\n",
      "torch.Size([64])\n",
      "torch.Size([64, 10])\n",
      "torch.Size([64])\n",
      "torch.Size([64])\n",
      "torch.Size([64, 10])\n",
      "torch.Size([64])\n",
      "torch.Size([64])\n",
      "torch.Size([64, 10])\n",
      "torch.Size([64])\n",
      "torch.Size([64])\n",
      "torch.Size([64, 10])\n",
      "torch.Size([64])\n",
      "torch.Size([64])\n",
      "torch.Size([64, 10])\n",
      "torch.Size([64])\n",
      "torch.Size([64])\n",
      "torch.Size([64, 10])\n",
      "torch.Size([64])\n",
      "torch.Size([64])\n",
      "torch.Size([64, 10])\n",
      "torch.Size([64])\n",
      "torch.Size([64])\n",
      "torch.Size([64, 10])\n",
      "torch.Size([64])\n",
      "torch.Size([64])\n",
      "torch.Size([64, 10])\n",
      "torch.Size([64])\n",
      "torch.Size([64])\n",
      "torch.Size([64, 10])\n",
      "torch.Size([64])\n",
      "torch.Size([64])\n",
      "torch.Size([64, 10])\n",
      "torch.Size([64])\n",
      "torch.Size([64])\n",
      "torch.Size([64, 10])\n",
      "torch.Size([64])\n",
      "torch.Size([64])\n",
      "torch.Size([64, 10])\n",
      "torch.Size([64])\n",
      "torch.Size([64])\n",
      "torch.Size([64, 10])\n",
      "torch.Size([64])\n",
      "torch.Size([64])\n",
      "torch.Size([64, 10])\n",
      "torch.Size([64])\n",
      "torch.Size([64])\n",
      "torch.Size([64, 10])\n",
      "torch.Size([64])\n",
      "torch.Size([64])\n",
      "torch.Size([64, 10])\n",
      "torch.Size([64])\n",
      "torch.Size([64])\n",
      "torch.Size([64, 10])\n",
      "torch.Size([64])\n",
      "torch.Size([64])\n",
      "torch.Size([64, 10])\n",
      "torch.Size([64])\n",
      "torch.Size([64])\n",
      "torch.Size([64, 10])\n",
      "torch.Size([64])\n",
      "torch.Size([64])\n",
      "torch.Size([64, 10])\n",
      "torch.Size([64])\n",
      "torch.Size([64])\n",
      "torch.Size([64, 10])\n",
      "torch.Size([64])\n",
      "torch.Size([64])\n",
      "torch.Size([64, 10])\n",
      "torch.Size([64])\n",
      "torch.Size([64])\n",
      "torch.Size([64, 10])\n",
      "torch.Size([64])\n",
      "torch.Size([64])\n",
      "torch.Size([64, 10])\n",
      "torch.Size([64])\n",
      "torch.Size([64])\n",
      "torch.Size([64, 10])\n",
      "torch.Size([64])\n",
      "torch.Size([64])\n",
      "torch.Size([64, 10])\n",
      "torch.Size([64])\n",
      "torch.Size([64])\n",
      "torch.Size([64, 10])\n",
      "torch.Size([64])\n",
      "torch.Size([64])\n",
      "torch.Size([64, 10])\n",
      "torch.Size([64])\n",
      "torch.Size([64])\n",
      "torch.Size([64, 10])\n",
      "torch.Size([64])\n",
      "torch.Size([64])\n",
      "torch.Size([64, 10])\n",
      "torch.Size([64])\n",
      "torch.Size([64])\n",
      "torch.Size([64, 10])\n",
      "torch.Size([64])\n",
      "torch.Size([64])\n",
      "torch.Size([64, 10])\n",
      "torch.Size([64])\n",
      "torch.Size([64])\n",
      "torch.Size([64, 10])\n",
      "torch.Size([64])\n",
      "torch.Size([64])\n",
      "torch.Size([64, 10])\n",
      "torch.Size([64])\n",
      "torch.Size([64])\n",
      "torch.Size([64, 10])\n",
      "torch.Size([64])\n",
      "torch.Size([64])\n",
      "torch.Size([64, 10])\n",
      "torch.Size([64])\n",
      "torch.Size([64])\n",
      "torch.Size([64, 10])\n",
      "torch.Size([64])\n",
      "torch.Size([64])\n",
      "torch.Size([64, 10])\n",
      "torch.Size([64])\n",
      "torch.Size([64])\n",
      "torch.Size([64, 10])\n",
      "torch.Size([64])\n",
      "torch.Size([64])\n",
      "torch.Size([64, 10])\n",
      "torch.Size([64])\n",
      "torch.Size([64])\n",
      "torch.Size([64, 10])\n",
      "torch.Size([64])\n",
      "torch.Size([64])\n",
      "torch.Size([64, 10])\n",
      "torch.Size([64])\n",
      "torch.Size([64])\n",
      "torch.Size([64, 10])\n",
      "torch.Size([64])\n",
      "torch.Size([64])\n",
      "torch.Size([64, 10])\n",
      "torch.Size([64])\n",
      "torch.Size([64])\n",
      "torch.Size([64, 10])\n",
      "torch.Size([64])\n",
      "torch.Size([64])\n",
      "torch.Size([64, 10])\n",
      "torch.Size([64])\n",
      "torch.Size([64])\n",
      "torch.Size([64, 10])\n",
      "torch.Size([64])\n",
      "torch.Size([64])\n",
      "torch.Size([64, 10])\n",
      "torch.Size([64])\n",
      "torch.Size([64])\n",
      "torch.Size([64, 10])\n",
      "torch.Size([64])\n",
      "torch.Size([64])\n",
      "torch.Size([64, 10])\n",
      "torch.Size([64])\n",
      "torch.Size([64])\n",
      "torch.Size([64, 10])\n",
      "torch.Size([64])\n",
      "torch.Size([64])\n",
      "torch.Size([64, 10])\n",
      "torch.Size([64])\n",
      "torch.Size([64])\n",
      "torch.Size([64, 10])\n",
      "torch.Size([64])\n",
      "torch.Size([64])\n",
      "torch.Size([64, 10])\n",
      "torch.Size([64])\n",
      "torch.Size([64])\n",
      "torch.Size([16, 10])\n",
      "torch.Size([16])\n",
      "torch.Size([16])\n",
      "test_loss: 2.3192090077005374\n",
      "accuracy: 9.89\n"
     ]
    }
   ],
   "source": [],
   "metadata": {
    "collapsed": false,
    "ExecuteTime": {
     "end_time": "2023-10-25T21:42:46.166509200Z",
     "start_time": "2023-10-25T21:42:40.125298300Z"
    }
   }
  },
  {
   "cell_type": "code",
   "execution_count": 97,
   "metadata": {
    "ExecuteTime": {
     "end_time": "2023-10-25T22:36:32.524308Z",
     "start_time": "2023-10-25T22:30:19.582846600Z"
    }
   },
   "outputs": [
    {
     "name": "stderr",
     "output_type": "stream",
     "text": [
      "Epoch 1 Iter 782: loss 1.83359. : 100%|██████████| 782/782 [00:29<00:00, 26.33it/s]\n",
      "Epoch 2 Iter 782: loss 1.57905. : 100%|██████████| 782/782 [00:40<00:00, 19.17it/s]\n",
      "Epoch 3 Iter 782: loss 1.69989. : 100%|██████████| 782/782 [00:37<00:00, 21.12it/s]\n",
      "Epoch 4 Iter 782: loss 2.04379. : 100%|██████████| 782/782 [00:37<00:00, 20.97it/s]\n",
      "Epoch 5 Iter 782: loss 0.98857. : 100%|██████████| 782/782 [00:36<00:00, 21.21it/s]\n",
      "Epoch 6 Iter 782: loss 1.29761. : 100%|██████████| 782/782 [00:40<00:00, 19.46it/s]\n",
      "Epoch 7 Iter 782: loss 1.50981. : 100%|██████████| 782/782 [00:37<00:00, 20.67it/s]\n",
      "Epoch 8 Iter 782: loss 1.20717. : 100%|██████████| 782/782 [00:36<00:00, 21.28it/s]\n",
      "Epoch 9 Iter 782: loss 1.48350. : 100%|██████████| 782/782 [00:38<00:00, 20.25it/s]\n",
      "Epoch 10 Iter 782: loss 1.77780. : 100%|██████████| 782/782 [00:37<00:00, 20.68it/s]\n"
     ]
    }
   ],
   "source": [
    "train_loss_list = []\n",
    "test_loss_list = []\n",
    "test_accuracy_list = []\n",
    "train_accuracy_list = []\n",
    "best_loss = 100\n",
    "for epoch in range(NUM_EPOCHS):\n",
    "    progress_bar = tqdm(trainloader, total=len(trainloader))\n",
    "    for i, (imgs, labels) in enumerate(progress_bar):\n",
    "        # Calculate test loss, accuracy for currently trained model\n",
    "        model.eval()\n",
    "        test_loss = 0.0\n",
    "        correct = 0\n",
    "        total = 0\n",
    "\n",
    "        with torch.no_grad():\n",
    "            for data in testloader:\n",
    "                images_test, labels_test = data\n",
    "                # using GPU for inference\n",
    "                images_test, labels_test = images_test.to(device), labels_test.to(device)\n",
    "                # Flatten images\n",
    "                flattened_images_test = images_test.flatten(start_dim=1)\n",
    "                # calculate model outputs\n",
    "                outputs_test = model(flattened_images_test)\n",
    "                # calculate test loss\n",
    "                loss = criterion(outputs_test, labels_test)\n",
    "                test_loss += loss.item()\n",
    "                # derive model predictions from out outputs\n",
    "                predicted = torch.argmax(outputs_test, dim = -1)\n",
    "                # calculate accuracy\n",
    "                total += labels_test.size(0)\n",
    "                correct += (predicted == labels_test).sum().item()\n",
    "\n",
    "            test_loss /= len(testloader)\n",
    "            accuracy = 100 * correct / total\n",
    "\n",
    "            print(f'test_loss: {test_loss}')\n",
    "            print(f'accuracy: {accuracy}')\n",
    "\n",
    "        test_loss_list.append(test_loss)\n",
    "        test_accuracy_list.append(accuracy)\n",
    "        # Turn model back to training mode\n",
    "        model.train()\n",
    "        # using GPU\n",
    "        imgs, labels = imgs.to(device), labels.to(device)\n",
    "    \n",
    "        # forward pass\n",
    "        flattened_imgs = imgs.flatten(start_dim=1)\n",
    "        preds = model(flattened_imgs)\n",
    "\n",
    "        # computing error\n",
    "        loss = criterion(preds, labels)\n",
    "        train_loss_list.append(loss.item())\n",
    "\n",
    "        # Potentially prevent overfitting\n",
    "        if test_loss < best_loss:\n",
    "            best_loss = loss\n",
    "            torch.save({\n",
    "                'epoch': epoch,\n",
    "                'model_state_dict': model.state_dict(),\n",
    "                'optimizer_state_dict': optimizer.state_dict(),\n",
    "            }, f\"models/checkpoint_epoch_{epoch}.pth\")\n",
    "        #saving the best checkpoint\n",
    "\n",
    "\n",
    "        # removing accumulated gradients\n",
    "        optimizer.zero_grad()\n",
    "    \n",
    "        # backprogating error to compute gradients\n",
    "        loss.backward()\n",
    "    \n",
    "        # updating parameters\n",
    "        optimizer.step()\n",
    "    \n",
    "        if(i % 10 == 0 or i == len(trainloader) - 1):\n",
    "            progress_bar.set_description(f\"Epoch {epoch + 1} Iter {i + 1}: loss {loss.item():.5f}. \")"
   ]
  },
  {
   "cell_type": "markdown",
   "metadata": {},
   "source": [
    "evaluating the model"
   ]
  },
  {
   "cell_type": "code",
   "execution_count": 71,
   "outputs": [
    {
     "data": {
      "text/plain": "157"
     },
     "execution_count": 71,
     "metadata": {},
     "output_type": "execute_result"
    }
   ],
   "source": [
    "tl = testloader\n",
    "x = next(iter(testloader))\n",
    "x[0].shape\n",
    "len(testloader)"
   ],
   "metadata": {
    "collapsed": false,
    "ExecuteTime": {
     "end_time": "2023-10-25T17:09:30.135780400Z",
     "start_time": "2023-10-25T17:09:24.743518900Z"
    }
   }
  },
  {
   "cell_type": "code",
   "execution_count": 61,
   "metadata": {
    "ExecuteTime": {
     "end_time": "2023-10-25T16:11:13.427194Z",
     "start_time": "2023-10-25T16:11:08.087397300Z"
    }
   },
   "outputs": [
    {
     "name": "stderr",
     "output_type": "stream",
     "text": [
      "100%|██████████| 157/157 [00:01<00:00, 90.35it/s] "
     ]
    },
    {
     "name": "stdout",
     "output_type": "stream",
     "text": [
      "Test accuracy: 47.86%\n"
     ]
    },
    {
     "name": "stderr",
     "output_type": "stream",
     "text": [
      "\n"
     ]
    }
   ],
   "source": [
    "n_correct = 0\n",
    "\n",
    "with torch.no_grad():\n",
    "    progress_bar = tqdm(enumerate(testloader), total=len(testloader))\n",
    "    for i, (imgs, labels) in progress_bar: \n",
    "        #everything needs to be on the same device\n",
    "        imgs = imgs.to(device)\n",
    "        labels = labels.to(device)\n",
    "        \n",
    "        # forward pass\n",
    "        flattened_imgs = imgs.flatten(start_dim=1)\n",
    "        preds = model(flattened_imgs)\n",
    "        \n",
    "        pred_labels = torch.argmax(preds, dim=-1)\n",
    "        cur_correct = len(torch.where(pred_labels == labels)[0])\n",
    "        n_correct = n_correct + cur_correct\n",
    "\n",
    "accuracy = n_correct / len(test_dataset) * 100\n",
    "print(f\"Test accuracy: {round(accuracy,2)}%\")"
   ]
  },
  {
   "cell_type": "markdown",
   "source": [
    "# Evaluation without hyperparameter optimization\n",
    "Here we achieved an accuracy of 47.86%. Considering we are working with 10 classes, this is still a lot better than random. Nevertheless, we hope that we can optimize the results even further with the hyperparameter optimization"
   ],
   "metadata": {
    "collapsed": false
   }
  },
  {
   "cell_type": "code",
   "execution_count": null,
   "outputs": [],
   "source": [],
   "metadata": {
    "collapsed": false
   }
  },
  {
   "cell_type": "markdown",
   "metadata": {},
   "source": [
    "### Visualizing the results"
   ]
  },
  {
   "cell_type": "code",
   "execution_count": 59,
   "metadata": {
    "ExecuteTime": {
     "end_time": "2023-10-25T16:01:54.976255500Z",
     "start_time": "2023-10-25T16:01:54.913730700Z"
    }
   },
   "outputs": [],
   "source": [
    "def smooth(f, K=5):\n",
    "    \"\"\" Smoothing a function using a low-pass filter (mean) of size K \"\"\"\n",
    "    kernel = np.ones(K) / K\n",
    "    f = np.concatenate([f[:int(K//2)], f, f[int(-K//2):]])  # to account for boundaries\n",
    "    smooth_f = np.convolve(f, kernel, mode=\"same\")\n",
    "    smooth_f = smooth_f[K//2: -K//2]  # removing boundary-fixes\n",
    "    return smooth_f"
   ]
  },
  {
   "cell_type": "code",
   "execution_count": 96,
   "metadata": {
    "ExecuteTime": {
     "end_time": "2023-10-25T22:25:42.103222700Z",
     "start_time": "2023-10-25T22:25:42.019930Z"
    }
   },
   "outputs": [],
   "source": [
    "def plot_loss(loss_list = train_loss_list, tr_loss_list = test_loss_list):\n",
    "    plt.style.use('seaborn')\n",
    "    fig, ax = plt.subplots(1,2)\n",
    "    fig.set_size_inches(18,5)\n",
    "\n",
    "    smooth_loss = smooth(loss_list, 31)\n",
    "    ax[0].plot(loss_list, c=\"blue\", label=\"Training Loss\", linewidth=3, alpha=0.5)\n",
    "    ax[0].plot(smooth_loss, c=\"red\", label=\"Smoothed Loss\", linewidth=3)\n",
    "    ax[0].legend(loc=\"best\")\n",
    "    ax[0].set_xlabel(\"Iteration\")\n",
    "    ax[0].set_ylabel(\"CE Loss\")\n",
    "    ax[0].set_title(\"Training Progress (linearscale)\")\n",
    "\n",
    "    ax[1].plot(loss_list, c=\"blue\", label=\"Training Loss\", linewidth=3, alpha=0.5)\n",
    "    ax[1].plot(smooth_loss, c=\"red\", label=\"Smoothed Loss\", linewidth=3)\n",
    "    ax[1].legend(loc=\"best\")\n",
    "    ax[1].set_xlabel(\"Iteration\")\n",
    "    ax[1].set_ylabel(\"CE Loss\")\n",
    "    ax[1].set_yscale(\"log\")\n",
    "    ax[1].set_title(\"Training Progress (logscale)\")\n",
    "\n",
    "    plt.show()"
   ]
  },
  {
   "cell_type": "code",
   "execution_count": null,
   "outputs": [],
   "source": [],
   "metadata": {
    "collapsed": false
   }
  }
 ],
 "metadata": {
  "kernelspec": {
   "display_name": "base",
   "language": "python",
   "name": "python3"
  },
  "language_info": {
   "codemirror_mode": {
    "name": "ipython",
    "version": 3
   },
   "file_extension": ".py",
   "mimetype": "text/x-python",
   "name": "python",
   "nbconvert_exporter": "python",
   "pygments_lexer": "ipython3",
   "version": "3.10.11"
  }
 },
 "nbformat": 4,
 "nbformat_minor": 2
}
